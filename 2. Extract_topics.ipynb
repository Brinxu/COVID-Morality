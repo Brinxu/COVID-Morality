{
 "cells": [
  {
   "cell_type": "markdown",
   "metadata": {},
   "source": [
    "# Extract Topics"
   ]
  },
  {
   "cell_type": "code",
   "execution_count": 1,
   "metadata": {},
   "outputs": [],
   "source": [
    "import pandas as pd\n",
    "import seaborn as sns"
   ]
  },
  {
   "cell_type": "code",
   "execution_count": 2,
   "metadata": {},
   "outputs": [
    {
     "name": "stderr",
     "output_type": "stream",
     "text": [
      "/var/folders/13/92pq4q957ljckd_vxp8nd8m80000gn/T/ipykernel_16642/656051900.py:1: DtypeWarning: Columns (32,33) have mixed types. Specify dtype option on import or set low_memory=False.\n",
      "  data = pd.read_csv('data_final.csv')\n"
     ]
    }
   ],
   "source": [
    "data = pd.read_csv('data_final.csv')"
   ]
  },
  {
   "cell_type": "code",
   "execution_count": 3,
   "metadata": {
    "colab": {
     "base_uri": "https://localhost:8080/",
     "height": 52
    },
    "id": "tiyjPWXz6C9a",
    "outputId": "0f06a390-fe8f-4886-9002-6ac1852faa11"
   },
   "outputs": [
    {
     "data": {
      "text/plain": [
       "'College athletes will have the opportunity to make money from their name, image and likeness after the NCAA Board of Governors approved an interim policy that gives student-athletes in all three divisions the ability to profit from sponsorship opportunities for the first time.'"
      ]
     },
     "execution_count": 3,
     "metadata": {},
     "output_type": "execute_result"
    }
   ],
   "source": [
    "# look at the first line of message\n",
    "data['Message'].iloc[0]"
   ]
  },
  {
   "cell_type": "code",
   "execution_count": 5,
   "metadata": {},
   "outputs": [],
   "source": [
    "list_covid = ['covid','Covid','Corona','Coronavirus','2019ncov','Ncov','Pandemic','Lockdown','Quarantine','SARS-CoV-2','N95','Social distancing',\"vaccine\", \"vaccinated\", \"vaccination\",\"AstraZeneca\", \"Johnson & Johnson\",\"Pfizer\", \"Moderna\", \"booster\"]\n",
    "def search(m):\n",
    "  # convert lower case and search \n",
    "  m = m.casefold()\n",
    "  if any(words.lower() in m.lower() for words in list_covid):\n",
    "    return 'covid'\n",
    "  else:\n",
    "    return 'NotCovid'\n",
    "data['covid'] = data['Message'].apply(lambda x: search(x))"
   ]
  },
  {
   "cell_type": "code",
   "execution_count": 6,
   "metadata": {
    "colab": {
     "base_uri": "https://localhost:8080/",
     "height": 285
    },
    "id": "1VGrq1Os6DDF",
    "outputId": "ff68f821-da48-4f03-9f3f-d45bac29ec74"
   },
   "outputs": [
    {
     "data": {
      "image/png": "[encoded data removed]",
      "text/plain": [
       "<Figure size 432x288 with 1 Axes>"
      ]
     },
     "metadata": {
      "needs_background": "light"
     },
     "output_type": "display_data"
    }
   ],
   "source": [
    "ax = sns.countplot(x=\"covid\", data=data)"
   ]
  },
  {
   "cell_type": "code",
   "execution_count": 7,
   "metadata": {
    "colab": {
     "base_uri": "https://localhost:8080/"
    },
    "id": "bXZJyj2BCCh0",
    "outputId": "0590fa66-57f0-4689-e2e3-4816f6378e7d"
   },
   "outputs": [
    {
     "data": {
      "text/plain": [
       "(82389, 35)"
      ]
     },
     "execution_count": 7,
     "metadata": {},
     "output_type": "execute_result"
    }
   ],
   "source": [
    "\"\"\"\n",
    "Then we will select just covid data\n",
    "\"\"\"\n",
    "covid_data = data[data.covid=='covid']\n",
    "covid_data.to_csv(\"covid_data.csv\", index = False)\n",
    "covid_data.shape"
   ]
  }
 ],
 "metadata": {
  "colab": {
   "collapsed_sections": [],
   "name": "Sentiment-Analysis-on-COVID19-Postings (1).ipynb",
   "provenance": []
  },
  "kernelspec": {
   "display_name": "Python 3 (ipykernel)",
   "language": "python",
   "name": "python3"
  },
  "language_info": {
   "codemirror_mode": {
    "name": "ipython",
    "version": 3
   },
   "file_extension": ".py",
   "mimetype": "text/x-python",
   "name": "python",
   "nbconvert_exporter": "python",
   "pygments_lexer": "ipython3",
   "version": "3.9.12"
  }
 },
 "nbformat": 4,
 "nbformat_minor": 1
}
