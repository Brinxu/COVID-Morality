{
 "cells": [
  {
   "cell_type": "markdown",
   "metadata": {
    "id": "N0WxcpqYIboQ"
   },
   "source": [
    "## Introduction\n",
    "\n",
    "In this word embedding analysis, I will explore candidate words from selected seeds words with a pretrained word2vec model."
   ]
  },
  {
   "cell_type": "markdown",
   "metadata": {
    "id": "nfqU393YJT9i"
   },
   "source": [
    "### Download Google word2vec pretrained model"
   ]
  },
  {
   "cell_type": "code",
   "execution_count": null,
   "metadata": {
    "colab": {
     "base_uri": "https://localhost:8080/"
    },
    "id": "XkjAuMI2JFV-",
    "outputId": "796b6987-4b29-4d6a-c69a-e9d143c9a004"
   },
   "outputs": [
    {
     "name": "stdout",
     "output_type": "stream",
     "text": [
      "--2022-03-18 20:36:10--  https://s3.amazonaws.com/dl4j-distribution/GoogleNews-vectors-negative300.bin.gz\n",
      "Resolving s3.amazonaws.com (s3.amazonaws.com)... 52.216.100.237\n",
      "Connecting to s3.amazonaws.com (s3.amazonaws.com)|52.216.100.237|:443... connected.\n",
      "HTTP request sent, awaiting response... 200 OK\n",
      "Length: 1647046227 (1.5G) [application/x-gzip]\n",
      "Saving to: ‘GoogleNews-vectors-negative300.bin.gz’\n",
      "\n",
      "GoogleNews-vectors- 100%[===================>]   1.53G  43.7MB/s    in 35s     \n",
      "\n",
      "2022-03-18 20:36:45 (45.2 MB/s) - ‘GoogleNews-vectors-negative300.bin.gz’ saved [1647046227/1647046227]\n",
      "\n"
     ]
    }
   ],
   "source": [
    "# Download the file from the internet\n",
    "!wget -c \"https://s3.amazonaws.com/dl4j-distribution/GoogleNews-vectors-negative300.bin.gz\""
   ]
  },
  {
   "cell_type": "code",
   "execution_count": null,
   "metadata": {
    "id": "oCiQrzKrJKNF"
   },
   "outputs": [],
   "source": [
    "# uncompress the gzip file\n",
    "!gzip -d GoogleNews-vectors-negative300.bin.gz"
   ]
  },
  {
   "cell_type": "code",
   "execution_count": null,
   "metadata": {
    "id": "0qAcjDf2J4QZ"
   },
   "outputs": [],
   "source": [
    "# import libraries\n",
    "import pandas as pd\n",
    "from gensim.models import KeyedVectors\n",
    "import numpy as np\n",
    "import json"
   ]
  },
  {
   "cell_type": "code",
   "execution_count": null,
   "metadata": {
    "id": "LJfT4A_aPjzX"
   },
   "outputs": [],
   "source": [
    "import io\n",
    "from google.colab import files"
   ]
  },
  {
   "cell_type": "code",
   "execution_count": null,
   "metadata": {
    "colab": {
     "base_uri": "https://localhost:8080/",
     "height": 73,
     "resources": {
      "http://localhost:8080/nbextensions/google.colab/files.js": {
       "data": "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",
       "headers": [
        [
         "content-type",
         "application/javascript"
        ]
       ],
       "ok": true,
       "status": 200,
       "status_text": ""
      }
     }
    },
    "id": "cZBYZWDVPn-c",
    "outputId": "553fa51f-b70f-4d47-a1ca-79d62ca9d87e"
   },
   "outputs": [
    {
     "data": {
      "text/html": [
       "\n",
       "     <input type=\"file\" id=\"files-5eccc26c-8361-4c01-a12f-966be1af3f91\" name=\"files[]\" multiple disabled\n",
       "        style=\"border:none\" />\n",
       "     <output id=\"result-5eccc26c-8361-4c01-a12f-966be1af3f91\">\n",
       "      Upload widget is only available when the cell has been executed in the\n",
       "      current browser session. Please rerun this cell to enable.\n",
       "      </output>\n",
       "      <script src=\"/nbextensions/google.colab/files.js\"></script> "
      ],
      "text/plain": [
       "<IPython.core.display.HTML object>"
      ]
     },
     "metadata": {},
     "output_type": "display_data"
    },
    {
     "name": "stdout",
     "output_type": "stream",
     "text": [
      "Saving Seed words.xlsx to Seed words.xlsx\n"
     ]
    }
   ],
   "source": [
    "uploaded = files.upload()"
   ]
  },
  {
   "cell_type": "code",
   "execution_count": null,
   "metadata": {
    "id": "R6dUlmiBJmye"
   },
   "outputs": [],
   "source": [
    "# load the seeds data from the excel\n",
    "seeds_data_1 = pd.read_excel('Seed words.xlsx', sheet_name='Synoym')\n",
    "seeds_data_2 = pd.read_excel('Seed words.xlsx', sheet_name='Ant')"
   ]
  },
  {
   "cell_type": "code",
   "execution_count": null,
   "metadata": {
    "colab": {
     "base_uri": "https://localhost:8080/",
     "height": 206
    },
    "id": "AdTuuW4cPeTv",
    "outputId": "2d553708-c80a-4010-ea50-0c78caccf3eb"
   },
   "outputs": [
    {
     "data": {
      "text/html": [
       "\n",
       "  <div id=\"df-555126ac-176e-40d9-97fa-b2196f6eea43\">\n",
       "    <div class=\"colab-df-container\">\n",
       "      <div>\n",
       "<style scoped>\n",
       "    .dataframe tbody tr th:only-of-type {\n",
       "        vertical-align: middle;\n",
       "    }\n",
       "\n",
       "    .dataframe tbody tr th {\n",
       "        vertical-align: top;\n",
       "    }\n",
       "\n",
       "    .dataframe thead th {\n",
       "        text-align: right;\n",
       "    }\n",
       "</style>\n",
       "<table border=\"1\" class=\"dataframe\">\n",
       "  <thead>\n",
       "    <tr style=\"text-align: right;\">\n",
       "      <th></th>\n",
       "      <th>original seed word</th>\n",
       "      <th>explaination</th>\n",
       "      <th>expanded seed word</th>\n",
       "    </tr>\n",
       "  </thead>\n",
       "  <tbody>\n",
       "    <tr>\n",
       "      <th>236</th>\n",
       "      <td>liberty</td>\n",
       "      <td>freedom</td>\n",
       "      <td>sanction</td>\n",
       "    </tr>\n",
       "    <tr>\n",
       "      <th>319</th>\n",
       "      <td>right</td>\n",
       "      <td>sane, healthy</td>\n",
       "      <td>hale</td>\n",
       "    </tr>\n",
       "    <tr>\n",
       "      <th>83</th>\n",
       "      <td>free</td>\n",
       "      <td>unrestrained politically</td>\n",
       "      <td>unconstrained</td>\n",
       "    </tr>\n",
       "    <tr>\n",
       "      <th>623</th>\n",
       "      <td>limit</td>\n",
       "      <td>confine, restrict</td>\n",
       "      <td>cork</td>\n",
       "    </tr>\n",
       "    <tr>\n",
       "      <th>468</th>\n",
       "      <td>oppression</td>\n",
       "      <td>misery, hardship</td>\n",
       "      <td>cruelty</td>\n",
       "    </tr>\n",
       "  </tbody>\n",
       "</table>\n",
       "</div>\n",
       "      <button class=\"colab-df-convert\" onclick=\"convertToInteractive('df-555126ac-176e-40d9-97fa-b2196f6eea43')\"\n",
       "              title=\"Convert this dataframe to an interactive table.\"\n",
       "              style=\"display:none;\">\n",
       "        \n",
       "  <svg xmlns=\"http://www.w3.org/2000/svg\" height=\"24px\"viewBox=\"0 0 24 24\"\n",
       "       width=\"24px\">\n",
       "    <path d=\"M0 0h24v24H0V0z\" fill=\"none\"/>\n",
       "    <path d=\"M18.56 5.44l.94 2.06.94-2.06 2.06-.94-2.06-.94-.94-2.06-.94 2.06-2.06.94zm-11 1L8.5 8.5l.94-2.06 2.06-.94-2.06-.94L8.5 2.5l-.94 2.06-2.06.94zm10 10l.94 2.06.94-2.06 2.06-.94-2.06-.94-.94-2.06-.94 2.06-2.06.94z\"/><path d=\"M17.41 7.96l-1.37-1.37c-.4-.4-.92-.59-1.43-.59-.52 0-1.04.2-1.43.59L10.3 9.45l-7.72 7.72c-.78.78-.78 2.05 0 2.83L4 21.41c.39.39.9.59 1.41.59.51 0 1.02-.2 1.41-.59l7.78-7.78 2.81-2.81c.8-.78.8-2.07 0-2.86zM5.41 20L4 18.59l7.72-7.72 1.47 1.35L5.41 20z\"/>\n",
       "  </svg>\n",
       "      </button>\n",
       "      \n",
       "  <style>\n",
       "    .colab-df-container {\n",
       "      display:flex;\n",
       "      flex-wrap:wrap;\n",
       "      gap: 12px;\n",
       "    }\n",
       "\n",
       "    .colab-df-convert {\n",
       "      background-color: #E8F0FE;\n",
       "      border: none;\n",
       "      border-radius: 50%;\n",
       "      cursor: pointer;\n",
       "      display: none;\n",
       "      fill: #1967D2;\n",
       "      height: 32px;\n",
       "      padding: 0 0 0 0;\n",
       "      width: 32px;\n",
       "    }\n",
       "\n",
       "    .colab-df-convert:hover {\n",
       "      background-color: #E2EBFA;\n",
       "      box-shadow: 0px 1px 2px rgba(60, 64, 67, 0.3), 0px 1px 3px 1px rgba(60, 64, 67, 0.15);\n",
       "      fill: #174EA6;\n",
       "    }\n",
       "\n",
       "    [theme=dark] .colab-df-convert {\n",
       "      background-color: #3B4455;\n",
       "      fill: #D2E3FC;\n",
       "    }\n",
       "\n",
       "    [theme=dark] .colab-df-convert:hover {\n",
       "      background-color: #434B5C;\n",
       "      box-shadow: 0px 1px 3px 1px rgba(0, 0, 0, 0.15);\n",
       "      filter: drop-shadow(0px 1px 2px rgba(0, 0, 0, 0.3));\n",
       "      fill: #FFFFFF;\n",
       "    }\n",
       "  </style>\n",
       "\n",
       "      <script>\n",
       "        const buttonEl =\n",
       "          document.querySelector('#df-555126ac-176e-40d9-97fa-b2196f6eea43 button.colab-df-convert');\n",
       "        buttonEl.style.display =\n",
       "          google.colab.kernel.accessAllowed ? 'block' : 'none';\n",
       "\n",
       "        async function convertToInteractive(key) {\n",
       "          const element = document.querySelector('#df-555126ac-176e-40d9-97fa-b2196f6eea43');\n",
       "          const dataTable =\n",
       "            await google.colab.kernel.invokeFunction('convertToInteractive',\n",
       "                                                     [key], {});\n",
       "          if (!dataTable) return;\n",
       "\n",
       "          const docLinkHtml = 'Like what you see? Visit the ' +\n",
       "            '<a target=\"_blank\" href=https://colab.research.google.com/notebooks/data_table.ipynb>data table notebook</a>'\n",
       "            + ' to learn more about interactive tables.';\n",
       "          element.innerHTML = '';\n",
       "          dataTable['output_type'] = 'display_data';\n",
       "          await google.colab.output.renderOutput(dataTable, element);\n",
       "          const docLink = document.createElement('div');\n",
       "          docLink.innerHTML = docLinkHtml;\n",
       "          element.appendChild(docLink);\n",
       "        }\n",
       "      </script>\n",
       "    </div>\n",
       "  </div>\n",
       "  "
      ],
      "text/plain": [
       "    original seed word             explaination  expanded seed word\n",
       "236            liberty                   freedom           sanction\n",
       "319              right             sane, healthy               hale\n",
       "83                free  unrestrained politically      unconstrained\n",
       "623              limit         confine, restrict               cork\n",
       "468         oppression          misery, hardship            cruelty"
      ]
     },
     "execution_count": 7,
     "metadata": {},
     "output_type": "execute_result"
    }
   ],
   "source": [
    "seeds_data_1.sample(5)"
   ]
  },
  {
   "cell_type": "code",
   "execution_count": null,
   "metadata": {
    "colab": {
     "base_uri": "https://localhost:8080/",
     "height": 206
    },
    "id": "wMyecxtGKdsh",
    "outputId": "81c68d29-75cb-4b7d-fd9e-b8a36f8796a1"
   },
   "outputs": [
    {
     "data": {
      "text/html": [
       "\n",
       "  <div id=\"df-e8f2eeea-61f4-4f0a-a2e3-0ed49257bcc2\">\n",
       "    <div class=\"colab-df-container\">\n",
       "      <div>\n",
       "<style scoped>\n",
       "    .dataframe tbody tr th:only-of-type {\n",
       "        vertical-align: middle;\n",
       "    }\n",
       "\n",
       "    .dataframe tbody tr th {\n",
       "        vertical-align: top;\n",
       "    }\n",
       "\n",
       "    .dataframe thead th {\n",
       "        text-align: right;\n",
       "    }\n",
       "</style>\n",
       "<table border=\"1\" class=\"dataframe\">\n",
       "  <thead>\n",
       "    <tr style=\"text-align: right;\">\n",
       "      <th></th>\n",
       "      <th>original seed words</th>\n",
       "      <th>expanded seed words</th>\n",
       "    </tr>\n",
       "  </thead>\n",
       "  <tbody>\n",
       "    <tr>\n",
       "      <th>82</th>\n",
       "      <td>restrict</td>\n",
       "      <td>unfasten</td>\n",
       "    </tr>\n",
       "    <tr>\n",
       "      <th>16</th>\n",
       "      <td>liberty</td>\n",
       "      <td>work</td>\n",
       "    </tr>\n",
       "    <tr>\n",
       "      <th>36</th>\n",
       "      <td>allow</td>\n",
       "      <td>hold</td>\n",
       "    </tr>\n",
       "    <tr>\n",
       "      <th>77</th>\n",
       "      <td>restrict</td>\n",
       "      <td>open</td>\n",
       "    </tr>\n",
       "    <tr>\n",
       "      <th>67</th>\n",
       "      <td>restrict</td>\n",
       "      <td>free</td>\n",
       "    </tr>\n",
       "  </tbody>\n",
       "</table>\n",
       "</div>\n",
       "      <button class=\"colab-df-convert\" onclick=\"convertToInteractive('df-e8f2eeea-61f4-4f0a-a2e3-0ed49257bcc2')\"\n",
       "              title=\"Convert this dataframe to an interactive table.\"\n",
       "              style=\"display:none;\">\n",
       "        \n",
       "  <svg xmlns=\"http://www.w3.org/2000/svg\" height=\"24px\"viewBox=\"0 0 24 24\"\n",
       "       width=\"24px\">\n",
       "    <path d=\"M0 0h24v24H0V0z\" fill=\"none\"/>\n",
       "    <path d=\"M18.56 5.44l.94 2.06.94-2.06 2.06-.94-2.06-.94-.94-2.06-.94 2.06-2.06.94zm-11 1L8.5 8.5l.94-2.06 2.06-.94-2.06-.94L8.5 2.5l-.94 2.06-2.06.94zm10 10l.94 2.06.94-2.06 2.06-.94-2.06-.94-.94-2.06-.94 2.06-2.06.94z\"/><path d=\"M17.41 7.96l-1.37-1.37c-.4-.4-.92-.59-1.43-.59-.52 0-1.04.2-1.43.59L10.3 9.45l-7.72 7.72c-.78.78-.78 2.05 0 2.83L4 21.41c.39.39.9.59 1.41.59.51 0 1.02-.2 1.41-.59l7.78-7.78 2.81-2.81c.8-.78.8-2.07 0-2.86zM5.41 20L4 18.59l7.72-7.72 1.47 1.35L5.41 20z\"/>\n",
       "  </svg>\n",
       "      </button>\n",
       "      \n",
       "  <style>\n",
       "    .colab-df-container {\n",
       "      display:flex;\n",
       "      flex-wrap:wrap;\n",
       "      gap: 12px;\n",
       "    }\n",
       "\n",
       "    .colab-df-convert {\n",
       "      background-color: #E8F0FE;\n",
       "      border: none;\n",
       "      border-radius: 50%;\n",
       "      cursor: pointer;\n",
       "      display: none;\n",
       "      fill: #1967D2;\n",
       "      height: 32px;\n",
       "      padding: 0 0 0 0;\n",
       "      width: 32px;\n",
       "    }\n",
       "\n",
       "    .colab-df-convert:hover {\n",
       "      background-color: #E2EBFA;\n",
       "      box-shadow: 0px 1px 2px rgba(60, 64, 67, 0.3), 0px 1px 3px 1px rgba(60, 64, 67, 0.15);\n",
       "      fill: #174EA6;\n",
       "    }\n",
       "\n",
       "    [theme=dark] .colab-df-convert {\n",
       "      background-color: #3B4455;\n",
       "      fill: #D2E3FC;\n",
       "    }\n",
       "\n",
       "    [theme=dark] .colab-df-convert:hover {\n",
       "      background-color: #434B5C;\n",
       "      box-shadow: 0px 1px 3px 1px rgba(0, 0, 0, 0.15);\n",
       "      filter: drop-shadow(0px 1px 2px rgba(0, 0, 0, 0.3));\n",
       "      fill: #FFFFFF;\n",
       "    }\n",
       "  </style>\n",
       "\n",
       "      <script>\n",
       "        const buttonEl =\n",
       "          document.querySelector('#df-e8f2eeea-61f4-4f0a-a2e3-0ed49257bcc2 button.colab-df-convert');\n",
       "        buttonEl.style.display =\n",
       "          google.colab.kernel.accessAllowed ? 'block' : 'none';\n",
       "\n",
       "        async function convertToInteractive(key) {\n",
       "          const element = document.querySelector('#df-e8f2eeea-61f4-4f0a-a2e3-0ed49257bcc2');\n",
       "          const dataTable =\n",
       "            await google.colab.kernel.invokeFunction('convertToInteractive',\n",
       "                                                     [key], {});\n",
       "          if (!dataTable) return;\n",
       "\n",
       "          const docLinkHtml = 'Like what you see? Visit the ' +\n",
       "            '<a target=\"_blank\" href=https://colab.research.google.com/notebooks/data_table.ipynb>data table notebook</a>'\n",
       "            + ' to learn more about interactive tables.';\n",
       "          element.innerHTML = '';\n",
       "          dataTable['output_type'] = 'display_data';\n",
       "          await google.colab.output.renderOutput(dataTable, element);\n",
       "          const docLink = document.createElement('div');\n",
       "          docLink.innerHTML = docLinkHtml;\n",
       "          element.appendChild(docLink);\n",
       "        }\n",
       "      </script>\n",
       "    </div>\n",
       "  </div>\n",
       "  "
      ],
      "text/plain": [
       "   original seed words expanded seed words\n",
       "82           restrict             unfasten\n",
       "16             liberty                work\n",
       "36               allow                hold\n",
       "77           restrict                 open\n",
       "67           restrict                 free"
      ]
     },
     "execution_count": 8,
     "metadata": {},
     "output_type": "execute_result"
    }
   ],
   "source": [
    "seeds_data_2.sample(5)"
   ]
  },
  {
   "cell_type": "code",
   "execution_count": null,
   "metadata": {
    "colab": {
     "base_uri": "https://localhost:8080/"
    },
    "id": "aEFlXzM9P7Gr",
    "outputId": "00e937d9-e7ee-4390-d430-063916b0eb10"
   },
   "outputs": [
    {
     "name": "stdout",
     "output_type": "stream",
     "text": [
      "<class 'pandas.core.frame.DataFrame'>\n",
      "RangeIndex: 632 entries, 0 to 631\n",
      "Data columns (total 3 columns):\n",
      " #   Column              Non-Null Count  Dtype \n",
      "---  ------              --------------  ----- \n",
      " 0   original seed word  632 non-null    object\n",
      " 1   explaination        632 non-null    object\n",
      " 2   expanded seed word  631 non-null    object\n",
      "dtypes: object(3)\n",
      "memory usage: 14.9+ KB\n"
     ]
    }
   ],
   "source": [
    "seeds_data_1.info()"
   ]
  },
  {
   "cell_type": "code",
   "execution_count": null,
   "metadata": {
    "colab": {
     "base_uri": "https://localhost:8080/"
    },
    "id": "FJ24gWPRKotc",
    "outputId": "266042c8-6473-471b-c0af-4616cbf05eab"
   },
   "outputs": [
    {
     "name": "stdout",
     "output_type": "stream",
     "text": [
      "<class 'pandas.core.frame.DataFrame'>\n",
      "RangeIndex: 117 entries, 0 to 116\n",
      "Data columns (total 2 columns):\n",
      " #   Column               Non-Null Count  Dtype \n",
      "---  ------               --------------  ----- \n",
      " 0   original seed words  117 non-null    object\n",
      " 1   expanded seed words  117 non-null    object\n",
      "dtypes: object(2)\n",
      "memory usage: 2.0+ KB\n"
     ]
    }
   ],
   "source": [
    "seeds_data_2.info()"
   ]
  },
  {
   "cell_type": "markdown",
   "metadata": {
    "id": "-ao7SxhOdfbq"
   },
   "source": [
    "The cell above shows us that there is 632 rows in the first sheet `Synoym` and 117 row in the second one `Ant`, 749 seed words. \n",
    "next, I get candidate words from it."
   ]
  },
  {
   "cell_type": "code",
   "execution_count": null,
   "metadata": {
    "id": "B5bIVioCc83J"
   },
   "outputs": [],
   "source": [
    "seeds = set(seeds_data_1[\"original seed word\"].tolist() + seeds_data_2[\"original seed words\"].tolist())"
   ]
  },
  {
   "cell_type": "code",
   "execution_count": null,
   "metadata": {
    "id": "yppHgUrWeiJm"
   },
   "outputs": [],
   "source": [
    "# used the set function in order to deduplicate the seed terms from the two lists and keep only unique ones\n",
    "seeds = list(seeds)\n",
    "# clean the list from nan\n",
    "clean_seeds = [x for x in seeds if str(x) != 'nan']"
   ]
  },
  {
   "cell_type": "code",
   "execution_count": null,
   "metadata": {
    "colab": {
     "base_uri": "https://localhost:8080/"
    },
    "id": "3-uZ5cxyekE0",
    "outputId": "d0ba6048-bb14-4959-9325-35bccbbf382a"
   },
   "outputs": [
    {
     "name": "stdout",
     "output_type": "stream",
     "text": [
      "we have exactly 16 seed terms in our list\n"
     ]
    }
   ],
   "source": [
    "print(f\"we have exactly {len(clean_seeds)} seed terms in our list\")"
   ]
  },
  {
   "cell_type": "markdown",
   "metadata": {
    "id": "OJf3X3HDffee"
   },
   "source": [
    "### Load the Google word embedding model"
   ]
  },
  {
   "cell_type": "code",
   "execution_count": null,
   "metadata": {
    "id": "FHdcItyGfMSM"
   },
   "outputs": [],
   "source": [
    "word_vectors = KeyedVectors.load_word2vec_format('GoogleNews-vectors-negative300.bin', binary=True, limit=200000)\n"
   ]
  },
  {
   "cell_type": "code",
   "execution_count": null,
   "metadata": {
    "colab": {
     "base_uri": "https://localhost:8080/"
    },
    "id": "q5pMlGqef7BS",
    "outputId": "36832759-d506-4aa6-cec1-426f18a7f92d"
   },
   "outputs": [
    {
     "data": {
      "text/plain": [
       "(300,)"
      ]
     },
     "execution_count": 18,
     "metadata": {},
     "output_type": "execute_result"
    }
   ],
   "source": [
    "# test the loaded word vectors model\n",
    "word_vectors['freedom'].shape"
   ]
  },
  {
   "cell_type": "code",
   "execution_count": null,
   "metadata": {
    "id": "4ddbXX43qvRi"
   },
   "outputs": [],
   "source": [
    "# loop over each seed words from the word embedding space to find similar words\n",
    "def get_similar_words(similar_words):\n",
    "  return list(set([elm[0].lower().replace('_', ' ') for elm in similar_words]))"
   ]
  },
  {
   "cell_type": "code",
   "execution_count": null,
   "metadata": {
    "colab": {
     "base_uri": "https://localhost:8080/"
    },
    "id": "l1j-keoBnint",
    "outputId": "1f22a0b2-63b0-4845-be56-e5a8851472f3"
   },
   "outputs": [
    {
     "name": "stdout",
     "output_type": "stream",
     "text": [
      "the word allow  doesn't exist in the word embedding space\n",
      "the word Interfere doesn't exist in the word embedding space\n",
      "the word oppression  doesn't exist in the word embedding space\n",
      "the word restrict  doesn't exist in the word embedding space\n"
     ]
    }
   ],
   "source": [
    "# set it in a dictionary where the key is the seed word and the values is a list of the feeding words.\n",
    "# initialize a word dictionary for Google News model\n",
    "\n",
    "data_dictionary_GN = {}\n",
    "\n",
    "# here we set how many words we want per seed term\n",
    "n = 20\n",
    "\n",
    "non_existent_seed = 0\n",
    "for seed in clean_seeds : \n",
    "  try:\n",
    "    data_dictionary_GN[seed] = get_similar_words(word_vectors.most_similar(seed, topn=n))\n",
    "  except:\n",
    "    non_existent_seed += 1\n",
    "    print(f\"the word {seed} doesn't exist in the word embedding space\")"
   ]
  },
  {
   "cell_type": "code",
   "execution_count": null,
   "metadata": {
    "colab": {
     "base_uri": "https://localhost:8080/"
    },
    "id": "qKw1c_GthVzT",
    "outputId": "9bc111b5-259d-49be-8b78-ce01f00f8640"
   },
   "outputs": [
    {
     "name": "stdout",
     "output_type": "stream",
     "text": [
      "there is 4 seed terms that doesn't exist in the word embedding space\n"
     ]
    }
   ],
   "source": [
    "print(f\"there is {non_existent_seed} seed terms that doesn't exist in the word embedding space\")"
   ]
  },
  {
   "cell_type": "code",
   "execution_count": null,
   "metadata": {
    "colab": {
     "base_uri": "https://localhost:8080/"
    },
    "id": "wqo07r4L58Bb",
    "outputId": "0d7e16eb-7594-45ea-aead-9db5a1376001"
   },
   "outputs": [
    {
     "data": {
      "text/plain": [
       "{'Choice': ['distinction',\n",
       "  'direct',\n",
       "  'favourite',\n",
       "  'affordable',\n",
       "  'free choice',\n",
       "  'healthy',\n",
       "  'choice',\n",
       "  'choices',\n",
       "  'ultimate',\n",
       "  'best',\n",
       "  'choose',\n",
       "  'voice',\n",
       "  'choice awards',\n",
       "  'favorite',\n",
       "  'connections',\n",
       "  'advantage',\n",
       "  'voucher',\n",
       "  'choice award'],\n",
       " 'allow': ['compel',\n",
       "  'allow',\n",
       "  'allowing',\n",
       "  'enables',\n",
       "  'enabled',\n",
       "  'allowed',\n",
       "  'enabling',\n",
       "  'encourage',\n",
       "  'enable',\n",
       "  'let',\n",
       "  'lets',\n",
       "  'restrict',\n",
       "  'give',\n",
       "  'allows',\n",
       "  'facilitate',\n",
       "  'permitted',\n",
       "  'requiring',\n",
       "  'require'],\n",
       " 'choice': ['option',\n",
       "  'selection',\n",
       "  'preferred',\n",
       "  'preference',\n",
       "  'chosen',\n",
       "  'choosing',\n",
       "  'brainer',\n",
       "  'chose',\n",
       "  'selected',\n",
       "  'pick',\n",
       "  'choices',\n",
       "  'decision',\n",
       "  'select',\n",
       "  'choice',\n",
       "  'options',\n",
       "  'selections',\n",
       "  'selecting',\n",
       "  'choose'],\n",
       " 'free': ['free',\n",
       "  'unlimited',\n",
       "  'freebie',\n",
       "  'give aways',\n",
       "  'giveaway',\n",
       "  'unrestricted',\n",
       "  'freebies',\n",
       "  'unfettered',\n",
       "  'discounted',\n",
       "  'visit http://www.comtex.com',\n",
       "  'complimentary',\n",
       "  'open',\n",
       "  'unhindered',\n",
       "  'giveaways',\n",
       "  'restricted',\n",
       "  'nominal fee',\n",
       "  'guaranteed',\n",
       "  'gratis'],\n",
       " 'freedom': ['liberation',\n",
       "  'freedoms',\n",
       "  'unfettered',\n",
       "  'expression',\n",
       "  'pluralism',\n",
       "  'freedom',\n",
       "  'dignity',\n",
       "  'democratic freedoms',\n",
       "  'independence',\n",
       "  'civil liberties',\n",
       "  'equality',\n",
       "  'liberties',\n",
       "  'democracy',\n",
       "  'first amendment',\n",
       "  'fundamental freedoms',\n",
       "  'freer',\n",
       "  'constitutionally guaranteed',\n",
       "  'autonomy',\n",
       "  'liberty',\n",
       "  'inalienable rights'],\n",
       " 'interfere': ['hinder',\n",
       "  'impede',\n",
       "  'infringe upon',\n",
       "  'intrude',\n",
       "  'disturb',\n",
       "  'interfered',\n",
       "  'hamper',\n",
       "  'affect',\n",
       "  'obstruct',\n",
       "  'impair',\n",
       "  'tamper',\n",
       "  'jeopardize',\n",
       "  'interferes',\n",
       "  'disrupt',\n",
       "  'impinge',\n",
       "  'interrupt',\n",
       "  'micromanage',\n",
       "  'inhibit',\n",
       "  'interfering',\n",
       "  'meddle'],\n",
       " 'liberty': ['freedoms',\n",
       "  'founding fathers',\n",
       "  'democratic',\n",
       "  'pluralism',\n",
       "  'freedom',\n",
       "  'democratic freedoms',\n",
       "  'tyranny',\n",
       "  'ideals',\n",
       "  'civil liberties',\n",
       "  'liberalism',\n",
       "  'equality',\n",
       "  'liberties',\n",
       "  'democracy',\n",
       "  'democratic ideals',\n",
       "  'first amendment',\n",
       "  'fundamental freedoms',\n",
       "  'american exceptionalism',\n",
       "  'constitutionalism',\n",
       "  'constitutionally guaranteed',\n",
       "  'inalienable rights'],\n",
       " 'limit': ['restricts',\n",
       "  'curbs',\n",
       "  'maximum allowable',\n",
       "  'curtail',\n",
       "  'restrictions',\n",
       "  'minimum',\n",
       "  'limit',\n",
       "  'restricting',\n",
       "  'restricted',\n",
       "  'curb',\n",
       "  'permissible',\n",
       "  'allowable',\n",
       "  'maximum',\n",
       "  'limiting',\n",
       "  'limits',\n",
       "  'thresholds',\n",
       "  'restrict',\n",
       "  'threshold',\n",
       "  'restriction'],\n",
       " 'oppression': ['patriarchy',\n",
       "  'oppressed',\n",
       "  'persecution',\n",
       "  'tyranny',\n",
       "  'colonialism',\n",
       "  'enslavement',\n",
       "  'oppress',\n",
       "  'injustice',\n",
       "  'injustices',\n",
       "  'marginalization',\n",
       "  'oppressing',\n",
       "  'despotism',\n",
       "  'repression',\n",
       "  'brutal repression',\n",
       "  'subjugation',\n",
       "  'oppressive',\n",
       "  'oppressors',\n",
       "  'totalitarianism',\n",
       "  'imperialism',\n",
       "  'oppressor'],\n",
       " 'private': ['privately',\n",
       "  'taxpayer subsidized',\n",
       "  'wealthy',\n",
       "  'nonfederal',\n",
       "  'privately funded',\n",
       "  'voluntary',\n",
       "  'privatized',\n",
       "  'entities',\n",
       "  'privately owned',\n",
       "  'pubic',\n",
       "  'nongovernmental',\n",
       "  'taxpayer funded',\n",
       "  'nonprofit',\n",
       "  'privatizing',\n",
       "  'sector',\n",
       "  'commercial',\n",
       "  'public',\n",
       "  'private',\n",
       "  'ascribe newswire distributes'],\n",
       " 'restrict': ['restricts',\n",
       "  'impede',\n",
       "  'curtail',\n",
       "  'banning',\n",
       "  'restrictions',\n",
       "  'constrain',\n",
       "  'limit',\n",
       "  'restricting',\n",
       "  'forbid',\n",
       "  'disallow',\n",
       "  'restricted',\n",
       "  'regulate',\n",
       "  'prohibiting',\n",
       "  'discourage',\n",
       "  'limiting',\n",
       "  'severely restricted',\n",
       "  'prohibit',\n",
       "  'restrict',\n",
       "  'restriction'],\n",
       " 'right': ['okay',\n",
       "  'correct',\n",
       "  'left',\n",
       "  'right',\n",
       "  'just',\n",
       "  'somebody else',\n",
       "  'basically',\n",
       "  '##.help us',\n",
       "  'corner',\n",
       "  'anyway',\n",
       "  'now',\n",
       "  'whatever',\n",
       "  'back',\n",
       "  'wrong',\n",
       "  'we',\n",
       "  'what',\n",
       "  'do',\n",
       "  'ok',\n",
       "  'going',\n",
       "  'really']}"
      ]
     },
     "execution_count": 22,
     "metadata": {},
     "output_type": "execute_result"
    }
   ],
   "source": [
    "data_dictionary_GN"
   ]
  },
  {
   "cell_type": "markdown",
   "metadata": {
    "id": "i4-jznGIHDL5"
   },
   "source": [
    "This word2vec model is unable to figure out the nearest neighbors words of 71 seed words. I try the same logic with another word embedding model below."
   ]
  },
  {
   "cell_type": "code",
   "execution_count": null,
   "metadata": {
    "colab": {
     "base_uri": "https://localhost:8080/"
    },
    "id": "WljDXTE358EP",
    "outputId": "12126350-5ddc-40b7-a27f-5697b30411d7"
   },
   "outputs": [
    {
     "name": "stdout",
     "output_type": "stream",
     "text": [
      "[==================================================] 100.0% 128.1/128.1MB downloaded\n"
     ]
    }
   ],
   "source": [
    "# download the model and return as object ready for use\n",
    "import gensim.downloader as api\n",
    "model = api.load(\"glove-wiki-gigaword-100\") "
   ]
  },
  {
   "cell_type": "code",
   "execution_count": null,
   "metadata": {
    "colab": {
     "base_uri": "https://localhost:8080/"
    },
    "id": "DOMtIc8T58HL",
    "outputId": "6613e10a-2036-4aa8-b521-0e2a150d344c"
   },
   "outputs": [
    {
     "name": "stdout",
     "output_type": "stream",
     "text": [
      "the word allow  doesn't exist in the word embedding space\n",
      "the word Interfere doesn't exist in the word embedding space\n",
      "the word oppression  doesn't exist in the word embedding space\n",
      "the word restrict  doesn't exist in the word embedding space\n",
      "the word Choice doesn't exist in the word embedding space\n"
     ]
    }
   ],
   "source": [
    "# initialize a word dictionary\n",
    "data_dictionary_glove = {}\n",
    "\n",
    "# here we set how many words we want per seed term\n",
    "n = 20\n",
    "\n",
    "non_existent_seed = 0\n",
    "for seed in clean_seeds : \n",
    "  try:\n",
    "    data_dictionary_glove[seed] = get_similar_words(model.most_similar(seed, topn=n))\n",
    "  except:\n",
    "    non_existent_seed += 1\n",
    "    print(f\"the word {seed} doesn't exist in the word embedding space\")"
   ]
  },
  {
   "cell_type": "code",
   "execution_count": null,
   "metadata": {
    "colab": {
     "base_uri": "https://localhost:8080/"
    },
    "id": "NhMzKxeL58JQ",
    "outputId": "ad199248-b3a4-498d-9f6a-d425ae0283d2"
   },
   "outputs": [
    {
     "name": "stdout",
     "output_type": "stream",
     "text": [
      "there is 4 seed terms that doesn't exist in the word embedding space\n"
     ]
    }
   ],
   "source": [
    "print(f\"there is {non_existent_seed} seed terms that doesn't exist in the word embedding space\")"
   ]
  },
  {
   "cell_type": "markdown",
   "metadata": {
    "id": "fNGUSCKmJPyu"
   },
   "source": [
    "The approach with Glove word embedding is reaching out more seed terms than the Google word2vec model"
   ]
  },
  {
   "cell_type": "markdown",
   "metadata": {
    "id": "PbUw4YnLJjYe"
   },
   "source": [
    "### Save Results\n",
    "In order to save results I will put them into a json file. The structure will be more conveninet and ther will be no need to repeath the same seed words at each line. This way every seed term is a key and their values is a list with the top 20 terms that are semantically closer."
   ]
  },
  {
   "cell_type": "code",
   "execution_count": null,
   "metadata": {
    "id": "2GsJWUy-58MS"
   },
   "outputs": [],
   "source": [
    "# Save results for the 1st approach\n",
    "with open('seeds_most_similar_with_GoogleNews.json', 'w') as fp:\n",
    "    json.dump(data_dictionary_GN, fp, sort_keys=True, indent=4)"
   ]
  },
  {
   "cell_type": "code",
   "execution_count": null,
   "metadata": {
    "id": "_RZQdFLaojx_"
   },
   "outputs": [],
   "source": [
    "# Save results for the 2nd approach ## the better one\n",
    "with open('seeds_most_similar_with_Glove.json', 'w') as fp:\n",
    "    json.dump(data_dictionary_glove, fp, sort_keys=True, indent=4)"
   ]
  }
 ],
 "metadata": {
  "colab": {
   "name": "Word_Embedding_analysis.ipynb",
   "provenance": []
  },
  "kernelspec": {
   "display_name": "Python 3 (ipykernel)",
   "language": "python",
   "name": "python3"
  },
  "language_info": {
   "codemirror_mode": {
    "name": "ipython",
    "version": 3
   },
   "file_extension": ".py",
   "mimetype": "text/x-python",
   "name": "python",
   "nbconvert_exporter": "python",
   "pygments_lexer": "ipython3",
   "version": "3.9.12"
  }
 },
 "nbformat": 4,
 "nbformat_minor": 1
}
