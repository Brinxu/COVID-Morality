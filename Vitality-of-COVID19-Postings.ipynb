{
 "cells": [
  {
   "cell_type": "markdown",
   "metadata": {
    "id": "unLWX_5qb047"
   },
   "source": [
    "## Part1: Processing the data"
   ]
  },
  {
   "cell_type": "code",
   "execution_count": null,
   "metadata": {
    "colab": {
     "base_uri": "https://localhost:8080/"
    },
    "id": "BOn9KWGLD_Id",
    "outputId": "277942b0-e40f-4962-a9c1-042f661a9e22"
   },
   "outputs": [],
   "source": [
    "# !pip install -U pip setuptools wheel\n",
    "# !pip install -U spacy\n",
    "# !python -m spacy download en_core_web_sm\n",
    "# !pip install git+https://github.com/medianeuroscience/emfdscore.git\n"
   ]
  },
  {
   "cell_type": "markdown",
   "metadata": {},
   "source": [
    "### Import Required Python Packages"
   ]
  },
  {
   "cell_type": "code",
   "execution_count": 2,
   "metadata": {
    "id": "VbTC53VvD_Lk"
   },
   "outputs": [],
   "source": [
    "import pandas as pd\n",
    "import numpy as np\n",
    "import matplotlib.pyplot as plt\n",
    "import seaborn as sns\n",
    "\n",
    "from matplotlib import rcParams\n",
    "rcParams['figure.figsize'] = 15, 5\n",
    "\n",
    "from statsmodels.iolib.summary2 import summary_col\n",
    "\n",
    "\n",
    "# Disable warnings\n",
    "import warnings\n",
    "from statsmodels.tools.sm_exceptions import ConvergenceWarning\n",
    "warnings.simplefilter('ignore', ConvergenceWarning)"
   ]
  },
  {
   "cell_type": "code",
   "execution_count": null,
   "metadata": {
    "colab": {
     "base_uri": "https://localhost:8080/"
    },
    "id": "5dxZ7HrqZtHb",
    "outputId": "4264d95e-a2b0-4421-d1f2-ca1a7a3bcdc7"
   },
   "outputs": [],
   "source": [
    "data1 = pd.read_csv('general_media_final_dataset.csv').drop('Unnamed: 0',axis=1)\n",
    "data2 = pd.read_csv('final_science_media_data (1).csv').drop('Unnamed: 0',axis=1)"
   ]
  },
  {
   "cell_type": "code",
   "execution_count": null,
   "metadata": {
    "colab": {
     "base_uri": "https://localhost:8080/"
    },
    "id": "BJItYjT3VE3W",
    "outputId": "ae0053df-5b29-438b-a767-a508af8a13e3"
   },
   "outputs": [],
   "source": [
    "data3 = pd.read_csv('2021-10-22-09-22-53-EDT-Historical-Report-BuzzFeed-2018-01-01--2021-07-01.csv',encoding = \"ISO-8859-1\").dropna()\n",
    "data4 = pd.read_csv('2021-10-22-09-21-54-EDT-Historical-Report-The-Daily-Caller-2018-01-01--2021-07-01.csv',encoding = \"ISO-8859-1\").dropna()\n",
    "data5 = pd.read_csv('2021-10-23-10-02-33-EDT-Historical-Report-Vox-2018-01-01--2021-07-01.csv',encoding = \"ISO-8859-1\").dropna()\n",
    "data6 = pd.read_csv('2021-10-22-09-19-11-EDT-Historical-Report-Washington-Examiner-2018-01-01--2021-07-01.csv',encoding = \"ISO-8859-1\").dropna()"
   ]
  },
  {
   "cell_type": "code",
   "execution_count": null,
   "metadata": {
    "colab": {
     "base_uri": "https://localhost:8080/",
     "height": 338
    },
    "id": "77Cd_Ip7Z183",
    "outputId": "0b542bac-d821-4d22-9b67-39438f5bdde0"
   },
   "outputs": [],
   "source": [
    "data1.head(1)"
   ]
  },
  {
   "cell_type": "code",
   "execution_count": null,
   "metadata": {
    "colab": {
     "base_uri": "https://localhost:8080/",
     "height": 355
    },
    "id": "gzFOwNQeZ1_2",
    "outputId": "a607201c-8b36-468d-b0c4-970c0a93274a"
   },
   "outputs": [],
   "source": [
    "data2.head(1)"
   ]
  },
  {
   "cell_type": "code",
   "execution_count": null,
   "metadata": {
    "colab": {
     "base_uri": "https://localhost:8080/",
     "height": 321
    },
    "id": "TMpGfyUdUUHB",
    "outputId": "504adfcc-3050-4bff-e219-b9e3b9645b90"
   },
   "outputs": [],
   "source": [
    "data3.head(1)"
   ]
  },
  {
   "cell_type": "markdown",
   "metadata": {
    "id": "unLWX_5qb047"
   },
   "source": [
    "### Keep Posts from **2020.1.1 to 2021.6.30**"
   ]
  },
  {
   "cell_type": "code",
   "execution_count": null,
   "metadata": {},
   "outputs": [],
   "source": [
    "data1.dropna(inplace=True)\n",
    "data2.dropna(inplace=True)\n",
    "data3.dropna(inplace=True)\n",
    "data4.dropna(inplace=True)\n",
    "data5.dropna(inplace=True)\n",
    "data6.dropna(inplace=True)"
   ]
  },
  {
   "cell_type": "code",
   "execution_count": null,
   "metadata": {
    "id": "snp1cQlwb0Iq"
   },
   "outputs": [],
   "source": [
    "\n",
    "\"\"\"\n",
    "For the selection, we need first to turn the date column to DateTime Format(instead of string), we can do it using to_datetime method from pandas\n",
    "library\n",
    "\"\"\"\n",
    "data1['Post Created Date'] = pd.to_datetime(data1['Post Created Date']) \n",
    "data2['Post Created Date'] = pd.to_datetime(data2['Post Created Date']) \n",
    "data3['Post Created Date'] = pd.to_datetime(data3['Post Created Date']) \n",
    "data4['Post Created Date'] = pd.to_datetime(data4['Post Created Date']) \n",
    "data5['Post Created Date'] = pd.to_datetime(data5['Post Created Date']) \n",
    "data6['Post Created Date'] = pd.to_datetime(data6['Post Created Date']) "
   ]
  },
  {
   "cell_type": "code",
   "execution_count": null,
   "metadata": {
    "id": "gkhIgzhfdlN3"
   },
   "outputs": [],
   "source": [
    "\"\"\"\n",
    "Now lets do the selection\n",
    "\"\"\"\n",
    "start_date = '2010.1.1'\n",
    "end_date = '2021.6.30'\n",
    "#greater than the start date and smaller than the end date\n",
    "mask1 = (data1['Post Created Date'] > start_date) & (data1['Post Created Date'] <= end_date)\n",
    "mask2 = (data2['Post Created Date'] > start_date) & (data2['Post Created Date'] <= end_date)\n",
    "mask3 = (data3['Post Created Date'] > '2020.1.1') & (data3['Post Created Date'] <= '2021.6.30')\n",
    "mask4 = (data4['Post Created Date'] > '2020.1.1') & (data4['Post Created Date'] <= '2021.6.30')\n",
    "mask5 = (data5['Post Created Date'] > '2020.1.1') & (data5['Post Created Date'] <= '2021.6.30')\n",
    "mask6 = (data6['Post Created Date'] > '2020.1.1') & (data6['Post Created Date'] <= '2021.6.30')\n",
    "data1 = data1.loc[mask1]\n",
    "data2 = data2.loc[mask2]\n",
    "data3 = data3.loc[mask3]\n",
    "data4 = data4.loc[mask4]\n",
    "data5 = data5.loc[mask5]\n",
    "data6 = data6.loc[mask6]"
   ]
  },
  {
   "cell_type": "code",
   "execution_count": null,
   "metadata": {
    "id": "7cWfFrrFejEM"
   },
   "outputs": [],
   "source": [
    "\"\"\"\n",
    "Now we will create a new column named LNC_category which means (liberal,neutral or conservative) based on user name.\n",
    "\"\"\"\n",
    "liberal = ['dailykos', 'nytimes', 'HuffingtonPostOfficial', 'washingtonpost', 'msnbc', 'bbc', 'cnn', 'nbc', 'NPR','Buzzfeed', 'Vox']\n",
    "neutral = ['usatoday', 'nbc', 'Reuters', 'WSJ', 'ABCNetwork', 'CBS']\n",
    "conservative = ['Breitbart','FoxNews','TheBlaze','Daily Caller', 'Washington examiner' ]\n",
    "\n",
    "def match(username):\n",
    "    if username in liberal:\n",
    "        return 'liberal'\n",
    "    elif username in neutral:\n",
    "        return 'neutral'\n",
    "    elif username in conservative:\n",
    "        return 'conservative'\n",
    "    else: return np.nan\n",
    "data1['User Name'] = data1['User Name'].str.replace(' ', '')\n",
    "data2['User Name'] = data2['User Name'].str.replace(' ', '')\n",
    "data1['LNC_category']=data1['User Name'].apply(lambda x: match(x))\n",
    "data2['LNC_category']=data2['User Name'].apply(lambda x: match(x))"
   ]
  },
  {
   "cell_type": "code",
   "execution_count": null,
   "metadata": {
    "colab": {
     "base_uri": "https://localhost:8080/",
     "height": 287
    },
    "id": "M2G77hYNejGG",
    "outputId": "9d310e5a-5d2e-4821-c951-144f61fc1d7a"
   },
   "outputs": [],
   "source": [
    "import seaborn as sns\n",
    "sns.set_theme(style=\"darkgrid\")\n",
    "ax = sns.countplot(x=\"LNC_category\", data=data1)"
   ]
  },
  {
   "cell_type": "code",
   "execution_count": null,
   "metadata": {
    "id": "V-eTn2a8ejK1"
   },
   "outputs": [],
   "source": [
    "\"\"\"\n",
    "Combine data1 with data2\n",
    "\"\"\"\n",
    "data2['User Name'] = data2['User Name'].apply(lambda x: 'science chennel')\n",
    "data2['LNC_category'] = 'science'\n",
    "\n",
    "data3['User Name'] = data3['User Name'].apply(lambda x: 'science chennel')\n",
    "data3['LNC_category'] = 'science'\n",
    "\n",
    "data4['User Name'] = data4['User Name'].apply(lambda x: 'science chennel')\n",
    "data4['LNC_category'] = 'science'\n",
    "\n",
    "data5['User Name'] = data4['User Name'].apply(lambda x: 'science chennel')\n",
    "data5['LNC_category'] = 'liberal'\n",
    "\n",
    "\n",
    "data6['User Name'] = data6['User Name'].apply(lambda x: 'science chennel')\n",
    "data6['LNC_category'] = 'science'"
   ]
  },
  {
   "cell_type": "code",
   "execution_count": null,
   "metadata": {},
   "outputs": [],
   "source": [
    "frames = [data1,data2,data3,data4,data5,data6]\n",
    "data = pd.concat(frames)"
   ]
  },
  {
   "cell_type": "code",
   "execution_count": null,
   "metadata": {
    "colab": {
     "base_uri": "https://localhost:8080/",
     "height": 287
    },
    "id": "psTF6n6kejNg",
    "outputId": "8c063bd2-9d64-4d08-9068-d5cb9c8e3ede"
   },
   "outputs": [],
   "source": [
    "ax = sns.countplot(x=\"LNC_category\", data=data)"
   ]
  },
  {
   "cell_type": "markdown",
   "metadata": {
    "id": "AFl_JxRS597H"
   },
   "source": [
    "### Select Covid-19 Topics"
   ]
  },
  {
   "cell_type": "code",
   "execution_count": null,
   "metadata": {
    "colab": {
     "base_uri": "https://localhost:8080/",
     "height": 52
    },
    "id": "tiyjPWXz6C9a",
    "outputId": "0f06a390-fe8f-4886-9002-6ac1852faa11"
   },
   "outputs": [],
   "source": [
    "data['Message'].iloc[0]"
   ]
  },
  {
   "cell_type": "code",
   "execution_count": null,
   "metadata": {
    "id": "-GS5_PfA6C_N"
   },
   "outputs": [],
   "source": [
    "list_covid = ['covid','Covid','Corona','Coronavirus','2019ncov','Ncov','Pandemic','Lockdown','Quarantine','SARS-CoV-2','N95','Social distancing']\n",
    "def search(m):\n",
    "  m = m.casefold()\n",
    "  if any(srchstr.lower() in m.lower() for srchstr in list_covid):\n",
    "    return 'covid'\n",
    "  else:\n",
    "    return 'NotCovid'\n",
    "data['covid'] = data['Message'].apply(lambda x: search(x))"
   ]
  },
  {
   "cell_type": "code",
   "execution_count": null,
   "metadata": {
    "colab": {
     "base_uri": "https://localhost:8080/",
     "height": 285
    },
    "id": "1VGrq1Os6DDF",
    "outputId": "ff68f821-da48-4f03-9f3f-d45bac29ec74"
   },
   "outputs": [],
   "source": [
    "ax = sns.countplot(x=\"covid\", data=data)"
   ]
  },
  {
   "cell_type": "code",
   "execution_count": null,
   "metadata": {
    "colab": {
     "base_uri": "https://localhost:8080/"
    },
    "id": "bXZJyj2BCCh0",
    "outputId": "0590fa66-57f0-4689-e2e3-4816f6378e7d"
   },
   "outputs": [],
   "source": [
    "\"\"\"\n",
    "Then we will select just covid data\n",
    "\"\"\"\n",
    "covid_data = data[data.covid=='covid']\n",
    "covid_data.shape"
   ]
  },
  {
   "cell_type": "markdown",
   "metadata": {
    "id": "ujVZzvXo6DpQ"
   },
   "source": [
    "## Part 2:  Conduct Sentiment Analysis"
   ]
  },
  {
   "cell_type": "code",
   "execution_count": null,
   "metadata": {
    "colab": {
     "base_uri": "https://localhost:8080/"
    },
    "id": "EUN_BNAz4XFc",
    "outputId": "b5241bea-245d-4242-826e-347f3c53e9fb"
   },
   "outputs": [],
   "source": [
    "import nltk\n",
    "nltk.download('stopwords')"
   ]
  },
  {
   "cell_type": "code",
   "execution_count": null,
   "metadata": {
    "colab": {
     "base_uri": "https://localhost:8080/"
    },
    "id": "2568gVx0R9X7",
    "outputId": "27d1c14e-7c7e-411c-9324-15b959102b98"
   },
   "outputs": [],
   "source": [
    "nltk.download('punkt')"
   ]
  },
  {
   "cell_type": "code",
   "execution_count": null,
   "metadata": {
    "colab": {
     "base_uri": "https://localhost:8080/"
    },
    "id": "Sibx_JDoSEBE",
    "outputId": "20376300-4246-4f53-e779-f8407ba56951"
   },
   "outputs": [],
   "source": [
    "nltk.download('averaged_perceptron_tagger')"
   ]
  },
  {
   "cell_type": "code",
   "execution_count": null,
   "metadata": {
    "colab": {
     "base_uri": "https://localhost:8080/"
    },
    "id": "OUsFbssNSIwD",
    "outputId": "7b6869e5-37fc-49bb-9f68-649ccc382061"
   },
   "outputs": [],
   "source": [
    "nltk.download('vader_lexicon')"
   ]
  },
  {
   "cell_type": "code",
   "execution_count": null,
   "metadata": {
    "colab": {
     "base_uri": "https://localhost:8080/"
    },
    "id": "b5k6flsMYs5p",
    "outputId": "5fbf7f94-fa94-4c05-acb2-2edfee261e30"
   },
   "outputs": [],
   "source": [
    "!pip install twython "
   ]
  },
  {
   "cell_type": "code",
   "execution_count": null,
   "metadata": {
    "colab": {
     "base_uri": "https://localhost:8080/"
    },
    "id": "fKVDMuhKdmlU",
    "outputId": "a43bef23-d500-4d9d-c714-d0b547cf2e56"
   },
   "outputs": [],
   "source": [
    "len(covid_data.Message)"
   ]
  },
  {
   "cell_type": "code",
   "execution_count": null,
   "metadata": {},
   "outputs": [],
   "source": [
    "!pip install textblob"
   ]
  },
  {
   "cell_type": "code",
   "execution_count": null,
   "metadata": {
    "id": "8pUNMX22RWKR"
   },
   "outputs": [],
   "source": [
    "\n",
    "import warnings\n",
    "from textblob import TextBlob\n",
    "from nltk.corpus import stopwords\n",
    "import string\n",
    "import numpy as np\n",
    "from nltk.sentiment.vader import SentimentIntensityAnalyzer\n",
    "import nltk\n",
    "from sklearn import cluster\n",
    "\n",
    "\n",
    "\n",
    "# Let's create our feature vector as Kmeans works with numerical values only\n",
    "# thus we need to convert our text data into numeric features in some way which should \n",
    "# prove usful to our learning algorithm and it can easily find pattern in it.\n",
    "# So, i will be using polarity score of the extracted adjectives as our feature\n",
    "\n",
    "def create_polarity_vector(all_adjectives):\n",
    "    # NLTK Vader sentiment analyzer\n",
    "    sid = SentimentIntensityAnalyzer()\n",
    "\n",
    "    #Taking compound score as one feature, (compund score = -ve indicates negative sentiments)\n",
    "    #(compund score = +ve indicates positive sentiments, ie compound value is normalization b/w +ve and -ve)\n",
    "    feature_vector=[1 if sid.polarity_scores(i)['compound']>=0 else -1 for i in all_adjectives]\n",
    "    \n",
    "    return feature_vector\n",
    "\n",
    "\n",
    "# utility function to read text file\n",
    "def polarity_sets_file(input_file):\n",
    "    with open(input_file, 'r') as f:\n",
    "        input_text = f.read()\n",
    "        return input_text\n",
    "\n",
    "# utility function to extract all adjectives from text document\n",
    "def extract_adjectives(text):\n",
    "    tokenized_text= nltk.word_tokenize(text)\n",
    "    tagged_text = nltk.pos_tag(tokenized_text)\n",
    "    all_adjectives = list({i[0] for i in tagged_text if i[1] == 'JJ'})\n",
    "    return all_adjectives\n",
    "\n",
    "# Cleaning up text \n",
    "def clean_text(text):    \n",
    "    \n",
    "    #stopword removal\n",
    "    stop_word=list(stopwords.words('english'))\n",
    "    toke=list(text.split(' '))\n",
    "    text = ' '.join([i for i in toke if i not in stop_word])\n",
    "    \n",
    "    #punctutaion removal\n",
    "    t_lator=str.maketrans('','',string.punctuation)\n",
    "    text=text.translate(t_lator)\n",
    "    remove_digits = str.maketrans('', '', string.digits)\n",
    "    text = text.translate(remove_digits)    \n",
    "    \n",
    "    #removing special symbol\n",
    "    for i in '“”—':\n",
    "        text = text.replace(i, ' ')\n",
    "        \n",
    "    return text\n",
    "import time\n",
    "\n",
    "\n",
    "\n",
    "\n",
    "with warnings.catch_warnings():\n",
    "    warnings.simplefilter(\"ignore\")\n",
    "    PN = []\n",
    "    # covid_data = covid_data.sample(100)\n",
    "    for i,text in enumerate(covid_data.Message):\n",
    "      if i%100 == 0:\n",
    "        print('{} message processed'.format(i))\n",
    "      try:\n",
    "        # Reading our file\n",
    "        # text = polarity_sets_file('test.txt')\n",
    "        # cleaning our text data\n",
    "        text = clean_text(text)\n",
    "        # Getting adjectieves from our document\n",
    "        adjectives = extract_adjectives(text)\n",
    "        # Preparing our feature vector\n",
    "        features = create_polarity_vector(adjectives)\n",
    "        # Making clusters using KMeans\n",
    "        feature_ = np.array(features).reshape(-1,1)\n",
    "        kmeans = cluster.KMeans(n_clusters=2)\n",
    "        kmeans.fit(feature_)\n",
    "        labels = kmeans.predict(feature_)\n",
    "\n",
    "        # Identifying positive and negative terms\n",
    "\n",
    "        type1_terms,type2_terms = [], []\n",
    "\n",
    "        for i,j in zip(adjectives,labels):\n",
    "            if j == 0 :\n",
    "                type1_terms.append(i)\n",
    "            else:\n",
    "                type2_terms.append(i)\n",
    "        if len(type1_terms) > len(type2_terms):\n",
    "          PN.append('N')\n",
    "        else:\n",
    "          PN.append('P')\n",
    "\n",
    "      except:\n",
    "        PN.append(np.nan)\n",
    "        continue"
   ]
  },
  {
   "cell_type": "code",
   "execution_count": null,
   "metadata": {
    "id": "2kJZ7GOsaQrw"
   },
   "outputs": [],
   "source": [
    "\"\"\"\n",
    "Postive/negative posts results\n",
    "\"\"\"\n",
    "covid_data['PN'] = PN\n",
    "# PN = postive or negative\n",
    "ax = sns.countplot(x=\"PN\", data=covid_data)"
   ]
  },
  {
   "cell_type": "code",
   "execution_count": null,
   "metadata": {
    "id": "UZUsXRAPZ4DL"
   },
   "outputs": [],
   "source": [
    "covid_data.to_csv('covid_data_final.csv',index=False)"
   ]
  },
  {
   "cell_type": "code",
   "execution_count": null,
   "metadata": {},
   "outputs": [],
   "source": [
    "covid_data = pd.read_csv('covid_data_final.csv')"
   ]
  },
  {
   "cell_type": "code",
   "execution_count": null,
   "metadata": {
    "id": "KMLI7lV6aQtx"
   },
   "outputs": [],
   "source": [
    "\"\"\"\n",
    "Relation between Postive/negative posts and journal type.\n",
    "\"\"\"\n",
    "sns.catplot(x=\"PN\", hue=\"LNC_category\", kind=\"count\", data=covid_data)"
   ]
  },
  {
   "cell_type": "code",
   "execution_count": null,
   "metadata": {
    "id": "xoaGZIaVaQyb"
   },
   "outputs": [],
   "source": [
    "sns.catplot(x=\"PN\",y=\"Likes\", hue=\"LNC_category\", kind=\"bar\", data=covid_data)"
   ]
  },
  {
   "cell_type": "code",
   "execution_count": null,
   "metadata": {
    "id": "0gHIPLtWchwD"
   },
   "outputs": [],
   "source": [
    "covid_data.columns"
   ]
  },
  {
   "cell_type": "code",
   "execution_count": null,
   "metadata": {
    "id": "IyAHXJnKaQ2M"
   },
   "outputs": [],
   "source": [
    "from pandas.api.types import is_numeric_dtype\n",
    "for col in ['Likes at Posting','Followers at Posting','Total Interactions','Likes','Comments','Shares','Love', 'Wow', 'Haha', 'Sad', 'Angry',\n",
    "       'Care']:\n",
    "    if is_numeric_dtype(covid_data[col]):\n",
    "        sns.catplot(x=\"PN\",y=col, hue=\"LNC_category\", kind=\"bar\", data=covid_data)"
   ]
  },
  {
   "cell_type": "markdown",
   "metadata": {},
   "source": [
    "## Part 3: Generate Moral Foundation Score"
   ]
  },
  {
   "cell_type": "code",
   "execution_count": null,
   "metadata": {
    "id": "aUuiZl1ysoyd"
   },
   "outputs": [],
   "source": [
    "import pandas as pd \n",
    "import numpy as np\n",
    "import seaborn as sns\n",
    "from matplotlib import pyplot as plt"
   ]
  },
  {
   "cell_type": "code",
   "execution_count": null,
   "metadata": {
    "id": "pFaZi6TkucZB"
   },
   "outputs": [],
   "source": [
    "template_input = pd.DataFrame(data=covid_data.Message.values)\n",
    "template_input.head()"
   ]
  },
  {
   "cell_type": "code",
   "execution_count": null,
   "metadata": {
    "id": "ce5HfxAduwgR"
   },
   "outputs": [],
   "source": [
    "!git clone https://github.com/medianeuroscience/emfdscore.git"
   ]
  },
  {
   "cell_type": "code",
   "execution_count": null,
   "metadata": {
    "id": "nuSNjZApySxs"
   },
   "outputs": [],
   "source": [
    "!cp -R 'emfdscore/emfdscore' './score'"
   ]
  },
  {
   "cell_type": "code",
   "execution_count": null,
   "metadata": {
    "id": "_UMd2IiWso0r"
   },
   "outputs": [],
   "source": [
    "from score.scoring import score_docs \n",
    "\n",
    "num_docs = len(template_input)\n",
    "\n",
    "DICT_TYPE = 'emfd'\n",
    "PROB_MAP = 'all'\n",
    "SCORE_METHOD = 'bow'\n",
    "OUT_METRICS = 'sentiment'\n",
    "OUT_CSV_PATH = 'all-sent.csv'\n",
    "\n",
    "df = score_docs(template_input,DICT_TYPE,PROB_MAP,SCORE_METHOD,OUT_METRICS,num_docs)\n",
    "df.to_csv(OUT_CSV_PATH, index=False)"
   ]
  },
  {
   "cell_type": "code",
   "execution_count": null,
   "metadata": {
    "id": "6Eo-cyn7HSRx"
   },
   "outputs": [],
   "source": [
    "covid_data.shape"
   ]
  },
  {
   "cell_type": "code",
   "execution_count": null,
   "metadata": {
    "id": "qieIDfcyso5D"
   },
   "outputs": [],
   "source": [
    "DF_FINAL = pd.concat([covid_data.reset_index(drop=True),df.reset_index(drop=True)], axis=1)\n",
    "DF_FINAL.head(2)"
   ]
  },
  {
   "cell_type": "code",
   "execution_count": null,
   "metadata": {
    "id": "bv8viDLDXdoH"
   },
   "outputs": [],
   "source": [
    "DF_FINAL.to_csv('final.csv', index=False)"
   ]
  },
  {
   "cell_type": "code",
   "execution_count": null,
   "metadata": {},
   "outputs": [],
   "source": [
    "DF_FINAL = pd.read_csv('final.csv')"
   ]
  },
  {
   "cell_type": "markdown",
   "metadata": {
    "id": "ah9S42V7WiZD"
   },
   "source": [
    "## Part 4: Multilevel Regressions"
   ]
  },
  {
   "cell_type": "markdown",
   "metadata": {},
   "source": [
    "### Import Packages and Prepare Data"
   ]
  },
  {
   "cell_type": "code",
   "execution_count": 41,
   "metadata": {
    "id": "keEGC3RnH5Pl",
    "scrolled": true
   },
   "outputs": [
    {
     "data": {
      "text/html": [
       "<div>\n",
       "<style scoped>\n",
       "    .dataframe tbody tr th:only-of-type {\n",
       "        vertical-align: middle;\n",
       "    }\n",
       "\n",
       "    .dataframe tbody tr th {\n",
       "        vertical-align: top;\n",
       "    }\n",
       "\n",
       "    .dataframe thead th {\n",
       "        text-align: right;\n",
       "    }\n",
       "</style>\n",
       "<table border=\"1\" class=\"dataframe\">\n",
       "  <thead>\n",
       "    <tr style=\"text-align: right;\">\n",
       "      <th></th>\n",
       "      <th>Page Name</th>\n",
       "      <th>User Name</th>\n",
       "      <th>Facebook Id</th>\n",
       "      <th>Page Category</th>\n",
       "      <th>Page Admin Top Country</th>\n",
       "      <th>Page Description</th>\n",
       "      <th>Page Created</th>\n",
       "      <th>Likes at Posting</th>\n",
       "      <th>Followers at Posting</th>\n",
       "      <th>Post Created</th>\n",
       "      <th>...</th>\n",
       "      <th>authority_p</th>\n",
       "      <th>sanctity_p</th>\n",
       "      <th>care_sent</th>\n",
       "      <th>fairness_sent</th>\n",
       "      <th>loyalty_sent</th>\n",
       "      <th>authority_sent</th>\n",
       "      <th>sanctity_sent</th>\n",
       "      <th>moral_nonmoral_ratio</th>\n",
       "      <th>f_var</th>\n",
       "      <th>sent_var</th>\n",
       "    </tr>\n",
       "  </thead>\n",
       "  <tbody>\n",
       "    <tr>\n",
       "      <th>0</th>\n",
       "      <td>CNN</td>\n",
       "      <td>cnn</td>\n",
       "      <td>5550296508</td>\n",
       "      <td>MEDIA_NEWS_COMPANY</td>\n",
       "      <td>US</td>\n",
       "      <td>Instant breaking news alerts and the most talk...</td>\n",
       "      <td>2007-11-07 22:14:27</td>\n",
       "      <td>34563652.0</td>\n",
       "      <td>38358192.0</td>\n",
       "      <td>2021-06-30 13:00:28 EDT</td>\n",
       "      <td>...</td>\n",
       "      <td>0.139355</td>\n",
       "      <td>0.085406</td>\n",
       "      <td>-0.121268</td>\n",
       "      <td>-0.095777</td>\n",
       "      <td>0.006735</td>\n",
       "      <td>-0.070749</td>\n",
       "      <td>-0.175241</td>\n",
       "      <td>0.777778</td>\n",
       "      <td>0.000574</td>\n",
       "      <td>0.004499</td>\n",
       "    </tr>\n",
       "    <tr>\n",
       "      <th>1</th>\n",
       "      <td>CNN</td>\n",
       "      <td>cnn</td>\n",
       "      <td>5550296508</td>\n",
       "      <td>MEDIA_NEWS_COMPANY</td>\n",
       "      <td>US</td>\n",
       "      <td>Instant breaking news alerts and the most talk...</td>\n",
       "      <td>2007-11-07 22:14:27</td>\n",
       "      <td>34563652.0</td>\n",
       "      <td>38358192.0</td>\n",
       "      <td>2021-06-30 09:27:09 EDT</td>\n",
       "      <td>...</td>\n",
       "      <td>0.083956</td>\n",
       "      <td>0.093256</td>\n",
       "      <td>-0.120624</td>\n",
       "      <td>-0.086392</td>\n",
       "      <td>-0.081137</td>\n",
       "      <td>-0.065666</td>\n",
       "      <td>-0.057119</td>\n",
       "      <td>0.777778</td>\n",
       "      <td>0.000388</td>\n",
       "      <td>0.000599</td>\n",
       "    </tr>\n",
       "    <tr>\n",
       "      <th>2</th>\n",
       "      <td>CNN</td>\n",
       "      <td>cnn</td>\n",
       "      <td>5550296508</td>\n",
       "      <td>MEDIA_NEWS_COMPANY</td>\n",
       "      <td>US</td>\n",
       "      <td>Instant breaking news alerts and the most talk...</td>\n",
       "      <td>2007-11-07 22:14:27</td>\n",
       "      <td>34563652.0</td>\n",
       "      <td>38358192.0</td>\n",
       "      <td>2021-06-30 09:15:16 EDT</td>\n",
       "      <td>...</td>\n",
       "      <td>0.068872</td>\n",
       "      <td>0.064272</td>\n",
       "      <td>-0.126078</td>\n",
       "      <td>-0.013716</td>\n",
       "      <td>-0.024528</td>\n",
       "      <td>0.061423</td>\n",
       "      <td>0.024422</td>\n",
       "      <td>1.166667</td>\n",
       "      <td>0.000080</td>\n",
       "      <td>0.004956</td>\n",
       "    </tr>\n",
       "    <tr>\n",
       "      <th>3</th>\n",
       "      <td>CNN</td>\n",
       "      <td>cnn</td>\n",
       "      <td>5550296508</td>\n",
       "      <td>MEDIA_NEWS_COMPANY</td>\n",
       "      <td>US</td>\n",
       "      <td>Instant breaking news alerts and the most talk...</td>\n",
       "      <td>2007-11-07 22:14:27</td>\n",
       "      <td>34563652.0</td>\n",
       "      <td>38358192.0</td>\n",
       "      <td>2021-06-30 06:30:09 EDT</td>\n",
       "      <td>...</td>\n",
       "      <td>0.138231</td>\n",
       "      <td>0.069957</td>\n",
       "      <td>-0.225778</td>\n",
       "      <td>-0.271310</td>\n",
       "      <td>-0.171173</td>\n",
       "      <td>-0.157422</td>\n",
       "      <td>-0.168818</td>\n",
       "      <td>1.000000</td>\n",
       "      <td>0.000757</td>\n",
       "      <td>0.002340</td>\n",
       "    </tr>\n",
       "    <tr>\n",
       "      <th>4</th>\n",
       "      <td>CNN</td>\n",
       "      <td>cnn</td>\n",
       "      <td>5550296508</td>\n",
       "      <td>MEDIA_NEWS_COMPANY</td>\n",
       "      <td>US</td>\n",
       "      <td>Instant breaking news alerts and the most talk...</td>\n",
       "      <td>2007-11-07 22:14:27</td>\n",
       "      <td>34563652.0</td>\n",
       "      <td>38358192.0</td>\n",
       "      <td>2021-06-30 00:32:08 EDT</td>\n",
       "      <td>...</td>\n",
       "      <td>0.099794</td>\n",
       "      <td>0.106860</td>\n",
       "      <td>-0.005410</td>\n",
       "      <td>-0.126836</td>\n",
       "      <td>0.119250</td>\n",
       "      <td>0.061201</td>\n",
       "      <td>-0.044982</td>\n",
       "      <td>0.750000</td>\n",
       "      <td>0.004427</td>\n",
       "      <td>0.009026</td>\n",
       "    </tr>\n",
       "  </tbody>\n",
       "</table>\n",
       "<p>5 rows × 49 columns</p>\n",
       "</div>"
      ],
      "text/plain": [
       "  Page Name User Name  Facebook Id       Page Category Page Admin Top Country  \\\n",
       "0       CNN       cnn   5550296508  MEDIA_NEWS_COMPANY                     US   \n",
       "1       CNN       cnn   5550296508  MEDIA_NEWS_COMPANY                     US   \n",
       "2       CNN       cnn   5550296508  MEDIA_NEWS_COMPANY                     US   \n",
       "3       CNN       cnn   5550296508  MEDIA_NEWS_COMPANY                     US   \n",
       "4       CNN       cnn   5550296508  MEDIA_NEWS_COMPANY                     US   \n",
       "\n",
       "                                    Page Description         Page Created  \\\n",
       "0  Instant breaking news alerts and the most talk...  2007-11-07 22:14:27   \n",
       "1  Instant breaking news alerts and the most talk...  2007-11-07 22:14:27   \n",
       "2  Instant breaking news alerts and the most talk...  2007-11-07 22:14:27   \n",
       "3  Instant breaking news alerts and the most talk...  2007-11-07 22:14:27   \n",
       "4  Instant breaking news alerts and the most talk...  2007-11-07 22:14:27   \n",
       "\n",
       "   Likes at Posting  Followers at Posting             Post Created  ...  \\\n",
       "0        34563652.0            38358192.0  2021-06-30 13:00:28 EDT  ...   \n",
       "1        34563652.0            38358192.0  2021-06-30 09:27:09 EDT  ...   \n",
       "2        34563652.0            38358192.0  2021-06-30 09:15:16 EDT  ...   \n",
       "3        34563652.0            38358192.0  2021-06-30 06:30:09 EDT  ...   \n",
       "4        34563652.0            38358192.0  2021-06-30 00:32:08 EDT  ...   \n",
       "\n",
       "  authority_p sanctity_p care_sent fairness_sent  loyalty_sent  \\\n",
       "0    0.139355   0.085406 -0.121268     -0.095777      0.006735   \n",
       "1    0.083956   0.093256 -0.120624     -0.086392     -0.081137   \n",
       "2    0.068872   0.064272 -0.126078     -0.013716     -0.024528   \n",
       "3    0.138231   0.069957 -0.225778     -0.271310     -0.171173   \n",
       "4    0.099794   0.106860 -0.005410     -0.126836      0.119250   \n",
       "\n",
       "   authority_sent  sanctity_sent  moral_nonmoral_ratio     f_var  sent_var  \n",
       "0       -0.070749      -0.175241              0.777778  0.000574  0.004499  \n",
       "1       -0.065666      -0.057119              0.777778  0.000388  0.000599  \n",
       "2        0.061423       0.024422              1.166667  0.000080  0.004956  \n",
       "3       -0.157422      -0.168818              1.000000  0.000757  0.002340  \n",
       "4        0.061201      -0.044982              0.750000  0.004427  0.009026  \n",
       "\n",
       "[5 rows x 49 columns]"
      ]
     },
     "execution_count": 41,
     "metadata": {},
     "output_type": "execute_result"
    }
   ],
   "source": [
    "df = pd.read_csv('final.csv', low_memory=False)\n",
    "df.head()"
   ]
  },
  {
   "cell_type": "code",
   "execution_count": 42,
   "metadata": {},
   "outputs": [],
   "source": [
    "def generate_id(s):\n",
    "    return abs(hash(s)) % (10 ** 10)\n",
    "\n",
    "df.insert(0, \"Post Id\", df['Post Created'].apply(generate_id), True)"
   ]
  },
  {
   "cell_type": "code",
   "execution_count": 44,
   "metadata": {},
   "outputs": [
    {
     "data": {
      "text/html": [
       "<div>\n",
       "<style scoped>\n",
       "    .dataframe tbody tr th:only-of-type {\n",
       "        vertical-align: middle;\n",
       "    }\n",
       "\n",
       "    .dataframe tbody tr th {\n",
       "        vertical-align: top;\n",
       "    }\n",
       "\n",
       "    .dataframe thead th {\n",
       "        text-align: right;\n",
       "    }\n",
       "</style>\n",
       "<table border=\"1\" class=\"dataframe\">\n",
       "  <thead>\n",
       "    <tr style=\"text-align: right;\">\n",
       "      <th></th>\n",
       "      <th>Post Id</th>\n",
       "      <th>Page Name</th>\n",
       "      <th>User Name</th>\n",
       "      <th>Facebook Id</th>\n",
       "      <th>Page Category</th>\n",
       "      <th>Page Admin Top Country</th>\n",
       "      <th>Page Description</th>\n",
       "      <th>Page Created</th>\n",
       "      <th>Likes at Posting</th>\n",
       "      <th>Followers at Posting</th>\n",
       "      <th>...</th>\n",
       "      <th>authority_p</th>\n",
       "      <th>sanctity_p</th>\n",
       "      <th>care_sent</th>\n",
       "      <th>fairness_sent</th>\n",
       "      <th>loyalty_sent</th>\n",
       "      <th>authority_sent</th>\n",
       "      <th>sanctity_sent</th>\n",
       "      <th>moral_nonmoral_ratio</th>\n",
       "      <th>f_var</th>\n",
       "      <th>sent_var</th>\n",
       "    </tr>\n",
       "  </thead>\n",
       "  <tbody>\n",
       "    <tr>\n",
       "      <th>0</th>\n",
       "      <td>8256825272</td>\n",
       "      <td>CNN</td>\n",
       "      <td>cnn</td>\n",
       "      <td>5550296508</td>\n",
       "      <td>MEDIA_NEWS_COMPANY</td>\n",
       "      <td>US</td>\n",
       "      <td>Instant breaking news alerts and the most talk...</td>\n",
       "      <td>2007-11-07 22:14:27</td>\n",
       "      <td>34563652.0</td>\n",
       "      <td>38358192.0</td>\n",
       "      <td>...</td>\n",
       "      <td>0.139355</td>\n",
       "      <td>0.085406</td>\n",
       "      <td>-0.121268</td>\n",
       "      <td>-0.095777</td>\n",
       "      <td>0.006735</td>\n",
       "      <td>-0.070749</td>\n",
       "      <td>-0.175241</td>\n",
       "      <td>0.777778</td>\n",
       "      <td>0.000574</td>\n",
       "      <td>0.004499</td>\n",
       "    </tr>\n",
       "    <tr>\n",
       "      <th>1</th>\n",
       "      <td>1303087181</td>\n",
       "      <td>CNN</td>\n",
       "      <td>cnn</td>\n",
       "      <td>5550296508</td>\n",
       "      <td>MEDIA_NEWS_COMPANY</td>\n",
       "      <td>US</td>\n",
       "      <td>Instant breaking news alerts and the most talk...</td>\n",
       "      <td>2007-11-07 22:14:27</td>\n",
       "      <td>34563652.0</td>\n",
       "      <td>38358192.0</td>\n",
       "      <td>...</td>\n",
       "      <td>0.083956</td>\n",
       "      <td>0.093256</td>\n",
       "      <td>-0.120624</td>\n",
       "      <td>-0.086392</td>\n",
       "      <td>-0.081137</td>\n",
       "      <td>-0.065666</td>\n",
       "      <td>-0.057119</td>\n",
       "      <td>0.777778</td>\n",
       "      <td>0.000388</td>\n",
       "      <td>0.000599</td>\n",
       "    </tr>\n",
       "    <tr>\n",
       "      <th>2</th>\n",
       "      <td>6663459950</td>\n",
       "      <td>CNN</td>\n",
       "      <td>cnn</td>\n",
       "      <td>5550296508</td>\n",
       "      <td>MEDIA_NEWS_COMPANY</td>\n",
       "      <td>US</td>\n",
       "      <td>Instant breaking news alerts and the most talk...</td>\n",
       "      <td>2007-11-07 22:14:27</td>\n",
       "      <td>34563652.0</td>\n",
       "      <td>38358192.0</td>\n",
       "      <td>...</td>\n",
       "      <td>0.068872</td>\n",
       "      <td>0.064272</td>\n",
       "      <td>-0.126078</td>\n",
       "      <td>-0.013716</td>\n",
       "      <td>-0.024528</td>\n",
       "      <td>0.061423</td>\n",
       "      <td>0.024422</td>\n",
       "      <td>1.166667</td>\n",
       "      <td>0.000080</td>\n",
       "      <td>0.004956</td>\n",
       "    </tr>\n",
       "    <tr>\n",
       "      <th>3</th>\n",
       "      <td>5891787022</td>\n",
       "      <td>CNN</td>\n",
       "      <td>cnn</td>\n",
       "      <td>5550296508</td>\n",
       "      <td>MEDIA_NEWS_COMPANY</td>\n",
       "      <td>US</td>\n",
       "      <td>Instant breaking news alerts and the most talk...</td>\n",
       "      <td>2007-11-07 22:14:27</td>\n",
       "      <td>34563652.0</td>\n",
       "      <td>38358192.0</td>\n",
       "      <td>...</td>\n",
       "      <td>0.138231</td>\n",
       "      <td>0.069957</td>\n",
       "      <td>-0.225778</td>\n",
       "      <td>-0.271310</td>\n",
       "      <td>-0.171173</td>\n",
       "      <td>-0.157422</td>\n",
       "      <td>-0.168818</td>\n",
       "      <td>1.000000</td>\n",
       "      <td>0.000757</td>\n",
       "      <td>0.002340</td>\n",
       "    </tr>\n",
       "    <tr>\n",
       "      <th>4</th>\n",
       "      <td>1109243155</td>\n",
       "      <td>CNN</td>\n",
       "      <td>cnn</td>\n",
       "      <td>5550296508</td>\n",
       "      <td>MEDIA_NEWS_COMPANY</td>\n",
       "      <td>US</td>\n",
       "      <td>Instant breaking news alerts and the most talk...</td>\n",
       "      <td>2007-11-07 22:14:27</td>\n",
       "      <td>34563652.0</td>\n",
       "      <td>38358192.0</td>\n",
       "      <td>...</td>\n",
       "      <td>0.099794</td>\n",
       "      <td>0.106860</td>\n",
       "      <td>-0.005410</td>\n",
       "      <td>-0.126836</td>\n",
       "      <td>0.119250</td>\n",
       "      <td>0.061201</td>\n",
       "      <td>-0.044982</td>\n",
       "      <td>0.750000</td>\n",
       "      <td>0.004427</td>\n",
       "      <td>0.009026</td>\n",
       "    </tr>\n",
       "  </tbody>\n",
       "</table>\n",
       "<p>5 rows × 50 columns</p>\n",
       "</div>"
      ],
      "text/plain": [
       "      Post Id Page Name User Name  Facebook Id       Page Category  \\\n",
       "0  8256825272       CNN       cnn   5550296508  MEDIA_NEWS_COMPANY   \n",
       "1  1303087181       CNN       cnn   5550296508  MEDIA_NEWS_COMPANY   \n",
       "2  6663459950       CNN       cnn   5550296508  MEDIA_NEWS_COMPANY   \n",
       "3  5891787022       CNN       cnn   5550296508  MEDIA_NEWS_COMPANY   \n",
       "4  1109243155       CNN       cnn   5550296508  MEDIA_NEWS_COMPANY   \n",
       "\n",
       "  Page Admin Top Country                                   Page Description  \\\n",
       "0                     US  Instant breaking news alerts and the most talk...   \n",
       "1                     US  Instant breaking news alerts and the most talk...   \n",
       "2                     US  Instant breaking news alerts and the most talk...   \n",
       "3                     US  Instant breaking news alerts and the most talk...   \n",
       "4                     US  Instant breaking news alerts and the most talk...   \n",
       "\n",
       "          Page Created  Likes at Posting  Followers at Posting  ...  \\\n",
       "0  2007-11-07 22:14:27        34563652.0            38358192.0  ...   \n",
       "1  2007-11-07 22:14:27        34563652.0            38358192.0  ...   \n",
       "2  2007-11-07 22:14:27        34563652.0            38358192.0  ...   \n",
       "3  2007-11-07 22:14:27        34563652.0            38358192.0  ...   \n",
       "4  2007-11-07 22:14:27        34563652.0            38358192.0  ...   \n",
       "\n",
       "  authority_p sanctity_p care_sent fairness_sent loyalty_sent  authority_sent  \\\n",
       "0    0.139355   0.085406 -0.121268     -0.095777     0.006735       -0.070749   \n",
       "1    0.083956   0.093256 -0.120624     -0.086392    -0.081137       -0.065666   \n",
       "2    0.068872   0.064272 -0.126078     -0.013716    -0.024528        0.061423   \n",
       "3    0.138231   0.069957 -0.225778     -0.271310    -0.171173       -0.157422   \n",
       "4    0.099794   0.106860 -0.005410     -0.126836     0.119250        0.061201   \n",
       "\n",
       "   sanctity_sent  moral_nonmoral_ratio     f_var  sent_var  \n",
       "0      -0.175241              0.777778  0.000574  0.004499  \n",
       "1      -0.057119              0.777778  0.000388  0.000599  \n",
       "2       0.024422              1.166667  0.000080  0.004956  \n",
       "3      -0.168818              1.000000  0.000757  0.002340  \n",
       "4      -0.044982              0.750000  0.004427  0.009026  \n",
       "\n",
       "[5 rows x 50 columns]"
      ]
     },
     "execution_count": 44,
     "metadata": {},
     "output_type": "execute_result"
    }
   ],
   "source": [
    "df.head()"
   ]
  },
  {
   "cell_type": "code",
   "execution_count": 45,
   "metadata": {
    "id": "Z3MSl9p1vofm"
   },
   "outputs": [],
   "source": [
    "word_count = []\n",
    "split_string = df['Link Text'].str.split()\n",
    "for string in split_string:\n",
    "    words = len(string)\n",
    "    word_count.append(words)     "
   ]
  },
  {
   "cell_type": "code",
   "execution_count": 46,
   "metadata": {},
   "outputs": [],
   "source": [
    "df['word_count'] = word_count"
   ]
  },
  {
   "cell_type": "code",
   "execution_count": 47,
   "metadata": {},
   "outputs": [],
   "source": [
    "df['Post Created Date'] = pd.to_datetime(df['Post Created Date'])\n",
    "df['Page Created'] = pd.to_datetime(df['Page Created'])\n",
    "\n",
    "\n",
    "df['Post_Created_Month'] = df['Post Created Date'].dt.month\n",
    "df['Page_Created_Month'] = df['Page Created'].dt.month"
   ]
  },
  {
   "cell_type": "code",
   "execution_count": 49,
   "metadata": {},
   "outputs": [],
   "source": [
    "df2 = pd.DataFrame()\n",
    "\n",
    "df2[[\"Post Id\", 'Facebook Id','Post Created Date', 'care_p', 'fairness_p', 'loyalty_p','authority_p', \n",
    "         'sanctity_p', 'Likes', 'Comments', 'Angry', 'PN', 'LNC_category', 'Page Created', 'Type', 'Link Text', 'word_count','Followers_at_Posting',  'Post_Created_Month', 'Page_Created_Month']] = df[[\"Post Id\", 'Facebook Id', 'Post Created Date', 'care_p', 'fairness_p', 'loyalty_p',\n",
    "                                                        'authority_p', 'sanctity_p','Likes', 'Comments', 'Angry', 'PN', 'LNC_category', 'Page Created', 'Type', 'Link Text', 'word_count', 'Followers at Posting', 'Post_Created_Month', 'Page_Created_Month']]\n",
    "\n",
    "\n",
    "df2.to_csv('working data.csv', index = False)"
   ]
  },
  {
   "cell_type": "code",
   "execution_count": 50,
   "metadata": {
    "id": "hk8EtekkvzaP"
   },
   "outputs": [],
   "source": [
    "df2[[\"Post Id\", \"Link Text\"]].to_csv(\"text.csv\", index = False)"
   ]
  },
  {
   "cell_type": "markdown",
   "metadata": {},
   "source": [
    "### Check the Distribution of Data"
   ]
  },
  {
   "cell_type": "code",
   "execution_count": 9,
   "metadata": {
    "id": "EljRAUgxD8k_"
   },
   "outputs": [
    {
     "name": "stdout",
     "output_type": "stream",
     "text": [
      "<class 'pandas.core.frame.DataFrame'>\n",
      "RangeIndex: 84385 entries, 0 to 84384\n",
      "Data columns (total 19 columns):\n",
      " #   Column                Non-Null Count  Dtype         \n",
      "---  ------                --------------  -----         \n",
      " 0   Facebook Id           84385 non-null  int64         \n",
      " 1   Post Created Date     84385 non-null  datetime64[ns]\n",
      " 2   care_p                84385 non-null  float64       \n",
      " 3   fairness_p            84385 non-null  float64       \n",
      " 4   loyalty_p             84385 non-null  float64       \n",
      " 5   authority_p           84385 non-null  float64       \n",
      " 6   sanctity_p            84385 non-null  float64       \n",
      " 7   Likes                 84385 non-null  int64         \n",
      " 8   Comments              84385 non-null  int64         \n",
      " 9   Angry                 84385 non-null  int64         \n",
      " 10  PN                    61463 non-null  object        \n",
      " 11  LNC_category          84385 non-null  object        \n",
      " 12  Page Created          84385 non-null  datetime64[ns]\n",
      " 13  Type                  84385 non-null  object        \n",
      " 14  Link Text             84385 non-null  object        \n",
      " 15  word_count            84385 non-null  int64         \n",
      " 16  Followers_at_Posting  84385 non-null  float64       \n",
      " 17  Post_Created_Month    84385 non-null  int64         \n",
      " 18  Page_Created_Month    84385 non-null  int64         \n",
      "dtypes: datetime64[ns](2), float64(6), int64(7), object(4)\n",
      "memory usage: 12.2+ MB\n"
     ]
    }
   ],
   "source": [
    "df2.info()"
   ]
  },
  {
   "cell_type": "code",
   "execution_count": 10,
   "metadata": {
    "id": "Y4Yz45k0STkj"
   },
   "outputs": [
    {
     "data": {
      "image/png": "[encoded data removed]",
      "text/plain": [
       "<Figure size 1440x1440 with 5 Axes>"
      ]
     },
     "metadata": {
      "needs_background": "light"
     },
     "output_type": "display_data"
    }
   ],
   "source": [
    "plt.figure(figsize=(20, 20))\n",
    "\n",
    "for e, column in enumerate(['care_p', 'fairness_p', 'loyalty_p', 'authority_p', 'sanctity_p']):\n",
    "    plt.subplot(4, 3, e + 1)\n",
    "    sns.histplot(df[column],bins=30,color=\"r\", kde=True)\n",
    "    plt.ylabel('Frequency')"
   ]
  },
  {
   "cell_type": "markdown",
   "metadata": {},
   "source": [
    "#### Compare care_p fairness_p loyalty_p authority_p sanctity_p across page category\n"
   ]
  },
  {
   "cell_type": "code",
   "execution_count": 11,
   "metadata": {},
   "outputs": [
    {
     "data": {
      "image/png": "[encoded data removed]",
      "text/plain": [
       "<Figure size 864x432 with 1 Axes>"
      ]
     },
     "metadata": {
      "needs_background": "light"
     },
     "output_type": "display_data"
    }
   ],
   "source": [
    "rcParams['figure.figsize'] = 12, 6\n",
    "cateogry_plot=df2[['care_p', 'fairness_p', 'loyalty_p', 'authority_p', 'sanctity_p', 'LNC_category']].groupby('LNC_category').mean().plot(kind = 'bar')\n",
    "plt.title('Features accross page category')\n",
    "plt.ylabel('Mean value count')\n",
    "plt.xticks(rotation = 360)\n",
    "cateogry_plot;"
   ]
  },
  {
   "cell_type": "code",
   "execution_count": 12,
   "metadata": {
    "id": "o25GBKDcSTsR"
   },
   "outputs": [],
   "source": [
    "import statsmodels.api as sm\n",
    "import scipy.stats as stats\n",
    "import statsmodels.formula.api as smf\n"
   ]
  },
  {
   "cell_type": "markdown",
   "metadata": {},
   "source": [
    "__Inferece:__ Taking log-transform normalization of all independent variables to handle highly skewed pattern."
   ]
  },
  {
   "cell_type": "code",
   "execution_count": 13,
   "metadata": {
    "id": "9Y7WnT1Lfp7X"
   },
   "outputs": [],
   "source": [
    "df2['log_Likes'] = np.log(df2['Likes']+1)\n",
    "df2['log_comments'] = np.log(df2['Comments']+1)\n",
    "df2['log_Angry'] = np.log(df2['Angry']+1)"
   ]
  },
  {
   "cell_type": "code",
   "execution_count": 14,
   "metadata": {
    "id": "qTcwLkr-gnX6"
   },
   "outputs": [
    {
     "data": {
      "image/png": "[encoded data removed]",
      "text/plain": [
       "<Figure size 1440x1440 with 3 Axes>"
      ]
     },
     "metadata": {
      "needs_background": "light"
     },
     "output_type": "display_data"
    }
   ],
   "source": [
    "plt.figure(figsize=(20, 20))\n",
    "\n",
    "for e, column in enumerate(['log_Likes', 'log_comments', 'log_Angry']):\n",
    "    plt.subplot(4, 3, e + 1)\n",
    "    sns.histplot(df2[column],bins=30,color=\"r\", kde=True)\n",
    "    plt.ylabel('Frequency')"
   ]
  },
  {
   "cell_type": "markdown",
   "metadata": {},
   "source": [
    "### Run Regressions on Both Full Data and Subgroups"
   ]
  },
  {
   "cell_type": "code",
   "execution_count": 15,
   "metadata": {
    "id": "B7R0ZPYFf819"
   },
   "outputs": [],
   "source": [
    "liberal_data = df2[df2['LNC_category'] == 'liberal']\n",
    "neutral_data = df2[df2['LNC_category'] == 'neutral']\n",
    "conservative_data = df2[df2['LNC_category'] == 'conservative']\n",
    "science_data = df2[df2['LNC_category'] == 'science']"
   ]
  },
  {
   "cell_type": "code",
   "execution_count": 16,
   "metadata": {
    "id": "yTKeIekqh6gI",
    "scrolled": true
   },
   "outputs": [
    {
     "name": "stdout",
     "output_type": "stream",
     "text": [
      "Model:  1\n",
      "                   Mixed Linear Model Regression Results\n",
      "===========================================================================\n",
      "Model:                  MixedLM       Dependent Variable:       log_Likes  \n",
      "No. Observations:       61463         Method:                   REML       \n",
      "No. Groups:             39            Scale:                    1.3962     \n",
      "Min. group size:        1             Log-Likelihood:           -97599.2615\n",
      "Max. group size:        17753         Converged:                Yes        \n",
      "Mean group size:        1576.0                                             \n",
      "---------------------------------------------------------------------------\n",
      "                                Coef.  Std.Err.    z    P>|z| [0.025 0.975]\n",
      "---------------------------------------------------------------------------\n",
      "Intercept                        5.276    0.802   6.575 0.000  3.703  6.848\n",
      "C(Type)[T.Live Video Complete]  -1.162    0.101 -11.536 0.000 -1.359 -0.964\n",
      "C(Type)[T.Live Video Scheduled] -1.400    0.147  -9.532 0.000 -1.688 -1.112\n",
      "C(Type)[T.Native Video]         -0.162    0.020  -7.981 0.000 -0.202 -0.122\n",
      "C(Type)[T.Photo]                 0.599    0.033  17.902 0.000  0.534  0.665\n",
      "C(Type)[T.Status]               -0.583    0.208  -2.810 0.005 -0.990 -0.176\n",
      "C(Type)[T.Video]                -0.476    0.142  -3.352 0.001 -0.755 -0.198\n",
      "C(Type)[T.YouTube]              -0.707    0.544  -1.299 0.194 -1.774  0.359\n",
      "C(PN)[T.P]                       0.023    0.017   1.329 0.184 -0.011  0.057\n",
      "C(LNC_category)[T.liberal]      -0.721    0.789  -0.914 0.361 -2.268  0.826\n",
      "C(LNC_category)[T.neutral]      -1.099    0.877  -1.253 0.210 -2.818  0.620\n",
      "C(LNC_category)[T.science]      -1.399    0.725  -1.930 0.054 -2.819  0.022\n",
      "care_p                          -1.716    0.248  -6.916 0.000 -2.203 -1.230\n",
      "fairness_p                      -1.069    0.295  -3.624 0.000 -1.647 -0.491\n",
      "loyalty_p                        0.018    0.355   0.052 0.959 -0.677  0.714\n",
      "authority_p                      3.309    0.297  11.160 0.000  2.728  3.891\n",
      "sanctity_p                       1.619    0.302   5.356 0.000  1.026  2.211\n",
      "Followers_at_Posting             0.000    0.000  15.136 0.000  0.000  0.000\n",
      "Post_Created_Month              -0.007    0.002  -4.760 0.000 -0.011 -0.004\n",
      "Page_Created_Month              -0.015    0.057  -0.265 0.791 -0.128  0.097\n",
      "word_count                       0.030    0.002  16.931 0.000  0.027  0.034\n",
      "Facebook Id Var                  1.336    0.303                            \n",
      "===========================================================================\n",
      "\n",
      "Model:  2\n",
      "                   Mixed Linear Model Regression Results\n",
      "===========================================================================\n",
      "Model:                  MixedLM       Dependent Variable:       log_Likes  \n",
      "No. Observations:       26721         Method:                   REML       \n",
      "No. Groups:             8             Scale:                    1.6026     \n",
      "Min. group size:        4             Log-Likelihood:           -44267.4961\n",
      "Max. group size:        7326          Converged:                Yes        \n",
      "Mean group size:        3340.1                                             \n",
      "---------------------------------------------------------------------------\n",
      "                                Coef.  Std.Err.    z    P>|z| [0.025 0.975]\n",
      "---------------------------------------------------------------------------\n",
      "Intercept                        4.661    0.519   8.984 0.000  3.644  5.678\n",
      "C(Type)[T.Live Video Complete]  -1.301    0.117 -11.082 0.000 -1.531 -1.071\n",
      "C(Type)[T.Live Video Scheduled] -2.276    0.212 -10.724 0.000 -2.691 -1.860\n",
      "C(Type)[T.Native Video]         -0.217    0.031  -6.906 0.000 -0.278 -0.155\n",
      "C(Type)[T.Photo]                 0.258    0.062   4.160 0.000  0.137  0.380\n",
      "C(Type)[T.Status]               -0.856    0.292  -2.934 0.003 -1.428 -0.284\n",
      "C(Type)[T.Video]                -1.111    0.732  -1.518 0.129 -2.545  0.323\n",
      "C(Type)[T.YouTube]              -2.836    1.266  -2.240 0.025 -5.318 -0.355\n",
      "C(PN)[T.P]                       0.043    0.026   1.650 0.099 -0.008  0.095\n",
      "care_p                          -3.086    0.404  -7.642 0.000 -3.878 -2.295\n",
      "fairness_p                      -0.156    0.481  -0.325 0.745 -1.099  0.786\n",
      "loyalty_p                        0.988    0.571   1.731 0.083 -0.130  2.106\n",
      "authority_p                      3.768    0.488   7.719 0.000  2.811  4.725\n",
      "sanctity_p                       1.214    0.511   2.376 0.017  0.213  2.216\n",
      "Followers_at_Posting             0.000    0.000   5.551 0.000  0.000  0.000\n",
      "Post_Created_Month               0.005    0.003   1.949 0.051 -0.000  0.010\n",
      "Page_Created_Month               0.032    0.071   0.446 0.655 -0.107  0.171\n",
      "word_count                       0.037    0.003  14.414 0.000  0.032  0.042\n",
      "Facebook Id Var                  0.506    0.243                            \n",
      "===========================================================================\n",
      "\n",
      "Model:  3\n",
      "                  Mixed Linear Model Regression Results\n",
      "==========================================================================\n",
      "Model:                   MixedLM      Dependent Variable:      log_Likes  \n",
      "No. Observations:        25471        Method:                  REML       \n",
      "No. Groups:              5            Scale:                   1.1511     \n",
      "Min. group size:         5            Log-Likelihood:          -37977.1695\n",
      "Max. group size:         17753        Converged:               Yes        \n",
      "Mean group size:         5094.2                                           \n",
      "--------------------------------------------------------------------------\n",
      "                               Coef.  Std.Err.    z    P>|z| [0.025 0.975]\n",
      "--------------------------------------------------------------------------\n",
      "Intercept                       1.947    0.907   2.146 0.032  0.169  3.725\n",
      "C(Type)[T.Live Video Complete]  0.146    0.481   0.304 0.761 -0.797  1.090\n",
      "C(Type)[T.Native Video]        -0.258    0.030  -8.443 0.000 -0.317 -0.198\n",
      "C(Type)[T.Photo]                0.072    0.058   1.237 0.216 -0.042  0.185\n",
      "C(Type)[T.Status]               0.123    0.341   0.360 0.719 -0.545  0.790\n",
      "C(Type)[T.Video]               -0.441    0.133  -3.319 0.001 -0.702 -0.181\n",
      "C(Type)[T.YouTube]             -0.571    1.073  -0.532 0.595 -2.674  1.532\n",
      "C(PN)[T.P]                      0.039    0.027   1.478 0.139 -0.013  0.092\n",
      "care_p                          0.603    0.358   1.682 0.093 -0.100  1.305\n",
      "fairness_p                     -2.777    0.419  -6.632 0.000 -3.598 -1.956\n",
      "loyalty_p                      -1.719    0.517  -3.328 0.001 -2.732 -0.707\n",
      "authority_p                     3.349    0.423   7.912 0.000  2.519  4.178\n",
      "sanctity_p                      1.350    0.415   3.252 0.001  0.536  2.164\n",
      "Followers_at_Posting            0.000    0.000  24.949 0.000  0.000  0.000\n",
      "Post_Created_Month             -0.030    0.002 -13.241 0.000 -0.034 -0.025\n",
      "Page_Created_Month              0.122    0.178   0.682 0.495 -0.228  0.472\n",
      "word_count                      0.022    0.003   7.406 0.000  0.016  0.028\n",
      "Facebook Id Var                 1.388    1.057                            \n",
      "==========================================================================\n",
      "\n",
      "Model:  4\n",
      "                  Mixed Linear Model Regression Results\n",
      "==========================================================================\n",
      "Model:                  MixedLM       Dependent Variable:       log_Likes \n",
      "No. Observations:       4986          Method:                   REML      \n",
      "No. Groups:             3             Scale:                    1.6548    \n",
      "Min. group size:        311           Log-Likelihood:           -8356.5144\n",
      "Max. group size:        3392          Converged:                Yes       \n",
      "Mean group size:        1662.0                                            \n",
      "--------------------------------------------------------------------------\n",
      "                                Coef.  Std.Err.   z    P>|z| [0.025 0.975]\n",
      "--------------------------------------------------------------------------\n",
      "Intercept                        6.995    2.418  2.893 0.004  2.255 11.736\n",
      "C(Type)[T.Live Video Complete]  -0.818    0.580 -1.412 0.158 -1.954  0.318\n",
      "C(Type)[T.Live Video Scheduled]  0.167    0.275  0.605 0.545 -0.373  0.707\n",
      "C(Type)[T.Native Video]          0.267    0.069  3.891 0.000  0.133  0.402\n",
      "C(Type)[T.Photo]                 1.735    0.090 19.258 0.000  1.558  1.911\n",
      "C(Type)[T.Status]               -1.061    0.915 -1.160 0.246 -2.853  0.732\n",
      "C(Type)[T.YouTube]               0.086    1.290  0.067 0.947 -2.443  2.615\n",
      "C(PN)[T.P]                      -0.038    0.065 -0.574 0.566 -0.166  0.091\n",
      "care_p                          -4.464    0.926 -4.819 0.000 -6.280 -2.649\n",
      "fairness_p                       1.528    1.145  1.334 0.182 -0.717  3.773\n",
      "loyalty_p                        2.869    1.298  2.211 0.027  0.325  5.412\n",
      "authority_p                      3.109    1.085  2.865 0.004  0.982  5.235\n",
      "sanctity_p                       1.710    1.223  1.398 0.162 -0.687  4.108\n",
      "Followers_at_Posting             0.000    0.000  0.315 0.753 -0.000  0.000\n",
      "Post_Created_Month               0.027    0.007  4.090 0.000  0.014  0.040\n",
      "Page_Created_Month              -0.193    0.292 -0.662 0.508 -0.765  0.379\n",
      "word_count                       0.040    0.006  6.323 0.000  0.028  0.053\n",
      "Facebook Id Var                  2.046    2.219                           \n",
      "==========================================================================\n",
      "\n",
      "Model:  5\n",
      "                  Mixed Linear Model Regression Results\n",
      "==========================================================================\n",
      "Model:                  MixedLM       Dependent Variable:       log_Likes \n",
      "No. Observations:       4285          Method:                   REML      \n",
      "No. Groups:             23            Scale:                    0.9017    \n",
      "Min. group size:        1             Log-Likelihood:           -5929.1844\n",
      "Max. group size:        1969          Converged:                Yes       \n",
      "Mean group size:        186.3                                             \n",
      "--------------------------------------------------------------------------\n",
      "                                Coef.  Std.Err.   z    P>|z| [0.025 0.975]\n",
      "--------------------------------------------------------------------------\n",
      "Intercept                        3.917    0.725  5.403 0.000  2.496  5.338\n",
      "C(Type)[T.Live Video Complete]  -0.442    0.321 -1.378 0.168 -1.071  0.187\n",
      "C(Type)[T.Live Video Scheduled] -1.413    0.363 -3.892 0.000 -2.124 -0.701\n",
      "C(Type)[T.Native Video]          0.076    0.088  0.867 0.386 -0.096  0.249\n",
      "C(Type)[T.Photo]                 0.369    0.077  4.829 0.000  0.219  0.519\n",
      "C(Type)[T.Status]               -1.126    0.758 -1.486 0.137 -2.612  0.359\n",
      "C(Type)[T.Video]                -0.073    0.953 -0.077 0.939 -1.941  1.794\n",
      "C(Type)[T.YouTube]               0.172    0.736  0.233 0.816 -1.270  1.614\n",
      "C(PN)[T.P]                      -0.049    0.050 -0.976 0.329 -0.148  0.050\n",
      "care_p                          -1.086    0.690 -1.574 0.116 -2.439  0.267\n",
      "fairness_p                       2.150    0.882  2.438 0.015  0.422  3.878\n",
      "loyalty_p                       -0.958    1.045 -0.916 0.360 -3.007  1.091\n",
      "authority_p                     -0.626    0.859 -0.729 0.466 -2.310  1.058\n",
      "sanctity_p                       1.898    0.853  2.225 0.026  0.226  3.569\n",
      "Followers_at_Posting             0.000    0.000  4.709 0.000  0.000  0.000\n",
      "Post_Created_Month              -0.017    0.005 -3.680 0.000 -0.026 -0.008\n",
      "Page_Created_Month              -0.010    0.095 -0.105 0.916 -0.197  0.177\n",
      "word_count                      -0.004    0.006 -0.643 0.520 -0.016  0.008\n",
      "Facebook Id Var                  2.160    0.803                           \n",
      "==========================================================================\n",
      "\n"
     ]
    }
   ],
   "source": [
    "# For full sample\n",
    "full_sample = smf.mixedlm(\"log_Likes ~ care_p + fairness_p + loyalty_p+authority_p + sanctity_p + Followers_at_Posting+\\\n",
    "                        Post_Created_Month+ Page_Created_Month  + word_count + C(Type) + C(PN) + C(LNC_category)\",\n",
    "data = df2.dropna(), groups= \"Facebook Id\").fit()\n",
    "print(\"Model: \", 1)\n",
    "print(full_sample.summary())\n",
    "\n",
    "# for sub groups\n",
    "i = 2\n",
    "Models_1 =[]\n",
    "for df in [liberal_data, neutral_data, conservative_data, science_data]:\n",
    "    model = smf.mixedlm(\"log_Likes ~ care_p + fairness_p + loyalty_p+authority_p + sanctity_p + Followers_at_Posting+\\\n",
    "                        Post_Created_Month+ Page_Created_Month  + word_count + C(Type) + C(PN)\",\n",
    "    data = df.dropna(), groups= \"Facebook Id\").fit()\n",
    "    Models_1.append(model)\n",
    "    print(\"Model: \", i)\n",
    "    print(model.summary())\n",
    "    i+=1\n",
    "    #Model 1: full sample \n",
    "    #Model 2: liberal\n",
    "    #Model 3: conservative\n",
    "    #Model 4: neutral \n",
    "    #Model 5: science channel "
   ]
  },
  {
   "cell_type": "code",
   "execution_count": null,
   "metadata": {},
   "outputs": [],
   "source": [
    "print('Model 1')\n",
    "print(summary_col([full_sample],stars=True))\n",
    "i = 2\n",
    "from statsmodels.iolib.summary2 import summary_col\n",
    "\n",
    "for reg in Models_1:\n",
    "    print(\"Model: \", i)\n",
    "    print(summary_col([reg],stars=True))\n",
    "    i +=1"
   ]
  },
  {
   "cell_type": "code",
   "execution_count": 17,
   "metadata": {},
   "outputs": [
    {
     "name": "stdout",
     "output_type": "stream",
     "text": [
      "Model:  1\n",
      "                  Mixed Linear Model Regression Results\n",
      "==========================================================================\n",
      "Model:                  MixedLM       Dependent Variable:       log_Likes \n",
      "No. Observations:       4285          Method:                   REML      \n",
      "No. Groups:             23            Scale:                    0.9017    \n",
      "Min. group size:        1             Log-Likelihood:           -5929.1844\n",
      "Max. group size:        1969          Converged:                Yes       \n",
      "Mean group size:        186.3                                             \n",
      "--------------------------------------------------------------------------\n",
      "                                Coef.  Std.Err.   z    P>|z| [0.025 0.975]\n",
      "--------------------------------------------------------------------------\n",
      "Intercept                        3.917    0.725  5.403 0.000  2.496  5.338\n",
      "C(Type)[T.Live Video Complete]  -0.442    0.321 -1.378 0.168 -1.071  0.187\n",
      "C(Type)[T.Live Video Scheduled] -1.413    0.363 -3.892 0.000 -2.124 -0.701\n",
      "C(Type)[T.Native Video]          0.076    0.088  0.867 0.386 -0.096  0.249\n",
      "C(Type)[T.Photo]                 0.369    0.077  4.829 0.000  0.219  0.519\n",
      "C(Type)[T.Status]               -1.126    0.758 -1.486 0.137 -2.612  0.359\n",
      "C(Type)[T.Video]                -0.073    0.953 -0.077 0.939 -1.941  1.794\n",
      "C(Type)[T.YouTube]               0.172    0.736  0.233 0.816 -1.270  1.614\n",
      "C(PN)[T.P]                      -0.049    0.050 -0.976 0.329 -0.148  0.050\n",
      "care_p                          -1.086    0.690 -1.574 0.116 -2.439  0.267\n",
      "fairness_p                       2.150    0.882  2.438 0.015  0.422  3.878\n",
      "loyalty_p                       -0.958    1.045 -0.916 0.360 -3.007  1.091\n",
      "authority_p                     -0.626    0.859 -0.729 0.466 -2.310  1.058\n",
      "sanctity_p                       1.898    0.853  2.225 0.026  0.226  3.569\n",
      "Followers_at_Posting             0.000    0.000  4.709 0.000  0.000  0.000\n",
      "Post_Created_Month              -0.017    0.005 -3.680 0.000 -0.026 -0.008\n",
      "Page_Created_Month              -0.010    0.095 -0.105 0.916 -0.197  0.177\n",
      "word_count                      -0.004    0.006 -0.643 0.520 -0.016  0.008\n",
      "Facebook Id Var                  2.160    0.803                           \n",
      "==========================================================================\n",
      "\n",
      "Model:  2\n",
      "                  Mixed Linear Model Regression Results\n",
      "==========================================================================\n",
      "Model:                  MixedLM      Dependent Variable:      log_comments\n",
      "No. Observations:       26721        Method:                  REML        \n",
      "No. Groups:             8            Scale:                   1.4611      \n",
      "Min. group size:        4            Log-Likelihood:          -43034.7908 \n",
      "Max. group size:        7326         Converged:               Yes         \n",
      "Mean group size:        3340.1                                            \n",
      "--------------------------------------------------------------------------\n",
      "                                Coef.  Std.Err.   z    P>|z| [0.025 0.975]\n",
      "--------------------------------------------------------------------------\n",
      "Intercept                        3.796    0.613  6.188 0.000  2.594  4.999\n",
      "C(Type)[T.Live Video Complete]  -0.851    0.112 -7.591 0.000 -1.070 -0.631\n",
      "C(Type)[T.Live Video Scheduled] -1.681    0.203 -8.298 0.000 -2.078 -1.284\n",
      "C(Type)[T.Native Video]         -0.259    0.030 -8.643 0.000 -0.318 -0.200\n",
      "C(Type)[T.Photo]                 0.194    0.059  3.275 0.001  0.078  0.310\n",
      "C(Type)[T.Status]               -0.125    0.279 -0.449 0.653 -0.671  0.421\n",
      "C(Type)[T.Video]                -0.780    0.699 -1.117 0.264 -2.150  0.589\n",
      "C(Type)[T.YouTube]              -4.744    1.209 -3.924 0.000 -7.114 -2.375\n",
      "C(PN)[T.P]                       0.125    0.025  4.987 0.000  0.076  0.174\n",
      "care_p                          -3.510    0.386 -9.102 0.000 -4.266 -2.754\n",
      "fairness_p                      -0.782    0.459 -1.703 0.088 -1.682  0.118\n",
      "loyalty_p                       -0.123    0.545 -0.227 0.821 -1.191  0.944\n",
      "authority_p                      4.307    0.466  9.240 0.000  3.393  5.220\n",
      "sanctity_p                      -0.441    0.488 -0.904 0.366 -1.397  0.515\n",
      "Followers_at_Posting             0.000    0.000  4.610 0.000  0.000  0.000\n",
      "Post_Created_Month               0.031    0.002 12.734 0.000  0.026  0.036\n",
      "Page_Created_Month               0.071    0.083  0.850 0.395 -0.093  0.235\n",
      "word_count                       0.031    0.002 12.664 0.000  0.026  0.036\n",
      "Facebook Id Var                  0.722    0.351                           \n",
      "==========================================================================\n",
      "\n",
      "Model:  3\n",
      "                  Mixed Linear Model Regression Results\n",
      "=========================================================================\n",
      "Model:                 MixedLM      Dependent Variable:      log_comments\n",
      "No. Observations:      25471        Method:                  REML        \n",
      "No. Groups:            5            Scale:                   2.3862      \n",
      "Min. group size:       5            Log-Likelihood:          -47250.3828 \n",
      "Max. group size:       17753        Converged:               Yes         \n",
      "Mean group size:       5094.2                                            \n",
      "-------------------------------------------------------------------------\n",
      "                               Coef.  Std.Err.   z    P>|z| [0.025 0.975]\n",
      "-------------------------------------------------------------------------\n",
      "Intercept                       2.247    0.436  5.154 0.000  1.392  3.101\n",
      "C(Type)[T.Live Video Complete]  1.574    0.693  2.271 0.023  0.216  2.932\n",
      "C(Type)[T.Native Video]        -0.079    0.044 -1.800 0.072 -0.165  0.007\n",
      "C(Type)[T.Photo]                0.602    0.083  7.205 0.000  0.438  0.765\n",
      "C(Type)[T.Status]               0.404    0.491  0.824 0.410 -0.557  1.366\n",
      "C(Type)[T.Video]               -0.324    0.191 -1.691 0.091 -0.699  0.051\n",
      "C(Type)[T.YouTube]              1.752    1.545  1.134 0.257 -1.276  4.780\n",
      "C(PN)[T.P]                      0.140    0.038  3.637 0.000  0.064  0.215\n",
      "care_p                         -0.039    0.516 -0.076 0.939 -1.050  0.972\n",
      "fairness_p                     -4.856    0.603 -8.056 0.000 -6.038 -3.675\n",
      "loyalty_p                      -2.384    0.744 -3.206 0.001 -3.842 -0.927\n",
      "authority_p                     5.223    0.609  8.571 0.000  4.029  6.417\n",
      "sanctity_p                      1.252    0.598  2.094 0.036  0.080  2.424\n",
      "Followers_at_Posting            0.000    0.000  8.691 0.000  0.000  0.000\n",
      "Post_Created_Month             -0.010    0.003 -3.007 0.003 -0.016 -0.003\n",
      "Page_Created_Month             -0.039    0.104 -0.375 0.707 -0.243  0.165\n",
      "word_count                      0.040    0.004  9.276 0.000  0.032  0.049\n",
      "Facebook Id Var                 0.190    0.125                           \n",
      "=========================================================================\n",
      "\n",
      "Model:  4\n",
      "                  Mixed Linear Model Regression Results\n",
      "==========================================================================\n",
      "Model:                  MixedLM      Dependent Variable:      log_comments\n",
      "No. Observations:       4986         Method:                  REML        \n",
      "No. Groups:             3            Scale:                   1.2691      \n",
      "Min. group size:        311          Log-Likelihood:          -7697.1129  \n",
      "Max. group size:        3392         Converged:               Yes         \n",
      "Mean group size:        1662.0                                            \n",
      "--------------------------------------------------------------------------\n",
      "                                Coef.  Std.Err.   z    P>|z| [0.025 0.975]\n",
      "--------------------------------------------------------------------------\n",
      "Intercept                        5.687    2.071  2.746 0.006  1.628  9.745\n",
      "C(Type)[T.Live Video Complete]  -0.681    0.508 -1.341 0.180 -1.676  0.314\n",
      "C(Type)[T.Live Video Scheduled] -0.463    0.241 -1.918 0.055 -0.936  0.010\n",
      "C(Type)[T.Native Video]         -0.432    0.060 -7.177 0.000 -0.550 -0.314\n",
      "C(Type)[T.Photo]                 0.503    0.079  6.380 0.000  0.349  0.658\n",
      "C(Type)[T.Status]               -2.602    0.801 -3.249 0.001 -4.172 -1.033\n",
      "C(Type)[T.YouTube]              -0.716    1.130 -0.633 0.527 -2.930  1.499\n",
      "C(PN)[T.P]                       0.190    0.057  3.307 0.001  0.077  0.302\n",
      "care_p                          -4.320    0.811 -5.325 0.000 -5.909 -2.730\n",
      "fairness_p                       0.290    1.003  0.290 0.772 -1.675  2.256\n",
      "loyalty_p                       -0.045    1.136 -0.040 0.968 -2.272  2.182\n",
      "authority_p                      5.161    0.950  5.432 0.000  3.299  7.024\n",
      "sanctity_p                      -1.023    1.071 -0.955 0.340 -3.122  1.077\n",
      "Followers_at_Posting             0.000    0.000  3.906 0.000  0.000  0.000\n",
      "Post_Created_Month               0.034    0.006  5.816 0.000  0.022  0.045\n",
      "Page_Created_Month              -0.034    0.250 -0.137 0.891 -0.524  0.455\n",
      "word_count                       0.007    0.006  1.310 0.190 -0.004  0.018\n",
      "Facebook Id Var                  1.497    1.873                           \n",
      "==========================================================================\n",
      "\n",
      "Model:  5\n",
      "                  Mixed Linear Model Regression Results\n",
      "==========================================================================\n",
      "Model:                  MixedLM      Dependent Variable:      log_comments\n",
      "No. Observations:       4285         Method:                  REML        \n",
      "No. Groups:             23           Scale:                   2.1441      \n",
      "Min. group size:        1            Log-Likelihood:          -7765.0956  \n",
      "Max. group size:        1969         Converged:               Yes         \n",
      "Mean group size:        186.3                                             \n",
      "--------------------------------------------------------------------------\n",
      "                                Coef.  Std.Err.   z    P>|z| [0.025 0.975]\n",
      "--------------------------------------------------------------------------\n",
      "Intercept                        2.405    0.620  3.881 0.000  1.190  3.619\n",
      "C(Type)[T.Live Video Complete]   1.039    0.495  2.100 0.036  0.069  2.008\n",
      "C(Type)[T.Live Video Scheduled] -1.028    0.560 -1.836 0.066 -2.125  0.069\n",
      "C(Type)[T.Native Video]         -0.394    0.135 -2.916 0.004 -0.659 -0.129\n",
      "C(Type)[T.Photo]                -0.111    0.118 -0.943 0.346 -0.342  0.120\n",
      "C(Type)[T.Status]               -1.058    1.124 -0.941 0.347 -3.260  1.145\n",
      "C(Type)[T.Video]                -1.208    1.469 -0.822 0.411 -4.087  1.671\n",
      "C(Type)[T.YouTube]              -1.709    1.112 -1.537 0.124 -3.888  0.470\n",
      "C(PN)[T.P]                       0.136    0.078  1.754 0.079 -0.016  0.288\n",
      "care_p                           0.429    1.064  0.403 0.687 -1.656  2.514\n",
      "fairness_p                      -1.755    1.359 -1.291 0.197 -4.418  0.909\n",
      "loyalty_p                        0.599    1.612  0.372 0.710 -2.560  3.758\n",
      "authority_p                      3.775    1.324  2.851 0.004  1.179  6.370\n",
      "sanctity_p                       0.424    1.314  0.323 0.747 -2.151  3.000\n",
      "Followers_at_Posting             0.000    0.000  3.055 0.002  0.000  0.000\n",
      "Post_Created_Month              -0.005    0.007 -0.720 0.472 -0.019  0.009\n",
      "Page_Created_Month              -0.060    0.079 -0.768 0.442 -0.214  0.094\n",
      "word_count                       0.034    0.009  3.649 0.000  0.016  0.052\n",
      "Facebook Id Var                  1.359    0.336                           \n",
      "==========================================================================\n",
      "\n"
     ]
    }
   ],
   "source": [
    "# For full sample\n",
    "full_sample = smf.mixedlm(\"log_comments ~ care_p + fairness_p + loyalty_p+authority_p + sanctity_p + Followers_at_Posting+\\\n",
    "                        Post_Created_Month+ Page_Created_Month  + word_count + C(Type) + C(PN) + C(LNC_category)\",\n",
    "data = df2.dropna(), groups= \"Facebook Id\").fit()\n",
    "print(\"Model: \", 1)\n",
    "print(model.summary())\n",
    "    \n",
    "# for sub-groups    \n",
    "i = 2\n",
    "Models_2 = []\n",
    "for df in [liberal_data, neutral_data, conservative_data, science_data]:\n",
    "    model = smf.mixedlm(\"log_comments ~ care_p + fairness_p + loyalty_p+authority_p +  sanctity_p + Followers_at_Posting+\\\n",
    "                        Post_Created_Month+ Page_Created_Month + word_count  + C(Type) + C(PN)\",\n",
    "    data = df.dropna(), groups= \"Facebook Id\").fit()\n",
    "    Models_2.append(model)\n",
    "    print(\"Model: \", i)\n",
    "    print(model.summary())\n",
    "    i+=1\n",
    "    #Model 1: full sample \n",
    "    #Model 2: liberal\n",
    "    #Model 3: conservative\n",
    "    #Model 4: neutral \n",
    "    #Model 5: science channel "
   ]
  },
  {
   "cell_type": "code",
   "execution_count": 18,
   "metadata": {},
   "outputs": [
    {
     "name": "stdout",
     "output_type": "stream",
     "text": [
      "Model 1\n",
      "\n",
      "============================================\n",
      "                                log_comments\n",
      "--------------------------------------------\n",
      "Intercept                       5.4394***   \n",
      "                                (0.6940)    \n",
      "C(Type)[T.Live Video Complete]  -0.5531***  \n",
      "                                (0.1171)    \n",
      "C(Type)[T.Live Video Scheduled] -1.1104***  \n",
      "                                (0.1708)    \n",
      "C(Type)[T.Native Video]         -0.2051***  \n",
      "                                (0.0236)    \n",
      "C(Type)[T.Photo]                0.3583***   \n",
      "                                (0.0389)    \n",
      "C(Type)[T.Status]               -0.1468     \n",
      "                                (0.2412)    \n",
      "C(Type)[T.Video]                -0.3614**   \n",
      "                                (0.1652)    \n",
      "C(Type)[T.YouTube]              -1.3162**   \n",
      "                                (0.6297)    \n",
      "C(PN)[T.P]                      0.1360***   \n",
      "                                (0.0201)    \n",
      "C(LNC_category)[T.liberal]      -1.2418*    \n",
      "                                (0.6789)    \n",
      "C(LNC_category)[T.neutral]      -2.2688***  \n",
      "                                (0.7590)    \n",
      "C(LNC_category)[T.science]      -3.0488***  \n",
      "                                (0.6252)    \n",
      "care_p                          -1.9155***  \n",
      "                                (0.2886)    \n",
      "fairness_p                      -2.6591***  \n",
      "                                (0.3430)    \n",
      "loyalty_p                       -0.9086**   \n",
      "                                (0.4128)    \n",
      "authority_p                     4.8530***   \n",
      "                                (0.3448)    \n",
      "sanctity_p                      0.4885      \n",
      "                                (0.3515)    \n",
      "Followers_at_Posting            0.0000***   \n",
      "                                (0.0000)    \n",
      "Post_Created_Month              0.0124***   \n",
      "                                (0.0018)    \n",
      "Page_Created_Month              -0.0518     \n",
      "                                (0.0503)    \n",
      "word_count                      0.0323***   \n",
      "                                (0.0021)    \n",
      "Facebook Id Var                 0.5210***   \n",
      "                                (0.1397)    \n",
      "============================================\n",
      "Standard errors in parentheses.\n",
      "* p<.1, ** p<.05, ***p<.01\n",
      "Model:  2\n",
      "\n",
      "============================================\n",
      "                                log_comments\n",
      "--------------------------------------------\n",
      "Intercept                       3.7961***   \n",
      "                                (0.6135)    \n",
      "C(Type)[T.Live Video Complete]  -0.8508***  \n",
      "                                (0.1121)    \n",
      "C(Type)[T.Live Video Scheduled] -1.6813***  \n",
      "                                (0.2026)    \n",
      "C(Type)[T.Native Video]         -0.2593***  \n",
      "                                (0.0300)    \n",
      "C(Type)[T.Photo]                0.1941***   \n",
      "                                (0.0592)    \n",
      "C(Type)[T.Status]               -0.1252     \n",
      "                                (0.2786)    \n",
      "C(Type)[T.Video]                -0.7804     \n",
      "                                (0.6987)    \n",
      "C(Type)[T.YouTube]              -4.7443***  \n",
      "                                (1.2089)    \n",
      "C(PN)[T.P]                      0.1252***   \n",
      "                                (0.0251)    \n",
      "care_p                          -3.5101***  \n",
      "                                (0.3857)    \n",
      "fairness_p                      -0.7821*    \n",
      "                                (0.4592)    \n",
      "loyalty_p                       -0.1235     \n",
      "                                (0.5449)    \n",
      "authority_p                     4.3068***   \n",
      "                                (0.4661)    \n",
      "sanctity_p                      -0.4412     \n",
      "                                (0.4879)    \n",
      "Followers_at_Posting            0.0000***   \n",
      "                                (0.0000)    \n",
      "Post_Created_Month              0.0310***   \n",
      "                                (0.0024)    \n",
      "Page_Created_Month              0.0710      \n",
      "                                (0.0835)    \n",
      "word_count                      0.0313***   \n",
      "                                (0.0025)    \n",
      "Facebook Id Var                 0.4940*     \n",
      "                                (0.2901)    \n",
      "============================================\n",
      "Standard errors in parentheses.\n",
      "* p<.1, ** p<.05, ***p<.01\n",
      "Model:  3\n",
      "\n",
      "===========================================\n",
      "                               log_comments\n",
      "-------------------------------------------\n",
      "Intercept                      2.2469***   \n",
      "                               (0.4360)    \n",
      "C(Type)[T.Live Video Complete] 1.5739**    \n",
      "                               (0.6930)    \n",
      "C(Type)[T.Native Video]        -0.0790*    \n",
      "                               (0.0439)    \n",
      "C(Type)[T.Photo]               0.6016***   \n",
      "                               (0.0835)    \n",
      "C(Type)[T.Status]              0.4043      \n",
      "                               (0.4905)    \n",
      "C(Type)[T.Video]               -0.3237*    \n",
      "                               (0.1914)    \n",
      "C(Type)[T.YouTube]             1.7521      \n",
      "                               (1.5450)    \n",
      "C(PN)[T.P]                     0.1395***   \n",
      "                               (0.0384)    \n",
      "care_p                         -0.0393     \n",
      "                               (0.5158)    \n",
      "fairness_p                     -4.8563***  \n",
      "                               (0.6029)    \n",
      "loyalty_p                      -2.3844***  \n",
      "                               (0.7437)    \n",
      "authority_p                    5.2229***   \n",
      "                               (0.6094)    \n",
      "sanctity_p                     1.2518**    \n",
      "                               (0.5979)    \n",
      "Followers_at_Posting           0.0000***   \n",
      "                               (0.0000)    \n",
      "Post_Created_Month             -0.0097***  \n",
      "                               (0.0032)    \n",
      "Page_Created_Month             -0.0391     \n",
      "                               (0.1040)    \n",
      "word_count                     0.0401***   \n",
      "                               (0.0043)    \n",
      "Facebook Id Var                0.0795      \n",
      "                               (0.0808)    \n",
      "===========================================\n",
      "Standard errors in parentheses.\n",
      "* p<.1, ** p<.05, ***p<.01\n",
      "Model:  4\n",
      "\n",
      "============================================\n",
      "                                log_comments\n",
      "--------------------------------------------\n",
      "Intercept                       5.6866***   \n",
      "                                (2.0709)    \n",
      "C(Type)[T.Live Video Complete]  -0.6808     \n",
      "                                (0.5076)    \n",
      "C(Type)[T.Live Video Scheduled] -0.4627*    \n",
      "                                (0.2412)    \n",
      "C(Type)[T.Native Video]         -0.4319***  \n",
      "                                (0.0602)    \n",
      "C(Type)[T.Photo]                0.5033***   \n",
      "                                (0.0789)    \n",
      "C(Type)[T.Status]               -2.6024***  \n",
      "                                (0.8009)    \n",
      "C(Type)[T.YouTube]              -0.7155     \n",
      "                                (1.1299)    \n",
      "C(PN)[T.P]                      0.1896***   \n",
      "                                (0.0573)    \n",
      "care_p                          -4.3196***  \n",
      "                                (0.8112)    \n",
      "fairness_p                      0.2904      \n",
      "                                (1.0030)    \n",
      "loyalty_p                       -0.0450     \n",
      "                                (1.1363)    \n",
      "authority_p                     5.1615***   \n",
      "                                (0.9501)    \n",
      "sanctity_p                      -1.0226     \n",
      "                                (1.0713)    \n",
      "Followers_at_Posting            0.0000***   \n",
      "                                (0.0000)    \n",
      "Post_Created_Month              0.0339***   \n",
      "                                (0.0058)    \n",
      "Page_Created_Month              -0.0342     \n",
      "                                (0.2498)    \n",
      "word_count                      0.0073      \n",
      "                                (0.0056)    \n",
      "Facebook Id Var                 1.1795      \n",
      "                                (1.6627)    \n",
      "============================================\n",
      "Standard errors in parentheses.\n",
      "* p<.1, ** p<.05, ***p<.01\n",
      "Model:  5\n",
      "\n",
      "============================================\n",
      "                                log_comments\n",
      "--------------------------------------------\n",
      "Intercept                       2.4048***   \n",
      "                                (0.6196)    \n",
      "C(Type)[T.Live Video Complete]  1.0386**    \n",
      "                                (0.4946)    \n",
      "C(Type)[T.Live Video Scheduled] -1.0278*    \n",
      "                                (0.5597)    \n",
      "C(Type)[T.Native Video]         -0.3941***  \n",
      "                                (0.1351)    \n",
      "C(Type)[T.Photo]                -0.1110     \n",
      "                                (0.1178)    \n",
      "C(Type)[T.Status]               -1.0576     \n",
      "                                (1.1237)    \n",
      "C(Type)[T.Video]                -1.2077     \n",
      "                                (1.4690)    \n",
      "C(Type)[T.YouTube]              -1.7090     \n",
      "                                (1.1119)    \n",
      "C(PN)[T.P]                      0.1362*     \n",
      "                                (0.0777)    \n",
      "care_p                          0.4291      \n",
      "                                (1.0638)    \n",
      "fairness_p                      -1.7547     \n",
      "                                (1.3591)    \n",
      "loyalty_p                       0.5988      \n",
      "                                (1.6117)    \n",
      "authority_p                     3.7746***   \n",
      "                                (1.3241)    \n",
      "sanctity_p                      0.4245      \n",
      "                                (1.3139)    \n",
      "Followers_at_Posting            0.0000***   \n",
      "                                (0.0000)    \n",
      "Post_Created_Month              -0.0052     \n",
      "                                (0.0072)    \n",
      "Page_Created_Month              -0.0604     \n",
      "                                (0.0786)    \n",
      "word_count                      0.0335***   \n",
      "                                (0.0092)    \n",
      "Facebook Id Var                 0.6339***   \n",
      "                                (0.2291)    \n",
      "============================================\n",
      "Standard errors in parentheses.\n",
      "* p<.1, ** p<.05, ***p<.01\n"
     ]
    }
   ],
   "source": [
    "print('Model 1')\n",
    "print(summary_col([full_sample],stars=True))\n",
    "i = 2\n",
    "for reg in Models_2:\n",
    "    print(\"Model: \", i)\n",
    "    print(summary_col([reg],stars=True))\n",
    "    i +=1"
   ]
  },
  {
   "cell_type": "code",
   "execution_count": 19,
   "metadata": {},
   "outputs": [
    {
     "name": "stdout",
     "output_type": "stream",
     "text": [
      "Model:  1\n",
      "                   Mixed Linear Model Regression Results\n",
      "===========================================================================\n",
      "Model:                   MixedLM      Dependent Variable:      log_Angry   \n",
      "No. Observations:        61463        Method:                  REML        \n",
      "No. Groups:              39           Scale:                   3.7734      \n",
      "Min. group size:         1            Log-Likelihood:          -128142.3395\n",
      "Max. group size:         17753        Converged:               Yes         \n",
      "Mean group size:         1576.0                                            \n",
      "---------------------------------------------------------------------------\n",
      "                                Coef.  Std.Err.    z    P>|z| [0.025 0.975]\n",
      "---------------------------------------------------------------------------\n",
      "Intercept                        1.357    1.299   1.045 0.296 -1.188  3.903\n",
      "C(Type)[T.Live Video Complete]  -1.060    0.166  -6.403 0.000 -1.385 -0.736\n",
      "C(Type)[T.Live Video Scheduled] -1.318    0.241  -5.459 0.000 -1.792 -0.845\n",
      "C(Type)[T.Native Video]         -0.472    0.033 -14.170 0.000 -0.538 -0.407\n",
      "C(Type)[T.Photo]                 0.091    0.055   1.656 0.098 -0.017  0.199\n",
      "C(Type)[T.Status]               -0.428    0.341  -1.254 0.210 -1.097  0.241\n",
      "C(Type)[T.Video]                -0.301    0.234  -1.289 0.197 -0.759  0.157\n",
      "C(Type)[T.YouTube]              -0.814    0.893  -0.911 0.362 -2.565  0.937\n",
      "C(PN)[T.P]                       0.170    0.028   6.007 0.000  0.115  0.226\n",
      "C(LNC_category)[T.liberal]      -1.724    1.275  -1.352 0.176 -4.223  0.776\n",
      "C(LNC_category)[T.neutral]      -2.160    1.418  -1.523 0.128 -4.940  0.619\n",
      "C(LNC_category)[T.science]      -3.826    1.171  -3.267 0.001 -6.121 -1.531\n",
      "care_p                          -4.334    0.408 -10.622 0.000 -5.134 -3.534\n",
      "fairness_p                       4.792    0.485   9.883 0.000  3.841  5.742\n",
      "loyalty_p                       -2.718    0.584  -4.658 0.000 -3.861 -1.574\n",
      "authority_p                     11.958    0.487  24.530 0.000 11.002 12.913\n",
      "sanctity_p                      -3.016    0.497  -6.070 0.000 -3.990 -2.042\n",
      "Followers_at_Posting             0.000    0.000  15.517 0.000  0.000  0.000\n",
      "Post_Created_Month               0.027    0.003  10.301 0.000  0.022  0.032\n",
      "Page_Created_Month              -0.075    0.093  -0.804 0.421 -0.257  0.107\n",
      "word_count                       0.064    0.003  21.781 0.000  0.058  0.070\n",
      "Facebook Id Var                  3.488    0.526                            \n",
      "===========================================================================\n",
      "\n",
      "Model:  2\n",
      "                  Mixed Linear Model Regression Results\n",
      "==========================================================================\n",
      "Model:                   MixedLM      Dependent Variable:      log_Angry  \n",
      "No. Observations:        26721        Method:                  REML       \n",
      "No. Groups:              8            Scale:                   5.1179     \n",
      "Min. group size:         4            Log-Likelihood:          -59768.2062\n",
      "Max. group size:         7326         Converged:               Yes        \n",
      "Mean group size:         3340.1                                           \n",
      "--------------------------------------------------------------------------\n",
      "                                Coef.  Std.Err.   z    P>|z| [0.025 0.975]\n",
      "--------------------------------------------------------------------------\n",
      "Intercept                        1.043    0.635  1.644 0.100 -0.201  2.287\n",
      "C(Type)[T.Live Video Complete]  -1.363    0.210 -6.501 0.000 -1.774 -0.952\n",
      "C(Type)[T.Live Video Scheduled] -2.737    0.379 -7.219 0.000 -3.481 -1.994\n",
      "C(Type)[T.Native Video]         -0.518    0.056 -9.225 0.000 -0.628 -0.408\n",
      "C(Type)[T.Photo]                -0.088    0.111 -0.798 0.425 -0.306  0.129\n",
      "C(Type)[T.Status]               -0.680    0.521 -1.305 0.192 -1.702  0.342\n",
      "C(Type)[T.Video]                 0.466    1.308  0.356 0.722 -2.097  3.029\n",
      "C(Type)[T.YouTube]              -3.258    2.263 -1.440 0.150 -7.693  1.176\n",
      "C(PN)[T.P]                       0.201    0.047  4.274 0.000  0.109  0.293\n",
      "care_p                          -6.171    0.722 -8.550 0.000 -7.586 -4.757\n",
      "fairness_p                       7.241    0.859  8.427 0.000  5.557  8.925\n",
      "loyalty_p                       -3.657    1.020 -3.587 0.000 -5.656 -1.659\n",
      "authority_p                     13.280    0.872 15.224 0.000 11.570 14.990\n",
      "sanctity_p                      -5.377    0.913 -5.889 0.000 -7.167 -3.588\n",
      "Followers_at_Posting             0.000    0.000  3.813 0.000  0.000  0.000\n",
      "Post_Created_Month               0.060    0.005 13.163 0.000  0.051  0.069\n",
      "Page_Created_Month              -0.084    0.088 -0.946 0.344 -0.257  0.090\n",
      "word_count                       0.076    0.005 16.480 0.000  0.067  0.085\n",
      "Facebook Id Var                  0.716    0.211                           \n",
      "==========================================================================\n",
      "\n",
      "Model:  3\n",
      "                  Mixed Linear Model Regression Results\n",
      "=========================================================================\n",
      "Model:                  MixedLM      Dependent Variable:      log_Angry  \n",
      "No. Observations:       25471        Method:                  REML       \n",
      "No. Groups:             5            Scale:                   2.3804     \n",
      "Min. group size:        5            Log-Likelihood:          -47223.2951\n",
      "Max. group size:        17753        Converged:               Yes        \n",
      "Mean group size:        5094.2                                           \n",
      "-------------------------------------------------------------------------\n",
      "                               Coef.  Std.Err.   z    P>|z| [0.025 0.975]\n",
      "-------------------------------------------------------------------------\n",
      "Intercept                      -3.224    1.194 -2.700 0.007 -5.565 -0.883\n",
      "C(Type)[T.Live Video Complete]  1.760    0.692  2.543 0.011  0.404  3.117\n",
      "C(Type)[T.Native Video]        -0.346    0.044 -7.881 0.000 -0.432 -0.260\n",
      "C(Type)[T.Photo]                0.348    0.083  4.171 0.000  0.184  0.511\n",
      "C(Type)[T.Status]              -0.094    0.490 -0.192 0.847 -1.054  0.866\n",
      "C(Type)[T.Video]               -0.294    0.191 -1.536 0.124 -0.668  0.081\n",
      "C(Type)[T.YouTube]             -1.118    1.543 -0.724 0.469 -4.142  1.907\n",
      "C(PN)[T.P]                      0.117    0.038  3.056 0.002  0.042  0.192\n",
      "care_p                         -1.704    0.515 -3.307 0.001 -2.714 -0.694\n",
      "fairness_p                      2.320    0.602  3.852 0.000  1.139  3.500\n",
      "loyalty_p                      -2.203    0.743 -2.965 0.003 -3.658 -0.747\n",
      "authority_p                     9.435    0.609 15.501 0.000  8.242 10.627\n",
      "sanctity_p                     -1.972    0.597 -3.303 0.001 -3.143 -0.802\n",
      "Followers_at_Posting            0.000    0.000 22.863 0.000  0.000  0.000\n",
      "Post_Created_Month             -0.004    0.003 -1.202 0.230 -0.010  0.002\n",
      "Page_Created_Month              0.001    0.236  0.006 0.996 -0.462  0.464\n",
      "word_count                      0.049    0.004 11.425 0.000  0.041  0.058\n",
      "Facebook Id Var                 2.380    1.262                           \n",
      "=========================================================================\n",
      "\n",
      "Model:  4\n",
      "                   Mixed Linear Model Regression Results\n",
      "===========================================================================\n",
      "Model:                  MixedLM       Dependent Variable:       log_Angry  \n",
      "No. Observations:       4986          Method:                   REML       \n",
      "No. Groups:             3             Scale:                    5.5398     \n",
      "Min. group size:        311           Log-Likelihood:           -11357.9863\n",
      "Max. group size:        3392          Converged:                Yes        \n",
      "Mean group size:        1662.0                                             \n",
      "---------------------------------------------------------------------------\n",
      "                                Coef.  Std.Err.   z    P>|z|  [0.025 0.975]\n",
      "---------------------------------------------------------------------------\n",
      "Intercept                       -8.066    2.757 -2.925 0.003 -13.471 -2.662\n",
      "C(Type)[T.Live Video Complete]  -0.241    1.060 -0.227 0.820  -2.319  1.838\n",
      "C(Type)[T.Live Video Scheduled]  0.554    0.504  1.099 0.272  -0.434  1.542\n",
      "C(Type)[T.Native Video]         -0.864    0.126 -6.867 0.000  -1.110 -0.617\n",
      "C(Type)[T.Photo]                -0.055    0.165 -0.336 0.737  -0.379  0.268\n",
      "C(Type)[T.Status]                0.670    1.673  0.401 0.689  -2.609  3.950\n",
      "C(Type)[T.YouTube]               0.462    2.361  0.196 0.845  -4.165  5.089\n",
      "C(PN)[T.P]                       0.517    0.120  4.312 0.000   0.282  0.751\n",
      "care_p                          -9.526    1.695 -5.620 0.000 -12.848 -6.204\n",
      "fairness_p                      10.484    2.096  5.003 0.000   6.377 14.591\n",
      "loyalty_p                       -4.714    2.374 -1.985 0.047  -9.367 -0.061\n",
      "authority_p                     18.747    1.985  9.444 0.000  14.856 22.637\n",
      "sanctity_p                      -1.862    2.238 -0.832 0.405  -6.249  2.525\n",
      "Followers_at_Posting             0.000    0.000 11.120 0.000   0.000  0.000\n",
      "Post_Created_Month              -0.011    0.012 -0.865 0.387  -0.034  0.013\n",
      "Page_Created_Month               0.916    0.326  2.808 0.005   0.277  1.555\n",
      "word_count                       0.049    0.012  4.176 0.000   0.026  0.072\n",
      "Facebook Id Var                  2.436    1.520                            \n",
      "===========================================================================\n",
      "\n",
      "Model:  5\n",
      "                  Mixed Linear Model Regression Results\n",
      "==========================================================================\n",
      "Model:                  MixedLM       Dependent Variable:       log_Angry \n",
      "No. Observations:       4285          Method:                   REML      \n",
      "No. Groups:             23            Scale:                    1.0287    \n",
      "Min. group size:        1             Log-Likelihood:           -6187.1286\n",
      "Max. group size:        1969          Converged:                Yes       \n",
      "Mean group size:        186.3                                             \n",
      "--------------------------------------------------------------------------\n",
      "                                Coef.  Std.Err.   z    P>|z| [0.025 0.975]\n",
      "--------------------------------------------------------------------------\n",
      "Intercept                       -0.106    0.250 -0.423 0.672 -0.595  0.384\n",
      "C(Type)[T.Live Video Complete]   0.084    0.343  0.244 0.807 -0.588  0.755\n",
      "C(Type)[T.Live Video Scheduled] -0.463    0.388 -1.193 0.233 -1.222  0.297\n",
      "C(Type)[T.Native Video]         -0.412    0.092 -4.463 0.000 -0.592 -0.231\n",
      "C(Type)[T.Photo]                -0.281    0.081 -3.460 0.001 -0.440 -0.122\n",
      "C(Type)[T.Status]               -0.817    0.744 -1.098 0.272 -2.275  0.641\n",
      "C(Type)[T.Video]                -1.083    1.018 -1.064 0.287 -3.077  0.911\n",
      "C(Type)[T.YouTube]              -0.524    0.744 -0.703 0.482 -1.982  0.935\n",
      "C(PN)[T.P]                      -0.089    0.054 -1.646 0.100 -0.194  0.017\n",
      "care_p                           1.179    0.736  1.601 0.109 -0.265  2.622\n",
      "fairness_p                       0.257    0.941  0.274 0.784 -1.587  2.101\n",
      "loyalty_p                        2.978    1.116  2.668 0.008  0.790  5.165\n",
      "authority_p                      5.860    0.917  6.392 0.000  4.064  7.657\n",
      "sanctity_p                      -3.721    0.909 -4.092 0.000 -5.503 -1.939\n",
      "Followers_at_Posting             0.000    0.000  3.487 0.000  0.000  0.000\n",
      "Post_Created_Month              -0.014    0.005 -2.815 0.005 -0.024 -0.004\n",
      "Page_Created_Month              -0.026    0.029 -0.896 0.370 -0.083  0.031\n",
      "word_count                       0.024    0.006  3.742 0.000  0.011  0.036\n",
      "Facebook Id Var                  0.157    0.063                           \n",
      "==========================================================================\n",
      "\n"
     ]
    }
   ],
   "source": [
    "# For full sample\n",
    "full_sample = smf.mixedlm(\"log_Angry ~ care_p + fairness_p + loyalty_p+authority_p + sanctity_p + Followers_at_Posting+\\\n",
    "                        Post_Created_Month+ Page_Created_Month  + word_count + C(Type) + C(PN) + C(LNC_category)\",\n",
    "data = df2.dropna(), groups= \"Facebook Id\").fit()\n",
    "print(\"Model: \", 1)\n",
    "print(full_sample.summary())\n",
    "    \n",
    "# for sub-groups    \n",
    "i = 2\n",
    "Models_3 = []\n",
    "for df in [liberal_data, neutral_data, conservative_data, science_data]:\n",
    "    model = smf.mixedlm(\"log_Angry ~ care_p + fairness_p + loyalty_p+authority_p + sanctity_p + Followers_at_Posting+\\\n",
    "                        Post_Created_Month+ Page_Created_Month  + word_count  +  C(Type) + C(PN)\",\n",
    "    data = df.dropna(), groups= \"Facebook Id\").fit()\n",
    "    Models_3.append(model)\n",
    "    print(\"Model: \", i)\n",
    "    print(model.summary())\n",
    "    i+=1\n",
    "    #Model 1: full sample \n",
    "    #Model 2: liberal\n",
    "    #Model 3: conservative\n",
    "    #Model 4: neutral \n",
    "    #Model 5: science channel "
   ]
  },
  {
   "cell_type": "markdown",
   "metadata": {},
   "source": [
    "### Intercept and P-values for sub-group Regression 3:"
   ]
  },
  {
   "cell_type": "code",
   "execution_count": 20,
   "metadata": {},
   "outputs": [
    {
     "name": "stdout",
     "output_type": "stream",
     "text": [
      "Model 1\n",
      "\n",
      "==========================================\n",
      "                                log_Angry \n",
      "------------------------------------------\n",
      "Intercept                       1.3575    \n",
      "                                (1.2985)  \n",
      "C(Type)[T.Live Video Complete]  -1.0605***\n",
      "                                (0.1656)  \n",
      "C(Type)[T.Live Video Scheduled] -1.3182***\n",
      "                                (0.2415)  \n",
      "C(Type)[T.Native Video]         -0.4723***\n",
      "                                (0.0333)  \n",
      "C(Type)[T.Photo]                0.0912*   \n",
      "                                (0.0550)  \n",
      "C(Type)[T.Status]               -0.4279   \n",
      "                                (0.3413)  \n",
      "C(Type)[T.Video]                -0.3011   \n",
      "                                (0.2336)  \n",
      "C(Type)[T.YouTube]              -0.8142   \n",
      "                                (0.8933)  \n",
      "C(PN)[T.P]                      0.1704*** \n",
      "                                (0.0284)  \n",
      "C(LNC_category)[T.liberal]      -1.7236   \n",
      "                                (1.2752)  \n",
      "C(LNC_category)[T.neutral]      -2.1602   \n",
      "                                (1.4181)  \n",
      "C(LNC_category)[T.science]      -3.8256***\n",
      "                                (1.1709)  \n",
      "care_p                          -4.3338***\n",
      "                                (0.4080)  \n",
      "fairness_p                      4.7918*** \n",
      "                                (0.4848)  \n",
      "loyalty_p                       -2.7178***\n",
      "                                (0.5835)  \n",
      "authority_p                     11.9578***\n",
      "                                (0.4875)  \n",
      "sanctity_p                      -3.0160***\n",
      "                                (0.4969)  \n",
      "Followers_at_Posting            0.0000*** \n",
      "                                (0.0000)  \n",
      "Post_Created_Month              0.0268*** \n",
      "                                (0.0026)  \n",
      "Page_Created_Month              -0.0747   \n",
      "                                (0.0929)  \n",
      "word_count                      0.0640*** \n",
      "                                (0.0029)  \n",
      "Facebook Id Var                 0.9244*** \n",
      "                                (0.2706)  \n",
      "==========================================\n",
      "Standard errors in parentheses.\n",
      "* p<.1, ** p<.05, ***p<.01\n",
      "Model:  2\n",
      "\n",
      "==========================================\n",
      "                                log_Angry \n",
      "------------------------------------------\n",
      "Intercept                       1.0429    \n",
      "                                (0.6345)  \n",
      "C(Type)[T.Live Video Complete]  -1.3634***\n",
      "                                (0.2097)  \n",
      "C(Type)[T.Live Video Scheduled] -2.7374***\n",
      "                                (0.3792)  \n",
      "C(Type)[T.Native Video]         -0.5178***\n",
      "                                (0.0561)  \n",
      "C(Type)[T.Photo]                -0.0885   \n",
      "                                (0.1109)  \n",
      "C(Type)[T.Status]               -0.6804   \n",
      "                                (0.5214)  \n",
      "C(Type)[T.Video]                0.4658    \n",
      "                                (1.3077)  \n",
      "C(Type)[T.YouTube]              -3.2583   \n",
      "                                (2.2626)  \n",
      "C(PN)[T.P]                      0.2008*** \n",
      "                                (0.0470)  \n",
      "care_p                          -6.1712***\n",
      "                                (0.7218)  \n",
      "fairness_p                      7.2412*** \n",
      "                                (0.8593)  \n",
      "loyalty_p                       -3.6574***\n",
      "                                (1.0198)  \n",
      "authority_p                     13.2803***\n",
      "                                (0.8723)  \n",
      "sanctity_p                      -5.3774***\n",
      "                                (0.9131)  \n",
      "Followers_at_Posting            0.0000*** \n",
      "                                (0.0000)  \n",
      "Post_Created_Month              0.0598*** \n",
      "                                (0.0045)  \n",
      "Page_Created_Month              -0.0837   \n",
      "                                (0.0885)  \n",
      "word_count                      0.0763*** \n",
      "                                (0.0046)  \n",
      "Facebook Id Var                 0.1398    \n",
      "                                (0.0934)  \n",
      "==========================================\n",
      "Standard errors in parentheses.\n",
      "* p<.1, ** p<.05, ***p<.01\n",
      "Model:  3\n",
      "\n",
      "=========================================\n",
      "                               log_Angry \n",
      "-----------------------------------------\n",
      "Intercept                      -3.2243***\n",
      "                               (1.1944)  \n",
      "C(Type)[T.Live Video Complete] 1.7604**  \n",
      "                               (0.6923)  \n",
      "C(Type)[T.Native Video]        -0.3456***\n",
      "                               (0.0439)  \n",
      "C(Type)[T.Photo]               0.3477*** \n",
      "                               (0.0834)  \n",
      "C(Type)[T.Status]              -0.0942   \n",
      "                               (0.4899)  \n",
      "C(Type)[T.Video]               -0.2936   \n",
      "                               (0.1911)  \n",
      "C(Type)[T.YouTube]             -1.1175   \n",
      "                               (1.5431)  \n",
      "C(PN)[T.P]                     0.1171*** \n",
      "                               (0.0383)  \n",
      "care_p                         -1.7042***\n",
      "                               (0.5153)  \n",
      "fairness_p                     2.3196*** \n",
      "                               (0.6022)  \n",
      "loyalty_p                      -2.2026***\n",
      "                               (0.7428)  \n",
      "authority_p                    9.4345*** \n",
      "                               (0.6086)  \n",
      "sanctity_p                     -1.9723***\n",
      "                               (0.5972)  \n",
      "Followers_at_Posting           0.0000*** \n",
      "                               (0.0000)  \n",
      "Post_Created_Month             -0.0039   \n",
      "                               (0.0032)  \n",
      "Page_Created_Month             0.0013    \n",
      "                               (0.2362)  \n",
      "word_count                     0.0493*** \n",
      "                               (0.0043)  \n",
      "Facebook Id Var                1.0000    \n",
      "                               (0.8179)  \n",
      "=========================================\n",
      "Standard errors in parentheses.\n",
      "* p<.1, ** p<.05, ***p<.01\n",
      "Model:  4\n",
      "\n",
      "==========================================\n",
      "                                log_Angry \n",
      "------------------------------------------\n",
      "Intercept                       -8.0664***\n",
      "                                (2.7574)  \n",
      "C(Type)[T.Live Video Complete]  -0.2408   \n",
      "                                (1.0605)  \n",
      "C(Type)[T.Live Video Scheduled] 0.5541    \n",
      "                                (0.5041)  \n",
      "C(Type)[T.Native Video]         -0.8635***\n",
      "                                (0.1257)  \n",
      "C(Type)[T.Photo]                -0.0555   \n",
      "                                (0.1649)  \n",
      "C(Type)[T.Status]               0.6705    \n",
      "                                (1.6734)  \n",
      "C(Type)[T.YouTube]              0.4620    \n",
      "                                (2.3608)  \n",
      "C(PN)[T.P]                      0.5165*** \n",
      "                                (0.1198)  \n",
      "care_p                          -9.5258***\n",
      "                                (1.6949)  \n",
      "fairness_p                      10.4841***\n",
      "                                (2.0956)  \n",
      "loyalty_p                       -4.7137** \n",
      "                                (2.3741)  \n",
      "authority_p                     18.7466***\n",
      "                                (1.9851)  \n",
      "sanctity_p                      -1.8620   \n",
      "                                (2.2383)  \n",
      "Followers_at_Posting            0.0000*** \n",
      "                                (0.0000)  \n",
      "Post_Created_Month              -0.0105   \n",
      "                                (0.0122)  \n",
      "Page_Created_Month              0.9161*** \n",
      "                                (0.3262)  \n",
      "word_count                      0.0488*** \n",
      "                                (0.0117)  \n",
      "Facebook Id Var                 0.4398    \n",
      "                                (0.6456)  \n",
      "==========================================\n",
      "Standard errors in parentheses.\n",
      "* p<.1, ** p<.05, ***p<.01\n",
      "Model:  5\n",
      "\n",
      "==========================================\n",
      "                                log_Angry \n",
      "------------------------------------------\n",
      "Intercept                       -0.1057   \n",
      "                                (0.2496)  \n",
      "C(Type)[T.Live Video Complete]  0.0835    \n",
      "                                (0.3426)  \n",
      "C(Type)[T.Live Video Scheduled] -0.4625   \n",
      "                                (0.3877)  \n",
      "C(Type)[T.Native Video]         -0.4116***\n",
      "                                (0.0922)  \n",
      "C(Type)[T.Photo]                -0.2806***\n",
      "                                (0.0811)  \n",
      "C(Type)[T.Status]               -0.8166   \n",
      "                                (0.7439)  \n",
      "C(Type)[T.Video]                -1.0830   \n",
      "                                (1.0175)  \n",
      "C(Type)[T.YouTube]              -0.5235   \n",
      "                                (0.7443)  \n",
      "C(PN)[T.P]                      -0.0886*  \n",
      "                                (0.0538)  \n",
      "care_p                          1.1789    \n",
      "                                (0.7365)  \n",
      "fairness_p                      0.2573    \n",
      "                                (0.9409)  \n",
      "loyalty_p                       2.9776*** \n",
      "                                (1.1160)  \n",
      "authority_p                     5.8604*** \n",
      "                                (0.9168)  \n",
      "sanctity_p                      -3.7209***\n",
      "                                (0.9093)  \n",
      "Followers_at_Posting            0.0000*** \n",
      "                                (0.0000)  \n",
      "Post_Created_Month              -0.0140***\n",
      "                                (0.0050)  \n",
      "Page_Created_Month              -0.0259   \n",
      "                                (0.0290)  \n",
      "word_count                      0.0237*** \n",
      "                                (0.0063)  \n",
      "Facebook Id Var                 0.1523**  \n",
      "                                (0.0621)  \n",
      "==========================================\n",
      "Standard errors in parentheses.\n",
      "* p<.1, ** p<.05, ***p<.01\n"
     ]
    }
   ],
   "source": [
    "print('Model 1')\n",
    "print(summary_col([full_sample],stars=True))\n",
    "i = 2\n",
    "for reg in Models_3:\n",
    "    print(\"Model: \", i)\n",
    "    \n",
    "    print(summary_col([reg],stars=True))\n",
    "    i +=1"
   ]
  }
 ],
 "metadata": {
  "colab": {
   "collapsed_sections": [],
   "name": "Copie de Copy of BOX.ipynb",
   "provenance": []
  },
  "kernelspec": {
   "display_name": "Python 3",
   "language": "python",
   "name": "python3"
  },
  "language_info": {
   "codemirror_mode": {
    "name": "ipython",
    "version": 3
   },
   "file_extension": ".py",
   "mimetype": "text/x-python",
   "name": "python",
   "nbconvert_exporter": "python",
   "pygments_lexer": "ipython3",
   "version": "3.8.8"
  }
 },
 "nbformat": 4,
 "nbformat_minor": 1
}
