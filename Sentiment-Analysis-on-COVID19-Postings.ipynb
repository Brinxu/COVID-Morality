{
 "cells": [
  {
   "cell_type": "markdown",
   "metadata": {
    "id": "unLWX_5qb047"
   },
   "source": [
    "## Part1: Processing the data"
   ]
  },
  {
   "cell_type": "code",
   "execution_count": 1,
   "metadata": {
    "colab": {
     "base_uri": "https://localhost:8080/"
    },
    "id": "BOn9KWGLD_Id",
    "outputId": "277942b0-e40f-4962-a9c1-042f661a9e22"
   },
   "outputs": [],
   "source": [
    "#!pip install -U pip setuptools wheel\n",
    "#!pip install -U spacy\n",
    "#!python -m spacy download en_core_web_sm\n",
    "#!pip install git+https://github.com/medianeuroscience/emfdscore.git"
   ]
  },
  {
   "cell_type": "markdown",
   "metadata": {},
   "source": [
    "### Import Required Python Packages"
   ]
  },
  {
   "cell_type": "code",
   "execution_count": 2,
   "metadata": {
    "id": "VbTC53VvD_Lk"
   },
   "outputs": [],
   "source": [
    "import pandas as pd\n",
    "import numpy as np\n",
    "import matplotlib.pyplot as plt\n",
    "import seaborn as sns\n",
    "\n",
    "from matplotlib import rcParams\n",
    "rcParams['figure.figsize'] = 15, 5\n",
    "\n",
    "from statsmodels.iolib.summary2 import summary_col\n",
    "\n",
    "\n",
    "# Disable warnings\n",
    "import warnings\n",
    "from statsmodels.tools.sm_exceptions import ConvergenceWarning\n",
    "warnings.simplefilter('ignore', ConvergenceWarning)"
   ]
  },
  {
   "cell_type": "code",
   "execution_count": 3,
   "metadata": {
    "colab": {
     "base_uri": "https://localhost:8080/"
    },
    "id": "5dxZ7HrqZtHb",
    "outputId": "4264d95e-a2b0-4421-d1f2-ca1a7a3bcdc7"
   },
   "outputs": [
    {
     "name": "stderr",
     "output_type": "stream",
     "text": [
      "/Users/brinxu/opt/anaconda3/lib/python3.8/site-packages/IPython/core/interactiveshell.py:3165: DtypeWarning: Columns (33) have mixed types.Specify dtype option on import or set low_memory=False.\n",
      "  has_raised = await self.run_ast_nodes(code_ast.body, cell_name,\n"
     ]
    }
   ],
   "source": [
    "data1 = pd.read_csv('general_media_final_dataset.csv').drop('Unnamed: 0',axis=1)\n",
    "data2 = pd.read_csv('final_science_media_data.csv').drop('Unnamed: 0',axis=1)"
   ]
  },
  {
   "cell_type": "code",
   "execution_count": 4,
   "metadata": {
    "colab": {
     "base_uri": "https://localhost:8080/"
    },
    "id": "BJItYjT3VE3W",
    "outputId": "ae0053df-5b29-438b-a767-a508af8a13e3"
   },
   "outputs": [
    {
     "name": "stderr",
     "output_type": "stream",
     "text": [
      "/Users/brinxu/opt/anaconda3/lib/python3.8/site-packages/IPython/core/interactiveshell.py:3165: DtypeWarning: Columns (39) have mixed types.Specify dtype option on import or set low_memory=False.\n",
      "  has_raised = await self.run_ast_nodes(code_ast.body, cell_name,\n",
      "/Users/brinxu/opt/anaconda3/lib/python3.8/site-packages/IPython/core/interactiveshell.py:3165: DtypeWarning: Columns (33) have mixed types.Specify dtype option on import or set low_memory=False.\n",
      "  has_raised = await self.run_ast_nodes(code_ast.body, cell_name,\n"
     ]
    }
   ],
   "source": [
    "data3 = pd.read_csv('2021-10-22-09-22-53-EDT-Historical-Report-BuzzFeed-2018-01-01--2021-07-01.csv',encoding = \"ISO-8859-1\").dropna()\n",
    "data4 = pd.read_csv('2021-10-22-09-21-54-EDT-Historical-Report-The-Daily-Caller-2018-01-01--2021-07-01.csv',encoding = \"ISO-8859-1\").dropna()\n",
    "data5 = pd.read_csv('2021-10-23-10-02-33-EDT-Historical-Report-Vox-2018-01-01--2021-07-01.csv',encoding = \"ISO-8859-1\").dropna()\n",
    "data6 = pd.read_csv('2021-10-22-09-19-11-EDT-Historical-Report-Washington-Examiner-2018-01-01--2021-07-01.csv',encoding = \"ISO-8859-1\").dropna()"
   ]
  },
  {
   "cell_type": "code",
   "execution_count": 5,
   "metadata": {
    "colab": {
     "base_uri": "https://localhost:8080/",
     "height": 338
    },
    "id": "77Cd_Ip7Z183",
    "outputId": "0b542bac-d821-4d22-9b67-39438f5bdde0"
   },
   "outputs": [
    {
     "data": {
      "text/html": [
       "<div>\n",
       "<style scoped>\n",
       "    .dataframe tbody tr th:only-of-type {\n",
       "        vertical-align: middle;\n",
       "    }\n",
       "\n",
       "    .dataframe tbody tr th {\n",
       "        vertical-align: top;\n",
       "    }\n",
       "\n",
       "    .dataframe thead th {\n",
       "        text-align: right;\n",
       "    }\n",
       "</style>\n",
       "<table border=\"1\" class=\"dataframe\">\n",
       "  <thead>\n",
       "    <tr style=\"text-align: right;\">\n",
       "      <th></th>\n",
       "      <th>Page Name</th>\n",
       "      <th>User Name</th>\n",
       "      <th>Facebook Id</th>\n",
       "      <th>Page Category</th>\n",
       "      <th>Page Admin Top Country</th>\n",
       "      <th>Page Description</th>\n",
       "      <th>Page Created</th>\n",
       "      <th>Likes at Posting</th>\n",
       "      <th>Followers at Posting</th>\n",
       "      <th>Post Created</th>\n",
       "      <th>...</th>\n",
       "      <th>Is Video Owner?</th>\n",
       "      <th>Post Views</th>\n",
       "      <th>Total Views</th>\n",
       "      <th>Total Views For All Crossposts</th>\n",
       "      <th>URL</th>\n",
       "      <th>Message</th>\n",
       "      <th>Link</th>\n",
       "      <th>Link Text</th>\n",
       "      <th>Description</th>\n",
       "      <th>Overperforming Score (weighted  —  Likes 1x Shares 1x Comments 1x Love 1x Wow 1x Haha 1x Sad 1x Angry 1x Care 1x )</th>\n",
       "    </tr>\n",
       "  </thead>\n",
       "  <tbody>\n",
       "    <tr>\n",
       "      <th>0</th>\n",
       "      <td>CNN</td>\n",
       "      <td>cnn</td>\n",
       "      <td>5550296508</td>\n",
       "      <td>MEDIA_NEWS_COMPANY</td>\n",
       "      <td>US</td>\n",
       "      <td>Instant breaking news alerts and the most talk...</td>\n",
       "      <td>2007-11-07 22:14:27</td>\n",
       "      <td>34563194</td>\n",
       "      <td>38359686.0</td>\n",
       "      <td>2021-06-30 23:45:28 EDT</td>\n",
       "      <td>...</td>\n",
       "      <td>-</td>\n",
       "      <td>0</td>\n",
       "      <td>0</td>\n",
       "      <td>0</td>\n",
       "      <td>https://www.facebook.com/5550296508/posts/1016...</td>\n",
       "      <td>College athletes will have the opportunity to ...</td>\n",
       "      <td>https://cnn.it/2SDgOSO</td>\n",
       "      <td>Starting Thursday, college athletes can profit...</td>\n",
       "      <td></td>\n",
       "      <td>-14.87</td>\n",
       "    </tr>\n",
       "  </tbody>\n",
       "</table>\n",
       "<p>1 rows × 33 columns</p>\n",
       "</div>"
      ],
      "text/plain": [
       "  Page Name User Name  Facebook Id       Page Category Page Admin Top Country  \\\n",
       "0       CNN       cnn   5550296508  MEDIA_NEWS_COMPANY                     US   \n",
       "\n",
       "                                    Page Description         Page Created  \\\n",
       "0  Instant breaking news alerts and the most talk...  2007-11-07 22:14:27   \n",
       "\n",
       "   Likes at Posting  Followers at Posting             Post Created  ...  \\\n",
       "0          34563194            38359686.0  2021-06-30 23:45:28 EDT  ...   \n",
       "\n",
       "  Is Video Owner? Post Views Total Views Total Views For All Crossposts  \\\n",
       "0               -          0           0                              0   \n",
       "\n",
       "                                                 URL  \\\n",
       "0  https://www.facebook.com/5550296508/posts/1016...   \n",
       "\n",
       "                                             Message                    Link  \\\n",
       "0  College athletes will have the opportunity to ...  https://cnn.it/2SDgOSO   \n",
       "\n",
       "                                           Link Text  Description  \\\n",
       "0  Starting Thursday, college athletes can profit...                \n",
       "\n",
       "   Overperforming Score (weighted  —  Likes 1x Shares 1x Comments 1x Love 1x Wow 1x Haha 1x Sad 1x Angry 1x Care 1x )  \n",
       "0                                             -14.87                                                                   \n",
       "\n",
       "[1 rows x 33 columns]"
      ]
     },
     "execution_count": 5,
     "metadata": {},
     "output_type": "execute_result"
    }
   ],
   "source": [
    "data1.head(1)"
   ]
  },
  {
   "cell_type": "code",
   "execution_count": 6,
   "metadata": {
    "colab": {
     "base_uri": "https://localhost:8080/",
     "height": 355
    },
    "id": "gzFOwNQeZ1_2",
    "outputId": "a607201c-8b36-468d-b0c4-970c0a93274a"
   },
   "outputs": [
    {
     "data": {
      "text/html": [
       "<div>\n",
       "<style scoped>\n",
       "    .dataframe tbody tr th:only-of-type {\n",
       "        vertical-align: middle;\n",
       "    }\n",
       "\n",
       "    .dataframe tbody tr th {\n",
       "        vertical-align: top;\n",
       "    }\n",
       "\n",
       "    .dataframe thead th {\n",
       "        text-align: right;\n",
       "    }\n",
       "</style>\n",
       "<table border=\"1\" class=\"dataframe\">\n",
       "  <thead>\n",
       "    <tr style=\"text-align: right;\">\n",
       "      <th></th>\n",
       "      <th>Page Name</th>\n",
       "      <th>User Name</th>\n",
       "      <th>Facebook Id</th>\n",
       "      <th>Page Category</th>\n",
       "      <th>Page Admin Top Country</th>\n",
       "      <th>Page Description</th>\n",
       "      <th>Page Created</th>\n",
       "      <th>Likes at Posting</th>\n",
       "      <th>Followers at Posting</th>\n",
       "      <th>Post Created</th>\n",
       "      <th>...</th>\n",
       "      <th>Is Video Owner?</th>\n",
       "      <th>Post Views</th>\n",
       "      <th>Total Views</th>\n",
       "      <th>Total Views For All Crossposts</th>\n",
       "      <th>URL</th>\n",
       "      <th>Message</th>\n",
       "      <th>Link</th>\n",
       "      <th>Link Text</th>\n",
       "      <th>Description</th>\n",
       "      <th>Overperforming Score (weighted  —  Likes 1x Shares 1x Comments 1x Love 1x Wow 1x Haha 1x Sad 1x Angry 1x Care 1x )</th>\n",
       "    </tr>\n",
       "  </thead>\n",
       "  <tbody>\n",
       "    <tr>\n",
       "      <th>0</th>\n",
       "      <td>Women’s Health - Mayo Clinic</td>\n",
       "      <td>mayoclinicwomenshealth</td>\n",
       "      <td>177120669027178</td>\n",
       "      <td>WOMENS_HEALTH_CLINIC</td>\n",
       "      <td>US</td>\n",
       "      <td>To request an appointment: Arizona: 480-301-17...</td>\n",
       "      <td>2011-08-11 18:28:43</td>\n",
       "      <td>6120.0</td>\n",
       "      <td>6604.0</td>\n",
       "      <td>2021-06-02 09:55:14 EDT</td>\n",
       "      <td>...</td>\n",
       "      <td>-</td>\n",
       "      <td>0</td>\n",
       "      <td>0</td>\n",
       "      <td>0</td>\n",
       "      <td>https://www.facebook.com/177120669027178/posts...</td>\n",
       "      <td>Click the link below to RSVP for the \"Take Cha...</td>\n",
       "      <td>https://www.facebook.com/mayoclinicwomenshealt...</td>\n",
       "      <td>Timeline Photos</td>\n",
       "      <td></td>\n",
       "      <td>-28.0</td>\n",
       "    </tr>\n",
       "  </tbody>\n",
       "</table>\n",
       "<p>1 rows × 33 columns</p>\n",
       "</div>"
      ],
      "text/plain": [
       "                      Page Name               User Name      Facebook Id  \\\n",
       "0  Women’s Health - Mayo Clinic  mayoclinicwomenshealth  177120669027178   \n",
       "\n",
       "          Page Category Page Admin Top Country  \\\n",
       "0  WOMENS_HEALTH_CLINIC                     US   \n",
       "\n",
       "                                    Page Description         Page Created  \\\n",
       "0  To request an appointment: Arizona: 480-301-17...  2011-08-11 18:28:43   \n",
       "\n",
       "   Likes at Posting  Followers at Posting             Post Created  ...  \\\n",
       "0            6120.0                6604.0  2021-06-02 09:55:14 EDT  ...   \n",
       "\n",
       "  Is Video Owner? Post Views Total Views Total Views For All Crossposts  \\\n",
       "0               -          0           0                              0   \n",
       "\n",
       "                                                 URL  \\\n",
       "0  https://www.facebook.com/177120669027178/posts...   \n",
       "\n",
       "                                             Message  \\\n",
       "0  Click the link below to RSVP for the \"Take Cha...   \n",
       "\n",
       "                                                Link        Link Text  \\\n",
       "0  https://www.facebook.com/mayoclinicwomenshealt...  Timeline Photos   \n",
       "\n",
       "   Description  \\\n",
       "0                \n",
       "\n",
       "   Overperforming Score (weighted  —  Likes 1x Shares 1x Comments 1x Love 1x Wow 1x Haha 1x Sad 1x Angry 1x Care 1x )  \n",
       "0                                              -28.0                                                                   \n",
       "\n",
       "[1 rows x 33 columns]"
      ]
     },
     "execution_count": 6,
     "metadata": {},
     "output_type": "execute_result"
    }
   ],
   "source": [
    "data2.head(1)"
   ]
  },
  {
   "cell_type": "code",
   "execution_count": 7,
   "metadata": {
    "colab": {
     "base_uri": "https://localhost:8080/",
     "height": 321
    },
    "id": "TMpGfyUdUUHB",
    "outputId": "504adfcc-3050-4bff-e219-b9e3b9645b90"
   },
   "outputs": [
    {
     "data": {
      "text/html": [
       "<div>\n",
       "<style scoped>\n",
       "    .dataframe tbody tr th:only-of-type {\n",
       "        vertical-align: middle;\n",
       "    }\n",
       "\n",
       "    .dataframe tbody tr th {\n",
       "        vertical-align: top;\n",
       "    }\n",
       "\n",
       "    .dataframe thead th {\n",
       "        text-align: right;\n",
       "    }\n",
       "</style>\n",
       "<table border=\"1\" class=\"dataframe\">\n",
       "  <thead>\n",
       "    <tr style=\"text-align: right;\">\n",
       "      <th></th>\n",
       "      <th>ï»¿Page Name</th>\n",
       "      <th>User Name</th>\n",
       "      <th>Facebook Id</th>\n",
       "      <th>Page Category</th>\n",
       "      <th>Page Admin Top Country</th>\n",
       "      <th>Page Description</th>\n",
       "      <th>Page Created</th>\n",
       "      <th>Likes at Posting</th>\n",
       "      <th>Followers at Posting</th>\n",
       "      <th>Post Created</th>\n",
       "      <th>...</th>\n",
       "      <th>Message</th>\n",
       "      <th>Link</th>\n",
       "      <th>Final Link</th>\n",
       "      <th>Image Text</th>\n",
       "      <th>Link Text</th>\n",
       "      <th>Description</th>\n",
       "      <th>Sponsor Id</th>\n",
       "      <th>Sponsor Name</th>\n",
       "      <th>Sponsor Category</th>\n",
       "      <th>Overperforming Score (weighted  â  Likes 1x Shares 1x Comments 1x Love 1x Wow 1x Haha 1x Sad 1x Angry 1x Care 1x )</th>\n",
       "    </tr>\n",
       "  </thead>\n",
       "  <tbody>\n",
       "  </tbody>\n",
       "</table>\n",
       "<p>0 rows × 40 columns</p>\n",
       "</div>"
      ],
      "text/plain": [
       "Empty DataFrame\n",
       "Columns: [ï»¿Page Name, User Name, Facebook Id, Page Category, Page Admin Top Country, Page Description, Page Created, Likes at Posting, Followers at Posting, Post Created, Post Created Date, Post Created Time, Type, Total Interactions, Likes, Comments, Shares, Love, Wow, Haha, Sad, Angry, Care, Video Share Status, Is Video Owner?, Post Views, Total Views, Total Views For All Crossposts, Video Length, URL, Message, Link, Final Link, Image Text, Link Text, Description, Sponsor Id, Sponsor Name, Sponsor Category, Overperforming Score (weighted  â  Likes 1x Shares 1x Comments 1x Love 1x Wow 1x Haha 1x Sad 1x Angry 1x Care 1x )]\n",
       "Index: []\n",
       "\n",
       "[0 rows x 40 columns]"
      ]
     },
     "execution_count": 7,
     "metadata": {},
     "output_type": "execute_result"
    }
   ],
   "source": [
    "data3.head(1)"
   ]
  },
  {
   "cell_type": "markdown",
   "metadata": {
    "id": "unLWX_5qb047"
   },
   "source": [
    "### Keep Posts from **2020.1.1 to 2021.6.30**"
   ]
  },
  {
   "cell_type": "code",
   "execution_count": 8,
   "metadata": {},
   "outputs": [],
   "source": [
    "data1.dropna(inplace=True)\n",
    "data2.dropna(inplace=True)\n",
    "data3.dropna(inplace=True)\n",
    "data4.dropna(inplace=True)\n",
    "data5.dropna(inplace=True)\n",
    "data6.dropna(inplace=True)"
   ]
  },
  {
   "cell_type": "code",
   "execution_count": 9,
   "metadata": {
    "id": "snp1cQlwb0Iq"
   },
   "outputs": [],
   "source": [
    "\n",
    "\"\"\"\n",
    "For the selection, we need first to turn the date column to DateTime Format(instead of string), we can do it using to_datetime method from pandas\n",
    "library\n",
    "\"\"\"\n",
    "data1['Post Created Date'] = pd.to_datetime(data1['Post Created Date']) \n",
    "data2['Post Created Date'] = pd.to_datetime(data2['Post Created Date']) \n",
    "data3['Post Created Date'] = pd.to_datetime(data3['Post Created Date']) \n",
    "data4['Post Created Date'] = pd.to_datetime(data4['Post Created Date']) \n",
    "data5['Post Created Date'] = pd.to_datetime(data5['Post Created Date']) \n",
    "data6['Post Created Date'] = pd.to_datetime(data6['Post Created Date']) "
   ]
  },
  {
   "cell_type": "code",
   "execution_count": 10,
   "metadata": {
    "id": "gkhIgzhfdlN3"
   },
   "outputs": [],
   "source": [
    "\"\"\"\n",
    "Now lets do the selection\n",
    "\"\"\"\n",
    "start_date = '2010.1.1'\n",
    "end_date = '2021.6.30'\n",
    "#greater than the start date and smaller than the end date\n",
    "mask1 = (data1['Post Created Date'] > start_date) & (data1['Post Created Date'] <= end_date)\n",
    "mask2 = (data2['Post Created Date'] > start_date) & (data2['Post Created Date'] <= end_date)\n",
    "mask3 = (data3['Post Created Date'] > '2020.1.1') & (data3['Post Created Date'] <= '2021.6.30')\n",
    "mask4 = (data4['Post Created Date'] > '2020.1.1') & (data4['Post Created Date'] <= '2021.6.30')\n",
    "mask5 = (data5['Post Created Date'] > '2020.1.1') & (data5['Post Created Date'] <= '2021.6.30')\n",
    "mask6 = (data6['Post Created Date'] > '2020.1.1') & (data6['Post Created Date'] <= '2021.6.30')\n",
    "data1 = data1.loc[mask1]\n",
    "data2 = data2.loc[mask2]\n",
    "data3 = data3.loc[mask3]\n",
    "data4 = data4.loc[mask4]\n",
    "data5 = data5.loc[mask5]\n",
    "data6 = data6.loc[mask6]"
   ]
  },
  {
   "cell_type": "code",
   "execution_count": 11,
   "metadata": {
    "id": "7cWfFrrFejEM"
   },
   "outputs": [],
   "source": [
    "\"\"\"\n",
    "Now we will create a new column named LNC_category which means (liberal,neutral or conservative) based on user name.\n",
    "\"\"\"\n",
    "liberal = ['dailykos', 'nytimes', 'HuffingtonPostOfficial', 'washingtonpost', 'msnbc', 'bbc', 'cnn', 'nbc', 'NPR','Buzzfeed', 'Vox']\n",
    "neutral = ['usatoday', 'nbc', 'Reuters', 'WSJ', 'ABCNetwork', 'CBS']\n",
    "conservative = ['Breitbart','FoxNews','TheBlaze','Daily Caller', 'Washington examiner' ]\n",
    "\n",
    "def match(username):\n",
    "    if username in liberal:\n",
    "        return 'liberal'\n",
    "    elif username in neutral:\n",
    "        return 'neutral'\n",
    "    elif username in conservative:\n",
    "        return 'conservative'\n",
    "    else: return np.nan\n",
    "data1['User Name'] = data1['User Name'].str.replace(' ', '')\n",
    "data2['User Name'] = data2['User Name'].str.replace(' ', '')\n",
    "data1['LNC_category']=data1['User Name'].apply(lambda x: match(x))\n",
    "data2['LNC_category']=data2['User Name'].apply(lambda x: match(x))"
   ]
  },
  {
   "cell_type": "code",
   "execution_count": 12,
   "metadata": {
    "colab": {
     "base_uri": "https://localhost:8080/",
     "height": 287
    },
    "id": "M2G77hYNejGG",
    "outputId": "9d310e5a-5d2e-4821-c951-144f61fc1d7a"
   },
   "outputs": [
    {
     "data": {
      "image/png": "[encoded data removed]",
      "text/plain": [
       "<Figure size 1080x360 with 1 Axes>"
      ]
     },
     "metadata": {},
     "output_type": "display_data"
    }
   ],
   "source": [
    "import seaborn as sns\n",
    "sns.set_theme(style=\"darkgrid\")\n",
    "ax = sns.countplot(x=\"LNC_category\", data=data1)"
   ]
  },
  {
   "cell_type": "code",
   "execution_count": 13,
   "metadata": {
    "id": "V-eTn2a8ejK1"
   },
   "outputs": [],
   "source": [
    "\"\"\"\n",
    "Combine data1 with data2\n",
    "\"\"\"\n",
    "data2['User Name'] = data2['User Name'].apply(lambda x: 'science chennel')\n",
    "data2['LNC_category'] = 'science'\n",
    "\n",
    "data3['User Name'] = data3['User Name'].apply(lambda x: 'science chennel')\n",
    "data3['LNC_category'] = 'science'\n",
    "\n",
    "data4['User Name'] = data4['User Name'].apply(lambda x: 'science chennel')\n",
    "data4['LNC_category'] = 'science'\n",
    "\n",
    "data5['User Name'] = data4['User Name'].apply(lambda x: 'science chennel')\n",
    "data5['LNC_category'] = 'liberal'\n",
    "\n",
    "\n",
    "data6['User Name'] = data6['User Name'].apply(lambda x: 'science chennel')\n",
    "data6['LNC_category'] = 'science'"
   ]
  },
  {
   "cell_type": "code",
   "execution_count": 14,
   "metadata": {},
   "outputs": [],
   "source": [
    "frames = [data1,data2,data3,data4,data5,data6]\n",
    "data = pd.concat(frames)"
   ]
  },
  {
   "cell_type": "code",
   "execution_count": 15,
   "metadata": {
    "colab": {
     "base_uri": "https://localhost:8080/",
     "height": 287
    },
    "id": "psTF6n6kejNg",
    "outputId": "8c063bd2-9d64-4d08-9068-d5cb9c8e3ede"
   },
   "outputs": [
    {
     "data": {
      "image/png": "[encoded data removed]",
      "text/plain": [
       "<Figure size 1080x360 with 1 Axes>"
      ]
     },
     "metadata": {},
     "output_type": "display_data"
    }
   ],
   "source": [
    "ax = sns.countplot(x=\"LNC_category\", data=data)"
   ]
  },
  {
   "cell_type": "markdown",
   "metadata": {
    "id": "AFl_JxRS597H"
   },
   "source": [
    "### Select Covid-19 Topics"
   ]
  },
  {
   "cell_type": "code",
   "execution_count": 16,
   "metadata": {
    "colab": {
     "base_uri": "https://localhost:8080/",
     "height": 52
    },
    "id": "tiyjPWXz6C9a",
    "outputId": "0f06a390-fe8f-4886-9002-6ac1852faa11"
   },
   "outputs": [
    {
     "data": {
      "text/plain": [
       "'College athletes will have the opportunity to make money from their name, image and likeness after the NCAA Board of Governors approved an interim policy that gives student-athletes in all three divisions the ability to profit from sponsorship opportunities for the first time.'"
      ]
     },
     "execution_count": 16,
     "metadata": {},
     "output_type": "execute_result"
    }
   ],
   "source": [
    "data['Message'].iloc[0]"
   ]
  },
  {
   "cell_type": "code",
   "execution_count": 17,
   "metadata": {
    "id": "-GS5_PfA6C_N"
   },
   "outputs": [],
   "source": [
    "list_covid = ['covid','Covid','Corona','Coronavirus','2019ncov','Ncov','Pandemic','Lockdown','Quarantine','SARS-CoV-2','N95','Social distancing']\n",
    "def search(m):\n",
    "  m = m.casefold()\n",
    "  if any(srchstr.lower() in m.lower() for srchstr in list_covid):\n",
    "    return 'covid'\n",
    "  else:\n",
    "    return 'NotCovid'\n",
    "data['covid'] = data['Message'].apply(lambda x: search(x))"
   ]
  },
  {
   "cell_type": "code",
   "execution_count": 18,
   "metadata": {
    "colab": {
     "base_uri": "https://localhost:8080/",
     "height": 285
    },
    "id": "1VGrq1Os6DDF",
    "outputId": "ff68f821-da48-4f03-9f3f-d45bac29ec74"
   },
   "outputs": [
    {
     "data": {
      "image/png": "[encoded data removed]",
      "text/plain": [
       "<Figure size 1080x360 with 1 Axes>"
      ]
     },
     "metadata": {},
     "output_type": "display_data"
    }
   ],
   "source": [
    "ax = sns.countplot(x=\"covid\", data=data)"
   ]
  },
  {
   "cell_type": "code",
   "execution_count": 19,
   "metadata": {
    "colab": {
     "base_uri": "https://localhost:8080/"
    },
    "id": "bXZJyj2BCCh0",
    "outputId": "0590fa66-57f0-4689-e2e3-4816f6378e7d"
   },
   "outputs": [
    {
     "data": {
      "text/plain": [
       "(84385, 44)"
      ]
     },
     "execution_count": 19,
     "metadata": {},
     "output_type": "execute_result"
    }
   ],
   "source": [
    "\"\"\"\n",
    "Then we will select just covid data\n",
    "\"\"\"\n",
    "covid_data = data[data.covid=='covid']\n",
    "covid_data.shape"
   ]
  },
  {
   "cell_type": "markdown",
   "metadata": {
    "id": "ujVZzvXo6DpQ"
   },
   "source": [
    "## Part 2:  Conduct Sentiment Analysis"
   ]
  },
  {
   "cell_type": "code",
   "execution_count": 20,
   "metadata": {
    "colab": {
     "base_uri": "https://localhost:8080/"
    },
    "id": "EUN_BNAz4XFc",
    "outputId": "b5241bea-245d-4242-826e-347f3c53e9fb"
   },
   "outputs": [
    {
     "name": "stderr",
     "output_type": "stream",
     "text": [
      "[nltk_data] Downloading package stopwords to\n",
      "[nltk_data]     /Users/brinxu/nltk_data...\n",
      "[nltk_data]   Package stopwords is already up-to-date!\n"
     ]
    },
    {
     "data": {
      "text/plain": [
       "True"
      ]
     },
     "execution_count": 20,
     "metadata": {},
     "output_type": "execute_result"
    }
   ],
   "source": [
    "import nltk\n",
    "nltk.download('stopwords')"
   ]
  },
  {
   "cell_type": "code",
   "execution_count": 21,
   "metadata": {
    "colab": {
     "base_uri": "https://localhost:8080/"
    },
    "id": "2568gVx0R9X7",
    "outputId": "27d1c14e-7c7e-411c-9324-15b959102b98"
   },
   "outputs": [
    {
     "name": "stderr",
     "output_type": "stream",
     "text": [
      "[nltk_data] Downloading package punkt to /Users/brinxu/nltk_data...\n",
      "[nltk_data]   Package punkt is already up-to-date!\n"
     ]
    },
    {
     "data": {
      "text/plain": [
       "True"
      ]
     },
     "execution_count": 21,
     "metadata": {},
     "output_type": "execute_result"
    }
   ],
   "source": [
    "nltk.download('punkt')"
   ]
  },
  {
   "cell_type": "code",
   "execution_count": 22,
   "metadata": {
    "colab": {
     "base_uri": "https://localhost:8080/"
    },
    "id": "Sibx_JDoSEBE",
    "outputId": "20376300-4246-4f53-e779-f8407ba56951"
   },
   "outputs": [
    {
     "name": "stderr",
     "output_type": "stream",
     "text": [
      "[nltk_data] Downloading package averaged_perceptron_tagger to\n",
      "[nltk_data]     /Users/brinxu/nltk_data...\n",
      "[nltk_data]   Package averaged_perceptron_tagger is already up-to-\n",
      "[nltk_data]       date!\n"
     ]
    },
    {
     "data": {
      "text/plain": [
       "True"
      ]
     },
     "execution_count": 22,
     "metadata": {},
     "output_type": "execute_result"
    }
   ],
   "source": [
    "nltk.download('averaged_perceptron_tagger')"
   ]
  },
  {
   "cell_type": "code",
   "execution_count": 23,
   "metadata": {
    "colab": {
     "base_uri": "https://localhost:8080/"
    },
    "id": "OUsFbssNSIwD",
    "outputId": "7b6869e5-37fc-49bb-9f68-649ccc382061"
   },
   "outputs": [
    {
     "name": "stderr",
     "output_type": "stream",
     "text": [
      "[nltk_data] Downloading package vader_lexicon to\n",
      "[nltk_data]     /Users/brinxu/nltk_data...\n",
      "[nltk_data]   Package vader_lexicon is already up-to-date!\n"
     ]
    },
    {
     "data": {
      "text/plain": [
       "True"
      ]
     },
     "execution_count": 23,
     "metadata": {},
     "output_type": "execute_result"
    }
   ],
   "source": [
    "nltk.download('vader_lexicon')"
   ]
  },
  {
   "cell_type": "code",
   "execution_count": 24,
   "metadata": {
    "colab": {
     "base_uri": "https://localhost:8080/"
    },
    "id": "b5k6flsMYs5p",
    "outputId": "5fbf7f94-fa94-4c05-acb2-2edfee261e30"
   },
   "outputs": [
    {
     "name": "stdout",
     "output_type": "stream",
     "text": [
      "Requirement already satisfied: twython in ./opt/anaconda3/lib/python3.8/site-packages (3.9.1)\n",
      "Requirement already satisfied: requests>=2.1.0 in ./opt/anaconda3/lib/python3.8/site-packages (from twython) (2.25.1)\n",
      "Requirement already satisfied: requests-oauthlib>=0.4.0 in ./opt/anaconda3/lib/python3.8/site-packages (from twython) (1.3.0)\n",
      "Requirement already satisfied: urllib3<1.27,>=1.21.1 in ./opt/anaconda3/lib/python3.8/site-packages (from requests>=2.1.0->twython) (1.26.4)\n",
      "Requirement already satisfied: chardet<5,>=3.0.2 in ./opt/anaconda3/lib/python3.8/site-packages (from requests>=2.1.0->twython) (4.0.0)\n",
      "Requirement already satisfied: certifi>=2017.4.17 in ./opt/anaconda3/lib/python3.8/site-packages (from requests>=2.1.0->twython) (2020.12.5)\n",
      "Requirement already satisfied: idna<3,>=2.5 in ./opt/anaconda3/lib/python3.8/site-packages (from requests>=2.1.0->twython) (2.10)\n",
      "Requirement already satisfied: oauthlib>=3.0.0 in ./opt/anaconda3/lib/python3.8/site-packages (from requests-oauthlib>=0.4.0->twython) (3.1.1)\n"
     ]
    }
   ],
   "source": [
    "!pip install twython "
   ]
  },
  {
   "cell_type": "code",
   "execution_count": 25,
   "metadata": {
    "colab": {
     "base_uri": "https://localhost:8080/"
    },
    "id": "fKVDMuhKdmlU",
    "outputId": "a43bef23-d500-4d9d-c714-d0b547cf2e56"
   },
   "outputs": [
    {
     "data": {
      "text/plain": [
       "84385"
      ]
     },
     "execution_count": 25,
     "metadata": {},
     "output_type": "execute_result"
    }
   ],
   "source": [
    "len(covid_data.Message)"
   ]
  },
  {
   "cell_type": "code",
   "execution_count": 26,
   "metadata": {},
   "outputs": [
    {
     "name": "stdout",
     "output_type": "stream",
     "text": [
      "Requirement already satisfied: textblob in ./opt/anaconda3/lib/python3.8/site-packages (0.17.1)\n",
      "Requirement already satisfied: nltk>=3.1 in ./opt/anaconda3/lib/python3.8/site-packages (from textblob) (3.6.1)\n",
      "Requirement already satisfied: joblib in ./opt/anaconda3/lib/python3.8/site-packages (from nltk>=3.1->textblob) (1.0.1)\n",
      "Requirement already satisfied: click in ./opt/anaconda3/lib/python3.8/site-packages (from nltk>=3.1->textblob) (7.1.2)\n",
      "Requirement already satisfied: tqdm in ./opt/anaconda3/lib/python3.8/site-packages (from nltk>=3.1->textblob) (4.59.0)\n",
      "Requirement already satisfied: regex in ./opt/anaconda3/lib/python3.8/site-packages (from nltk>=3.1->textblob) (2021.4.4)\n"
     ]
    }
   ],
   "source": [
    "!pip install textblob"
   ]
  },
  {
   "cell_type": "code",
   "execution_count": 27,
   "metadata": {
    "id": "8pUNMX22RWKR"
   },
   "outputs": [
    {
     "name": "stdout",
     "output_type": "stream",
     "text": [
      "0 message processed\n",
      "100 message processed\n",
      "200 message processed\n",
      "300 message processed\n",
      "400 message processed\n",
      "500 message processed\n",
      "600 message processed\n",
      "700 message processed\n",
      "800 message processed\n",
      "900 message processed\n",
      "1000 message processed\n",
      "1100 message processed\n",
      "1200 message processed\n",
      "1300 message processed\n",
      "1400 message processed\n",
      "1500 message processed\n",
      "1600 message processed\n",
      "1700 message processed\n",
      "1800 message processed\n",
      "1900 message processed\n",
      "2000 message processed\n",
      "2100 message processed\n",
      "2200 message processed\n",
      "2300 message processed\n",
      "2400 message processed\n",
      "2500 message processed\n",
      "2600 message processed\n",
      "2700 message processed\n",
      "2800 message processed\n",
      "2900 message processed\n",
      "3000 message processed\n",
      "3100 message processed\n",
      "3200 message processed\n",
      "3300 message processed\n",
      "3400 message processed\n",
      "3500 message processed\n",
      "3600 message processed\n",
      "3700 message processed\n",
      "3800 message processed\n",
      "3900 message processed\n",
      "4000 message processed\n",
      "4100 message processed\n",
      "4200 message processed\n",
      "4300 message processed\n",
      "4400 message processed\n",
      "4500 message processed\n",
      "4600 message processed\n",
      "4700 message processed\n",
      "4800 message processed\n",
      "4900 message processed\n",
      "5000 message processed\n",
      "5100 message processed\n",
      "5200 message processed\n",
      "5300 message processed\n",
      "5400 message processed\n",
      "5500 message processed\n",
      "5600 message processed\n",
      "5700 message processed\n",
      "5800 message processed\n",
      "5900 message processed\n",
      "6000 message processed\n",
      "6100 message processed\n",
      "6200 message processed\n",
      "6300 message processed\n",
      "6400 message processed\n",
      "6500 message processed\n",
      "6600 message processed\n",
      "6700 message processed\n",
      "6800 message processed\n",
      "6900 message processed\n",
      "7000 message processed\n",
      "7100 message processed\n",
      "7200 message processed\n",
      "7300 message processed\n",
      "7400 message processed\n",
      "7500 message processed\n",
      "7600 message processed\n",
      "7700 message processed\n",
      "7800 message processed\n",
      "7900 message processed\n",
      "8000 message processed\n",
      "8100 message processed\n",
      "8200 message processed\n",
      "8300 message processed\n",
      "8400 message processed\n",
      "8500 message processed\n",
      "8600 message processed\n",
      "8700 message processed\n",
      "8800 message processed\n",
      "8900 message processed\n",
      "9000 message processed\n",
      "9100 message processed\n",
      "9200 message processed\n",
      "9300 message processed\n",
      "9400 message processed\n",
      "9500 message processed\n",
      "9600 message processed\n",
      "9700 message processed\n",
      "9800 message processed\n",
      "9900 message processed\n",
      "10000 message processed\n",
      "10100 message processed\n",
      "10200 message processed\n",
      "10300 message processed\n",
      "10400 message processed\n",
      "10500 message processed\n",
      "10600 message processed\n",
      "10700 message processed\n",
      "10800 message processed\n",
      "10900 message processed\n",
      "11000 message processed\n",
      "11100 message processed\n",
      "11200 message processed\n",
      "11300 message processed\n",
      "11400 message processed\n",
      "11500 message processed\n",
      "11600 message processed\n",
      "11700 message processed\n",
      "11800 message processed\n",
      "11900 message processed\n",
      "12000 message processed\n",
      "12100 message processed\n",
      "12200 message processed\n",
      "12300 message processed\n",
      "12400 message processed\n",
      "12500 message processed\n",
      "12600 message processed\n",
      "12700 message processed\n",
      "12800 message processed\n",
      "12900 message processed\n",
      "13000 message processed\n",
      "13100 message processed\n",
      "13200 message processed\n",
      "13300 message processed\n",
      "13400 message processed\n",
      "13500 message processed\n",
      "13600 message processed\n",
      "13700 message processed\n",
      "13800 message processed\n",
      "13900 message processed\n",
      "14000 message processed\n",
      "14100 message processed\n",
      "14200 message processed\n",
      "14300 message processed\n",
      "14400 message processed\n",
      "14500 message processed\n",
      "14600 message processed\n",
      "14700 message processed\n",
      "14800 message processed\n",
      "14900 message processed\n",
      "15000 message processed\n",
      "15100 message processed\n",
      "15200 message processed\n",
      "15300 message processed\n",
      "15400 message processed\n",
      "15500 message processed\n",
      "15600 message processed\n",
      "15700 message processed\n",
      "15800 message processed\n",
      "15900 message processed\n",
      "16000 message processed\n",
      "16100 message processed\n",
      "16200 message processed\n",
      "16300 message processed\n",
      "16400 message processed\n",
      "16500 message processed\n",
      "16600 message processed\n",
      "16700 message processed\n",
      "16800 message processed\n",
      "16900 message processed\n",
      "17000 message processed\n",
      "17100 message processed\n",
      "17200 message processed\n",
      "17300 message processed\n",
      "17400 message processed\n",
      "17500 message processed\n",
      "17600 message processed\n",
      "17700 message processed\n",
      "17800 message processed\n",
      "17900 message processed\n",
      "18000 message processed\n",
      "18100 message processed\n",
      "18200 message processed\n",
      "18300 message processed\n",
      "18400 message processed\n",
      "18500 message processed\n",
      "18600 message processed\n",
      "18700 message processed\n",
      "18800 message processed\n",
      "18900 message processed\n",
      "19000 message processed\n",
      "19100 message processed\n",
      "19200 message processed\n",
      "19300 message processed\n",
      "19400 message processed\n",
      "19500 message processed\n",
      "19600 message processed\n",
      "19700 message processed\n",
      "19800 message processed\n",
      "19900 message processed\n",
      "20000 message processed\n",
      "20100 message processed\n",
      "20200 message processed\n",
      "20300 message processed\n",
      "20400 message processed\n",
      "20500 message processed\n",
      "20600 message processed\n",
      "20700 message processed\n",
      "20800 message processed\n",
      "20900 message processed\n",
      "21000 message processed\n",
      "21100 message processed\n",
      "21200 message processed\n",
      "21300 message processed\n",
      "21400 message processed\n",
      "21500 message processed\n",
      "21600 message processed\n",
      "21700 message processed\n",
      "21800 message processed\n",
      "21900 message processed\n",
      "22000 message processed\n",
      "22100 message processed\n",
      "22200 message processed\n",
      "22300 message processed\n",
      "22400 message processed\n",
      "22500 message processed\n",
      "22600 message processed\n",
      "22700 message processed\n",
      "22800 message processed\n",
      "22900 message processed\n",
      "23000 message processed\n",
      "23100 message processed\n",
      "23200 message processed\n",
      "23300 message processed\n",
      "23400 message processed\n",
      "23500 message processed\n",
      "23600 message processed\n",
      "23700 message processed\n",
      "23800 message processed\n",
      "23900 message processed\n",
      "24000 message processed\n",
      "24100 message processed\n",
      "24200 message processed\n",
      "24300 message processed\n",
      "24400 message processed\n",
      "24500 message processed\n",
      "24600 message processed\n",
      "24700 message processed\n",
      "24800 message processed\n",
      "24900 message processed\n",
      "25000 message processed\n",
      "25100 message processed\n",
      "25200 message processed\n",
      "25300 message processed\n",
      "25400 message processed\n",
      "25500 message processed\n",
      "25600 message processed\n",
      "25700 message processed\n",
      "25800 message processed\n",
      "25900 message processed\n",
      "26000 message processed\n",
      "26100 message processed\n",
      "26200 message processed\n",
      "26300 message processed\n",
      "26400 message processed\n",
      "26500 message processed\n",
      "26600 message processed\n",
      "26700 message processed\n",
      "26800 message processed\n",
      "26900 message processed\n",
      "27000 message processed\n",
      "27100 message processed\n",
      "27200 message processed\n",
      "27300 message processed\n",
      "27400 message processed\n",
      "27500 message processed\n",
      "27600 message processed\n",
      "27700 message processed\n",
      "27800 message processed\n",
      "27900 message processed\n",
      "28000 message processed\n",
      "28100 message processed\n",
      "28200 message processed\n",
      "28300 message processed\n",
      "28400 message processed\n",
      "28500 message processed\n",
      "28600 message processed\n",
      "28700 message processed\n",
      "28800 message processed\n",
      "28900 message processed\n",
      "29000 message processed\n",
      "29100 message processed\n",
      "29200 message processed\n",
      "29300 message processed\n",
      "29400 message processed\n",
      "29500 message processed\n",
      "29600 message processed\n",
      "29700 message processed\n",
      "29800 message processed\n",
      "29900 message processed\n",
      "30000 message processed\n",
      "30100 message processed\n",
      "30200 message processed\n",
      "30300 message processed\n",
      "30400 message processed\n",
      "30500 message processed\n",
      "30600 message processed\n",
      "30700 message processed\n",
      "30800 message processed\n",
      "30900 message processed\n",
      "31000 message processed\n",
      "31100 message processed\n",
      "31200 message processed\n",
      "31300 message processed\n",
      "31400 message processed\n",
      "31500 message processed\n",
      "31600 message processed\n",
      "31700 message processed\n",
      "31800 message processed\n",
      "31900 message processed\n",
      "32000 message processed\n",
      "32100 message processed\n",
      "32200 message processed\n",
      "32300 message processed\n",
      "32400 message processed\n",
      "32500 message processed\n",
      "32600 message processed\n",
      "32700 message processed\n",
      "32800 message processed\n",
      "32900 message processed\n",
      "33000 message processed\n",
      "33100 message processed\n",
      "33200 message processed\n",
      "33300 message processed\n",
      "33400 message processed\n",
      "33500 message processed\n",
      "33600 message processed\n",
      "33700 message processed\n",
      "33800 message processed\n",
      "33900 message processed\n",
      "34000 message processed\n",
      "34100 message processed\n",
      "34200 message processed\n",
      "34300 message processed\n",
      "34400 message processed\n",
      "34500 message processed\n",
      "34600 message processed\n",
      "34700 message processed\n",
      "34800 message processed\n",
      "34900 message processed\n",
      "35000 message processed\n",
      "35100 message processed\n",
      "35200 message processed\n",
      "35300 message processed\n",
      "35400 message processed\n",
      "35500 message processed\n",
      "35600 message processed\n",
      "35700 message processed\n",
      "35800 message processed\n",
      "35900 message processed\n",
      "36000 message processed\n",
      "36100 message processed\n",
      "36200 message processed\n",
      "36300 message processed\n",
      "36400 message processed\n",
      "36500 message processed\n",
      "36600 message processed\n",
      "36700 message processed\n",
      "36800 message processed\n",
      "36900 message processed\n",
      "37000 message processed\n",
      "37100 message processed\n",
      "37200 message processed\n",
      "37300 message processed\n",
      "37400 message processed\n",
      "37500 message processed\n",
      "37600 message processed\n",
      "37700 message processed\n",
      "37800 message processed\n",
      "37900 message processed\n",
      "38000 message processed\n",
      "38100 message processed\n",
      "38200 message processed\n",
      "38300 message processed\n",
      "38400 message processed\n",
      "38500 message processed\n",
      "38600 message processed\n",
      "38700 message processed\n",
      "38800 message processed\n",
      "38900 message processed\n",
      "39000 message processed\n",
      "39100 message processed\n",
      "39200 message processed\n",
      "39300 message processed\n",
      "39400 message processed\n",
      "39500 message processed\n",
      "39600 message processed\n",
      "39700 message processed\n",
      "39800 message processed\n",
      "39900 message processed\n",
      "40000 message processed\n",
      "40100 message processed\n",
      "40200 message processed\n",
      "40300 message processed\n",
      "40400 message processed\n",
      "40500 message processed\n",
      "40600 message processed\n",
      "40700 message processed\n",
      "40800 message processed\n",
      "40900 message processed\n",
      "41000 message processed\n",
      "41100 message processed\n",
      "41200 message processed\n",
      "41300 message processed\n",
      "41400 message processed\n",
      "41500 message processed\n",
      "41600 message processed\n",
      "41700 message processed\n",
      "41800 message processed\n",
      "41900 message processed\n",
      "42000 message processed\n",
      "42100 message processed\n",
      "42200 message processed\n",
      "42300 message processed\n",
      "42400 message processed\n",
      "42500 message processed\n",
      "42600 message processed\n",
      "42700 message processed\n",
      "42800 message processed\n",
      "42900 message processed\n",
      "43000 message processed\n",
      "43100 message processed\n",
      "43200 message processed\n",
      "43300 message processed\n",
      "43400 message processed\n",
      "43500 message processed\n",
      "43600 message processed\n",
      "43700 message processed\n",
      "43800 message processed\n",
      "43900 message processed\n",
      "44000 message processed\n",
      "44100 message processed\n",
      "44200 message processed\n",
      "44300 message processed\n",
      "44400 message processed\n",
      "44500 message processed\n",
      "44600 message processed\n",
      "44700 message processed\n",
      "44800 message processed\n",
      "44900 message processed\n",
      "45000 message processed\n",
      "45100 message processed\n",
      "45200 message processed\n",
      "45300 message processed\n",
      "45400 message processed\n",
      "45500 message processed\n",
      "45600 message processed\n",
      "45700 message processed\n",
      "45800 message processed\n",
      "45900 message processed\n",
      "46000 message processed\n",
      "46100 message processed\n",
      "46200 message processed\n",
      "46300 message processed\n",
      "46400 message processed\n",
      "46500 message processed\n",
      "46600 message processed\n",
      "46700 message processed\n",
      "46800 message processed\n",
      "46900 message processed\n",
      "47000 message processed\n",
      "47100 message processed\n",
      "47200 message processed\n",
      "47300 message processed\n",
      "47400 message processed\n",
      "47500 message processed\n",
      "47600 message processed\n",
      "47700 message processed\n",
      "47800 message processed\n",
      "47900 message processed\n",
      "48000 message processed\n",
      "48100 message processed\n",
      "48200 message processed\n",
      "48300 message processed\n",
      "48400 message processed\n",
      "48500 message processed\n",
      "48600 message processed\n",
      "48700 message processed\n",
      "48800 message processed\n",
      "48900 message processed\n",
      "49000 message processed\n",
      "49100 message processed\n",
      "49200 message processed\n",
      "49300 message processed\n",
      "49400 message processed\n",
      "49500 message processed\n",
      "49600 message processed\n",
      "49700 message processed\n",
      "49800 message processed\n",
      "49900 message processed\n",
      "50000 message processed\n",
      "50100 message processed\n",
      "50200 message processed\n",
      "50300 message processed\n",
      "50400 message processed\n",
      "50500 message processed\n",
      "50600 message processed\n",
      "50700 message processed\n",
      "50800 message processed\n",
      "50900 message processed\n",
      "51000 message processed\n",
      "51100 message processed\n",
      "51200 message processed\n",
      "51300 message processed\n",
      "51400 message processed\n",
      "51500 message processed\n",
      "51600 message processed\n",
      "51700 message processed\n",
      "51800 message processed\n",
      "51900 message processed\n",
      "52000 message processed\n",
      "52100 message processed\n",
      "52200 message processed\n",
      "52300 message processed\n",
      "52400 message processed\n",
      "52500 message processed\n",
      "52600 message processed\n",
      "52700 message processed\n",
      "52800 message processed\n",
      "52900 message processed\n",
      "53000 message processed\n",
      "53100 message processed\n",
      "53200 message processed\n",
      "53300 message processed\n",
      "53400 message processed\n",
      "53500 message processed\n",
      "53600 message processed\n",
      "53700 message processed\n",
      "53800 message processed\n",
      "53900 message processed\n",
      "54000 message processed\n",
      "54100 message processed\n",
      "54200 message processed\n",
      "54300 message processed\n",
      "54400 message processed\n",
      "54500 message processed\n",
      "54600 message processed\n",
      "54700 message processed\n",
      "54800 message processed\n",
      "54900 message processed\n",
      "55000 message processed\n",
      "55100 message processed\n",
      "55200 message processed\n",
      "55300 message processed\n",
      "55400 message processed\n",
      "55500 message processed\n",
      "55600 message processed\n",
      "55700 message processed\n",
      "55800 message processed\n",
      "55900 message processed\n",
      "56000 message processed\n",
      "56100 message processed\n",
      "56200 message processed\n",
      "56300 message processed\n",
      "56400 message processed\n",
      "56500 message processed\n",
      "56600 message processed\n",
      "56700 message processed\n",
      "56800 message processed\n",
      "56900 message processed\n",
      "57000 message processed\n",
      "57100 message processed\n",
      "57200 message processed\n",
      "57300 message processed\n",
      "57400 message processed\n",
      "57500 message processed\n",
      "57600 message processed\n",
      "57700 message processed\n",
      "57800 message processed\n",
      "57900 message processed\n",
      "58000 message processed\n",
      "58100 message processed\n",
      "58200 message processed\n",
      "58300 message processed\n",
      "58400 message processed\n",
      "58500 message processed\n",
      "58600 message processed\n",
      "58700 message processed\n",
      "58800 message processed\n",
      "58900 message processed\n",
      "59000 message processed\n",
      "59100 message processed\n",
      "59200 message processed\n",
      "59300 message processed\n",
      "59400 message processed\n",
      "59500 message processed\n",
      "59600 message processed\n",
      "59700 message processed\n",
      "59800 message processed\n",
      "59900 message processed\n",
      "60000 message processed\n",
      "60100 message processed\n",
      "60200 message processed\n",
      "60300 message processed\n",
      "60400 message processed\n",
      "60500 message processed\n",
      "60600 message processed\n",
      "60700 message processed\n",
      "60800 message processed\n",
      "60900 message processed\n",
      "61000 message processed\n",
      "61100 message processed\n",
      "61200 message processed\n",
      "61300 message processed\n",
      "61400 message processed\n",
      "61500 message processed\n",
      "61600 message processed\n",
      "61700 message processed\n",
      "61800 message processed\n",
      "61900 message processed\n",
      "62000 message processed\n",
      "62100 message processed\n",
      "62200 message processed\n",
      "62300 message processed\n",
      "62400 message processed\n",
      "62500 message processed\n",
      "62600 message processed\n",
      "62700 message processed\n",
      "62800 message processed\n",
      "62900 message processed\n",
      "63000 message processed\n",
      "63100 message processed\n",
      "63200 message processed\n",
      "63300 message processed\n",
      "63400 message processed\n",
      "63500 message processed\n",
      "63600 message processed\n",
      "63700 message processed\n",
      "63800 message processed\n",
      "63900 message processed\n",
      "64000 message processed\n",
      "64100 message processed\n",
      "64200 message processed\n",
      "64300 message processed\n",
      "64400 message processed\n",
      "64500 message processed\n",
      "64600 message processed\n",
      "64700 message processed\n",
      "64800 message processed\n",
      "64900 message processed\n",
      "65000 message processed\n",
      "65100 message processed\n",
      "65200 message processed\n",
      "65300 message processed\n",
      "65400 message processed\n",
      "65500 message processed\n",
      "65600 message processed\n",
      "65700 message processed\n",
      "65800 message processed\n",
      "65900 message processed\n",
      "66000 message processed\n",
      "66100 message processed\n",
      "66200 message processed\n",
      "66300 message processed\n",
      "66400 message processed\n",
      "66500 message processed\n",
      "66600 message processed\n",
      "66700 message processed\n",
      "66800 message processed\n",
      "66900 message processed\n",
      "67000 message processed\n",
      "67100 message processed\n",
      "67200 message processed\n",
      "67300 message processed\n",
      "67400 message processed\n",
      "67500 message processed\n",
      "67600 message processed\n",
      "67700 message processed\n",
      "67800 message processed\n",
      "67900 message processed\n",
      "68000 message processed\n",
      "68100 message processed\n",
      "68200 message processed\n",
      "68300 message processed\n",
      "68400 message processed\n",
      "68500 message processed\n",
      "68600 message processed\n",
      "68700 message processed\n",
      "68800 message processed\n",
      "68900 message processed\n",
      "69000 message processed\n",
      "69100 message processed\n",
      "69200 message processed\n",
      "69300 message processed\n",
      "69400 message processed\n",
      "69500 message processed\n",
      "69600 message processed\n",
      "69700 message processed\n",
      "69800 message processed\n",
      "69900 message processed\n",
      "70000 message processed\n",
      "70100 message processed\n",
      "70200 message processed\n",
      "70300 message processed\n",
      "70400 message processed\n",
      "70500 message processed\n",
      "70600 message processed\n",
      "70700 message processed\n",
      "70800 message processed\n",
      "70900 message processed\n",
      "71000 message processed\n",
      "71100 message processed\n",
      "71200 message processed\n",
      "71300 message processed\n",
      "71400 message processed\n",
      "71500 message processed\n",
      "71600 message processed\n",
      "71700 message processed\n",
      "71800 message processed\n",
      "71900 message processed\n",
      "72000 message processed\n",
      "72100 message processed\n",
      "72200 message processed\n",
      "72300 message processed\n",
      "72400 message processed\n",
      "72500 message processed\n",
      "72600 message processed\n",
      "72700 message processed\n",
      "72800 message processed\n",
      "72900 message processed\n",
      "73000 message processed\n",
      "73100 message processed\n",
      "73200 message processed\n",
      "73300 message processed\n",
      "73400 message processed\n",
      "73500 message processed\n",
      "73600 message processed\n",
      "73700 message processed\n",
      "73800 message processed\n",
      "73900 message processed\n",
      "74000 message processed\n",
      "74100 message processed\n",
      "74200 message processed\n",
      "74300 message processed\n",
      "74400 message processed\n",
      "74500 message processed\n",
      "74600 message processed\n",
      "74700 message processed\n",
      "74800 message processed\n",
      "74900 message processed\n",
      "75000 message processed\n",
      "75100 message processed\n",
      "75200 message processed\n",
      "75300 message processed\n",
      "75400 message processed\n",
      "75500 message processed\n",
      "75600 message processed\n",
      "75700 message processed\n",
      "75800 message processed\n",
      "75900 message processed\n",
      "76000 message processed\n",
      "76100 message processed\n",
      "76200 message processed\n",
      "76300 message processed\n",
      "76400 message processed\n",
      "76500 message processed\n",
      "76600 message processed\n",
      "76700 message processed\n",
      "76800 message processed\n",
      "76900 message processed\n",
      "77000 message processed\n",
      "77100 message processed\n",
      "77200 message processed\n",
      "77300 message processed\n",
      "77400 message processed\n",
      "77500 message processed\n",
      "77600 message processed\n",
      "77700 message processed\n",
      "77800 message processed\n",
      "77900 message processed\n",
      "78000 message processed\n",
      "78100 message processed\n",
      "78200 message processed\n",
      "78300 message processed\n",
      "78400 message processed\n",
      "78500 message processed\n",
      "78600 message processed\n",
      "78700 message processed\n",
      "78800 message processed\n",
      "78900 message processed\n",
      "79000 message processed\n",
      "79100 message processed\n",
      "79200 message processed\n",
      "79300 message processed\n",
      "79400 message processed\n",
      "79500 message processed\n",
      "79600 message processed\n",
      "79700 message processed\n",
      "79800 message processed\n",
      "79900 message processed\n",
      "80000 message processed\n",
      "80100 message processed\n",
      "80200 message processed\n",
      "80300 message processed\n",
      "80400 message processed\n",
      "80500 message processed\n",
      "80600 message processed\n",
      "80700 message processed\n",
      "80800 message processed\n",
      "80900 message processed\n",
      "81000 message processed\n",
      "81100 message processed\n",
      "81200 message processed\n",
      "81300 message processed\n",
      "81400 message processed\n",
      "81500 message processed\n",
      "81600 message processed\n",
      "81700 message processed\n",
      "81800 message processed\n",
      "81900 message processed\n",
      "82000 message processed\n",
      "82100 message processed\n",
      "82200 message processed\n",
      "82300 message processed\n",
      "82400 message processed\n",
      "82500 message processed\n",
      "82600 message processed\n",
      "82700 message processed\n",
      "82800 message processed\n",
      "82900 message processed\n",
      "83000 message processed\n",
      "83100 message processed\n",
      "83200 message processed\n",
      "83300 message processed\n",
      "83400 message processed\n",
      "83500 message processed\n",
      "83600 message processed\n",
      "83700 message processed\n",
      "83800 message processed\n",
      "83900 message processed\n",
      "84000 message processed\n",
      "84100 message processed\n",
      "84200 message processed\n",
      "84300 message processed\n"
     ]
    }
   ],
   "source": [
    "\n",
    "import warnings\n",
    "from textblob import TextBlob\n",
    "from nltk.corpus import stopwords\n",
    "import string\n",
    "import numpy as np\n",
    "from nltk.sentiment.vader import SentimentIntensityAnalyzer\n",
    "import nltk\n",
    "from sklearn import cluster\n",
    "\n",
    "\n",
    "\n",
    "# Let's create our feature vector as Kmeans works with numerical values only\n",
    "# thus we need to convert our text data into numeric features in some way which should \n",
    "# prove usful to our learning algorithm and it can easily find pattern in it.\n",
    "# So, i will be using polarity score of the extracted adjectives as our feature\n",
    "\n",
    "def create_polarity_vector(all_adjectives):\n",
    "    # NLTK Vader sentiment analyzer\n",
    "    sid = SentimentIntensityAnalyzer()\n",
    "\n",
    "    #Taking compound score as one feature, (compund score = -ve indicates negative sentiments)\n",
    "    #(compund score = +ve indicates positive sentiments, ie compound value is normalization b/w +ve and -ve)\n",
    "    feature_vector=[1 if sid.polarity_scores(i)['compound']>=0 else -1 for i in all_adjectives]\n",
    "    \n",
    "    return feature_vector\n",
    "\n",
    "\n",
    "# utility function to read text file\n",
    "def polarity_sets_file(input_file):\n",
    "    with open(input_file, 'r') as f:\n",
    "        input_text = f.read()\n",
    "        return input_text\n",
    "\n",
    "# utility function to extract all adjectives from text document\n",
    "def extract_adjectives(text):\n",
    "    tokenized_text= nltk.word_tokenize(text)\n",
    "    tagged_text = nltk.pos_tag(tokenized_text)\n",
    "    all_adjectives = list({i[0] for i in tagged_text if i[1] == 'JJ'})\n",
    "    return all_adjectives\n",
    "\n",
    "# Cleaning up text \n",
    "def clean_text(text):    \n",
    "    \n",
    "    #stopword removal\n",
    "    stop_word=list(stopwords.words('english'))\n",
    "    toke=list(text.split(' '))\n",
    "    text = ' '.join([i for i in toke if i not in stop_word])\n",
    "    \n",
    "    #punctutaion removal\n",
    "    t_lator=str.maketrans('','',string.punctuation)\n",
    "    text=text.translate(t_lator)\n",
    "    remove_digits = str.maketrans('', '', string.digits)\n",
    "    text = text.translate(remove_digits)    \n",
    "    \n",
    "    #removing special symbol\n",
    "    for i in '“”—':\n",
    "        text = text.replace(i, ' ')\n",
    "        \n",
    "    return text\n",
    "import time\n",
    "\n",
    "\n",
    "\n",
    "\n",
    "with warnings.catch_warnings():\n",
    "    warnings.simplefilter(\"ignore\")\n",
    "    PN = []\n",
    "    # covid_data = covid_data.sample(100)\n",
    "    for i,text in enumerate(covid_data.Message):\n",
    "      if i%100 == 0:\n",
    "        print('{} message processed'.format(i))\n",
    "      try:\n",
    "        # Reading our file\n",
    "        # text = polarity_sets_file('test.txt')\n",
    "        # cleaning our text data\n",
    "        text = clean_text(text)\n",
    "        # Getting adjectieves from our document\n",
    "        adjectives = extract_adjectives(text)\n",
    "        # Preparing our feature vector\n",
    "        features = create_polarity_vector(adjectives)\n",
    "        # Making clusters using KMeans\n",
    "        feature_ = np.array(features).reshape(-1,1)\n",
    "        kmeans = cluster.KMeans(n_clusters=2)\n",
    "        kmeans.fit(feature_)\n",
    "        labels = kmeans.predict(feature_)\n",
    "\n",
    "        # Identifying positive and negative terms\n",
    "\n",
    "        type1_terms,type2_terms = [], []\n",
    "\n",
    "        for i,j in zip(adjectives,labels):\n",
    "            if j == 0 :\n",
    "                type1_terms.append(i)\n",
    "            else:\n",
    "                type2_terms.append(i)\n",
    "        if len(type1_terms) > len(type2_terms):\n",
    "          PN.append('N')\n",
    "        else:\n",
    "          PN.append('P')\n",
    "\n",
    "      except:\n",
    "        PN.append(np.nan)\n",
    "        continue"
   ]
  },
  {
   "cell_type": "code",
   "execution_count": 28,
   "metadata": {
    "id": "2kJZ7GOsaQrw"
   },
   "outputs": [
    {
     "name": "stderr",
     "output_type": "stream",
     "text": [
      "<ipython-input-28-8fb4995c986c>:4: SettingWithCopyWarning: \n",
      "A value is trying to be set on a copy of a slice from a DataFrame.\n",
      "Try using .loc[row_indexer,col_indexer] = value instead\n",
      "\n",
      "See the caveats in the documentation: https://pandas.pydata.org/pandas-docs/stable/user_guide/indexing.html#returning-a-view-versus-a-copy\n",
      "  covid_data['PN'] = PN\n"
     ]
    },
    {
     "data": {
      "image/png": "[encoded data removed]",
      "text/plain": [
       "<Figure size 1080x360 with 1 Axes>"
      ]
     },
     "metadata": {},
     "output_type": "display_data"
    }
   ],
   "source": [
    "\"\"\"\n",
    "Postive/negative posts results\n",
    "\"\"\"\n",
    "covid_data['PN'] = PN\n",
    "# PN = postive or negative\n",
    "ax = sns.countplot(x=\"PN\", data=covid_data)"
   ]
  },
  {
   "cell_type": "code",
   "execution_count": 29,
   "metadata": {
    "id": "UZUsXRAPZ4DL"
   },
   "outputs": [],
   "source": [
    "covid_data.to_csv('covid_data_final.csv',index=False)"
   ]
  },
  {
   "cell_type": "code",
   "execution_count": 30,
   "metadata": {},
   "outputs": [
    {
     "name": "stderr",
     "output_type": "stream",
     "text": [
      "/Users/brinxu/opt/anaconda3/lib/python3.8/site-packages/IPython/core/interactiveshell.py:3165: DtypeWarning: Columns (32) have mixed types.Specify dtype option on import or set low_memory=False.\n",
      "  has_raised = await self.run_ast_nodes(code_ast.body, cell_name,\n"
     ]
    }
   ],
   "source": [
    "covid_data = pd.read_csv('covid_data_final.csv')"
   ]
  },
  {
   "cell_type": "code",
   "execution_count": 31,
   "metadata": {
    "id": "KMLI7lV6aQtx"
   },
   "outputs": [
    {
     "data": {
      "text/plain": [
       "<seaborn.axisgrid.FacetGrid at 0x7fe4d3f1b0a0>"
      ]
     },
     "execution_count": 31,
     "metadata": {},
     "output_type": "execute_result"
    },
    {
     "data": {
      "image/png": "[encoded data removed]",
      "text/plain": [
       "<Figure size 461.475x360 with 1 Axes>"
      ]
     },
     "metadata": {},
     "output_type": "display_data"
    }
   ],
   "source": [
    "\"\"\"\n",
    "Relation between Postive/negative posts and journal type.\n",
    "\"\"\"\n",
    "sns.catplot(x=\"PN\", hue=\"LNC_category\", kind=\"count\", data=covid_data)"
   ]
  },
  {
   "cell_type": "code",
   "execution_count": 32,
   "metadata": {
    "id": "xoaGZIaVaQyb"
   },
   "outputs": [
    {
     "data": {
      "text/plain": [
       "<seaborn.axisgrid.FacetGrid at 0x7fe4624270a0>"
      ]
     },
     "execution_count": 32,
     "metadata": {},
     "output_type": "execute_result"
    },
    {
     "data": {
      "image/png": "[encoded data removed]",
      "text/plain": [
       "<Figure size 461.475x360 with 1 Axes>"
      ]
     },
     "metadata": {},
     "output_type": "display_data"
    }
   ],
   "source": [
    "sns.catplot(x=\"PN\",y=\"Likes\", hue=\"LNC_category\", kind=\"bar\", data=covid_data)"
   ]
  },
  {
   "cell_type": "code",
   "execution_count": 33,
   "metadata": {
    "id": "0gHIPLtWchwD"
   },
   "outputs": [
    {
     "data": {
      "text/plain": [
       "Index(['Page Name', 'User Name', 'Facebook Id', 'Page Category',\n",
       "       'Page Admin Top Country', 'Page Description', 'Page Created',\n",
       "       'Likes at Posting', 'Followers at Posting', 'Post Created',\n",
       "       'Post Created Date', 'Post Created Time', 'Type', 'Total Interactions',\n",
       "       'Likes', 'Comments', 'Shares', 'Love', 'Wow', 'Haha', 'Sad', 'Angry',\n",
       "       'Care', 'Is Video Owner?', 'Post Views', 'Total Views',\n",
       "       'Total Views For All Crossposts', 'URL', 'Message', 'Link', 'Link Text',\n",
       "       'Description',\n",
       "       'Overperforming Score (weighted  —  Likes 1x Shares 1x Comments 1x Love 1x Wow 1x Haha 1x Sad 1x Angry 1x Care 1x )',\n",
       "       'LNC_category', 'ï»¿Page Name', 'Video Share Status', 'Video Length',\n",
       "       'Final Link', 'Image Text', 'Sponsor Id', 'Sponsor Name',\n",
       "       'Sponsor Category',\n",
       "       'Overperforming Score (weighted  â  Likes 1x Shares 1x Comments 1x Love 1x Wow 1x Haha 1x Sad 1x Angry 1x Care 1x )',\n",
       "       'covid', 'PN'],\n",
       "      dtype='object')"
      ]
     },
     "execution_count": 33,
     "metadata": {},
     "output_type": "execute_result"
    }
   ],
   "source": [
    "covid_data.columns"
   ]
  },
  {
   "cell_type": "code",
   "execution_count": 34,
   "metadata": {
    "id": "IyAHXJnKaQ2M"
   },
   "outputs": [
    {
     "data": {
      "image/png": "[encoded data removed]",
      "text/plain": [
       "<Figure size 461.475x360 with 1 Axes>"
      ]
     },
     "metadata": {},
     "output_type": "display_data"
    },
    {
     "data": {
      "image/png": "[encoded data removed]",
      "text/plain": [
       "<Figure size 461.475x360 with 1 Axes>"
      ]
     },
     "metadata": {},
     "output_type": "display_data"
    },
    {
     "data": {
      "image/png": "[encoded data removed]",
      "text/plain": [
       "<Figure size 461.475x360 with 1 Axes>"
      ]
     },
     "metadata": {},
     "output_type": "display_data"
    },
    {
     "data": {
      "image/png": "[encoded data removed]",
      "text/plain": [
       "<Figure size 461.475x360 with 1 Axes>"
      ]
     },
     "metadata": {},
     "output_type": "display_data"
    },
    {
     "data": {
      "image/png": "[encoded data removed]",
      "text/plain": [
       "<Figure size 461.475x360 with 1 Axes>"
      ]
     },
     "metadata": {},
     "output_type": "display_data"
    },
    {
     "data": {
      "image/png": "[encoded data removed]",
      "text/plain": [
       "<Figure size 461.475x360 with 1 Axes>"
      ]
     },
     "metadata": {},
     "output_type": "display_data"
    },
    {
     "data": {
      "image/png": "[encoded data removed]",
      "text/plain": [
       "<Figure size 461.475x360 with 1 Axes>"
      ]
     },
     "metadata": {},
     "output_type": "display_data"
    },
    {
     "data": {
      "image/png": "[encoded data removed]",
      "text/plain": [
       "<Figure size 461.475x360 with 1 Axes>"
      ]
     },
     "metadata": {},
     "output_type": "display_data"
    },
    {
     "data": {
      "image/png": "[encoded data removed]",
      "text/plain": [
       "<Figure size 461.475x360 with 1 Axes>"
      ]
     },
     "metadata": {},
     "output_type": "display_data"
    },
    {
     "data": {
      "image/png": "[encoded data removed]",
      "text/plain": [
       "<Figure size 461.475x360 with 1 Axes>"
      ]
     },
     "metadata": {},
     "output_type": "display_data"
    },
    {
     "data": {
      "image/png": "[encoded data removed]",
      "text/plain": [
       "<Figure size 461.475x360 with 1 Axes>"
      ]
     },
     "metadata": {},
     "output_type": "display_data"
    }
   ],
   "source": [
    "from pandas.api.types import is_numeric_dtype\n",
    "for col in ['Likes at Posting','Followers at Posting','Total Interactions','Likes','Comments','Shares','Love', 'Wow', 'Haha', 'Sad', 'Angry',\n",
    "       'Care']:\n",
    "    if is_numeric_dtype(covid_data[col]):\n",
    "        sns.catplot(x=\"PN\",y=col, hue=\"LNC_category\", kind=\"bar\", data=covid_data)"
   ]
  },
  {
   "cell_type": "markdown",
   "metadata": {},
   "source": [
    "## Part 3: Generate Moral Foundation Score"
   ]
  },
  {
   "cell_type": "code",
   "execution_count": 35,
   "metadata": {
    "id": "aUuiZl1ysoyd"
   },
   "outputs": [],
   "source": [
    "import pandas as pd \n",
    "import numpy as np\n",
    "import seaborn as sns\n",
    "from matplotlib import pyplot as plt"
   ]
  },
  {
   "cell_type": "code",
   "execution_count": 36,
   "metadata": {
    "id": "pFaZi6TkucZB"
   },
   "outputs": [
    {
     "data": {
      "text/html": [
       "<div>\n",
       "<style scoped>\n",
       "    .dataframe tbody tr th:only-of-type {\n",
       "        vertical-align: middle;\n",
       "    }\n",
       "\n",
       "    .dataframe tbody tr th {\n",
       "        vertical-align: top;\n",
       "    }\n",
       "\n",
       "    .dataframe thead th {\n",
       "        text-align: right;\n",
       "    }\n",
       "</style>\n",
       "<table border=\"1\" class=\"dataframe\">\n",
       "  <thead>\n",
       "    <tr style=\"text-align: right;\">\n",
       "      <th></th>\n",
       "      <th>0</th>\n",
       "    </tr>\n",
       "  </thead>\n",
       "  <tbody>\n",
       "    <tr>\n",
       "      <th>0</th>\n",
       "      <td>A pair of US senators are asking the Biden adm...</td>\n",
       "    </tr>\n",
       "    <tr>\n",
       "      <th>1</th>\n",
       "      <td>The stark disparity between low and high vacci...</td>\n",
       "    </tr>\n",
       "    <tr>\n",
       "      <th>2</th>\n",
       "      <td>US Surgeon General Dr. Vivek Murthy says he is...</td>\n",
       "    </tr>\n",
       "    <tr>\n",
       "      <th>3</th>\n",
       "      <td>Kim Jong Un fired several senior officials who...</td>\n",
       "    </tr>\n",
       "    <tr>\n",
       "      <th>4</th>\n",
       "      <td>In many ways, the pandemic was a perfect storm...</td>\n",
       "    </tr>\n",
       "  </tbody>\n",
       "</table>\n",
       "</div>"
      ],
      "text/plain": [
       "                                                   0\n",
       "0  A pair of US senators are asking the Biden adm...\n",
       "1  The stark disparity between low and high vacci...\n",
       "2  US Surgeon General Dr. Vivek Murthy says he is...\n",
       "3  Kim Jong Un fired several senior officials who...\n",
       "4  In many ways, the pandemic was a perfect storm..."
      ]
     },
     "execution_count": 36,
     "metadata": {},
     "output_type": "execute_result"
    }
   ],
   "source": [
    "template_input = pd.DataFrame(data=covid_data.Message.values)\n",
    "template_input.head()"
   ]
  },
  {
   "cell_type": "code",
   "execution_count": 37,
   "metadata": {},
   "outputs": [
    {
     "name": "stdout",
     "output_type": "stream",
     "text": [
      "Collecting https://github.com/medianeuroscience/emfdscore/archive/master.zip\n",
      "  Using cached https://github.com/medianeuroscience/emfdscore/archive/master.zip\n",
      "  Preparing metadata (setup.py) ... \u001b[?25ldone\n",
      "\u001b[?25hRequirement already satisfied: pandas in ./opt/anaconda3/lib/python3.8/site-packages (from emfdscore==0.0.1) (1.2.4)\n",
      "Requirement already satisfied: progressbar2 in ./opt/anaconda3/lib/python3.8/site-packages (from emfdscore==0.0.1) (3.55.0)\n",
      "Requirement already satisfied: sklearn in ./opt/anaconda3/lib/python3.8/site-packages (from emfdscore==0.0.1) (0.0)\n",
      "Requirement already satisfied: nltk in ./opt/anaconda3/lib/python3.8/site-packages (from emfdscore==0.0.1) (3.6.1)\n",
      "Requirement already satisfied: numpy in ./opt/anaconda3/lib/python3.8/site-packages (from emfdscore==0.0.1) (1.20.1)\n",
      "Requirement already satisfied: click in ./opt/anaconda3/lib/python3.8/site-packages (from nltk->emfdscore==0.0.1) (7.1.2)\n",
      "Requirement already satisfied: regex in ./opt/anaconda3/lib/python3.8/site-packages (from nltk->emfdscore==0.0.1) (2021.4.4)\n",
      "Requirement already satisfied: tqdm in ./opt/anaconda3/lib/python3.8/site-packages (from nltk->emfdscore==0.0.1) (4.59.0)\n",
      "Requirement already satisfied: joblib in ./opt/anaconda3/lib/python3.8/site-packages (from nltk->emfdscore==0.0.1) (1.0.1)\n",
      "Requirement already satisfied: python-dateutil>=2.7.3 in ./opt/anaconda3/lib/python3.8/site-packages (from pandas->emfdscore==0.0.1) (2.8.1)\n",
      "Requirement already satisfied: pytz>=2017.3 in ./opt/anaconda3/lib/python3.8/site-packages (from pandas->emfdscore==0.0.1) (2021.1)\n",
      "Requirement already satisfied: six in ./opt/anaconda3/lib/python3.8/site-packages (from progressbar2->emfdscore==0.0.1) (1.15.0)\n",
      "Requirement already satisfied: python-utils>=2.3.0 in ./opt/anaconda3/lib/python3.8/site-packages (from progressbar2->emfdscore==0.0.1) (2.5.6)\n",
      "Requirement already satisfied: scikit-learn in ./opt/anaconda3/lib/python3.8/site-packages (from sklearn->emfdscore==0.0.1) (0.24.1)\n",
      "Requirement already satisfied: threadpoolctl>=2.0.0 in ./opt/anaconda3/lib/python3.8/site-packages (from scikit-learn->sklearn->emfdscore==0.0.1) (2.1.0)\n",
      "Requirement already satisfied: scipy>=0.19.1 in ./opt/anaconda3/lib/python3.8/site-packages (from scikit-learn->sklearn->emfdscore==0.0.1) (1.6.2)\n"
     ]
    }
   ],
   "source": [
    "!pip install https://github.com/medianeuroscience/emfdscore/archive/master.zip"
   ]
  },
  {
   "cell_type": "code",
   "execution_count": 38,
   "metadata": {
    "id": "_UMd2IiWso0r"
   },
   "outputs": [
    {
     "name": "stderr",
     "output_type": "stream",
     "text": [
      "Processed: 84385 100% |❤❤❤❤❤❤❤❤❤❤❤❤❤❤❤❤❤❤| Elapsed Time: 0:04:31 Time:  0:04:31\n"
     ]
    }
   ],
   "source": [
    "from emfdscore.scoring import score_docs \n",
    "\n",
    "num_docs = len(template_input)\n",
    "\n",
    "DICT_TYPE = 'emfd'\n",
    "PROB_MAP = 'all'\n",
    "SCORE_METHOD = 'bow'\n",
    "OUT_METRICS = 'sentiment'\n",
    "OUT_CSV_PATH = 'all-sent.csv'\n",
    "\n",
    "df = score_docs(template_input,DICT_TYPE,PROB_MAP,SCORE_METHOD,OUT_METRICS,num_docs)\n",
    "df.to_csv(OUT_CSV_PATH, index=False)"
   ]
  },
  {
   "cell_type": "code",
   "execution_count": 39,
   "metadata": {
    "id": "6Eo-cyn7HSRx"
   },
   "outputs": [
    {
     "data": {
      "text/plain": [
       "(84385, 45)"
      ]
     },
     "execution_count": 39,
     "metadata": {},
     "output_type": "execute_result"
    }
   ],
   "source": [
    "covid_data.shape"
   ]
  },
  {
   "cell_type": "code",
   "execution_count": 40,
   "metadata": {
    "id": "qieIDfcyso5D"
   },
   "outputs": [
    {
     "data": {
      "text/html": [
       "<div>\n",
       "<style scoped>\n",
       "    .dataframe tbody tr th:only-of-type {\n",
       "        vertical-align: middle;\n",
       "    }\n",
       "\n",
       "    .dataframe tbody tr th {\n",
       "        vertical-align: top;\n",
       "    }\n",
       "\n",
       "    .dataframe thead th {\n",
       "        text-align: right;\n",
       "    }\n",
       "</style>\n",
       "<table border=\"1\" class=\"dataframe\">\n",
       "  <thead>\n",
       "    <tr style=\"text-align: right;\">\n",
       "      <th></th>\n",
       "      <th>Page Name</th>\n",
       "      <th>User Name</th>\n",
       "      <th>Facebook Id</th>\n",
       "      <th>Page Category</th>\n",
       "      <th>Page Admin Top Country</th>\n",
       "      <th>Page Description</th>\n",
       "      <th>Page Created</th>\n",
       "      <th>Likes at Posting</th>\n",
       "      <th>Followers at Posting</th>\n",
       "      <th>Post Created</th>\n",
       "      <th>...</th>\n",
       "      <th>authority_p</th>\n",
       "      <th>sanctity_p</th>\n",
       "      <th>care_sent</th>\n",
       "      <th>fairness_sent</th>\n",
       "      <th>loyalty_sent</th>\n",
       "      <th>authority_sent</th>\n",
       "      <th>sanctity_sent</th>\n",
       "      <th>moral_nonmoral_ratio</th>\n",
       "      <th>f_var</th>\n",
       "      <th>sent_var</th>\n",
       "    </tr>\n",
       "  </thead>\n",
       "  <tbody>\n",
       "    <tr>\n",
       "      <th>0</th>\n",
       "      <td>CNN</td>\n",
       "      <td>cnn</td>\n",
       "      <td>5550296508</td>\n",
       "      <td>MEDIA_NEWS_COMPANY</td>\n",
       "      <td>US</td>\n",
       "      <td>Instant breaking news alerts and the most talk...</td>\n",
       "      <td>2007-11-07 22:14:27</td>\n",
       "      <td>34563652.0</td>\n",
       "      <td>38358192.0</td>\n",
       "      <td>2021-06-30 13:00:28 EDT</td>\n",
       "      <td>...</td>\n",
       "      <td>0.139355</td>\n",
       "      <td>0.085406</td>\n",
       "      <td>-0.121268</td>\n",
       "      <td>-0.095777</td>\n",
       "      <td>0.006735</td>\n",
       "      <td>-0.070749</td>\n",
       "      <td>-0.175241</td>\n",
       "      <td>0.777778</td>\n",
       "      <td>0.000574</td>\n",
       "      <td>0.004499</td>\n",
       "    </tr>\n",
       "    <tr>\n",
       "      <th>1</th>\n",
       "      <td>CNN</td>\n",
       "      <td>cnn</td>\n",
       "      <td>5550296508</td>\n",
       "      <td>MEDIA_NEWS_COMPANY</td>\n",
       "      <td>US</td>\n",
       "      <td>Instant breaking news alerts and the most talk...</td>\n",
       "      <td>2007-11-07 22:14:27</td>\n",
       "      <td>34563652.0</td>\n",
       "      <td>38358192.0</td>\n",
       "      <td>2021-06-30 09:27:09 EDT</td>\n",
       "      <td>...</td>\n",
       "      <td>0.083956</td>\n",
       "      <td>0.093256</td>\n",
       "      <td>-0.120624</td>\n",
       "      <td>-0.086392</td>\n",
       "      <td>-0.081137</td>\n",
       "      <td>-0.065666</td>\n",
       "      <td>-0.057119</td>\n",
       "      <td>0.777778</td>\n",
       "      <td>0.000388</td>\n",
       "      <td>0.000599</td>\n",
       "    </tr>\n",
       "  </tbody>\n",
       "</table>\n",
       "<p>2 rows × 58 columns</p>\n",
       "</div>"
      ],
      "text/plain": [
       "  Page Name User Name  Facebook Id       Page Category Page Admin Top Country  \\\n",
       "0       CNN       cnn   5550296508  MEDIA_NEWS_COMPANY                     US   \n",
       "1       CNN       cnn   5550296508  MEDIA_NEWS_COMPANY                     US   \n",
       "\n",
       "                                    Page Description         Page Created  \\\n",
       "0  Instant breaking news alerts and the most talk...  2007-11-07 22:14:27   \n",
       "1  Instant breaking news alerts and the most talk...  2007-11-07 22:14:27   \n",
       "\n",
       "   Likes at Posting  Followers at Posting             Post Created  ...  \\\n",
       "0        34563652.0            38358192.0  2021-06-30 13:00:28 EDT  ...   \n",
       "1        34563652.0            38358192.0  2021-06-30 09:27:09 EDT  ...   \n",
       "\n",
       "  authority_p sanctity_p care_sent fairness_sent  loyalty_sent  \\\n",
       "0    0.139355   0.085406 -0.121268     -0.095777      0.006735   \n",
       "1    0.083956   0.093256 -0.120624     -0.086392     -0.081137   \n",
       "\n",
       "   authority_sent  sanctity_sent  moral_nonmoral_ratio     f_var  sent_var  \n",
       "0       -0.070749      -0.175241              0.777778  0.000574  0.004499  \n",
       "1       -0.065666      -0.057119              0.777778  0.000388  0.000599  \n",
       "\n",
       "[2 rows x 58 columns]"
      ]
     },
     "execution_count": 40,
     "metadata": {},
     "output_type": "execute_result"
    }
   ],
   "source": [
    "DF_FINAL = pd.concat([covid_data.reset_index(drop=True),df.reset_index(drop=True)], axis=1)\n",
    "DF_FINAL.head(2)"
   ]
  },
  {
   "cell_type": "code",
   "execution_count": 41,
   "metadata": {
    "id": "bv8viDLDXdoH"
   },
   "outputs": [],
   "source": [
    "DF_FINAL.to_csv('final.csv', index=False)"
   ]
  },
  {
   "cell_type": "code",
   "execution_count": 42,
   "metadata": {},
   "outputs": [
    {
     "name": "stderr",
     "output_type": "stream",
     "text": [
      "/Users/brinxu/opt/anaconda3/lib/python3.8/site-packages/IPython/core/interactiveshell.py:3165: DtypeWarning: Columns (32) have mixed types.Specify dtype option on import or set low_memory=False.\n",
      "  has_raised = await self.run_ast_nodes(code_ast.body, cell_name,\n"
     ]
    }
   ],
   "source": [
    "DF_FINAL = pd.read_csv('final.csv')"
   ]
  },
  {
   "cell_type": "markdown",
   "metadata": {
    "id": "ah9S42V7WiZD"
   },
   "source": [
    "## Part 4: Multilevel Regressions"
   ]
  },
  {
   "cell_type": "markdown",
   "metadata": {},
   "source": [
    "### Import Packages and Prepare Data"
   ]
  },
  {
   "cell_type": "code",
   "execution_count": 43,
   "metadata": {
    "id": "keEGC3RnH5Pl",
    "scrolled": true
   },
   "outputs": [
    {
     "data": {
      "text/html": [
       "<div>\n",
       "<style scoped>\n",
       "    .dataframe tbody tr th:only-of-type {\n",
       "        vertical-align: middle;\n",
       "    }\n",
       "\n",
       "    .dataframe tbody tr th {\n",
       "        vertical-align: top;\n",
       "    }\n",
       "\n",
       "    .dataframe thead th {\n",
       "        text-align: right;\n",
       "    }\n",
       "</style>\n",
       "<table border=\"1\" class=\"dataframe\">\n",
       "  <thead>\n",
       "    <tr style=\"text-align: right;\">\n",
       "      <th></th>\n",
       "      <th>Page Name</th>\n",
       "      <th>User Name</th>\n",
       "      <th>Facebook Id</th>\n",
       "      <th>Page Category</th>\n",
       "      <th>Page Admin Top Country</th>\n",
       "      <th>Page Description</th>\n",
       "      <th>Page Created</th>\n",
       "      <th>Likes at Posting</th>\n",
       "      <th>Followers at Posting</th>\n",
       "      <th>Post Created</th>\n",
       "      <th>...</th>\n",
       "      <th>authority_p</th>\n",
       "      <th>sanctity_p</th>\n",
       "      <th>care_sent</th>\n",
       "      <th>fairness_sent</th>\n",
       "      <th>loyalty_sent</th>\n",
       "      <th>authority_sent</th>\n",
       "      <th>sanctity_sent</th>\n",
       "      <th>moral_nonmoral_ratio</th>\n",
       "      <th>f_var</th>\n",
       "      <th>sent_var</th>\n",
       "    </tr>\n",
       "  </thead>\n",
       "  <tbody>\n",
       "    <tr>\n",
       "      <th>0</th>\n",
       "      <td>CNN</td>\n",
       "      <td>cnn</td>\n",
       "      <td>5550296508</td>\n",
       "      <td>MEDIA_NEWS_COMPANY</td>\n",
       "      <td>US</td>\n",
       "      <td>Instant breaking news alerts and the most talk...</td>\n",
       "      <td>2007-11-07 22:14:27</td>\n",
       "      <td>34563652.0</td>\n",
       "      <td>38358192.0</td>\n",
       "      <td>2021-06-30 13:00:28 EDT</td>\n",
       "      <td>...</td>\n",
       "      <td>0.139355</td>\n",
       "      <td>0.085406</td>\n",
       "      <td>-0.121268</td>\n",
       "      <td>-0.095777</td>\n",
       "      <td>0.006735</td>\n",
       "      <td>-0.070749</td>\n",
       "      <td>-0.175241</td>\n",
       "      <td>0.777778</td>\n",
       "      <td>0.000574</td>\n",
       "      <td>0.004499</td>\n",
       "    </tr>\n",
       "    <tr>\n",
       "      <th>1</th>\n",
       "      <td>CNN</td>\n",
       "      <td>cnn</td>\n",
       "      <td>5550296508</td>\n",
       "      <td>MEDIA_NEWS_COMPANY</td>\n",
       "      <td>US</td>\n",
       "      <td>Instant breaking news alerts and the most talk...</td>\n",
       "      <td>2007-11-07 22:14:27</td>\n",
       "      <td>34563652.0</td>\n",
       "      <td>38358192.0</td>\n",
       "      <td>2021-06-30 09:27:09 EDT</td>\n",
       "      <td>...</td>\n",
       "      <td>0.083956</td>\n",
       "      <td>0.093256</td>\n",
       "      <td>-0.120624</td>\n",
       "      <td>-0.086392</td>\n",
       "      <td>-0.081137</td>\n",
       "      <td>-0.065666</td>\n",
       "      <td>-0.057119</td>\n",
       "      <td>0.777778</td>\n",
       "      <td>0.000388</td>\n",
       "      <td>0.000599</td>\n",
       "    </tr>\n",
       "    <tr>\n",
       "      <th>2</th>\n",
       "      <td>CNN</td>\n",
       "      <td>cnn</td>\n",
       "      <td>5550296508</td>\n",
       "      <td>MEDIA_NEWS_COMPANY</td>\n",
       "      <td>US</td>\n",
       "      <td>Instant breaking news alerts and the most talk...</td>\n",
       "      <td>2007-11-07 22:14:27</td>\n",
       "      <td>34563652.0</td>\n",
       "      <td>38358192.0</td>\n",
       "      <td>2021-06-30 09:15:16 EDT</td>\n",
       "      <td>...</td>\n",
       "      <td>0.068872</td>\n",
       "      <td>0.064272</td>\n",
       "      <td>-0.126078</td>\n",
       "      <td>-0.013716</td>\n",
       "      <td>-0.024528</td>\n",
       "      <td>0.061423</td>\n",
       "      <td>0.024422</td>\n",
       "      <td>1.166667</td>\n",
       "      <td>0.000080</td>\n",
       "      <td>0.004956</td>\n",
       "    </tr>\n",
       "    <tr>\n",
       "      <th>3</th>\n",
       "      <td>CNN</td>\n",
       "      <td>cnn</td>\n",
       "      <td>5550296508</td>\n",
       "      <td>MEDIA_NEWS_COMPANY</td>\n",
       "      <td>US</td>\n",
       "      <td>Instant breaking news alerts and the most talk...</td>\n",
       "      <td>2007-11-07 22:14:27</td>\n",
       "      <td>34563652.0</td>\n",
       "      <td>38358192.0</td>\n",
       "      <td>2021-06-30 06:30:09 EDT</td>\n",
       "      <td>...</td>\n",
       "      <td>0.138231</td>\n",
       "      <td>0.069957</td>\n",
       "      <td>-0.225778</td>\n",
       "      <td>-0.271310</td>\n",
       "      <td>-0.171173</td>\n",
       "      <td>-0.157422</td>\n",
       "      <td>-0.168818</td>\n",
       "      <td>1.000000</td>\n",
       "      <td>0.000757</td>\n",
       "      <td>0.002340</td>\n",
       "    </tr>\n",
       "    <tr>\n",
       "      <th>4</th>\n",
       "      <td>CNN</td>\n",
       "      <td>cnn</td>\n",
       "      <td>5550296508</td>\n",
       "      <td>MEDIA_NEWS_COMPANY</td>\n",
       "      <td>US</td>\n",
       "      <td>Instant breaking news alerts and the most talk...</td>\n",
       "      <td>2007-11-07 22:14:27</td>\n",
       "      <td>34563652.0</td>\n",
       "      <td>38358192.0</td>\n",
       "      <td>2021-06-30 00:32:08 EDT</td>\n",
       "      <td>...</td>\n",
       "      <td>0.099794</td>\n",
       "      <td>0.106860</td>\n",
       "      <td>-0.005410</td>\n",
       "      <td>-0.126836</td>\n",
       "      <td>0.119250</td>\n",
       "      <td>0.061201</td>\n",
       "      <td>-0.044982</td>\n",
       "      <td>0.750000</td>\n",
       "      <td>0.004427</td>\n",
       "      <td>0.009026</td>\n",
       "    </tr>\n",
       "  </tbody>\n",
       "</table>\n",
       "<p>5 rows × 58 columns</p>\n",
       "</div>"
      ],
      "text/plain": [
       "  Page Name User Name  Facebook Id       Page Category Page Admin Top Country  \\\n",
       "0       CNN       cnn   5550296508  MEDIA_NEWS_COMPANY                     US   \n",
       "1       CNN       cnn   5550296508  MEDIA_NEWS_COMPANY                     US   \n",
       "2       CNN       cnn   5550296508  MEDIA_NEWS_COMPANY                     US   \n",
       "3       CNN       cnn   5550296508  MEDIA_NEWS_COMPANY                     US   \n",
       "4       CNN       cnn   5550296508  MEDIA_NEWS_COMPANY                     US   \n",
       "\n",
       "                                    Page Description         Page Created  \\\n",
       "0  Instant breaking news alerts and the most talk...  2007-11-07 22:14:27   \n",
       "1  Instant breaking news alerts and the most talk...  2007-11-07 22:14:27   \n",
       "2  Instant breaking news alerts and the most talk...  2007-11-07 22:14:27   \n",
       "3  Instant breaking news alerts and the most talk...  2007-11-07 22:14:27   \n",
       "4  Instant breaking news alerts and the most talk...  2007-11-07 22:14:27   \n",
       "\n",
       "   Likes at Posting  Followers at Posting             Post Created  ...  \\\n",
       "0        34563652.0            38358192.0  2021-06-30 13:00:28 EDT  ...   \n",
       "1        34563652.0            38358192.0  2021-06-30 09:27:09 EDT  ...   \n",
       "2        34563652.0            38358192.0  2021-06-30 09:15:16 EDT  ...   \n",
       "3        34563652.0            38358192.0  2021-06-30 06:30:09 EDT  ...   \n",
       "4        34563652.0            38358192.0  2021-06-30 00:32:08 EDT  ...   \n",
       "\n",
       "  authority_p sanctity_p care_sent fairness_sent  loyalty_sent  \\\n",
       "0    0.139355   0.085406 -0.121268     -0.095777      0.006735   \n",
       "1    0.083956   0.093256 -0.120624     -0.086392     -0.081137   \n",
       "2    0.068872   0.064272 -0.126078     -0.013716     -0.024528   \n",
       "3    0.138231   0.069957 -0.225778     -0.271310     -0.171173   \n",
       "4    0.099794   0.106860 -0.005410     -0.126836      0.119250   \n",
       "\n",
       "   authority_sent  sanctity_sent  moral_nonmoral_ratio     f_var  sent_var  \n",
       "0       -0.070749      -0.175241              0.777778  0.000574  0.004499  \n",
       "1       -0.065666      -0.057119              0.777778  0.000388  0.000599  \n",
       "2        0.061423       0.024422              1.166667  0.000080  0.004956  \n",
       "3       -0.157422      -0.168818              1.000000  0.000757  0.002340  \n",
       "4        0.061201      -0.044982              0.750000  0.004427  0.009026  \n",
       "\n",
       "[5 rows x 58 columns]"
      ]
     },
     "execution_count": 43,
     "metadata": {},
     "output_type": "execute_result"
    }
   ],
   "source": [
    "df = pd.read_csv('final.csv', low_memory=False)\n",
    "df.head()"
   ]
  },
  {
   "cell_type": "code",
   "execution_count": 44,
   "metadata": {},
   "outputs": [],
   "source": [
    "def generate_id(s):\n",
    "    return abs(hash(s)) % (10 ** 10)\n",
    "\n",
    "df.insert(0, \"Post Id\", df['Post Created'].apply(generate_id), True)"
   ]
  },
  {
   "cell_type": "code",
   "execution_count": 45,
   "metadata": {},
   "outputs": [
    {
     "data": {
      "text/html": [
       "<div>\n",
       "<style scoped>\n",
       "    .dataframe tbody tr th:only-of-type {\n",
       "        vertical-align: middle;\n",
       "    }\n",
       "\n",
       "    .dataframe tbody tr th {\n",
       "        vertical-align: top;\n",
       "    }\n",
       "\n",
       "    .dataframe thead th {\n",
       "        text-align: right;\n",
       "    }\n",
       "</style>\n",
       "<table border=\"1\" class=\"dataframe\">\n",
       "  <thead>\n",
       "    <tr style=\"text-align: right;\">\n",
       "      <th></th>\n",
       "      <th>Post Id</th>\n",
       "      <th>Page Name</th>\n",
       "      <th>User Name</th>\n",
       "      <th>Facebook Id</th>\n",
       "      <th>Page Category</th>\n",
       "      <th>Page Admin Top Country</th>\n",
       "      <th>Page Description</th>\n",
       "      <th>Page Created</th>\n",
       "      <th>Likes at Posting</th>\n",
       "      <th>Followers at Posting</th>\n",
       "      <th>...</th>\n",
       "      <th>authority_p</th>\n",
       "      <th>sanctity_p</th>\n",
       "      <th>care_sent</th>\n",
       "      <th>fairness_sent</th>\n",
       "      <th>loyalty_sent</th>\n",
       "      <th>authority_sent</th>\n",
       "      <th>sanctity_sent</th>\n",
       "      <th>moral_nonmoral_ratio</th>\n",
       "      <th>f_var</th>\n",
       "      <th>sent_var</th>\n",
       "    </tr>\n",
       "  </thead>\n",
       "  <tbody>\n",
       "    <tr>\n",
       "      <th>0</th>\n",
       "      <td>3478205940</td>\n",
       "      <td>CNN</td>\n",
       "      <td>cnn</td>\n",
       "      <td>5550296508</td>\n",
       "      <td>MEDIA_NEWS_COMPANY</td>\n",
       "      <td>US</td>\n",
       "      <td>Instant breaking news alerts and the most talk...</td>\n",
       "      <td>2007-11-07 22:14:27</td>\n",
       "      <td>34563652.0</td>\n",
       "      <td>38358192.0</td>\n",
       "      <td>...</td>\n",
       "      <td>0.139355</td>\n",
       "      <td>0.085406</td>\n",
       "      <td>-0.121268</td>\n",
       "      <td>-0.095777</td>\n",
       "      <td>0.006735</td>\n",
       "      <td>-0.070749</td>\n",
       "      <td>-0.175241</td>\n",
       "      <td>0.777778</td>\n",
       "      <td>0.000574</td>\n",
       "      <td>0.004499</td>\n",
       "    </tr>\n",
       "    <tr>\n",
       "      <th>1</th>\n",
       "      <td>5333411066</td>\n",
       "      <td>CNN</td>\n",
       "      <td>cnn</td>\n",
       "      <td>5550296508</td>\n",
       "      <td>MEDIA_NEWS_COMPANY</td>\n",
       "      <td>US</td>\n",
       "      <td>Instant breaking news alerts and the most talk...</td>\n",
       "      <td>2007-11-07 22:14:27</td>\n",
       "      <td>34563652.0</td>\n",
       "      <td>38358192.0</td>\n",
       "      <td>...</td>\n",
       "      <td>0.083956</td>\n",
       "      <td>0.093256</td>\n",
       "      <td>-0.120624</td>\n",
       "      <td>-0.086392</td>\n",
       "      <td>-0.081137</td>\n",
       "      <td>-0.065666</td>\n",
       "      <td>-0.057119</td>\n",
       "      <td>0.777778</td>\n",
       "      <td>0.000388</td>\n",
       "      <td>0.000599</td>\n",
       "    </tr>\n",
       "    <tr>\n",
       "      <th>2</th>\n",
       "      <td>1556107563</td>\n",
       "      <td>CNN</td>\n",
       "      <td>cnn</td>\n",
       "      <td>5550296508</td>\n",
       "      <td>MEDIA_NEWS_COMPANY</td>\n",
       "      <td>US</td>\n",
       "      <td>Instant breaking news alerts and the most talk...</td>\n",
       "      <td>2007-11-07 22:14:27</td>\n",
       "      <td>34563652.0</td>\n",
       "      <td>38358192.0</td>\n",
       "      <td>...</td>\n",
       "      <td>0.068872</td>\n",
       "      <td>0.064272</td>\n",
       "      <td>-0.126078</td>\n",
       "      <td>-0.013716</td>\n",
       "      <td>-0.024528</td>\n",
       "      <td>0.061423</td>\n",
       "      <td>0.024422</td>\n",
       "      <td>1.166667</td>\n",
       "      <td>0.000080</td>\n",
       "      <td>0.004956</td>\n",
       "    </tr>\n",
       "    <tr>\n",
       "      <th>3</th>\n",
       "      <td>5639635405</td>\n",
       "      <td>CNN</td>\n",
       "      <td>cnn</td>\n",
       "      <td>5550296508</td>\n",
       "      <td>MEDIA_NEWS_COMPANY</td>\n",
       "      <td>US</td>\n",
       "      <td>Instant breaking news alerts and the most talk...</td>\n",
       "      <td>2007-11-07 22:14:27</td>\n",
       "      <td>34563652.0</td>\n",
       "      <td>38358192.0</td>\n",
       "      <td>...</td>\n",
       "      <td>0.138231</td>\n",
       "      <td>0.069957</td>\n",
       "      <td>-0.225778</td>\n",
       "      <td>-0.271310</td>\n",
       "      <td>-0.171173</td>\n",
       "      <td>-0.157422</td>\n",
       "      <td>-0.168818</td>\n",
       "      <td>1.000000</td>\n",
       "      <td>0.000757</td>\n",
       "      <td>0.002340</td>\n",
       "    </tr>\n",
       "    <tr>\n",
       "      <th>4</th>\n",
       "      <td>6598838532</td>\n",
       "      <td>CNN</td>\n",
       "      <td>cnn</td>\n",
       "      <td>5550296508</td>\n",
       "      <td>MEDIA_NEWS_COMPANY</td>\n",
       "      <td>US</td>\n",
       "      <td>Instant breaking news alerts and the most talk...</td>\n",
       "      <td>2007-11-07 22:14:27</td>\n",
       "      <td>34563652.0</td>\n",
       "      <td>38358192.0</td>\n",
       "      <td>...</td>\n",
       "      <td>0.099794</td>\n",
       "      <td>0.106860</td>\n",
       "      <td>-0.005410</td>\n",
       "      <td>-0.126836</td>\n",
       "      <td>0.119250</td>\n",
       "      <td>0.061201</td>\n",
       "      <td>-0.044982</td>\n",
       "      <td>0.750000</td>\n",
       "      <td>0.004427</td>\n",
       "      <td>0.009026</td>\n",
       "    </tr>\n",
       "  </tbody>\n",
       "</table>\n",
       "<p>5 rows × 59 columns</p>\n",
       "</div>"
      ],
      "text/plain": [
       "      Post Id Page Name User Name  Facebook Id       Page Category  \\\n",
       "0  3478205940       CNN       cnn   5550296508  MEDIA_NEWS_COMPANY   \n",
       "1  5333411066       CNN       cnn   5550296508  MEDIA_NEWS_COMPANY   \n",
       "2  1556107563       CNN       cnn   5550296508  MEDIA_NEWS_COMPANY   \n",
       "3  5639635405       CNN       cnn   5550296508  MEDIA_NEWS_COMPANY   \n",
       "4  6598838532       CNN       cnn   5550296508  MEDIA_NEWS_COMPANY   \n",
       "\n",
       "  Page Admin Top Country                                   Page Description  \\\n",
       "0                     US  Instant breaking news alerts and the most talk...   \n",
       "1                     US  Instant breaking news alerts and the most talk...   \n",
       "2                     US  Instant breaking news alerts and the most talk...   \n",
       "3                     US  Instant breaking news alerts and the most talk...   \n",
       "4                     US  Instant breaking news alerts and the most talk...   \n",
       "\n",
       "          Page Created  Likes at Posting  Followers at Posting  ...  \\\n",
       "0  2007-11-07 22:14:27        34563652.0            38358192.0  ...   \n",
       "1  2007-11-07 22:14:27        34563652.0            38358192.0  ...   \n",
       "2  2007-11-07 22:14:27        34563652.0            38358192.0  ...   \n",
       "3  2007-11-07 22:14:27        34563652.0            38358192.0  ...   \n",
       "4  2007-11-07 22:14:27        34563652.0            38358192.0  ...   \n",
       "\n",
       "  authority_p sanctity_p care_sent fairness_sent loyalty_sent  authority_sent  \\\n",
       "0    0.139355   0.085406 -0.121268     -0.095777     0.006735       -0.070749   \n",
       "1    0.083956   0.093256 -0.120624     -0.086392    -0.081137       -0.065666   \n",
       "2    0.068872   0.064272 -0.126078     -0.013716    -0.024528        0.061423   \n",
       "3    0.138231   0.069957 -0.225778     -0.271310    -0.171173       -0.157422   \n",
       "4    0.099794   0.106860 -0.005410     -0.126836     0.119250        0.061201   \n",
       "\n",
       "   sanctity_sent  moral_nonmoral_ratio     f_var  sent_var  \n",
       "0      -0.175241              0.777778  0.000574  0.004499  \n",
       "1      -0.057119              0.777778  0.000388  0.000599  \n",
       "2       0.024422              1.166667  0.000080  0.004956  \n",
       "3      -0.168818              1.000000  0.000757  0.002340  \n",
       "4      -0.044982              0.750000  0.004427  0.009026  \n",
       "\n",
       "[5 rows x 59 columns]"
      ]
     },
     "execution_count": 45,
     "metadata": {},
     "output_type": "execute_result"
    }
   ],
   "source": [
    "df.head()"
   ]
  },
  {
   "cell_type": "code",
   "execution_count": 46,
   "metadata": {
    "id": "Z3MSl9p1vofm"
   },
   "outputs": [],
   "source": [
    "word_count = []\n",
    "split_string = df['Link Text'].str.split()\n",
    "for string in split_string:\n",
    "    words = len(string)\n",
    "    word_count.append(words)     "
   ]
  },
  {
   "cell_type": "code",
   "execution_count": 47,
   "metadata": {},
   "outputs": [],
   "source": [
    "df['word_count'] = word_count"
   ]
  },
  {
   "cell_type": "code",
   "execution_count": 48,
   "metadata": {},
   "outputs": [],
   "source": [
    "df['Post Created Date'] = pd.to_datetime(df['Post Created Date'])\n",
    "df['Page Created'] = pd.to_datetime(df['Page Created'])\n",
    "\n",
    "\n",
    "df['Post_Created_Month'] = df['Post Created Date'].dt.month\n",
    "df['Page_Created_Month'] = df['Page Created'].dt.month"
   ]
  },
  {
   "cell_type": "code",
   "execution_count": 49,
   "metadata": {},
   "outputs": [],
   "source": [
    "df2 = pd.DataFrame()\n",
    "\n",
    "df2[[\"Post Id\", 'Facebook Id','Post Created Date', 'care_p', 'fairness_p', 'loyalty_p','authority_p', \n",
    "         'sanctity_p', 'Likes', 'Comments', 'Angry', 'PN', 'LNC_category', 'Page Created', 'Type', 'Link Text', 'word_count','Followers_at_Posting',  'Post_Created_Month', 'Page_Created_Month']] = df[[\"Post Id\", 'Facebook Id', 'Post Created Date', 'care_p', 'fairness_p', 'loyalty_p',\n",
    "                                                        'authority_p', 'sanctity_p','Likes', 'Comments', 'Angry', 'PN', 'LNC_category', 'Page Created', 'Type', 'Link Text', 'word_count', 'Followers at Posting', 'Post_Created_Month', 'Page_Created_Month']]\n",
    "\n",
    "\n",
    "df2.to_csv('working data.csv', index = False)"
   ]
  },
  {
   "cell_type": "code",
   "execution_count": 50,
   "metadata": {
    "id": "hk8EtekkvzaP"
   },
   "outputs": [],
   "source": [
    "df2[[\"Post Id\", \"Link Text\"]].to_csv(\"text.csv\", index = False)"
   ]
  },
  {
   "cell_type": "markdown",
   "metadata": {},
   "source": [
    "### Check the Distribution of Data"
   ]
  },
  {
   "cell_type": "code",
   "execution_count": 51,
   "metadata": {
    "id": "EljRAUgxD8k_"
   },
   "outputs": [
    {
     "name": "stdout",
     "output_type": "stream",
     "text": [
      "<class 'pandas.core.frame.DataFrame'>\n",
      "RangeIndex: 84385 entries, 0 to 84384\n",
      "Data columns (total 20 columns):\n",
      " #   Column                Non-Null Count  Dtype         \n",
      "---  ------                --------------  -----         \n",
      " 0   Post Id               84385 non-null  int64         \n",
      " 1   Facebook Id           84385 non-null  int64         \n",
      " 2   Post Created Date     84385 non-null  datetime64[ns]\n",
      " 3   care_p                84385 non-null  float64       \n",
      " 4   fairness_p            84385 non-null  float64       \n",
      " 5   loyalty_p             84385 non-null  float64       \n",
      " 6   authority_p           84385 non-null  float64       \n",
      " 7   sanctity_p            84385 non-null  float64       \n",
      " 8   Likes                 84385 non-null  int64         \n",
      " 9   Comments              84385 non-null  int64         \n",
      " 10  Angry                 84385 non-null  int64         \n",
      " 11  PN                    61463 non-null  object        \n",
      " 12  LNC_category          84385 non-null  object        \n",
      " 13  Page Created          84385 non-null  datetime64[ns]\n",
      " 14  Type                  84385 non-null  object        \n",
      " 15  Link Text             84385 non-null  object        \n",
      " 16  word_count            84385 non-null  int64         \n",
      " 17  Followers_at_Posting  84385 non-null  float64       \n",
      " 18  Post_Created_Month    84385 non-null  int64         \n",
      " 19  Page_Created_Month    84385 non-null  int64         \n",
      "dtypes: datetime64[ns](2), float64(6), int64(8), object(4)\n",
      "memory usage: 12.9+ MB\n"
     ]
    }
   ],
   "source": [
    "df2.info()"
   ]
  },
  {
   "cell_type": "code",
   "execution_count": 52,
   "metadata": {
    "id": "Y4Yz45k0STkj"
   },
   "outputs": [
    {
     "data": {
      "image/png": "[encoded data removed]",
      "text/plain": [
       "<Figure size 1440x1440 with 5 Axes>"
      ]
     },
     "metadata": {},
     "output_type": "display_data"
    }
   ],
   "source": [
    "plt.figure(figsize=(20, 20))\n",
    "\n",
    "for e, column in enumerate(['care_p', 'fairness_p', 'loyalty_p', 'authority_p', 'sanctity_p']):\n",
    "    plt.subplot(4, 3, e + 1)\n",
    "    sns.histplot(df[column],bins=30,color=\"r\", kde=True)\n",
    "    plt.ylabel('Frequency')"
   ]
  },
  {
   "cell_type": "markdown",
   "metadata": {},
   "source": [
    "#### Compare care_p fairness_p loyalty_p authority_p sanctity_p across page category\n"
   ]
  },
  {
   "cell_type": "code",
   "execution_count": 53,
   "metadata": {},
   "outputs": [
    {
     "data": {
      "image/png": "[encoded data removed]",
      "text/plain": [
       "<Figure size 864x432 with 1 Axes>"
      ]
     },
     "metadata": {},
     "output_type": "display_data"
    }
   ],
   "source": [
    "rcParams['figure.figsize'] = 12, 6\n",
    "cateogry_plot=df2[['care_p', 'fairness_p', 'loyalty_p', 'authority_p', 'sanctity_p', 'LNC_category']].groupby('LNC_category').mean().plot(kind = 'bar')\n",
    "plt.title('Features accross page category')\n",
    "plt.ylabel('Mean value count')\n",
    "plt.xticks(rotation = 360)\n",
    "cateogry_plot;"
   ]
  },
  {
   "cell_type": "code",
   "execution_count": 54,
   "metadata": {
    "id": "o25GBKDcSTsR"
   },
   "outputs": [],
   "source": [
    "import statsmodels.api as sm\n",
    "import scipy.stats as stats\n",
    "import statsmodels.formula.api as smf\n"
   ]
  },
  {
   "cell_type": "markdown",
   "metadata": {},
   "source": [
    "__Inferece:__ Taking log-transform normalization of all independent variables to handle highly skewed pattern."
   ]
  },
  {
   "cell_type": "code",
   "execution_count": 55,
   "metadata": {
    "id": "9Y7WnT1Lfp7X"
   },
   "outputs": [],
   "source": [
    "df2['log_Likes'] = np.log(df2['Likes']+1)\n",
    "df2['log_comments'] = np.log(df2['Comments']+1)\n",
    "df2['log_Angry'] = np.log(df2['Angry']+1)"
   ]
  },
  {
   "cell_type": "code",
   "execution_count": 56,
   "metadata": {
    "id": "qTcwLkr-gnX6"
   },
   "outputs": [
    {
     "data": {
      "image/png": "[encoded data removed]",
      "text/plain": [
       "<Figure size 1440x1440 with 3 Axes>"
      ]
     },
     "metadata": {},
     "output_type": "display_data"
    }
   ],
   "source": [
    "plt.figure(figsize=(20, 20))\n",
    "\n",
    "for e, column in enumerate(['log_Likes', 'log_comments', 'log_Angry']):\n",
    "    plt.subplot(4, 3, e + 1)\n",
    "    sns.histplot(df2[column],bins=30,color=\"r\", kde=True)\n",
    "    plt.ylabel('Frequency')"
   ]
  },
  {
   "cell_type": "markdown",
   "metadata": {},
   "source": [
    "### Run Regressions on Both Full Data and Subgroups"
   ]
  },
  {
   "cell_type": "code",
   "execution_count": 57,
   "metadata": {
    "id": "B7R0ZPYFf819"
   },
   "outputs": [],
   "source": [
    "liberal_data = df2[df2['LNC_category'] == 'liberal']\n",
    "neutral_data = df2[df2['LNC_category'] == 'neutral']\n",
    "conservative_data = df2[df2['LNC_category'] == 'conservative']\n",
    "science_data = df2[df2['LNC_category'] == 'science']"
   ]
  },
  {
   "cell_type": "code",
   "execution_count": 58,
   "metadata": {
    "id": "yTKeIekqh6gI",
    "scrolled": true
   },
   "outputs": [
    {
     "name": "stdout",
     "output_type": "stream",
     "text": [
      "Model:  1\n",
      "                   Mixed Linear Model Regression Results\n",
      "===========================================================================\n",
      "Model:                  MixedLM       Dependent Variable:       log_Likes  \n",
      "No. Observations:       61463         Method:                   REML       \n",
      "No. Groups:             39            Scale:                    1.3962     \n",
      "Min. group size:        1             Log-Likelihood:           -97600.0175\n",
      "Max. group size:        17753         Converged:                Yes        \n",
      "Mean group size:        1576.0                                             \n",
      "---------------------------------------------------------------------------\n",
      "                                Coef.  Std.Err.    z    P>|z| [0.025 0.975]\n",
      "---------------------------------------------------------------------------\n",
      "Intercept                        5.276    0.802   6.576 0.000  3.703  6.848\n",
      "C(Type)[T.Live Video Complete]  -1.162    0.101 -11.540 0.000 -1.360 -0.965\n",
      "C(Type)[T.Live Video Scheduled] -1.399    0.147  -9.527 0.000 -1.687 -1.111\n",
      "C(Type)[T.Native Video]         -0.162    0.020  -7.977 0.000 -0.201 -0.122\n",
      "C(Type)[T.Photo]                 0.599    0.033  17.902 0.000  0.534  0.665\n",
      "C(Type)[T.Status]               -0.583    0.208  -2.810 0.005 -0.990 -0.176\n",
      "C(Type)[T.Video]                -0.475    0.142  -3.346 0.001 -0.754 -0.197\n",
      "C(Type)[T.YouTube]              -0.708    0.544  -1.301 0.193 -1.775  0.359\n",
      "C(PN)[T.P]                       0.009    0.017   0.503 0.615 -0.025  0.043\n",
      "C(LNC_category)[T.liberal]      -0.721    0.789  -0.914 0.361 -2.268  0.826\n",
      "C(LNC_category)[T.neutral]      -1.100    0.877  -1.254 0.210 -2.819  0.619\n",
      "C(LNC_category)[T.science]      -1.399    0.725  -1.931 0.054 -2.820  0.021\n",
      "care_p                          -1.707    0.248  -6.878 0.000 -2.193 -1.221\n",
      "fairness_p                      -1.064    0.295  -3.609 0.000 -1.642 -0.486\n",
      "loyalty_p                        0.016    0.355   0.046 0.964 -0.679  0.712\n",
      "authority_p                      3.307    0.297  11.152 0.000  2.726  3.888\n",
      "sanctity_p                       1.627    0.302   5.386 0.000  1.035  2.220\n",
      "Followers_at_Posting             0.000    0.000  15.136 0.000  0.000  0.000\n",
      "Post_Created_Month              -0.007    0.002  -4.756 0.000 -0.011 -0.004\n",
      "Page_Created_Month              -0.015    0.057  -0.266 0.790 -0.128  0.097\n",
      "word_count                       0.030    0.002  16.943 0.000  0.027  0.034\n",
      "Facebook Id Var                  1.336    0.303                            \n",
      "===========================================================================\n",
      "\n",
      "Model:  2\n",
      "                   Mixed Linear Model Regression Results\n",
      "===========================================================================\n",
      "Model:                  MixedLM       Dependent Variable:       log_Likes  \n",
      "No. Observations:       26721         Method:                   REML       \n",
      "No. Groups:             8             Scale:                    1.6026     \n",
      "Min. group size:        4             Log-Likelihood:           -44267.5722\n",
      "Max. group size:        7326          Converged:                Yes        \n",
      "Mean group size:        3340.1                                             \n",
      "---------------------------------------------------------------------------\n",
      "                                Coef.  Std.Err.    z    P>|z| [0.025 0.975]\n",
      "---------------------------------------------------------------------------\n",
      "Intercept                        4.662    0.519   8.988 0.000  3.645  5.679\n",
      "C(Type)[T.Live Video Complete]  -1.300    0.117 -11.080 0.000 -1.531 -1.070\n",
      "C(Type)[T.Live Video Scheduled] -2.273    0.212 -10.713 0.000 -2.689 -1.857\n",
      "C(Type)[T.Native Video]         -0.217    0.031  -6.900 0.000 -0.278 -0.155\n",
      "C(Type)[T.Photo]                 0.258    0.062   4.156 0.000  0.136  0.380\n",
      "C(Type)[T.Status]               -0.854    0.292  -2.927 0.003 -1.426 -0.282\n",
      "C(Type)[T.Video]                -1.111    0.732  -1.519 0.129 -2.546  0.323\n",
      "C(Type)[T.YouTube]              -2.836    1.266  -2.240 0.025 -5.318 -0.355\n",
      "C(PN)[T.P]                       0.042    0.026   1.601 0.109 -0.009  0.094\n",
      "care_p                          -3.090    0.404  -7.647 0.000 -3.882 -2.298\n",
      "fairness_p                      -0.155    0.481  -0.323 0.747 -1.098  0.787\n",
      "loyalty_p                        0.986    0.571   1.728 0.084 -0.132  2.105\n",
      "authority_p                      3.763    0.488   7.708 0.000  2.806  4.719\n",
      "sanctity_p                       1.223    0.511   2.394 0.017  0.222  2.224\n",
      "Followers_at_Posting             0.000    0.000   5.556 0.000  0.000  0.000\n",
      "Post_Created_Month               0.005    0.003   1.949 0.051 -0.000  0.010\n",
      "Page_Created_Month               0.032    0.071   0.445 0.657 -0.108  0.171\n",
      "word_count                       0.037    0.003  14.414 0.000  0.032  0.042\n",
      "Facebook Id Var                  0.506    0.243                            \n",
      "===========================================================================\n",
      "\n",
      "Model:  3\n",
      "                  Mixed Linear Model Regression Results\n",
      "==========================================================================\n",
      "Model:                   MixedLM      Dependent Variable:      log_Likes  \n",
      "No. Observations:        25471        Method:                  REML       \n",
      "No. Groups:              5            Scale:                   1.1512     \n",
      "Min. group size:         5            Log-Likelihood:          -37978.1845\n",
      "Max. group size:         17753        Converged:               Yes        \n",
      "Mean group size:         5094.2                                           \n",
      "--------------------------------------------------------------------------\n",
      "                               Coef.  Std.Err.    z    P>|z| [0.025 0.975]\n",
      "--------------------------------------------------------------------------\n",
      "Intercept                       1.945    0.906   2.145 0.032  0.168  3.721\n",
      "C(Type)[T.Live Video Complete]  0.145    0.481   0.301 0.764 -0.799  1.088\n",
      "C(Type)[T.Native Video]        -0.257    0.031  -8.428 0.000 -0.317 -0.197\n",
      "C(Type)[T.Photo]                0.072    0.058   1.245 0.213 -0.041  0.186\n",
      "C(Type)[T.Status]               0.121    0.341   0.356 0.722 -0.546  0.789\n",
      "C(Type)[T.Video]               -0.439    0.133  -3.306 0.001 -0.700 -0.179\n",
      "C(Type)[T.YouTube]             -0.573    1.073  -0.534 0.594 -2.676  1.531\n",
      "C(PN)[T.P]                      0.011    0.026   0.407 0.684 -0.041  0.063\n",
      "care_p                          0.615    0.358   1.715 0.086 -0.088  1.317\n",
      "fairness_p                     -2.760    0.419  -6.592 0.000 -3.581 -1.940\n",
      "loyalty_p                      -1.720    0.517  -3.329 0.001 -2.732 -0.707\n",
      "authority_p                     3.344    0.423   7.900 0.000  2.514  4.173\n",
      "sanctity_p                      1.363    0.415   3.283 0.001  0.549  2.177\n",
      "Followers_at_Posting            0.000    0.000  24.949 0.000  0.000  0.000\n",
      "Post_Created_Month             -0.030    0.002 -13.251 0.000 -0.034 -0.025\n",
      "Page_Created_Month              0.122    0.178   0.682 0.495 -0.228  0.471\n",
      "word_count                      0.022    0.003   7.418 0.000  0.016  0.028\n",
      "Facebook Id Var                 1.386    1.056                            \n",
      "==========================================================================\n",
      "\n",
      "Model:  4\n",
      "                  Mixed Linear Model Regression Results\n",
      "==========================================================================\n",
      "Model:                  MixedLM       Dependent Variable:       log_Likes \n",
      "No. Observations:       4986          Method:                   REML      \n",
      "No. Groups:             3             Scale:                    1.6546    \n",
      "Min. group size:        311           Log-Likelihood:           -8356.2506\n",
      "Max. group size:        3392          Converged:                Yes       \n",
      "Mean group size:        1662.0                                            \n",
      "--------------------------------------------------------------------------\n",
      "                                Coef.  Std.Err.   z    P>|z| [0.025 0.975]\n",
      "--------------------------------------------------------------------------\n",
      "Intercept                        6.993    2.419  2.891 0.004  2.252 11.735\n",
      "C(Type)[T.Live Video Complete]  -0.795    0.580 -1.370 0.171 -1.932  0.342\n",
      "C(Type)[T.Live Video Scheduled]  0.166    0.275  0.603 0.547 -0.374  0.706\n",
      "C(Type)[T.Native Video]          0.268    0.069  3.897 0.000  0.133  0.402\n",
      "C(Type)[T.Photo]                 1.735    0.090 19.255 0.000  1.558  1.911\n",
      "C(Type)[T.Status]               -1.062    0.915 -1.161 0.246 -2.854  0.731\n",
      "C(Type)[T.YouTube]               0.084    1.290  0.065 0.948 -2.445  2.612\n",
      "C(PN)[T.P]                      -0.060    0.066 -0.910 0.363 -0.191  0.070\n",
      "care_p                          -4.460    0.925 -4.819 0.000 -6.273 -2.646\n",
      "fairness_p                       1.531    1.145  1.337 0.181 -0.713  3.776\n",
      "loyalty_p                        2.879    1.298  2.219 0.027  0.336  5.422\n",
      "authority_p                      3.103    1.085  2.860 0.004  0.976  5.229\n",
      "sanctity_p                       1.719    1.223  1.405 0.160 -0.679  4.116\n",
      "Followers_at_Posting             0.000    0.000  0.315 0.753 -0.000  0.000\n",
      "Post_Created_Month               0.027    0.007  4.096 0.000  0.014  0.040\n",
      "Page_Created_Month              -0.193    0.292 -0.661 0.509 -0.765  0.379\n",
      "word_count                       0.040    0.006  6.329 0.000  0.028  0.053\n",
      "Facebook Id Var                  2.048    2.221                           \n",
      "==========================================================================\n",
      "\n",
      "Model:  5\n",
      "                  Mixed Linear Model Regression Results\n",
      "==========================================================================\n",
      "Model:                  MixedLM       Dependent Variable:       log_Likes \n",
      "No. Observations:       4285          Method:                   REML      \n",
      "No. Groups:             23            Scale:                    0.9014    \n",
      "Min. group size:        1             Log-Likelihood:           -5928.4588\n",
      "Max. group size:        1969          Converged:                Yes       \n",
      "Mean group size:        186.3                                             \n",
      "--------------------------------------------------------------------------\n",
      "                                Coef.  Std.Err.   z    P>|z| [0.025 0.975]\n",
      "--------------------------------------------------------------------------\n",
      "Intercept                        3.912    0.725  5.394 0.000  2.491  5.334\n",
      "C(Type)[T.Live Video Complete]  -0.441    0.321 -1.376 0.169 -1.070  0.187\n",
      "C(Type)[T.Live Video Scheduled] -1.416    0.363 -3.900 0.000 -2.127 -0.704\n",
      "C(Type)[T.Native Video]          0.072    0.088  0.822 0.411 -0.100  0.245\n",
      "C(Type)[T.Photo]                 0.367    0.077  4.795 0.000  0.217  0.517\n",
      "C(Type)[T.Status]               -1.098    0.758 -1.448 0.147 -2.584  0.388\n",
      "C(Type)[T.Video]                -0.072    0.953 -0.076 0.940 -1.939  1.795\n",
      "C(Type)[T.YouTube]               0.171    0.736  0.232 0.816 -1.271  1.613\n",
      "C(PN)[T.P]                      -0.078    0.051 -1.548 0.122 -0.177  0.021\n",
      "care_p                          -1.062    0.690 -1.539 0.124 -2.414  0.290\n",
      "fairness_p                       2.153    0.881  2.443 0.015  0.426  3.881\n",
      "loyalty_p                       -0.999    1.046 -0.955 0.340 -3.048  1.051\n",
      "authority_p                     -0.627    0.859 -0.731 0.465 -2.311  1.056\n",
      "sanctity_p                       1.942    0.853  2.276 0.023  0.270  3.614\n",
      "Followers_at_Posting             0.000    0.000  4.718 0.000  0.000  0.000\n",
      "Post_Created_Month              -0.017    0.005 -3.675 0.000 -0.026 -0.008\n",
      "Page_Created_Month              -0.010    0.095 -0.102 0.919 -0.197  0.177\n",
      "word_count                      -0.004    0.006 -0.657 0.511 -0.016  0.008\n",
      "Facebook Id Var                  2.162    0.805                           \n",
      "==========================================================================\n",
      "\n"
     ]
    }
   ],
   "source": [
    "# For full sample\n",
    "full_sample = smf.mixedlm(\"log_Likes ~ care_p + fairness_p + loyalty_p+authority_p + sanctity_p + Followers_at_Posting+\\\n",
    "                        Post_Created_Month+ Page_Created_Month  + word_count + C(Type) + C(PN) + C(LNC_category)\",\n",
    "data = df2.dropna(), groups= \"Facebook Id\").fit()\n",
    "print(\"Model: \", 1)\n",
    "print(full_sample.summary())\n",
    "\n",
    "# for sub groups\n",
    "i = 2\n",
    "Models_1 =[]\n",
    "for df in [liberal_data, neutral_data, conservative_data, science_data]:\n",
    "    model = smf.mixedlm(\"log_Likes ~ care_p + fairness_p + loyalty_p+authority_p + sanctity_p + Followers_at_Posting+\\\n",
    "                        Post_Created_Month+ Page_Created_Month  + word_count + C(Type) + C(PN)\",\n",
    "    data = df.dropna(), groups= \"Facebook Id\").fit()\n",
    "    Models_1.append(model)\n",
    "    print(\"Model: \", i)\n",
    "    print(model.summary())\n",
    "    i+=1\n",
    "    #Model 1: full sample \n",
    "    #Model 2: liberal\n",
    "    #Model 3: conservative\n",
    "    #Model 4: neutral \n",
    "    #Model 5: science channel "
   ]
  },
  {
   "cell_type": "code",
   "execution_count": 59,
   "metadata": {},
   "outputs": [
    {
     "name": "stdout",
     "output_type": "stream",
     "text": [
      "Model 1\n",
      "\n",
      "==========================================\n",
      "                                log_Likes \n",
      "------------------------------------------\n",
      "Intercept                       5.2756*** \n",
      "                                (0.8023)  \n",
      "C(Type)[T.Live Video Complete]  -1.1622***\n",
      "                                (0.1007)  \n",
      "C(Type)[T.Live Video Scheduled] -1.3993***\n",
      "                                (0.1469)  \n",
      "C(Type)[T.Native Video]         -0.1617***\n",
      "                                (0.0203)  \n",
      "C(Type)[T.Photo]                0.5994*** \n",
      "                                (0.0335)  \n",
      "C(Type)[T.Status]               -0.5833***\n",
      "                                (0.2076)  \n",
      "C(Type)[T.Video]                -0.4753***\n",
      "                                (0.1421)  \n",
      "C(Type)[T.YouTube]              -0.7080   \n",
      "                                (0.5443)  \n",
      "C(PN)[T.P]                      0.0087    \n",
      "                                (0.0173)  \n",
      "C(LNC_category)[T.liberal]      -0.7209   \n",
      "                                (0.7891)  \n",
      "C(LNC_category)[T.neutral]      -1.1003   \n",
      "                                (0.8771)  \n",
      "C(LNC_category)[T.science]      -1.3993*  \n",
      "                                (0.7247)  \n",
      "care_p                          -1.7070***\n",
      "                                (0.2482)  \n",
      "fairness_p                      -1.0644***\n",
      "                                (0.2949)  \n",
      "loyalty_p                       0.0162    \n",
      "                                (0.3549)  \n",
      "authority_p                     3.3069*** \n",
      "                                (0.2965)  \n",
      "sanctity_p                      1.6274*** \n",
      "                                (0.3022)  \n",
      "Followers_at_Posting            0.0000*** \n",
      "                                (0.0000)  \n",
      "Post_Created_Month              -0.0075***\n",
      "                                (0.0016)  \n",
      "Page_Created_Month              -0.0153   \n",
      "                                (0.0575)  \n",
      "word_count                      0.0303*** \n",
      "                                (0.0018)  \n",
      "Facebook Id Var                 0.9570*** \n",
      "                                (0.2565)  \n",
      "==========================================\n",
      "Standard errors in parentheses.\n",
      "* p<.1, ** p<.05, ***p<.01\n",
      "Model:  2\n",
      "\n",
      "==========================================\n",
      "                                log_Likes \n",
      "------------------------------------------\n",
      "Intercept                       4.6621*** \n",
      "                                (0.5187)  \n",
      "C(Type)[T.Live Video Complete]  -1.3005***\n",
      "                                (0.1174)  \n",
      "C(Type)[T.Live Video Scheduled] -2.2732***\n",
      "                                (0.2122)  \n",
      "C(Type)[T.Native Video]         -0.2167***\n",
      "                                (0.0314)  \n",
      "C(Type)[T.Photo]                0.2579*** \n",
      "                                (0.0620)  \n",
      "C(Type)[T.Status]               -0.8541***\n",
      "                                (0.2918)  \n",
      "C(Type)[T.Video]                -1.1113   \n",
      "                                (0.7318)  \n",
      "C(Type)[T.YouTube]              -2.8364** \n",
      "                                (1.2661)  \n",
      "C(PN)[T.P]                      0.0423    \n",
      "                                (0.0264)  \n",
      "care_p                          -3.0899***\n",
      "                                (0.4040)  \n",
      "fairness_p                      -0.1551   \n",
      "                                (0.4809)  \n",
      "loyalty_p                       0.9862*   \n",
      "                                (0.5706)  \n",
      "authority_p                     3.7628*** \n",
      "                                (0.4881)  \n",
      "sanctity_p                      1.2227**  \n",
      "                                (0.5108)  \n",
      "Followers_at_Posting            0.0000*** \n",
      "                                (0.0000)  \n",
      "Post_Created_Month              0.0050*   \n",
      "                                (0.0025)  \n",
      "Page_Created_Month              0.0316    \n",
      "                                (0.0710)  \n",
      "word_count                      0.0373*** \n",
      "                                (0.0026)  \n",
      "Facebook Id Var                 0.3155    \n",
      "                                (0.1919)  \n",
      "==========================================\n",
      "Standard errors in parentheses.\n",
      "* p<.1, ** p<.05, ***p<.01\n",
      "Model:  3\n",
      "\n",
      "=========================================\n",
      "                               log_Likes \n",
      "-----------------------------------------\n",
      "Intercept                      1.9447**  \n",
      "                               (0.9064)  \n",
      "C(Type)[T.Live Video Complete] 0.1447    \n",
      "                               (0.4814)  \n",
      "C(Type)[T.Native Video]        -0.2571***\n",
      "                               (0.0305)  \n",
      "C(Type)[T.Photo]               0.0722    \n",
      "                               (0.0580)  \n",
      "C(Type)[T.Status]              0.1213    \n",
      "                               (0.3407)  \n",
      "C(Type)[T.Video]               -0.4394***\n",
      "                               (0.1329)  \n",
      "C(Type)[T.YouTube]             -0.5726   \n",
      "                               (1.0731)  \n",
      "C(PN)[T.P]                     0.0108    \n",
      "                               (0.0265)  \n",
      "care_p                         0.6147*   \n",
      "                               (0.3583)  \n",
      "fairness_p                     -2.7603***\n",
      "                               (0.4188)  \n",
      "loyalty_p                      -1.7197***\n",
      "                               (0.5166)  \n",
      "authority_p                    3.3438*** \n",
      "                               (0.4233)  \n",
      "sanctity_p                     1.3632*** \n",
      "                               (0.4152)  \n",
      "Followers_at_Posting           0.0000*** \n",
      "                               (0.0000)  \n",
      "Post_Created_Month             -0.0296***\n",
      "                               (0.0022)  \n",
      "Page_Created_Month             0.1216    \n",
      "                               (0.1783)  \n",
      "word_count                     0.0222*** \n",
      "                               (0.0030)  \n",
      "Facebook Id Var                1.2039    \n",
      "                               (0.9844)  \n",
      "=========================================\n",
      "Standard errors in parentheses.\n",
      "* p<.1, ** p<.05, ***p<.01\n",
      "Model:  4\n",
      "\n",
      "==========================================\n",
      "                                log_Likes \n",
      "------------------------------------------\n",
      "Intercept                       6.9934*** \n",
      "                                (2.4192)  \n",
      "C(Type)[T.Live Video Complete]  -0.7947   \n",
      "                                (0.5800)  \n",
      "C(Type)[T.Live Video Scheduled] 0.1661    \n",
      "                                (0.2754)  \n",
      "C(Type)[T.Native Video]         0.2678*** \n",
      "                                (0.0687)  \n",
      "C(Type)[T.Photo]                1.7345*** \n",
      "                                (0.0901)  \n",
      "C(Type)[T.Status]               -1.0615   \n",
      "                                (0.9145)  \n",
      "C(Type)[T.YouTube]              0.0837    \n",
      "                                (1.2902)  \n",
      "C(PN)[T.P]                      -0.0604   \n",
      "                                (0.0664)  \n",
      "care_p                          -4.4595***\n",
      "                                (0.9255)  \n",
      "fairness_p                      1.5315    \n",
      "                                (1.1453)  \n",
      "loyalty_p                       2.8789**  \n",
      "                                (1.2976)  \n",
      "authority_p                     3.1027*** \n",
      "                                (1.0849)  \n",
      "sanctity_p                      1.7188    \n",
      "                                (1.2233)  \n",
      "Followers_at_Posting            0.0000    \n",
      "                                (0.0000)  \n",
      "Post_Created_Month              0.0272*** \n",
      "                                (0.0066)  \n",
      "Page_Created_Month              -0.1930   \n",
      "                                (0.2920)  \n",
      "word_count                      0.0404*** \n",
      "                                (0.0064)  \n",
      "Facebook Id Var                 1.2376    \n",
      "                                (1.7264)  \n",
      "==========================================\n",
      "Standard errors in parentheses.\n",
      "* p<.1, ** p<.05, ***p<.01\n",
      "Model:  5\n",
      "\n",
      "==========================================\n",
      "                                log_Likes \n",
      "------------------------------------------\n",
      "Intercept                       3.9122*** \n",
      "                                (0.7253)  \n",
      "C(Type)[T.Live Video Complete]  -0.4413   \n",
      "                                (0.3207)  \n",
      "C(Type)[T.Live Video Scheduled] -1.4157***\n",
      "                                (0.3630)  \n",
      "C(Type)[T.Native Video]         0.0724    \n",
      "                                (0.0881)  \n",
      "C(Type)[T.Photo]                0.3669*** \n",
      "                                (0.0765)  \n",
      "C(Type)[T.Status]               -1.0980   \n",
      "                                (0.7580)  \n",
      "C(Type)[T.Video]                -0.0720   \n",
      "                                (0.9525)  \n",
      "C(Type)[T.YouTube]              0.1710    \n",
      "                                (0.7357)  \n",
      "C(PN)[T.P]                      -0.0782   \n",
      "                                (0.0505)  \n",
      "care_p                          -1.0619   \n",
      "                                (0.6900)  \n",
      "fairness_p                      2.1534**  \n",
      "                                (0.8813)  \n",
      "loyalty_p                       -0.9986   \n",
      "                                (1.0457)  \n",
      "authority_p                     -0.6274   \n",
      "                                (0.8588)  \n",
      "sanctity_p                      1.9423**  \n",
      "                                (0.8532)  \n",
      "Followers_at_Posting            0.0000*** \n",
      "                                (0.0000)  \n",
      "Post_Created_Month              -0.0171***\n",
      "                                (0.0046)  \n",
      "Page_Created_Month              -0.0097   \n",
      "                                (0.0954)  \n",
      "word_count                      -0.0039   \n",
      "                                (0.0060)  \n",
      "Facebook Id Var                 2.3981*** \n",
      "                                (0.8476)  \n",
      "==========================================\n",
      "Standard errors in parentheses.\n",
      "* p<.1, ** p<.05, ***p<.01\n"
     ]
    }
   ],
   "source": [
    "print('Model 1')\n",
    "print(summary_col([full_sample],stars=True))\n",
    "i = 2\n",
    "from statsmodels.iolib.summary2 import summary_col\n",
    "\n",
    "for reg in Models_1:\n",
    "    print(\"Model: \", i)\n",
    "    print(summary_col([reg],stars=True))\n",
    "    i +=1"
   ]
  },
  {
   "cell_type": "code",
   "execution_count": 60,
   "metadata": {},
   "outputs": [
    {
     "name": "stdout",
     "output_type": "stream",
     "text": [
      "Model:  1\n",
      "                  Mixed Linear Model Regression Results\n",
      "==========================================================================\n",
      "Model:                  MixedLM       Dependent Variable:       log_Likes \n",
      "No. Observations:       4285          Method:                   REML      \n",
      "No. Groups:             23            Scale:                    0.9014    \n",
      "Min. group size:        1             Log-Likelihood:           -5928.4588\n",
      "Max. group size:        1969          Converged:                Yes       \n",
      "Mean group size:        186.3                                             \n",
      "--------------------------------------------------------------------------\n",
      "                                Coef.  Std.Err.   z    P>|z| [0.025 0.975]\n",
      "--------------------------------------------------------------------------\n",
      "Intercept                        3.912    0.725  5.394 0.000  2.491  5.334\n",
      "C(Type)[T.Live Video Complete]  -0.441    0.321 -1.376 0.169 -1.070  0.187\n",
      "C(Type)[T.Live Video Scheduled] -1.416    0.363 -3.900 0.000 -2.127 -0.704\n",
      "C(Type)[T.Native Video]          0.072    0.088  0.822 0.411 -0.100  0.245\n",
      "C(Type)[T.Photo]                 0.367    0.077  4.795 0.000  0.217  0.517\n",
      "C(Type)[T.Status]               -1.098    0.758 -1.448 0.147 -2.584  0.388\n",
      "C(Type)[T.Video]                -0.072    0.953 -0.076 0.940 -1.939  1.795\n",
      "C(Type)[T.YouTube]               0.171    0.736  0.232 0.816 -1.271  1.613\n",
      "C(PN)[T.P]                      -0.078    0.051 -1.548 0.122 -0.177  0.021\n",
      "care_p                          -1.062    0.690 -1.539 0.124 -2.414  0.290\n",
      "fairness_p                       2.153    0.881  2.443 0.015  0.426  3.881\n",
      "loyalty_p                       -0.999    1.046 -0.955 0.340 -3.048  1.051\n",
      "authority_p                     -0.627    0.859 -0.731 0.465 -2.311  1.056\n",
      "sanctity_p                       1.942    0.853  2.276 0.023  0.270  3.614\n",
      "Followers_at_Posting             0.000    0.000  4.718 0.000  0.000  0.000\n",
      "Post_Created_Month              -0.017    0.005 -3.675 0.000 -0.026 -0.008\n",
      "Page_Created_Month              -0.010    0.095 -0.102 0.919 -0.197  0.177\n",
      "word_count                      -0.004    0.006 -0.657 0.511 -0.016  0.008\n",
      "Facebook Id Var                  2.162    0.805                           \n",
      "==========================================================================\n",
      "\n",
      "Model:  2\n",
      "                  Mixed Linear Model Regression Results\n",
      "==========================================================================\n",
      "Model:                  MixedLM      Dependent Variable:      log_comments\n",
      "No. Observations:       26721        Method:                  REML        \n",
      "No. Groups:             8            Scale:                   1.4616      \n",
      "Min. group size:        4            Log-Likelihood:          -43039.5854 \n",
      "Max. group size:        7326         Converged:               Yes         \n",
      "Mean group size:        3340.1                                            \n",
      "--------------------------------------------------------------------------\n",
      "                                Coef.  Std.Err.   z    P>|z| [0.025 0.975]\n",
      "--------------------------------------------------------------------------\n",
      "Intercept                        3.798    0.613  6.196 0.000  2.596  4.999\n",
      "C(Type)[T.Live Video Complete]  -0.851    0.112 -7.591 0.000 -1.071 -0.631\n",
      "C(Type)[T.Live Video Scheduled] -1.674    0.203 -8.258 0.000 -2.071 -1.276\n",
      "C(Type)[T.Native Video]         -0.259    0.030 -8.627 0.000 -0.318 -0.200\n",
      "C(Type)[T.Photo]                 0.193    0.059  3.265 0.001  0.077  0.310\n",
      "C(Type)[T.Status]               -0.120    0.279 -0.431 0.667 -0.666  0.426\n",
      "C(Type)[T.Video]                -0.783    0.699 -1.121 0.262 -2.153  0.587\n",
      "C(Type)[T.YouTube]              -4.747    1.209 -3.926 0.000 -7.117 -2.377\n",
      "C(PN)[T.P]                       0.099    0.025  3.907 0.000  0.049  0.148\n",
      "care_p                          -3.499    0.386 -9.068 0.000 -4.255 -2.743\n",
      "fairness_p                      -0.779    0.459 -1.695 0.090 -1.679  0.121\n",
      "loyalty_p                       -0.132    0.545 -0.242 0.809 -1.200  0.936\n",
      "authority_p                      4.290    0.466  9.203 0.000  3.377  5.204\n",
      "sanctity_p                      -0.406    0.488 -0.832 0.406 -1.362  0.550\n",
      "Followers_at_Posting             0.000    0.000  4.617 0.000  0.000  0.000\n",
      "Post_Created_Month               0.031    0.002 12.738 0.000  0.026  0.036\n",
      "Page_Created_Month               0.071    0.083  0.846 0.397 -0.093  0.234\n",
      "word_count                       0.031    0.002 12.678 0.000  0.027  0.036\n",
      "Facebook Id Var                  0.721    0.350                           \n",
      "==========================================================================\n",
      "\n",
      "Model:  3\n",
      "                  Mixed Linear Model Regression Results\n",
      "=========================================================================\n",
      "Model:                 MixedLM      Dependent Variable:      log_comments\n",
      "No. Observations:      25471        Method:                  REML        \n",
      "No. Groups:            5            Scale:                   2.3859      \n",
      "Min. group size:       5            Log-Likelihood:          -47249.1225 \n",
      "Max. group size:       17753        Converged:               Yes         \n",
      "Mean group size:       5094.2                                            \n",
      "-------------------------------------------------------------------------\n",
      "                               Coef.  Std.Err.   z    P>|z| [0.025 0.975]\n",
      "-------------------------------------------------------------------------\n",
      "Intercept                       2.241    0.436  5.136 0.000  1.386  3.096\n",
      "C(Type)[T.Live Video Complete]  1.575    0.693  2.273 0.023  0.217  2.933\n",
      "C(Type)[T.Native Video]        -0.077    0.044 -1.748 0.081 -0.163  0.009\n",
      "C(Type)[T.Photo]                0.602    0.083  7.213 0.000  0.439  0.766\n",
      "C(Type)[T.Status]               0.406    0.490  0.828 0.407 -0.555  1.368\n",
      "C(Type)[T.Video]               -0.315    0.191 -1.644 0.100 -0.690  0.060\n",
      "C(Type)[T.YouTube]              1.754    1.545  1.135 0.256 -1.274  4.782\n",
      "C(PN)[T.P]                      0.151    0.038  3.970 0.000  0.077  0.226\n",
      "care_p                         -0.047    0.516 -0.090 0.928 -1.058  0.964\n",
      "fairness_p                     -4.862    0.603 -8.066 0.000 -6.044 -3.681\n",
      "loyalty_p                      -2.399    0.744 -3.226 0.001 -3.856 -0.941\n",
      "authority_p                     5.211    0.609  8.552 0.000  4.016  6.405\n",
      "sanctity_p                      1.271    0.598  2.126 0.033  0.099  2.442\n",
      "Followers_at_Posting            0.000    0.000  8.722 0.000  0.000  0.000\n",
      "Post_Created_Month             -0.010    0.003 -2.983 0.003 -0.016 -0.003\n",
      "Page_Created_Month             -0.039    0.104 -0.374 0.708 -0.243  0.165\n",
      "word_count                      0.040    0.004  9.302 0.000  0.032  0.049\n",
      "Facebook Id Var                 0.190    0.125                           \n",
      "=========================================================================\n",
      "\n",
      "Model:  4\n",
      "                  Mixed Linear Model Regression Results\n",
      "==========================================================================\n",
      "Model:                  MixedLM      Dependent Variable:      log_comments\n",
      "No. Observations:       4986         Method:                  REML        \n",
      "No. Groups:             3            Scale:                   1.2686      \n",
      "Min. group size:        311          Log-Likelihood:          -7696.2871  \n",
      "Max. group size:        3392         Converged:               Yes         \n",
      "Mean group size:        1662.0                                            \n",
      "--------------------------------------------------------------------------\n",
      "                                Coef.  Std.Err.   z    P>|z| [0.025 0.975]\n",
      "--------------------------------------------------------------------------\n",
      "Intercept                        5.690    2.067  2.753 0.006  1.639  9.741\n",
      "C(Type)[T.Live Video Complete]  -0.764    0.508 -1.505 0.132 -1.760  0.231\n",
      "C(Type)[T.Live Video Scheduled] -0.464    0.241 -1.924 0.054 -0.937  0.009\n",
      "C(Type)[T.Native Video]         -0.434    0.060 -7.210 0.000 -0.552 -0.316\n",
      "C(Type)[T.Photo]                 0.503    0.079  6.376 0.000  0.348  0.658\n",
      "C(Type)[T.Status]               -2.604    0.801 -3.252 0.001 -4.174 -1.035\n",
      "C(Type)[T.YouTube]              -0.715    1.130 -0.633 0.527 -2.930  1.499\n",
      "C(PN)[T.P]                       0.206    0.058  3.544 0.000  0.092  0.320\n",
      "care_p                          -4.283    0.810 -5.285 0.000 -5.871 -2.695\n",
      "fairness_p                       0.275    1.003  0.274 0.784 -1.690  2.241\n",
      "loyalty_p                       -0.075    1.136 -0.066 0.948 -2.302  2.152\n",
      "authority_p                      5.170    0.950  5.442 0.000  3.308  7.032\n",
      "sanctity_p                      -1.035    1.071 -0.966 0.334 -3.135  1.064\n",
      "Followers_at_Posting             0.000    0.000  3.912 0.000  0.000  0.000\n",
      "Post_Created_Month               0.034    0.006  5.816 0.000  0.022  0.045\n",
      "Page_Created_Month              -0.035    0.249 -0.139 0.889 -0.523  0.454\n",
      "word_count                       0.007    0.006  1.292 0.196 -0.004  0.018\n",
      "Facebook Id Var                  1.491    1.867                           \n",
      "==========================================================================\n",
      "\n",
      "Model:  5\n",
      "                  Mixed Linear Model Regression Results\n",
      "==========================================================================\n",
      "Model:                  MixedLM      Dependent Variable:      log_comments\n",
      "No. Observations:       4285         Method:                  REML        \n",
      "No. Groups:             23           Scale:                   2.1454      \n",
      "Min. group size:        1            Log-Likelihood:          -7766.3870  \n",
      "Max. group size:        1969         Converged:               Yes         \n",
      "Mean group size:        186.3                                             \n",
      "--------------------------------------------------------------------------\n",
      "                                Coef.  Std.Err.   z    P>|z| [0.025 0.975]\n",
      "--------------------------------------------------------------------------\n",
      "Intercept                        2.391    0.620  3.859 0.000  1.177  3.606\n",
      "C(Type)[T.Live Video Complete]   1.043    0.495  2.108 0.035  0.073  2.013\n",
      "C(Type)[T.Live Video Scheduled] -1.032    0.560 -1.843 0.065 -2.129  0.066\n",
      "C(Type)[T.Native Video]         -0.399    0.135 -2.949 0.003 -0.664 -0.134\n",
      "C(Type)[T.Photo]                -0.112    0.118 -0.948 0.343 -0.343  0.119\n",
      "C(Type)[T.Status]               -1.077    1.124 -0.958 0.338 -3.281  1.127\n",
      "C(Type)[T.Video]                -1.211    1.469 -0.824 0.410 -4.091  1.670\n",
      "C(Type)[T.YouTube]              -1.710    1.112 -1.537 0.124 -3.890  0.470\n",
      "C(PN)[T.P]                       0.054    0.078  0.697 0.486 -0.098  0.207\n",
      "care_p                           0.503    1.064  0.472 0.637 -1.583  2.588\n",
      "fairness_p                      -1.691    1.359 -1.244 0.213 -4.355  0.973\n",
      "loyalty_p                        0.539    1.613  0.334 0.738 -2.622  3.700\n",
      "authority_p                      3.803    1.324  2.871 0.004  1.207  6.399\n",
      "sanctity_p                       0.513    1.315  0.390 0.697 -2.065  3.090\n",
      "Followers_at_Posting             0.000    0.000  3.051 0.002  0.000  0.000\n",
      "Post_Created_Month              -0.005    0.007 -0.668 0.504 -0.019  0.009\n",
      "Page_Created_Month              -0.061    0.079 -0.775 0.439 -0.215  0.093\n",
      "word_count                       0.034    0.009  3.672 0.000  0.016  0.052\n",
      "Facebook Id Var                  1.360    0.336                           \n",
      "==========================================================================\n",
      "\n"
     ]
    }
   ],
   "source": [
    "# For full sample\n",
    "full_sample = smf.mixedlm(\"log_comments ~ care_p + fairness_p + loyalty_p+authority_p + sanctity_p + Followers_at_Posting+\\\n",
    "                        Post_Created_Month+ Page_Created_Month  + word_count + C(Type) + C(PN) + C(LNC_category)\",\n",
    "data = df2.dropna(), groups= \"Facebook Id\").fit()\n",
    "print(\"Model: \", 1)\n",
    "print(model.summary())\n",
    "    \n",
    "# for sub-groups    \n",
    "i = 2\n",
    "Models_2 = []\n",
    "for df in [liberal_data, neutral_data, conservative_data, science_data]:\n",
    "    model = smf.mixedlm(\"log_comments ~ care_p + fairness_p + loyalty_p+authority_p +  sanctity_p + Followers_at_Posting+\\\n",
    "                        Post_Created_Month+ Page_Created_Month + word_count  + C(Type) + C(PN)\",\n",
    "    data = df.dropna(), groups= \"Facebook Id\").fit()\n",
    "    Models_2.append(model)\n",
    "    print(\"Model: \", i)\n",
    "    print(model.summary())\n",
    "    i+=1\n",
    "    #Model 1: full sample \n",
    "    #Model 2: liberal\n",
    "    #Model 3: conservative\n",
    "    #Model 4: neutral \n",
    "    #Model 5: science channel "
   ]
  }
 ],
 "metadata": {
  "colab": {
   "collapsed_sections": [],
   "name": "Copie de Copy of BOX.ipynb",
   "provenance": []
  },
  "kernelspec": {
   "display_name": "Python 3",
   "language": "python",
   "name": "python3"
  },
  "language_info": {
   "codemirror_mode": {
    "name": "ipython",
    "version": 3
   },
   "file_extension": ".py",
   "mimetype": "text/x-python",
   "name": "python",
   "nbconvert_exporter": "python",
   "pygments_lexer": "ipython3",
   "version": "3.8.8"
  }
 },
 "nbformat": 4,
 "nbformat_minor": 1
}
