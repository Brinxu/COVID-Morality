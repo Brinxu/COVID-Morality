{
 "cells": [
  {
   "cell_type": "markdown",
   "metadata": {},
   "source": [
    "# Data preparation"
   ]
  },
  {
   "cell_type": "markdown",
   "metadata": {
    "id": "unLWX_5qb047"
   },
   "source": [
    "## Processing raw data"
   ]
  },
  {
   "cell_type": "code",
   "execution_count": 1,
   "metadata": {
    "id": "BOn9KWGLD_Id"
   },
   "outputs": [],
   "source": [
    "#!pip install -U pip setuptools wheel\n",
    "#!pip install -U spacy\n",
    "#!python -m spacy download en_core_web_sm\n",
    "#!pip install git+https://github.com/medianeuroscience/emfdscore.git"
   ]
  },
  {
   "cell_type": "markdown",
   "metadata": {
    "id": "Q6fPo-wpqG_0"
   },
   "source": [
    "### Import Required Python Packages"
   ]
  },
  {
   "cell_type": "code",
   "execution_count": 2,
   "metadata": {
    "id": "VbTC53VvD_Lk"
   },
   "outputs": [],
   "source": [
    "import pandas as pd\n",
    "import numpy as np\n",
    "import matplotlib.pyplot as plt\n",
    "import seaborn as sns\n",
    "\n",
    "from matplotlib import rcParams\n",
    "rcParams['figure.figsize'] = 15, 5\n",
    "\n",
    "from statsmodels.iolib.summary2 import summary_col\n",
    "\n",
    "# Disable warnings\n",
    "import warnings\n",
    "from statsmodels.tools.sm_exceptions import ConvergenceWarning\n",
    "warnings.simplefilter('ignore', ConvergenceWarning)"
   ]
  },
  {
   "cell_type": "code",
   "execution_count": 4,
   "metadata": {
    "colab": {
     "base_uri": "https://localhost:8080/"
    },
    "id": "5dxZ7HrqZtHb",
    "outputId": "4264d95e-a2b0-4421-d1f2-ca1a7a3bcdc7"
   },
   "outputs": [
    {
     "name": "stderr",
     "output_type": "stream",
     "text": [
      "/var/folders/13/92pq4q957ljckd_vxp8nd8m80000gn/T/ipykernel_47828/1546273275.py:1: DtypeWarning: Columns (33) have mixed types. Specify dtype option on import or set low_memory=False.\n",
      "  data1 = pd.read_csv('general_media_final_dataset.csv').drop('Unnamed: 0',axis=1)\n",
      "/var/folders/13/92pq4q957ljckd_vxp8nd8m80000gn/T/ipykernel_47828/1546273275.py:2: DtypeWarning: Columns (33) have mixed types. Specify dtype option on import or set low_memory=False.\n",
      "  data2 = pd.read_csv('final_science_media_data.csv').drop('Unnamed: 0',axis=1)\n"
     ]
    }
   ],
   "source": [
    "data1 = pd.read_csv('general_media_final_dataset.csv').drop('Unnamed: 0',axis=1)\n",
    "data2 = pd.read_csv('final_science_media_data.csv').drop('Unnamed: 0',axis=1)"
   ]
  },
  {
   "cell_type": "code",
   "execution_count": 5,
   "metadata": {
    "colab": {
     "base_uri": "https://localhost:8080/"
    },
    "id": "BJItYjT3VE3W",
    "outputId": "ae0053df-5b29-438b-a767-a508af8a13e3"
   },
   "outputs": [
    {
     "name": "stderr",
     "output_type": "stream",
     "text": [
      "/var/folders/13/92pq4q957ljckd_vxp8nd8m80000gn/T/ipykernel_47828/604891526.py:3: DtypeWarning: Columns (39) have mixed types. Specify dtype option on import or set low_memory=False.\n",
      "  data4 = pd.read_csv('2021-10-22-09-21-54-EDT-Historical-Report-The-Daily-Caller-2018-01-01--2021-07-01.csv',encoding = \"ISO-8859-1\")\n",
      "/var/folders/13/92pq4q957ljckd_vxp8nd8m80000gn/T/ipykernel_47828/604891526.py:5: DtypeWarning: Columns (33) have mixed types. Specify dtype option on import or set low_memory=False.\n",
      "  data6 = pd.read_csv('2021-10-22-09-19-11-EDT-Historical-Report-Washington-Examiner-2018-01-01--2021-07-01.csv',encoding = \"ISO-8859-1\")\n"
     ]
    }
   ],
   "source": [
    "# removed drona from below code as we are doing same thing in next block of code\n",
    "data3 = pd.read_csv('2021-10-22-09-22-53-EDT-Historical-Report-BuzzFeed-2018-01-01--2021-07-01.csv',encoding = \"ISO-8859-1\")\n",
    "data4 = pd.read_csv('2021-10-22-09-21-54-EDT-Historical-Report-The-Daily-Caller-2018-01-01--2021-07-01.csv',encoding = \"ISO-8859-1\")\n",
    "data5 = pd.read_csv('2021-10-23-10-02-33-EDT-Historical-Report-Vox-2018-01-01--2021-07-01.csv',encoding = \"ISO-8859-1\")\n",
    "data6 = pd.read_csv('2021-10-22-09-19-11-EDT-Historical-Report-Washington-Examiner-2018-01-01--2021-07-01.csv',encoding = \"ISO-8859-1\")"
   ]
  },
  {
   "cell_type": "code",
   "execution_count": 6,
   "metadata": {
    "colab": {
     "base_uri": "https://localhost:8080/",
     "height": 338
    },
    "id": "77Cd_Ip7Z183",
    "outputId": "0b542bac-d821-4d22-9b67-39438f5bdde0"
   },
   "outputs": [
    {
     "data": {
      "text/html": [
       "<div>\n",
       "<style scoped>\n",
       "    .dataframe tbody tr th:only-of-type {\n",
       "        vertical-align: middle;\n",
       "    }\n",
       "\n",
       "    .dataframe tbody tr th {\n",
       "        vertical-align: top;\n",
       "    }\n",
       "\n",
       "    .dataframe thead th {\n",
       "        text-align: right;\n",
       "    }\n",
       "</style>\n",
       "<table border=\"1\" class=\"dataframe\">\n",
       "  <thead>\n",
       "    <tr style=\"text-align: right;\">\n",
       "      <th></th>\n",
       "      <th>Page Name</th>\n",
       "      <th>User Name</th>\n",
       "      <th>Facebook Id</th>\n",
       "      <th>Page Category</th>\n",
       "      <th>Page Admin Top Country</th>\n",
       "      <th>Page Description</th>\n",
       "      <th>Page Created</th>\n",
       "      <th>Likes at Posting</th>\n",
       "      <th>Followers at Posting</th>\n",
       "      <th>Post Created</th>\n",
       "      <th>...</th>\n",
       "      <th>Is Video Owner?</th>\n",
       "      <th>Post Views</th>\n",
       "      <th>Total Views</th>\n",
       "      <th>Total Views For All Crossposts</th>\n",
       "      <th>URL</th>\n",
       "      <th>Message</th>\n",
       "      <th>Link</th>\n",
       "      <th>Link Text</th>\n",
       "      <th>Description</th>\n",
       "      <th>Overperforming Score (weighted  —  Likes 1x Shares 1x Comments 1x Love 1x Wow 1x Haha 1x Sad 1x Angry 1x Care 1x )</th>\n",
       "    </tr>\n",
       "  </thead>\n",
       "  <tbody>\n",
       "    <tr>\n",
       "      <th>0</th>\n",
       "      <td>CNN</td>\n",
       "      <td>cnn</td>\n",
       "      <td>5550296508</td>\n",
       "      <td>MEDIA_NEWS_COMPANY</td>\n",
       "      <td>US</td>\n",
       "      <td>Instant breaking news alerts and the most talk...</td>\n",
       "      <td>2007-11-07 22:14:27</td>\n",
       "      <td>34563194</td>\n",
       "      <td>38359686.0</td>\n",
       "      <td>2021-06-30 23:45:28 EDT</td>\n",
       "      <td>...</td>\n",
       "      <td>-</td>\n",
       "      <td>0</td>\n",
       "      <td>0</td>\n",
       "      <td>0</td>\n",
       "      <td>https://www.facebook.com/5550296508/posts/1016...</td>\n",
       "      <td>College athletes will have the opportunity to ...</td>\n",
       "      <td>https://cnn.it/2SDgOSO</td>\n",
       "      <td>Starting Thursday, college athletes can profit...</td>\n",
       "      <td></td>\n",
       "      <td>-14.87</td>\n",
       "    </tr>\n",
       "  </tbody>\n",
       "</table>\n",
       "<p>1 rows × 33 columns</p>\n",
       "</div>"
      ],
      "text/plain": [
       "  Page Name User Name  Facebook Id       Page Category Page Admin Top Country  \\\n",
       "0       CNN       cnn   5550296508  MEDIA_NEWS_COMPANY                     US   \n",
       "\n",
       "                                    Page Description         Page Created  \\\n",
       "0  Instant breaking news alerts and the most talk...  2007-11-07 22:14:27   \n",
       "\n",
       "   Likes at Posting  Followers at Posting             Post Created  ...  \\\n",
       "0          34563194            38359686.0  2021-06-30 23:45:28 EDT  ...   \n",
       "\n",
       "  Is Video Owner? Post Views Total Views Total Views For All Crossposts  \\\n",
       "0               -          0           0                              0   \n",
       "\n",
       "                                                 URL  \\\n",
       "0  https://www.facebook.com/5550296508/posts/1016...   \n",
       "\n",
       "                                             Message                    Link  \\\n",
       "0  College athletes will have the opportunity to ...  https://cnn.it/2SDgOSO   \n",
       "\n",
       "                                           Link Text  Description  \\\n",
       "0  Starting Thursday, college athletes can profit...                \n",
       "\n",
       "   Overperforming Score (weighted  —  Likes 1x Shares 1x Comments 1x Love 1x Wow 1x Haha 1x Sad 1x Angry 1x Care 1x )  \n",
       "0                                             -14.87                                                                   \n",
       "\n",
       "[1 rows x 33 columns]"
      ]
     },
     "execution_count": 6,
     "metadata": {},
     "output_type": "execute_result"
    }
   ],
   "source": [
    "data1.head(1)"
   ]
  },
  {
   "cell_type": "markdown",
   "metadata": {
    "id": "4zOMoBhmqG_5"
   },
   "source": [
    "### Keep Posts from **2020.1.1 to 2021.6.30**"
   ]
  },
  {
   "cell_type": "code",
   "execution_count": 7,
   "metadata": {
    "id": "1Pz04-X0qG_6"
   },
   "outputs": [],
   "source": [
    "# drop missing\n",
    "data1.dropna(inplace=True)\n",
    "data2.dropna(inplace=True)\n",
    "data3.dropna(inplace=True)\n",
    "data4.dropna(inplace=True)\n",
    "data5.dropna(inplace=True)\n",
    "data6.dropna(inplace=True)"
   ]
  },
  {
   "cell_type": "code",
   "execution_count": 8,
   "metadata": {
    "id": "snp1cQlwb0Iq"
   },
   "outputs": [],
   "source": [
    "\"\"\"\n",
    "For the selection, we need first to turn the date column to DateTime Format(instead of string), we can do it using to_datetime method from pandas\n",
    "library\n",
    "\"\"\"\n",
    "data1['Post Created Date'] = pd.to_datetime(data1['Post Created Date']) \n",
    "data2['Post Created Date'] = pd.to_datetime(data2['Post Created Date']) \n",
    "data3['Post Created Date'] = pd.to_datetime(data3['Post Created Date']) \n",
    "data4['Post Created Date'] = pd.to_datetime(data4['Post Created Date']) \n",
    "data5['Post Created Date'] = pd.to_datetime(data5['Post Created Date']) \n",
    "data6['Post Created Date'] = pd.to_datetime(data6['Post Created Date']) "
   ]
  },
  {
   "cell_type": "code",
   "execution_count": 9,
   "metadata": {
    "id": "gkhIgzhfdlN3"
   },
   "outputs": [],
   "source": [
    "\"\"\"import numpy as np\n",
    "#import pandas as pd\n",
    "\n",
    "#df = pd.DataFrame(np.random.random((200,3)))\n",
    "#df['date'] = pd.date_range('2000-1-1', periods=200, freq='D')\n",
    "#df = df.set_index(['date'])\n",
    "#print(df.loc['2000-6-1':'2000-6-10'])\"\"\"\n",
    "\"\"\"\n",
    "\n",
    "Now lets do the selection\n",
    "\"\"\"\n",
    "start_date = '2010.1.1'\n",
    "end_date = '2021.6.30'\n",
    "#greater than the start date and smaller than the end date\n",
    "mask1 = (data1['Post Created Date'] > start_date) & (data1['Post Created Date'] <= end_date)\n",
    "mask2 = (data2['Post Created Date'] > start_date) & (data2['Post Created Date'] <= end_date)\n",
    "mask3 = (data3['Post Created Date'] > '2020.1.1') & (data3['Post Created Date'] <= '2021.6.30')\n",
    "mask4 = (data4['Post Created Date'] > '2020.1.1') & (data4['Post Created Date'] <= '2021.6.30')\n",
    "mask5 = (data5['Post Created Date'] > '2020.1.1') & (data5['Post Created Date'] <= '2021.6.30')\n",
    "mask6 = (data6['Post Created Date'] > '2020.1.1') & (data6['Post Created Date'] <= '2021.6.30')\n",
    "\n",
    "# Access a group of rows and columns by label(s) or indexes\n",
    "data1 = data1.loc[mask1]\n",
    "data2 = data2.loc[mask2]\n",
    "data3 = data3.loc[mask3]\n",
    "data4 = data4.loc[mask4]\n",
    "data5 = data5.loc[mask5]\n",
    "data6 = data6.loc[mask6]"
   ]
  },
  {
   "cell_type": "code",
   "execution_count": 12,
   "metadata": {
    "id": "7cWfFrrFejEM"
   },
   "outputs": [],
   "source": [
    "\"\"\"\n",
    "Now we will create a new column named LNC_category which means (liberal,neutral or conservative) based on user name.\n",
    "\"\"\"\n",
    "liberal = ['dailykos', 'nytimes', 'HuffingtonPostOfficial', 'washingtonpost', 'msnbc', 'bbc', 'cnn', 'nbc', 'NPR','Buzzfeed', 'Vox']\n",
    "# neutral = ['usatoday', 'nbc', 'Reuters', 'WSJ', 'ABCNetwork', 'CBS']\n",
    "conservative = ['Breitbart','FoxNews','TheBlaze','Daily Caller', 'Washington examiner' ]\n",
    "\n",
    "def match(username):\n",
    "    if username in liberal:\n",
    "        return 'liberal'\n",
    "    # elif username in neutral:\n",
    "      #  return 'neutral'\n",
    "    elif username in conservative:\n",
    "        return 'conservative'\n",
    "    else: return np.nan\n",
    "    \n",
    "# remove space\n",
    "data1['User Name'] = data1['User Name'].str.replace(' ', '')\n",
    "data2['User Name'] = data2['User Name'].str.replace(' ', '')\n",
    "\n",
    "# create a new column LNC_category by passing username value to match function\n",
    "data1['LNC_category']=data1['User Name'].apply(lambda x: match(x))\n",
    "data2['LNC_category']=data2['User Name'].apply(lambda x: match(x))\n"
   ]
  },
  {
   "cell_type": "code",
   "execution_count": 13,
   "metadata": {
    "colab": {
     "base_uri": "https://localhost:8080/",
     "height": 287
    },
    "id": "M2G77hYNejGG",
    "outputId": "9d310e5a-5d2e-4821-c951-144f61fc1d7a"
   },
   "outputs": [
    {
     "data": {
      "image/png": "[encoded data removed]",
      "text/plain": [
       "<Figure size 1080x360 with 1 Axes>"
      ]
     },
     "metadata": {},
     "output_type": "display_data"
    }
   ],
   "source": [
    "import seaborn as sns\n",
    "sns.set_theme(style=\"darkgrid\")\n",
    "ax = sns.countplot(x=\"LNC_category\", data=data1)"
   ]
  },
  {
   "cell_type": "code",
   "execution_count": 16,
   "metadata": {
    "id": "V-eTn2a8ejK1"
   },
   "outputs": [],
   "source": [
    "\"\"\"\n",
    "# change data value to science channel \n",
    "\"\"\"\n",
    "# data2['User Name'] = data2['User Name'].apply(lambda x: 'science channel')\n",
    "# data2['LNC_category'] = 'science'\n",
    "\n",
    "# data3['User Name'] = data3['User Name'].apply(lambda x: 'science channel')\n",
    "# data3['LNC_category'] = 'science'\n",
    "\n",
    "# data4['User Name'] = data4['User Name'].apply(lambda x: 'science channel')\n",
    "# data4['LNC_category'] = 'science'\n",
    "\n",
    "# data5['User Name'] = data5['User Name'].apply(lambda x: 'science channel')\n",
    "# data5['LNC_category'] = 'liberal'\n",
    "\n",
    "# data6['User Name'] = data6['User Name'].apply(lambda x: 'science channel')\n",
    "# data6['LNC_category'] = 'science'"
   ]
  },
  {
   "cell_type": "code",
   "execution_count": 18,
   "metadata": {
    "id": "KI0ccvUxqG_-"
   },
   "outputs": [],
   "source": [
    "# combine all data into all\n",
    "frames = [data1]\n",
    "data = pd.concat(frames)"
   ]
  },
  {
   "cell_type": "code",
   "execution_count": 18,
   "metadata": {
    "colab": {
     "base_uri": "https://localhost:8080/",
     "height": 287
    },
    "id": "psTF6n6kejNg",
    "outputId": "8c063bd2-9d64-4d08-9068-d5cb9c8e3ede",
    "scrolled": true
   },
   "outputs": [
    {
     "data": {
      "image/png": "[encoded data removed]",
      "text/plain": [
       "<Figure size 1080x360 with 1 Axes>"
      ]
     },
     "metadata": {},
     "output_type": "display_data"
    }
   ],
   "source": [
    "# already mentioned alternate above\n",
    "# ax = sns.countplot(x=\"LNC_category\", data=data)"
   ]
  },
  {
   "cell_type": "code",
   "execution_count": 19,
   "metadata": {},
   "outputs": [],
   "source": [
    "data.to_csv('data_final.csv',index=False)"
   ]
  }
 ],
 "metadata": {
  "colab": {
   "collapsed_sections": [],
   "name": "Sentiment-Analysis-on-COVID19-Postings (1).ipynb",
   "provenance": []
  },
  "kernelspec": {
   "display_name": "Python 3 (ipykernel)",
   "language": "python",
   "name": "python3"
  },
  "language_info": {
   "codemirror_mode": {
    "name": "ipython",
    "version": 3
   },
   "file_extension": ".py",
   "mimetype": "text/x-python",
   "name": "python",
   "nbconvert_exporter": "python",
   "pygments_lexer": "ipython3",
   "version": "3.9.12"
  }
 },
 "nbformat": 4,
 "nbformat_minor": 1
}
