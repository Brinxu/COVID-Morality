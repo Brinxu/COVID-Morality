{
 "cells": [
  {
   "cell_type": "markdown",
   "metadata": {
    "id": "Qj9WQbEUqHAJ"
   },
   "source": [
    "## Data Analysis"
   ]
  },
  {
   "cell_type": "markdown",
   "metadata": {},
   "source": [
    "### 1. Read the data file and clean data"
   ]
  },
  {
   "cell_type": "code",
   "execution_count": 1,
   "metadata": {
    "id": "R-0sRRMA53np"
   },
   "outputs": [
    {
     "name": "stderr",
     "output_type": "stream",
     "text": [
      "[nltk_data] Downloading package vader_lexicon to\n",
      "[nltk_data]     /Users/brinxu/nltk_data...\n",
      "[nltk_data]   Package vader_lexicon is already up-to-date!\n"
     ]
    }
   ],
   "source": [
    "# import library\n",
    "import statsmodels.api as sm\n",
    "import scipy.stats as stats\n",
    "import statsmodels.formula.api as smf\n",
    "import pandas as pd\n",
    "import seaborn as sns\n",
    "import numpy as np\n",
    "from matplotlib import pyplot as plt\n",
    "from pandas import option_context\n",
    "from statsmodels.iolib.summary2 import summary_col\n",
    "\n",
    "import nltk\n",
    "nltk.download('vader_lexicon')\n",
    "\n",
    "import warnings\n",
    "warnings.simplefilter('ignore')\n",
    "\n",
    "from nltk.sentiment.vader import SentimentIntensityAnalyzer\n",
    "obj=SentimentIntensityAnalyzer()"
   ]
  },
  {
   "cell_type": "code",
   "execution_count": 2,
   "metadata": {
    "colab": {
     "base_uri": "https://localhost:8080/",
     "height": 778
    },
    "id": "keEGC3RnH5Pl",
    "outputId": "228ecaa5-177c-43d6-9a23-e8dba7e58453"
   },
   "outputs": [],
   "source": [
    "# read data\n",
    "df = pd.read_csv('covid_data_final_with_scores.csv', low_memory=False)"
   ]
  },
  {
   "cell_type": "code",
   "execution_count": 3,
   "metadata": {
    "id": "xBWl-Jl7qHAJ"
   },
   "outputs": [],
   "source": [
    "# generate radom number to post id.\n",
    "def generate_id(s):\n",
    "    return abs(hash(s)) % (10 ** 10)\n",
    "\n",
    "df.insert(0, \"Post Id\", df['Post Created'].apply(generate_id), True)"
   ]
  },
  {
   "cell_type": "code",
   "execution_count": 4,
   "metadata": {
    "id": "Z3MSl9p1vofm"
   },
   "outputs": [],
   "source": [
    "word_count = []\n",
    "# count number of word in each row of the column of \"Message\"\n",
    "split_string = df['Message'].str.split()\n",
    "for string in split_string:\n",
    "    words = len(string)\n",
    "    word_count.append(words)     "
   ]
  },
  {
   "cell_type": "code",
   "execution_count": 5,
   "metadata": {
    "id": "BY_cn5oCqHAK"
   },
   "outputs": [],
   "source": [
    "# create a new column and gives it the value of the right side. \n",
    "df['word_count'] = word_count"
   ]
  },
  {
   "cell_type": "code",
   "execution_count": 6,
   "metadata": {
    "id": "W_ZjOXtFqHAK"
   },
   "outputs": [],
   "source": [
    "# change date format\n",
    "df['Post Created Date'] = pd.to_datetime(df['Post Created Date'])\n",
    "df['Page Created'] = pd.to_datetime(df['Page Created'])\n",
    "\n",
    "df['Post_Created_Month'] = df['Post Created Date'].dt.month\n",
    "df['Page_Created_Month'] = df['Page Created'].dt.month"
   ]
  },
  {
   "cell_type": "code",
   "execution_count": 7,
   "metadata": {
    "colab": {
     "base_uri": "https://localhost:8080/",
     "height": 798
    },
    "id": "X6x8hNXE53ns",
    "outputId": "46b94b9d-5412-4c6f-a91c-73331f0d8889"
   },
   "outputs": [
    {
     "data": {
      "text/html": [
       "<div>\n",
       "<style scoped>\n",
       "    .dataframe tbody tr th:only-of-type {\n",
       "        vertical-align: middle;\n",
       "    }\n",
       "\n",
       "    .dataframe tbody tr th {\n",
       "        vertical-align: top;\n",
       "    }\n",
       "\n",
       "    .dataframe thead th {\n",
       "        text-align: right;\n",
       "    }\n",
       "</style>\n",
       "<table border=\"1\" class=\"dataframe\">\n",
       "  <thead>\n",
       "    <tr style=\"text-align: right;\">\n",
       "      <th></th>\n",
       "      <th>Post Id</th>\n",
       "      <th>Page Name</th>\n",
       "      <th>User Name</th>\n",
       "      <th>Facebook Id</th>\n",
       "      <th>Page Category</th>\n",
       "      <th>Page Admin Top Country</th>\n",
       "      <th>Page Description</th>\n",
       "      <th>Page Created</th>\n",
       "      <th>Likes at Posting</th>\n",
       "      <th>Followers at Posting</th>\n",
       "      <th>...</th>\n",
       "      <th>authority_sent</th>\n",
       "      <th>sanctity_sent</th>\n",
       "      <th>moral_nonmoral_ratio</th>\n",
       "      <th>f_var</th>\n",
       "      <th>sent_var</th>\n",
       "      <th>clean_post</th>\n",
       "      <th>Liberty/oppression</th>\n",
       "      <th>word_count</th>\n",
       "      <th>Post_Created_Month</th>\n",
       "      <th>Page_Created_Month</th>\n",
       "    </tr>\n",
       "  </thead>\n",
       "  <tbody>\n",
       "    <tr>\n",
       "      <th>0</th>\n",
       "      <td>9306643036</td>\n",
       "      <td>CNN</td>\n",
       "      <td>cnn</td>\n",
       "      <td>5550296508</td>\n",
       "      <td>MEDIA_NEWS_COMPANY</td>\n",
       "      <td>US</td>\n",
       "      <td>Instant breaking news alerts and the most talk...</td>\n",
       "      <td>2007-11-07 22:14:27</td>\n",
       "      <td>34563652</td>\n",
       "      <td>38358192.0</td>\n",
       "      <td>...</td>\n",
       "      <td>-0.070749</td>\n",
       "      <td>-0.175241</td>\n",
       "      <td>0.777778</td>\n",
       "      <td>0.000574</td>\n",
       "      <td>0.004499</td>\n",
       "      <td>pair we senator ask biden administration inter...</td>\n",
       "      <td>0.479592</td>\n",
       "      <td>27</td>\n",
       "      <td>6</td>\n",
       "      <td>11</td>\n",
       "    </tr>\n",
       "    <tr>\n",
       "      <th>1</th>\n",
       "      <td>2135528023</td>\n",
       "      <td>CNN</td>\n",
       "      <td>cnn</td>\n",
       "      <td>5550296508</td>\n",
       "      <td>MEDIA_NEWS_COMPANY</td>\n",
       "      <td>US</td>\n",
       "      <td>Instant breaking news alerts and the most talk...</td>\n",
       "      <td>2007-11-07 22:14:27</td>\n",
       "      <td>34563652</td>\n",
       "      <td>38358192.0</td>\n",
       "      <td>...</td>\n",
       "      <td>0.086809</td>\n",
       "      <td>0.046238</td>\n",
       "      <td>1.000000</td>\n",
       "      <td>0.000429</td>\n",
       "      <td>0.001634</td>\n",
       "      <td>little evidence delta variant bypass protectio...</td>\n",
       "      <td>0.575510</td>\n",
       "      <td>27</td>\n",
       "      <td>6</td>\n",
       "      <td>11</td>\n",
       "    </tr>\n",
       "    <tr>\n",
       "      <th>2</th>\n",
       "      <td>1112618982</td>\n",
       "      <td>CNN</td>\n",
       "      <td>cnn</td>\n",
       "      <td>5550296508</td>\n",
       "      <td>MEDIA_NEWS_COMPANY</td>\n",
       "      <td>US</td>\n",
       "      <td>Instant breaking news alerts and the most talk...</td>\n",
       "      <td>2007-11-07 22:14:27</td>\n",
       "      <td>34563652</td>\n",
       "      <td>38358192.0</td>\n",
       "      <td>...</td>\n",
       "      <td>-0.065666</td>\n",
       "      <td>-0.057119</td>\n",
       "      <td>0.777778</td>\n",
       "      <td>0.000388</td>\n",
       "      <td>0.000599</td>\n",
       "      <td>stark disparity low high vaccination area some...</td>\n",
       "      <td>0.448980</td>\n",
       "      <td>32</td>\n",
       "      <td>6</td>\n",
       "      <td>11</td>\n",
       "    </tr>\n",
       "    <tr>\n",
       "      <th>3</th>\n",
       "      <td>1410103951</td>\n",
       "      <td>CNN</td>\n",
       "      <td>cnn</td>\n",
       "      <td>5550296508</td>\n",
       "      <td>MEDIA_NEWS_COMPANY</td>\n",
       "      <td>US</td>\n",
       "      <td>Instant breaking news alerts and the most talk...</td>\n",
       "      <td>2007-11-07 22:14:27</td>\n",
       "      <td>34563652</td>\n",
       "      <td>38358192.0</td>\n",
       "      <td>...</td>\n",
       "      <td>0.061423</td>\n",
       "      <td>0.024422</td>\n",
       "      <td>1.166667</td>\n",
       "      <td>0.000080</td>\n",
       "      <td>0.004956</td>\n",
       "      <td>we surgeon general dr vivek murthy say concern...</td>\n",
       "      <td>0.489796</td>\n",
       "      <td>58</td>\n",
       "      <td>6</td>\n",
       "      <td>11</td>\n",
       "    </tr>\n",
       "    <tr>\n",
       "      <th>4</th>\n",
       "      <td>1604350301</td>\n",
       "      <td>CNN</td>\n",
       "      <td>cnn</td>\n",
       "      <td>5550296508</td>\n",
       "      <td>MEDIA_NEWS_COMPANY</td>\n",
       "      <td>US</td>\n",
       "      <td>Instant breaking news alerts and the most talk...</td>\n",
       "      <td>2007-11-07 22:14:27</td>\n",
       "      <td>34563652</td>\n",
       "      <td>38358192.0</td>\n",
       "      <td>...</td>\n",
       "      <td>-0.157422</td>\n",
       "      <td>-0.168818</td>\n",
       "      <td>1.000000</td>\n",
       "      <td>0.000757</td>\n",
       "      <td>0.002340</td>\n",
       "      <td>kim jong un fire several senior official fail ...</td>\n",
       "      <td>0.357143</td>\n",
       "      <td>16</td>\n",
       "      <td>6</td>\n",
       "      <td>11</td>\n",
       "    </tr>\n",
       "  </tbody>\n",
       "</table>\n",
       "<p>5 rows × 54 columns</p>\n",
       "</div>"
      ],
      "text/plain": [
       "      Post Id Page Name User Name  Facebook Id       Page Category  \\\n",
       "0  9306643036       CNN       cnn   5550296508  MEDIA_NEWS_COMPANY   \n",
       "1  2135528023       CNN       cnn   5550296508  MEDIA_NEWS_COMPANY   \n",
       "2  1112618982       CNN       cnn   5550296508  MEDIA_NEWS_COMPANY   \n",
       "3  1410103951       CNN       cnn   5550296508  MEDIA_NEWS_COMPANY   \n",
       "4  1604350301       CNN       cnn   5550296508  MEDIA_NEWS_COMPANY   \n",
       "\n",
       "  Page Admin Top Country                                   Page Description  \\\n",
       "0                     US  Instant breaking news alerts and the most talk...   \n",
       "1                     US  Instant breaking news alerts and the most talk...   \n",
       "2                     US  Instant breaking news alerts and the most talk...   \n",
       "3                     US  Instant breaking news alerts and the most talk...   \n",
       "4                     US  Instant breaking news alerts and the most talk...   \n",
       "\n",
       "         Page Created  Likes at Posting  Followers at Posting  ...  \\\n",
       "0 2007-11-07 22:14:27          34563652            38358192.0  ...   \n",
       "1 2007-11-07 22:14:27          34563652            38358192.0  ...   \n",
       "2 2007-11-07 22:14:27          34563652            38358192.0  ...   \n",
       "3 2007-11-07 22:14:27          34563652            38358192.0  ...   \n",
       "4 2007-11-07 22:14:27          34563652            38358192.0  ...   \n",
       "\n",
       "  authority_sent sanctity_sent moral_nonmoral_ratio     f_var  sent_var  \\\n",
       "0      -0.070749     -0.175241             0.777778  0.000574  0.004499   \n",
       "1       0.086809      0.046238             1.000000  0.000429  0.001634   \n",
       "2      -0.065666     -0.057119             0.777778  0.000388  0.000599   \n",
       "3       0.061423      0.024422             1.166667  0.000080  0.004956   \n",
       "4      -0.157422     -0.168818             1.000000  0.000757  0.002340   \n",
       "\n",
       "                                          clean_post  Liberty/oppression  \\\n",
       "0  pair we senator ask biden administration inter...            0.479592   \n",
       "1  little evidence delta variant bypass protectio...            0.575510   \n",
       "2  stark disparity low high vaccination area some...            0.448980   \n",
       "3  we surgeon general dr vivek murthy say concern...            0.489796   \n",
       "4  kim jong un fire several senior official fail ...            0.357143   \n",
       "\n",
       "   word_count  Post_Created_Month  Page_Created_Month  \n",
       "0          27                   6                  11  \n",
       "1          27                   6                  11  \n",
       "2          32                   6                  11  \n",
       "3          58                   6                  11  \n",
       "4          16                   6                  11  \n",
       "\n",
       "[5 rows x 54 columns]"
      ]
     },
     "execution_count": 7,
     "metadata": {},
     "output_type": "execute_result"
    }
   ],
   "source": [
    "# extract data for 1st Jan 2020 to 30th June 2021\n",
    "extract = (df['Post Created Date'] > '01-01-2020') & (df['Post Created Date'] <= '30-06-2021')\n",
    "\n",
    "df = df.loc[extract]\n",
    "df.head()"
   ]
  },
  {
   "cell_type": "code",
   "execution_count": 8,
   "metadata": {
    "id": "muJ6aqsh53nt"
   },
   "outputs": [],
   "source": [
    "# rename the column\n",
    "df['liberty_p'] = df['Liberty/oppression']"
   ]
  },
  {
   "cell_type": "code",
   "execution_count": 9,
   "metadata": {
    "id": "4XsWScC153nt"
   },
   "outputs": [],
   "source": [
    "# change missing to 0\n",
    "df['liberty_p'] = df['liberty_p'].fillna(0)"
   ]
  },
  {
   "cell_type": "code",
   "execution_count": 10,
   "metadata": {
    "id": "o0LQoIKS7tL9"
   },
   "outputs": [],
   "source": [
    "# generate sentiment and map it\n",
    "df['PN']=df['Message'].apply(lambda x:[key for key, value in obj.polarity_scores(x).items() if (value == max(obj.polarity_scores(x)['pos'],obj.polarity_scores(x)['neg']) and key in [\"pos\",\"neg\"])][0])"
   ]
  },
  {
   "cell_type": "code",
   "execution_count": 11,
   "metadata": {
    "colab": {
     "base_uri": "https://localhost:8080/"
    },
    "id": "jGF9Kz-W4YMd",
    "outputId": "e79fe096-ee9e-4fef-855a-a88093481e4a"
   },
   "outputs": [
    {
     "data": {
      "text/plain": [
       "0        pos\n",
       "1        pos\n",
       "2        neg\n",
       "3        pos\n",
       "4        neg\n",
       "        ... \n",
       "82384    pos\n",
       "82385    pos\n",
       "82386    pos\n",
       "82387    neg\n",
       "82388    neg\n",
       "Name: PN, Length: 80919, dtype: object"
      ]
     },
     "execution_count": 11,
     "metadata": {},
     "output_type": "execute_result"
    }
   ],
   "source": [
    "df['PN']"
   ]
  },
  {
   "cell_type": "code",
   "execution_count": 12,
   "metadata": {
    "colab": {
     "base_uri": "https://localhost:8080/"
    },
    "id": "D4Eg_rtoNk03",
    "outputId": "024426f0-b782-40a0-e6a7-c60894cd2b70"
   },
   "outputs": [
    {
     "data": {
      "text/plain": [
       "array(['pos', 'neg'], dtype=object)"
      ]
     },
     "execution_count": 12,
     "metadata": {},
     "output_type": "execute_result"
    }
   ],
   "source": [
    "df['PN'].unique()"
   ]
  },
  {
   "cell_type": "code",
   "execution_count": 13,
   "metadata": {
    "colab": {
     "base_uri": "https://localhost:8080/"
    },
    "id": "-pz9_Qy15b5y",
    "outputId": "a1e119ec-295c-497c-8740-390eb17ecc56"
   },
   "outputs": [
    {
     "data": {
      "text/plain": [
       "neg    47550\n",
       "pos    33369\n",
       "Name: PN, dtype: int64"
      ]
     },
     "execution_count": 13,
     "metadata": {},
     "output_type": "execute_result"
    }
   ],
   "source": [
    "df['PN'].value_counts()"
   ]
  },
  {
   "cell_type": "code",
   "execution_count": 14,
   "metadata": {},
   "outputs": [],
   "source": [
    "mappings = {\"pos\": 1, \"neg\": 0}\n",
    "df[\"PN\"] = df[\"PN\"].map(mappings)"
   ]
  },
  {
   "cell_type": "code",
   "execution_count": 15,
   "metadata": {},
   "outputs": [],
   "source": [
    "# remove duplicated messages\n",
    "df = df.drop_duplicates(subset='Message', keep=\"first\")"
   ]
  },
  {
   "cell_type": "code",
   "execution_count": 16,
   "metadata": {},
   "outputs": [
    {
     "data": {
      "text/plain": [
       "array(['liberal', nan, 'conservative'], dtype=object)"
      ]
     },
     "execution_count": 16,
     "metadata": {},
     "output_type": "execute_result"
    }
   ],
   "source": [
    "df.LNC_category.unique()"
   ]
  },
  {
   "cell_type": "code",
   "execution_count": 17,
   "metadata": {},
   "outputs": [],
   "source": [
    "df.dropna(subset=\"LNC_category\", axis=0, inplace=True)"
   ]
  },
  {
   "cell_type": "code",
   "execution_count": 18,
   "metadata": {},
   "outputs": [],
   "source": [
    "mappings = {\"liberal\": 1, \"conservative\": 0}\n",
    "df[\"LNC_category\"] = df[\"LNC_category\"].map(mappings)"
   ]
  },
  {
   "cell_type": "code",
   "execution_count": 19,
   "metadata": {
    "colab": {
     "base_uri": "https://localhost:8080/"
    },
    "id": "AK5_MaEZFbeO",
    "outputId": "ac9ed297-a182-426f-84d3-475243f3335b"
   },
   "outputs": [
    {
     "data": {
      "text/plain": [
       "0        38358.192\n",
       "1        38358.192\n",
       "2        38358.192\n",
       "3        38358.192\n",
       "4        38358.192\n",
       "           ...    \n",
       "82333     3249.592\n",
       "82334     3183.099\n",
       "82335     3182.963\n",
       "82336     3182.963\n",
       "82337     3178.370\n",
       "Name: Followers_at_Posting, Length: 43560, dtype: float64"
      ]
     },
     "execution_count": 19,
     "metadata": {},
     "output_type": "execute_result"
    }
   ],
   "source": [
    "df['Followers_at_Posting']=df['Followers at Posting']/1000\n",
    "df['Followers_at_Posting']"
   ]
  },
  {
   "cell_type": "code",
   "execution_count": 20,
   "metadata": {},
   "outputs": [],
   "source": [
    "df['log_Likes'] = np.log(df['Likes']+1)\n",
    "df['log_comments'] = np.log(df['Comments']+1)\n",
    "df['log_Shares'] = np.log(df['Shares']+1)"
   ]
  },
  {
   "cell_type": "code",
   "execution_count": 21,
   "metadata": {},
   "outputs": [],
   "source": [
    "df['log_Likes']=df['log_Likes'].dropna()\n",
    "df['log_comments']=df['log_comments'].dropna()\n",
    "df['log_Shares']=df['log_Shares'].dropna()"
   ]
  },
  {
   "cell_type": "code",
   "execution_count": 22,
   "metadata": {
    "id": "pHtAtplLK1cm"
   },
   "outputs": [],
   "source": [
    "df['LNC_category']=df['LNC_category'].dropna()"
   ]
  },
  {
   "cell_type": "code",
   "execution_count": 23,
   "metadata": {
    "colab": {
     "base_uri": "https://localhost:8080/"
    },
    "id": "MjqXNjAlWPMO",
    "outputId": "f82528bc-4854-4832-ac93-0c761d20ac82"
   },
   "outputs": [
    {
     "data": {
      "text/plain": [
       "array([1, 0])"
      ]
     },
     "execution_count": 23,
     "metadata": {},
     "output_type": "execute_result"
    }
   ],
   "source": [
    "df['LNC_category'].unique()"
   ]
  },
  {
   "cell_type": "code",
   "execution_count": 25,
   "metadata": {
    "colab": {
     "base_uri": "https://localhost:8080/"
    },
    "id": "tW51HQqRc9xT",
    "outputId": "355a35c7-4671-42b8-a56f-d70c7bcf173e"
   },
   "outputs": [
    {
     "data": {
      "text/plain": [
       "1    35703\n",
       "0     7857\n",
       "Name: LNC_category, dtype: int64"
      ]
     },
     "execution_count": 25,
     "metadata": {},
     "output_type": "execute_result"
    }
   ],
   "source": [
    "df['LNC_category'].value_counts()"
   ]
  },
  {
   "cell_type": "code",
   "execution_count": 26,
   "metadata": {},
   "outputs": [],
   "source": [
    "# remove http/https\n",
    "import re\n",
    "def remove_https_links(message):\n",
    "    return re.sub(r'http\\S+', '', message, flags=re.MULTILINE)"
   ]
  },
  {
   "cell_type": "code",
   "execution_count": 27,
   "metadata": {},
   "outputs": [],
   "source": [
    "# Apply the function named remove_... on the column\n",
    "df[\"Message\"] = df[\"Message\"].apply(remove_https_links)"
   ]
  },
  {
   "cell_type": "code",
   "execution_count": 28,
   "metadata": {},
   "outputs": [
    {
     "data": {
      "text/plain": [
       "Post Id                            -0.002539\n",
       "Facebook Id                         3.471359\n",
       "Likes at Posting                    0.744961\n",
       "Followers at Posting                0.790614\n",
       "Likes                              11.990336\n",
       "Comments                           12.224080\n",
       "Shares                             22.701683\n",
       "Love                               18.074876\n",
       "Wow                                16.354572\n",
       "Haha                               29.457308\n",
       "Sad                                25.653120\n",
       "Angry                              11.832166\n",
       "Care                               32.168649\n",
       "Post Views                        118.237373\n",
       "Total Views                        91.631121\n",
       "Total Views For All Crossposts    151.258268\n",
       "LNC_category                       -1.662635\n",
       "care_p                              0.578309\n",
       "fairness_p                          0.551781\n",
       "loyalty_p                           0.427095\n",
       "authority_p                         0.809626\n",
       "sanctity_p                          0.762676\n",
       "care_sent                          -0.034767\n",
       "fairness_sent                      -0.367293\n",
       "loyalty_sent                       -0.429674\n",
       "authority_sent                     -0.375579\n",
       "sanctity_sent                       0.168784\n",
       "moral_nonmoral_ratio                3.608913\n",
       "f_var                               6.507961\n",
       "sent_var                           13.649771\n",
       "Liberty/oppression                 -0.146731\n",
       "word_count                         10.335319\n",
       "Post_Created_Month                  0.689557\n",
       "Page_Created_Month                 -0.271317\n",
       "liberty_p                          -1.849467\n",
       "PN                                  0.389568\n",
       "Followers_at_Posting                0.790614\n",
       "log_Likes                           0.234517\n",
       "log_comments                       -0.077217\n",
       "log_Shares                          0.161164\n",
       "dtype: float64"
      ]
     },
     "execution_count": 28,
     "metadata": {},
     "output_type": "execute_result"
    }
   ],
   "source": [
    "df.skew()"
   ]
  },
  {
   "cell_type": "code",
   "execution_count": 71,
   "metadata": {
    "id": "qYMeX8OLqHAK"
   },
   "outputs": [],
   "source": [
    "df2 = df[['Page Name','Post Id','Facebook Id', 'Post Created Date','care_p', 'fairness_p', 'loyalty_p',\n",
    "          'authority_p', 'sanctity_p', 'Likes', 'Comments', 'Shares', 'PN', 'LNC_category', 'Page Created',\n",
    "          'Type', 'Message', 'word_count','Followers_at_Posting', 'Post_Created_Month', 'Page_Created_Month',\n",
    "          'liberty_p', 'log_Likes', 'log_comments', 'log_Shares']]"
   ]
  },
  {
   "cell_type": "markdown",
   "metadata": {
    "id": "2gtb6yWnqHAL"
   },
   "source": [
    "### 2. Check the distribution of data"
   ]
  },
  {
   "cell_type": "code",
   "execution_count": 30,
   "metadata": {
    "colab": {
     "base_uri": "https://localhost:8080/"
    },
    "id": "EljRAUgxD8k_",
    "outputId": "c0a59875-a16c-4851-ffb8-b05db1d24ce2"
   },
   "outputs": [
    {
     "name": "stdout",
     "output_type": "stream",
     "text": [
      "<class 'pandas.core.frame.DataFrame'>\n",
      "Int64Index: 43560 entries, 0 to 82337\n",
      "Data columns (total 22 columns):\n",
      " #   Column                Non-Null Count  Dtype         \n",
      "---  ------                --------------  -----         \n",
      " 0   Page Name             43560 non-null  object        \n",
      " 1   Post Id               43560 non-null  int64         \n",
      " 2   Facebook Id           43560 non-null  int64         \n",
      " 3   Post Created Date     43560 non-null  datetime64[ns]\n",
      " 4   care_p                43560 non-null  float64       \n",
      " 5   fairness_p            43560 non-null  float64       \n",
      " 6   loyalty_p             43560 non-null  float64       \n",
      " 7   authority_p           43560 non-null  float64       \n",
      " 8   sanctity_p            43560 non-null  float64       \n",
      " 9   Likes                 43560 non-null  int64         \n",
      " 10  Comments              43560 non-null  int64         \n",
      " 11  Shares                43560 non-null  int64         \n",
      " 12  PN                    43560 non-null  int64         \n",
      " 13  LNC_category          43560 non-null  int64         \n",
      " 14  Page Created          43560 non-null  datetime64[ns]\n",
      " 15  Type                  43560 non-null  object        \n",
      " 16  Message               43560 non-null  object        \n",
      " 17  word_count            43560 non-null  int64         \n",
      " 18  Followers at Posting  43560 non-null  float64       \n",
      " 19  Post_Created_Month    43560 non-null  int64         \n",
      " 20  Page_Created_Month    43560 non-null  int64         \n",
      " 21  liberty_p             43560 non-null  float64       \n",
      "dtypes: datetime64[ns](2), float64(7), int64(10), object(3)\n",
      "memory usage: 7.6+ MB\n"
     ]
    }
   ],
   "source": [
    "df2.info()"
   ]
  },
  {
   "cell_type": "code",
   "execution_count": 31,
   "metadata": {},
   "outputs": [
    {
     "data": {
      "image/png": "[encoded data removed]",
      "text/plain": [
       "<Figure size 1440x720 with 2 Axes>"
      ]
     },
     "metadata": {
      "needs_background": "light"
     },
     "output_type": "display_data"
    }
   ],
   "source": [
    "corr = df2.corr()\n",
    "#Using Pearson Correlation\n",
    "plt.figure(figsize=(20,10))\n",
    "cor = df.corr()\n",
    "sns.heatmap(corr, annot=True, cmap=plt.cm.Reds, fmt='.2f')\n",
    "plt.show()"
   ]
  },
  {
   "cell_type": "code",
   "execution_count": 32,
   "metadata": {},
   "outputs": [
    {
     "data": {
      "text/html": [
       "<div>\n",
       "<style scoped>\n",
       "    .dataframe tbody tr th:only-of-type {\n",
       "        vertical-align: middle;\n",
       "    }\n",
       "\n",
       "    .dataframe tbody tr th {\n",
       "        vertical-align: top;\n",
       "    }\n",
       "\n",
       "    .dataframe thead th {\n",
       "        text-align: right;\n",
       "    }\n",
       "</style>\n",
       "<table border=\"1\" class=\"dataframe\">\n",
       "  <thead>\n",
       "    <tr style=\"text-align: right;\">\n",
       "      <th></th>\n",
       "      <th>care_p</th>\n",
       "      <th>fairness_p</th>\n",
       "      <th>loyalty_p</th>\n",
       "      <th>authority_p</th>\n",
       "      <th>sanctity_p</th>\n",
       "      <th>liberty_p</th>\n",
       "    </tr>\n",
       "    <tr>\n",
       "      <th>Page Name</th>\n",
       "      <th></th>\n",
       "      <th></th>\n",
       "      <th></th>\n",
       "      <th></th>\n",
       "      <th></th>\n",
       "      <th></th>\n",
       "    </tr>\n",
       "  </thead>\n",
       "  <tbody>\n",
       "    <tr>\n",
       "      <th>BBC</th>\n",
       "      <td>0.109915</td>\n",
       "      <td>0.100000</td>\n",
       "      <td>0.090812</td>\n",
       "      <td>0.089740</td>\n",
       "      <td>0.085731</td>\n",
       "      <td>0.470114</td>\n",
       "    </tr>\n",
       "    <tr>\n",
       "      <th>Breitbart</th>\n",
       "      <td>0.108332</td>\n",
       "      <td>0.103468</td>\n",
       "      <td>0.094435</td>\n",
       "      <td>0.098487</td>\n",
       "      <td>0.082998</td>\n",
       "      <td>0.465986</td>\n",
       "    </tr>\n",
       "    <tr>\n",
       "      <th>CNN</th>\n",
       "      <td>0.107239</td>\n",
       "      <td>0.099005</td>\n",
       "      <td>0.089578</td>\n",
       "      <td>0.090896</td>\n",
       "      <td>0.081108</td>\n",
       "      <td>0.504136</td>\n",
       "    </tr>\n",
       "    <tr>\n",
       "      <th>Daily Kos</th>\n",
       "      <td>0.115553</td>\n",
       "      <td>0.107276</td>\n",
       "      <td>0.096415</td>\n",
       "      <td>0.096759</td>\n",
       "      <td>0.086024</td>\n",
       "      <td>0.460706</td>\n",
       "    </tr>\n",
       "    <tr>\n",
       "      <th>Fox News</th>\n",
       "      <td>0.101057</td>\n",
       "      <td>0.097521</td>\n",
       "      <td>0.090172</td>\n",
       "      <td>0.095510</td>\n",
       "      <td>0.076352</td>\n",
       "      <td>0.497799</td>\n",
       "    </tr>\n",
       "    <tr>\n",
       "      <th>MSNBC</th>\n",
       "      <td>0.106318</td>\n",
       "      <td>0.099314</td>\n",
       "      <td>0.090975</td>\n",
       "      <td>0.092613</td>\n",
       "      <td>0.079887</td>\n",
       "      <td>0.496060</td>\n",
       "    </tr>\n",
       "    <tr>\n",
       "      <th>NBC</th>\n",
       "      <td>0.090965</td>\n",
       "      <td>0.082680</td>\n",
       "      <td>0.086798</td>\n",
       "      <td>0.087898</td>\n",
       "      <td>0.081438</td>\n",
       "      <td>0.530215</td>\n",
       "    </tr>\n",
       "    <tr>\n",
       "      <th>NPR</th>\n",
       "      <td>0.109564</td>\n",
       "      <td>0.100567</td>\n",
       "      <td>0.090576</td>\n",
       "      <td>0.092946</td>\n",
       "      <td>0.081320</td>\n",
       "      <td>0.484205</td>\n",
       "    </tr>\n",
       "    <tr>\n",
       "      <th>The New York Times</th>\n",
       "      <td>0.108388</td>\n",
       "      <td>0.100022</td>\n",
       "      <td>0.089713</td>\n",
       "      <td>0.092964</td>\n",
       "      <td>0.082233</td>\n",
       "      <td>0.487550</td>\n",
       "    </tr>\n",
       "    <tr>\n",
       "      <th>TheBlaze</th>\n",
       "      <td>0.106838</td>\n",
       "      <td>0.105104</td>\n",
       "      <td>0.093009</td>\n",
       "      <td>0.098248</td>\n",
       "      <td>0.085116</td>\n",
       "      <td>0.450776</td>\n",
       "    </tr>\n",
       "    <tr>\n",
       "      <th>Washington Post</th>\n",
       "      <td>0.107529</td>\n",
       "      <td>0.100773</td>\n",
       "      <td>0.090968</td>\n",
       "      <td>0.094163</td>\n",
       "      <td>0.081079</td>\n",
       "      <td>0.464942</td>\n",
       "    </tr>\n",
       "  </tbody>\n",
       "</table>\n",
       "</div>"
      ],
      "text/plain": [
       "                      care_p  fairness_p  loyalty_p  authority_p  sanctity_p  \\\n",
       "Page Name                                                                      \n",
       "BBC                 0.109915    0.100000   0.090812     0.089740    0.085731   \n",
       "Breitbart           0.108332    0.103468   0.094435     0.098487    0.082998   \n",
       "CNN                 0.107239    0.099005   0.089578     0.090896    0.081108   \n",
       "Daily Kos           0.115553    0.107276   0.096415     0.096759    0.086024   \n",
       "Fox News            0.101057    0.097521   0.090172     0.095510    0.076352   \n",
       "MSNBC               0.106318    0.099314   0.090975     0.092613    0.079887   \n",
       "NBC                 0.090965    0.082680   0.086798     0.087898    0.081438   \n",
       "NPR                 0.109564    0.100567   0.090576     0.092946    0.081320   \n",
       "The New York Times  0.108388    0.100022   0.089713     0.092964    0.082233   \n",
       "TheBlaze            0.106838    0.105104   0.093009     0.098248    0.085116   \n",
       "Washington Post     0.107529    0.100773   0.090968     0.094163    0.081079   \n",
       "\n",
       "                    liberty_p  \n",
       "Page Name                      \n",
       "BBC                  0.470114  \n",
       "Breitbart            0.465986  \n",
       "CNN                  0.504136  \n",
       "Daily Kos            0.460706  \n",
       "Fox News             0.497799  \n",
       "MSNBC                0.496060  \n",
       "NBC                  0.530215  \n",
       "NPR                  0.484205  \n",
       "The New York Times   0.487550  \n",
       "TheBlaze             0.450776  \n",
       "Washington Post      0.464942  "
      ]
     },
     "execution_count": 32,
     "metadata": {},
     "output_type": "execute_result"
    }
   ],
   "source": [
    "df2.groupby('Page Name')['care_p', 'fairness_p', 'loyalty_p', 'authority_p', 'sanctity_p', 'liberty_p'].mean()"
   ]
  },
  {
   "cell_type": "code",
   "execution_count": 33,
   "metadata": {},
   "outputs": [
    {
     "data": {
      "text/plain": [
       "Page Name\n",
       "NBC                   0.090965\n",
       "Fox News              0.101057\n",
       "MSNBC                 0.106318\n",
       "TheBlaze              0.106838\n",
       "CNN                   0.107239\n",
       "Washington Post       0.107529\n",
       "Breitbart             0.108332\n",
       "The New York Times    0.108388\n",
       "NPR                   0.109564\n",
       "BBC                   0.109915\n",
       "Daily Kos             0.115553\n",
       "Name: care_p, dtype: float64"
      ]
     },
     "execution_count": 33,
     "metadata": {},
     "output_type": "execute_result"
    }
   ],
   "source": [
    "df2.groupby('Page Name')['care_p'].mean().sort_values()"
   ]
  },
  {
   "cell_type": "code",
   "execution_count": 54,
   "metadata": {},
   "outputs": [],
   "source": [
    "# Conservative sample\n",
    "df_con = df2[df2['LNC_category'] == 0]"
   ]
  },
  {
   "cell_type": "code",
   "execution_count": 55,
   "metadata": {},
   "outputs": [],
   "source": [
    "# Liberal sample\n",
    "df_lib = df2[df2['LNC_category'] == 1]"
   ]
  },
  {
   "cell_type": "markdown",
   "metadata": {},
   "source": [
    "### 3. Mapping care_p & message"
   ]
  },
  {
   "cell_type": "markdown",
   "metadata": {},
   "source": [
    "First, apply mapping to the full sample"
   ]
  },
  {
   "cell_type": "code",
   "execution_count": 36,
   "metadata": {},
   "outputs": [],
   "source": [
    "dict_of_quantile = dict(df2.quantile(0.9))"
   ]
  },
  {
   "cell_type": "code",
   "execution_count": 37,
   "metadata": {},
   "outputs": [
    {
     "data": {
      "text/plain": [
       "{'Post Id': 8979984336.3,\n",
       " 'Facebook Id': 273864989376427.0,\n",
       " 'care_p': 0.1424073638815102,\n",
       " 'fairness_p': 0.12889168939177545,\n",
       " 'loyalty_p': 0.11474909956988572,\n",
       " 'authority_p': 0.11995425056259564,\n",
       " 'sanctity_p': 0.10628977911576865,\n",
       " 'Likes': 5348.199999999997,\n",
       " 'Comments': 2528.199999999997,\n",
       " 'Shares': 1775.0,\n",
       " 'PN': 1.0,\n",
       " 'LNC_category': 1.0,\n",
       " 'word_count': 46.0,\n",
       " 'Followers at Posting': 35871975.79999998,\n",
       " 'Post_Created_Month': 11.0,\n",
       " 'Page_Created_Month': 11.0,\n",
       " 'liberty_p': 0.6258503401360546}"
      ]
     },
     "execution_count": 37,
     "metadata": {},
     "output_type": "execute_result"
    }
   ],
   "source": [
    "dict_of_quantile"
   ]
  },
  {
   "cell_type": "code",
   "execution_count": 44,
   "metadata": {},
   "outputs": [],
   "source": [
    "# top 10% of care_p\n",
    "top10 = df2[df2[\"care_p\"] > dict_of_quantile['care_p'] ]"
   ]
  },
  {
   "cell_type": "code",
   "execution_count": 45,
   "metadata": {},
   "outputs": [],
   "source": [
    "dict_of_10 = dict(top10.quantile(0.9))"
   ]
  },
  {
   "cell_type": "code",
   "execution_count": 46,
   "metadata": {},
   "outputs": [],
   "source": [
    "# generate bottom 10% from the highest care_p score\n",
    "dict_of_quantile_b = dict(top10.quantile(0.1))"
   ]
  },
  {
   "cell_type": "code",
   "execution_count": 47,
   "metadata": {},
   "outputs": [],
   "source": [
    "top10_bot10 = df2[df2[\"log_Likes\"] < dict_of_quantile_b[\"log_Likes\"]]"
   ]
  },
  {
   "cell_type": "code",
   "execution_count": 48,
   "metadata": {},
   "outputs": [],
   "source": [
    "top10_bot10[\"Message\"].head(100).to_csv(\"top10_bot10.csv\", index=False)"
   ]
  },
  {
   "cell_type": "markdown",
   "metadata": {},
   "source": [
    "Second, apply mapping to the conservative subsample"
   ]
  },
  {
   "cell_type": "code",
   "execution_count": 57,
   "metadata": {},
   "outputs": [],
   "source": [
    "dict_of_quantile_con = dict(df_con.quantile(0.9))"
   ]
  },
  {
   "cell_type": "code",
   "execution_count": 58,
   "metadata": {},
   "outputs": [],
   "source": [
    "top10_con = df_con[df_con[\"care_p\"] > dict_of_quantile_con['care_p'] ]"
   ]
  },
  {
   "cell_type": "code",
   "execution_count": 59,
   "metadata": {},
   "outputs": [],
   "source": [
    "dict_of_10_con = dict(top10_con.quantile(0.9))"
   ]
  },
  {
   "cell_type": "code",
   "execution_count": 60,
   "metadata": {},
   "outputs": [],
   "source": [
    "dict_of_quantile_con_b = dict(top10_con.quantile(0.1))"
   ]
  },
  {
   "cell_type": "code",
   "execution_count": 61,
   "metadata": {},
   "outputs": [],
   "source": [
    "top10_bot10_con = df_con[df_con[\"log_Likes\"] < dict_of_quantile_con_b[\"log_Likes\"]]"
   ]
  },
  {
   "cell_type": "code",
   "execution_count": 62,
   "metadata": {},
   "outputs": [],
   "source": [
    "top10_bot10_con[\"Message\"].head(100).to_csv(\"top10_bot10_con.csv\", index=False)"
   ]
  },
  {
   "cell_type": "markdown",
   "metadata": {},
   "source": [
    "Second, apply mapping to the liberal subsample"
   ]
  },
  {
   "cell_type": "code",
   "execution_count": 63,
   "metadata": {},
   "outputs": [],
   "source": [
    "dict_of_quantile_lib = dict(df_lib.quantile(0.9))"
   ]
  },
  {
   "cell_type": "code",
   "execution_count": 64,
   "metadata": {},
   "outputs": [],
   "source": [
    "top10_lib = df_lib[df_lib[\"care_p\"] > dict_of_quantile_lib['care_p'] ]"
   ]
  },
  {
   "cell_type": "code",
   "execution_count": 65,
   "metadata": {},
   "outputs": [],
   "source": [
    "dict_of_10_lib = dict(top10_lib.quantile(0.9))"
   ]
  },
  {
   "cell_type": "code",
   "execution_count": 66,
   "metadata": {},
   "outputs": [],
   "source": [
    "dict_of_quantile_lib_b = dict(top10_lib.quantile(0.1))"
   ]
  },
  {
   "cell_type": "code",
   "execution_count": 67,
   "metadata": {},
   "outputs": [],
   "source": [
    "top10_bot10_lib = df_lib[df_lib[\"log_Likes\"] < dict_of_quantile_lib_b[\"log_Likes\"]]"
   ]
  },
  {
   "cell_type": "code",
   "execution_count": 68,
   "metadata": {},
   "outputs": [],
   "source": [
    "top10_bot10_lib[\"Message\"].head(100).to_csv(\"top10_bot10_lib.csv\", index=False)"
   ]
  },
  {
   "cell_type": "markdown",
   "metadata": {},
   "source": [
    "## Run regression"
   ]
  },
  {
   "cell_type": "code",
   "execution_count": 72,
   "metadata": {},
   "outputs": [
    {
     "name": "stdout",
     "output_type": "stream",
     "text": [
      "Model:  1\n",
      "             Mixed Linear Model Regression Results\n",
      "===============================================================\n",
      "Model:              MixedLM   Dependent Variable:   log_Likes  \n",
      "No. Observations:   43560     Method:               REML       \n",
      "No. Groups:         11        Scale:                1.6451     \n",
      "Min. group size:    15        Log-Likelihood:       -72713.0699\n",
      "Max. group size:    9232      Converged:            Yes        \n",
      "Mean group size:    3960.0                                     \n",
      "---------------------------------------------------------------\n",
      "                     Coef.  Std.Err.   z    P>|z| [0.025 0.975]\n",
      "---------------------------------------------------------------\n",
      "Intercept             5.410    0.739  7.316 0.000  3.961  6.859\n",
      "C(PN)[T.1]            0.130    0.013 10.209 0.000  0.105  0.155\n",
      "C(LNC_category)[T.1] -0.584    0.580 -1.007 0.314 -1.720  0.553\n",
      "care_p               -2.592    0.290 -8.933 0.000 -3.161 -2.023\n",
      "fairness_p           -0.228    0.355 -0.643 0.520 -0.924  0.467\n",
      "loyalty_p             0.467    0.422  1.109 0.267 -0.359  1.294\n",
      "authority_p           4.022    0.357 11.263 0.000  3.322  4.721\n",
      "sanctity_p            1.191    0.374  3.186 0.001  0.458  1.924\n",
      "liberty_p             0.140    0.040  3.465 0.001  0.061  0.219\n",
      "Post_Created_Month    0.011    0.002  5.192 0.000  0.007  0.015\n",
      "Page_Created_Month    0.042    0.073  0.574 0.566 -0.101  0.185\n",
      "word_count            0.004    0.000  9.264 0.000  0.003  0.005\n",
      "Followers_at_Posting  0.000    0.000  4.403 0.000  0.000  0.000\n",
      "Facebook Id Var       0.711    0.290                           \n",
      "===============================================================\n",
      "\n"
     ]
    }
   ],
   "source": [
    "# For full sample \n",
    "from sklearn.model_selection import train_test_split\n",
    "df_train, df_test = train_test_split(df2.dropna(), test_size = .2) \n",
    "\n",
    "full_sample = smf.mixedlm(\"log_Likes ~ care_p + fairness_p + loyalty_p + authority_p + sanctity_p + liberty_p+\\\n",
    "Post_Created_Month+ Page_Created_Month + word_count + C(PN) + Followers_at_Posting + C(LNC_category)\", \n",
    "data = df2.dropna(), groups= \"Facebook Id\").fit()\n",
    "print(\"Model: \", 1)\n",
    "print(full_sample.summary())"
   ]
  },
  {
   "cell_type": "code",
   "execution_count": 73,
   "metadata": {
    "scrolled": true
   },
   "outputs": [
    {
     "name": "stdout",
     "output_type": "stream",
     "text": [
      "Model:  1\n",
      "               Mixed Linear Model Regression Results\n",
      "===================================================================\n",
      "Model:                MixedLM    Dependent Variable:    log_Likes  \n",
      "No. Observations:     43560      Method:                REML       \n",
      "No. Groups:           11         Scale:                 1.6448     \n",
      "Min. group size:      15         Log-Likelihood:        -72703.0261\n",
      "Max. group size:      9232       Converged:             Yes        \n",
      "Mean group size:      3960.0                                       \n",
      "-------------------------------------------------------------------\n",
      "                         Coef.  Std.Err.   z    P>|z| [0.025 0.975]\n",
      "-------------------------------------------------------------------\n",
      "Intercept                 5.441    0.742  7.330 0.000  3.986  6.896\n",
      "C(PN)[T.1]                0.130    0.013 10.205 0.000  0.105  0.155\n",
      "C(LNC_category)[T.1]     -0.625    0.586 -1.066 0.286 -1.774  0.524\n",
      "care_p                   -3.573    0.669 -5.341 0.000 -4.885 -2.262\n",
      "fairness_p               -0.881    0.804 -1.096 0.273 -2.456  0.694\n",
      "loyalty_p                 3.455    0.925  3.736 0.000  1.642  5.268\n",
      "authority_p               2.685    0.776  3.461 0.001  1.164  4.206\n",
      "sanctity_p                1.243    0.837  1.486 0.137 -0.397  2.883\n",
      "liberty_p                 0.117    0.087  1.351 0.177 -0.053  0.288\n",
      "care_p:LNC_category       1.199    0.741  1.618 0.106 -0.254  2.653\n",
      "fairness_p:LNC_category   0.865    0.896  0.965 0.334 -0.891  2.621\n",
      "loyalty_p:LNC_category   -3.770    1.037 -3.637 0.000 -5.801 -1.738\n",
      "authority_p:LNC_category  1.716    0.873  1.966 0.049  0.005  3.427\n",
      "sanctity_p:LNC_category  -0.052    0.935 -0.055 0.956 -1.884  1.781\n",
      "liberty_p:LNC_category    0.028    0.098  0.292 0.771 -0.163  0.220\n",
      "Post_Created_Month        0.011    0.002  5.223 0.000  0.007  0.015\n",
      "Page_Created_Month        0.042    0.073  0.576 0.564 -0.101  0.185\n",
      "word_count                0.004    0.000  9.247 0.000  0.003  0.005\n",
      "Followers_at_Posting      0.000    0.000  4.370 0.000  0.000  0.000\n",
      "Facebook Id Var           0.710    0.290                           \n",
      "===================================================================\n",
      "\n"
     ]
    }
   ],
   "source": [
    "# For full sample (by ideology)\n",
    "from sklearn.model_selection import train_test_split\n",
    "df_train, df_test = train_test_split(df2.dropna(), test_size = .2) \n",
    "\n",
    "full_sample = smf.mixedlm(\"log_Likes ~ care_p + fairness_p + loyalty_p + authority_p + sanctity_p + liberty_p +\\\n",
    "care_p:LNC_category + fairness_p:LNC_category + loyalty_p:LNC_category + authority_p:LNC_category +\\\n",
    "sanctity_p:LNC_category + liberty_p:LNC_category + Post_Created_Month+ Page_Created_Month + word_count\\\n",
    "+ C(PN) + Followers_at_Posting + C(LNC_category)\", \n",
    "data = df2.dropna(), groups= \"Facebook Id\").fit()\n",
    "print(\"Model: \", 1)\n",
    "print(full_sample.summary())"
   ]
  },
  {
   "cell_type": "markdown",
   "metadata": {},
   "source": [
    "### 4. Run topic models"
   ]
  },
  {
   "cell_type": "markdown",
   "metadata": {},
   "source": [
    "First, tokenize and cleanup text (lowercase, remove stopwords), lemmatize"
   ]
  },
  {
   "cell_type": "markdown",
   "metadata": {},
   "source": [
    "Reference: https://towardsdatascience.com/end-to-end-topic-modeling-in-python-latent-dirichlet-allocation-lda-35ce4ed6b3e0"
   ]
  },
  {
   "cell_type": "code",
   "execution_count": 75,
   "metadata": {},
   "outputs": [
    {
     "name": "stderr",
     "output_type": "stream",
     "text": [
      "[nltk_data] Downloading package stopwords to\n",
      "[nltk_data]     /Users/brinxu/nltk_data...\n",
      "[nltk_data]   Package stopwords is already up-to-date!\n"
     ]
    }
   ],
   "source": [
    "import gensim\n",
    "from gensim.utils import simple_preprocess\n",
    "import nltk\n",
    "nltk.download('stopwords')\n",
    "from nltk.corpus import stopwords"
   ]
  },
  {
   "cell_type": "code",
   "execution_count": 76,
   "metadata": {
    "scrolled": true
   },
   "outputs": [
    {
     "name": "stdout",
     "output_type": "stream",
     "text": [
      "['i', 'me', 'my', 'myself', 'we', 'our', 'ours', 'ourselves', 'you', \"you're\", \"you've\", \"you'll\", \"you'd\", 'your', 'yours', 'yourself', 'yourselves', 'he', 'him', 'his', 'himself', 'she', \"she's\", 'her', 'hers', 'herself', 'it', \"it's\", 'its', 'itself', 'they', 'them', 'their', 'theirs', 'themselves', 'what', 'which', 'who', 'whom', 'this', 'that', \"that'll\", 'these', 'those', 'am', 'is', 'are', 'was', 'were', 'be', 'been', 'being', 'have', 'has', 'had', 'having', 'do', 'does', 'did', 'doing', 'a', 'an', 'the', 'and', 'but', 'if', 'or', 'because', 'as', 'until', 'while', 'of', 'at', 'by', 'for', 'with', 'about', 'against', 'between', 'into', 'through', 'during', 'before', 'after', 'above', 'below', 'to', 'from', 'up', 'down', 'in', 'out', 'on', 'off', 'over', 'under', 'again', 'further', 'then', 'once', 'here', 'there', 'when', 'where', 'why', 'how', 'all', 'any', 'both', 'each', 'few', 'more', 'most', 'other', 'some', 'such', 'no', 'nor', 'not', 'only', 'own', 'same', 'so', 'than', 'too', 'very', 's', 't', 'can', 'will', 'just', 'don', \"don't\", 'should', \"should've\", 'now', 'd', 'll', 'm', 'o', 're', 've', 'y', 'ain', 'aren', \"aren't\", 'couldn', \"couldn't\", 'didn', \"didn't\", 'doesn', \"doesn't\", 'hadn', \"hadn't\", 'hasn', \"hasn't\", 'haven', \"haven't\", 'isn', \"isn't\", 'ma', 'mightn', \"mightn't\", 'mustn', \"mustn't\", 'needn', \"needn't\", 'shan', \"shan't\", 'shouldn', \"shouldn't\", 'wasn', \"wasn't\", 'weren', \"weren't\", 'won', \"won't\", 'wouldn', \"wouldn't\", 'vaccine', 'from', 'subject', 're', 'edu', 'use', 'Covid19', 'COVID-19', 'Covid', 'Corona', 'Coronavirus', '2019ncov', 'Ncov', 'Pandemic', 'Social distancing', 'Lockdown', 'Quarantine', 'SARS-CoV-2', 'N95']\n"
     ]
    }
   ],
   "source": [
    "stop_words = stopwords.words('english')\n",
    "stop_words.extend(['vaccine', 'from', 'subject', 're', 'edu', 'use', 'Covid19', 'COVID-19', 'Covid', 'Corona', 'Coronavirus', '2019ncov', 'Ncov', 'Pandemic', 'Social distancing', 'Lockdown', 'Quarantine', 'SARS-CoV-2', 'N95'])\n",
    "print(stop_words)"
   ]
  },
  {
   "cell_type": "code",
   "execution_count": 77,
   "metadata": {},
   "outputs": [
    {
     "name": "stdout",
     "output_type": "stream",
     "text": [
      "<class 'pandas.core.frame.DataFrame'>\n",
      "Int64Index: 43560 entries, 0 to 82337\n",
      "Data columns (total 60 columns):\n",
      " #   Column                                                                                                              Non-Null Count  Dtype         \n",
      "---  ------                                                                                                              --------------  -----         \n",
      " 0   Post Id                                                                                                             43560 non-null  int64         \n",
      " 1   Page Name                                                                                                           43560 non-null  object        \n",
      " 2   User Name                                                                                                           43560 non-null  object        \n",
      " 3   Facebook Id                                                                                                         43560 non-null  int64         \n",
      " 4   Page Category                                                                                                       43560 non-null  object        \n",
      " 5   Page Admin Top Country                                                                                              43560 non-null  object        \n",
      " 6   Page Description                                                                                                    43560 non-null  object        \n",
      " 7   Page Created                                                                                                        43560 non-null  datetime64[ns]\n",
      " 8   Likes at Posting                                                                                                    43560 non-null  int64         \n",
      " 9   Followers at Posting                                                                                                43560 non-null  float64       \n",
      " 10  Post Created                                                                                                        43560 non-null  object        \n",
      " 11  Post Created Date                                                                                                   43560 non-null  datetime64[ns]\n",
      " 12  Post Created Time                                                                                                   43560 non-null  object        \n",
      " 13  Type                                                                                                                43560 non-null  object        \n",
      " 14  Total Interactions                                                                                                  43560 non-null  object        \n",
      " 15  Likes                                                                                                               43560 non-null  int64         \n",
      " 16  Comments                                                                                                            43560 non-null  int64         \n",
      " 17  Shares                                                                                                              43560 non-null  int64         \n",
      " 18  Love                                                                                                                43560 non-null  int64         \n",
      " 19  Wow                                                                                                                 43560 non-null  int64         \n",
      " 20  Haha                                                                                                                43560 non-null  int64         \n",
      " 21  Sad                                                                                                                 43560 non-null  int64         \n",
      " 22  Angry                                                                                                               43560 non-null  int64         \n",
      " 23  Care                                                                                                                43560 non-null  int64         \n",
      " 24  Is Video Owner?                                                                                                     43560 non-null  object        \n",
      " 25  Post Views                                                                                                          43560 non-null  int64         \n",
      " 26  Total Views                                                                                                         43560 non-null  int64         \n",
      " 27  Total Views For All Crossposts                                                                                      43560 non-null  int64         \n",
      " 28  URL                                                                                                                 43560 non-null  object        \n",
      " 29  Message                                                                                                             43560 non-null  object        \n",
      " 30  Link                                                                                                                43560 non-null  object        \n",
      " 31  Link Text                                                                                                           43560 non-null  object        \n",
      " 32  Description                                                                                                         43560 non-null  object        \n",
      " 33  Overperforming Score (weighted  —  Likes 1x Shares 1x Comments 1x Love 1x Wow 1x Haha 1x Sad 1x Angry 1x Care 1x )  43560 non-null  object        \n",
      " 34  LNC_category                                                                                                        43560 non-null  int64         \n",
      " 35  covid                                                                                                               43560 non-null  object        \n",
      " 36  care_p                                                                                                              43560 non-null  float64       \n",
      " 37  fairness_p                                                                                                          43560 non-null  float64       \n",
      " 38  loyalty_p                                                                                                           43560 non-null  float64       \n",
      " 39  authority_p                                                                                                         43560 non-null  float64       \n",
      " 40  sanctity_p                                                                                                          43560 non-null  float64       \n",
      " 41  care_sent                                                                                                           43560 non-null  float64       \n",
      " 42  fairness_sent                                                                                                       43560 non-null  float64       \n",
      " 43  loyalty_sent                                                                                                        43560 non-null  float64       \n",
      " 44  authority_sent                                                                                                      43560 non-null  float64       \n",
      " 45  sanctity_sent                                                                                                       43560 non-null  float64       \n",
      " 46  moral_nonmoral_ratio                                                                                                43560 non-null  float64       \n",
      " 47  f_var                                                                                                               43560 non-null  float64       \n",
      " 48  sent_var                                                                                                            43560 non-null  float64       \n",
      " 49  clean_post                                                                                                          43560 non-null  object        \n",
      " 50  Liberty/oppression                                                                                                  40600 non-null  float64       \n",
      " 51  word_count                                                                                                          43560 non-null  int64         \n",
      " 52  Post_Created_Month                                                                                                  43560 non-null  int64         \n",
      " 53  Page_Created_Month                                                                                                  43560 non-null  int64         \n",
      " 54  liberty_p                                                                                                           43560 non-null  float64       \n",
      " 55  PN                                                                                                                  43560 non-null  int64         \n",
      " 56  Followers_at_Posting                                                                                                43560 non-null  float64       \n",
      " 57  log_Likes                                                                                                           43560 non-null  float64       \n",
      " 58  log_comments                                                                                                        43560 non-null  float64       \n",
      " 59  log_Shares                                                                                                          43560 non-null  float64       \n",
      "dtypes: datetime64[ns](2), float64(20), int64(20), object(18)\n",
      "memory usage: 20.3+ MB\n"
     ]
    }
   ],
   "source": [
    "df.info()"
   ]
  },
  {
   "cell_type": "code",
   "execution_count": 79,
   "metadata": {},
   "outputs": [
    {
     "data": {
      "text/html": [
       "<div>\n",
       "<style scoped>\n",
       "    .dataframe tbody tr th:only-of-type {\n",
       "        vertical-align: middle;\n",
       "    }\n",
       "\n",
       "    .dataframe tbody tr th {\n",
       "        vertical-align: top;\n",
       "    }\n",
       "\n",
       "    .dataframe thead th {\n",
       "        text-align: right;\n",
       "    }\n",
       "</style>\n",
       "<table border=\"1\" class=\"dataframe\">\n",
       "  <thead>\n",
       "    <tr style=\"text-align: right;\">\n",
       "      <th></th>\n",
       "      <th>Post Id</th>\n",
       "      <th>Page Name</th>\n",
       "      <th>User Name</th>\n",
       "      <th>Facebook Id</th>\n",
       "      <th>Page Category</th>\n",
       "      <th>Page Admin Top Country</th>\n",
       "      <th>Page Description</th>\n",
       "      <th>Page Created</th>\n",
       "      <th>Likes at Posting</th>\n",
       "      <th>Followers at Posting</th>\n",
       "      <th>...</th>\n",
       "      <th>Liberty/oppression</th>\n",
       "      <th>word_count</th>\n",
       "      <th>Post_Created_Month</th>\n",
       "      <th>Page_Created_Month</th>\n",
       "      <th>liberty_p</th>\n",
       "      <th>PN</th>\n",
       "      <th>Followers_at_Posting</th>\n",
       "      <th>log_Likes</th>\n",
       "      <th>log_comments</th>\n",
       "      <th>log_Shares</th>\n",
       "    </tr>\n",
       "  </thead>\n",
       "  <tbody>\n",
       "    <tr>\n",
       "      <th>82333</th>\n",
       "      <td>9182372519</td>\n",
       "      <td>NBC</td>\n",
       "      <td>nbc</td>\n",
       "      <td>89742860745</td>\n",
       "      <td>TV_NETWORK</td>\n",
       "      <td>US</td>\n",
       "      <td>America’s Most Watched Network. The official F...</td>\n",
       "      <td>2009-04-21 21:27:43</td>\n",
       "      <td>3031931</td>\n",
       "      <td>3249592.0</td>\n",
       "      <td>...</td>\n",
       "      <td>0.591837</td>\n",
       "      <td>21</td>\n",
       "      <td>6</td>\n",
       "      <td>4</td>\n",
       "      <td>0.591837</td>\n",
       "      <td>1</td>\n",
       "      <td>3249.592</td>\n",
       "      <td>5.075174</td>\n",
       "      <td>3.433987</td>\n",
       "      <td>4.077537</td>\n",
       "    </tr>\n",
       "    <tr>\n",
       "      <th>82334</th>\n",
       "      <td>6905011240</td>\n",
       "      <td>NBC</td>\n",
       "      <td>nbc</td>\n",
       "      <td>89742860745</td>\n",
       "      <td>TV_NETWORK</td>\n",
       "      <td>US</td>\n",
       "      <td>America’s Most Watched Network. The official F...</td>\n",
       "      <td>2009-04-21 21:27:43</td>\n",
       "      <td>3028006</td>\n",
       "      <td>3183099.0</td>\n",
       "      <td>...</td>\n",
       "      <td>0.438776</td>\n",
       "      <td>22</td>\n",
       "      <td>5</td>\n",
       "      <td>4</td>\n",
       "      <td>0.438776</td>\n",
       "      <td>0</td>\n",
       "      <td>3183.099</td>\n",
       "      <td>5.123964</td>\n",
       "      <td>2.708050</td>\n",
       "      <td>3.218876</td>\n",
       "    </tr>\n",
       "    <tr>\n",
       "      <th>82335</th>\n",
       "      <td>2511083578</td>\n",
       "      <td>NBC</td>\n",
       "      <td>nbc</td>\n",
       "      <td>89742860745</td>\n",
       "      <td>TV_NETWORK</td>\n",
       "      <td>US</td>\n",
       "      <td>America’s Most Watched Network. The official F...</td>\n",
       "      <td>2009-04-21 21:27:43</td>\n",
       "      <td>3027936</td>\n",
       "      <td>3182963.0</td>\n",
       "      <td>...</td>\n",
       "      <td>0.418367</td>\n",
       "      <td>36</td>\n",
       "      <td>5</td>\n",
       "      <td>4</td>\n",
       "      <td>0.418367</td>\n",
       "      <td>1</td>\n",
       "      <td>3182.963</td>\n",
       "      <td>4.897840</td>\n",
       "      <td>3.433987</td>\n",
       "      <td>2.708050</td>\n",
       "    </tr>\n",
       "    <tr>\n",
       "      <th>82336</th>\n",
       "      <td>5556756817</td>\n",
       "      <td>NBC</td>\n",
       "      <td>nbc</td>\n",
       "      <td>89742860745</td>\n",
       "      <td>TV_NETWORK</td>\n",
       "      <td>US</td>\n",
       "      <td>America’s Most Watched Network. The official F...</td>\n",
       "      <td>2009-04-21 21:27:43</td>\n",
       "      <td>3027936</td>\n",
       "      <td>3182963.0</td>\n",
       "      <td>...</td>\n",
       "      <td>0.532908</td>\n",
       "      <td>44</td>\n",
       "      <td>5</td>\n",
       "      <td>4</td>\n",
       "      <td>0.532908</td>\n",
       "      <td>1</td>\n",
       "      <td>3182.963</td>\n",
       "      <td>4.543295</td>\n",
       "      <td>2.079442</td>\n",
       "      <td>1.945910</td>\n",
       "    </tr>\n",
       "    <tr>\n",
       "      <th>82337</th>\n",
       "      <td>1492268168</td>\n",
       "      <td>NBC</td>\n",
       "      <td>nbc</td>\n",
       "      <td>89742860745</td>\n",
       "      <td>TV_NETWORK</td>\n",
       "      <td>US</td>\n",
       "      <td>America’s Most Watched Network. The official F...</td>\n",
       "      <td>2009-04-21 21:27:43</td>\n",
       "      <td>3025596</td>\n",
       "      <td>3178370.0</td>\n",
       "      <td>...</td>\n",
       "      <td>0.482993</td>\n",
       "      <td>46</td>\n",
       "      <td>4</td>\n",
       "      <td>4</td>\n",
       "      <td>0.482993</td>\n",
       "      <td>1</td>\n",
       "      <td>3178.370</td>\n",
       "      <td>4.820282</td>\n",
       "      <td>2.639057</td>\n",
       "      <td>3.258097</td>\n",
       "    </tr>\n",
       "  </tbody>\n",
       "</table>\n",
       "<p>5 rows × 60 columns</p>\n",
       "</div>"
      ],
      "text/plain": [
       "          Post Id Page Name User Name  Facebook Id Page Category  \\\n",
       "82333  9182372519       NBC       nbc  89742860745    TV_NETWORK   \n",
       "82334  6905011240       NBC       nbc  89742860745    TV_NETWORK   \n",
       "82335  2511083578       NBC       nbc  89742860745    TV_NETWORK   \n",
       "82336  5556756817       NBC       nbc  89742860745    TV_NETWORK   \n",
       "82337  1492268168       NBC       nbc  89742860745    TV_NETWORK   \n",
       "\n",
       "      Page Admin Top Country  \\\n",
       "82333                     US   \n",
       "82334                     US   \n",
       "82335                     US   \n",
       "82336                     US   \n",
       "82337                     US   \n",
       "\n",
       "                                        Page Description        Page Created  \\\n",
       "82333  America’s Most Watched Network. The official F... 2009-04-21 21:27:43   \n",
       "82334  America’s Most Watched Network. The official F... 2009-04-21 21:27:43   \n",
       "82335  America’s Most Watched Network. The official F... 2009-04-21 21:27:43   \n",
       "82336  America’s Most Watched Network. The official F... 2009-04-21 21:27:43   \n",
       "82337  America’s Most Watched Network. The official F... 2009-04-21 21:27:43   \n",
       "\n",
       "       Likes at Posting  Followers at Posting  ... Liberty/oppression  \\\n",
       "82333           3031931             3249592.0  ...           0.591837   \n",
       "82334           3028006             3183099.0  ...           0.438776   \n",
       "82335           3027936             3182963.0  ...           0.418367   \n",
       "82336           3027936             3182963.0  ...           0.532908   \n",
       "82337           3025596             3178370.0  ...           0.482993   \n",
       "\n",
       "      word_count Post_Created_Month Page_Created_Month liberty_p  PN  \\\n",
       "82333         21                  6                  4  0.591837   1   \n",
       "82334         22                  5                  4  0.438776   0   \n",
       "82335         36                  5                  4  0.418367   1   \n",
       "82336         44                  5                  4  0.532908   1   \n",
       "82337         46                  4                  4  0.482993   1   \n",
       "\n",
       "       Followers_at_Posting  log_Likes  log_comments  log_Shares  \n",
       "82333              3249.592   5.075174      3.433987    4.077537  \n",
       "82334              3183.099   5.123964      2.708050    3.218876  \n",
       "82335              3182.963   4.897840      3.433987    2.708050  \n",
       "82336              3182.963   4.543295      2.079442    1.945910  \n",
       "82337              3178.370   4.820282      2.639057    3.258097  \n",
       "\n",
       "[5 rows x 60 columns]"
      ]
     },
     "execution_count": 79,
     "metadata": {},
     "output_type": "execute_result"
    }
   ],
   "source": [
    "# Stemming and lemmatization\n",
    "from nltk.stem.porter import PorterStemmer\n",
    "\n",
    "def stem_it(x):\n",
    "    stemmer = PorterStemmer()\n",
    "    return [stemmer.stem(w) for w in x]\n",
    "\n",
    "df['Message'] = df['Message'].apply(stem_it) \n",
    "df.tail()"
   ]
  },
  {
   "cell_type": "code",
   "execution_count": 80,
   "metadata": {},
   "outputs": [],
   "source": [
    "# normalize the stopwords list to lower case\n",
    "stop_words = list(map(lambda x: x.lower(), stop_words))"
   ]
  },
  {
   "cell_type": "code",
   "execution_count": 81,
   "metadata": {},
   "outputs": [
    {
     "data": {
      "text/plain": [
       "['i',\n",
       " 'me',\n",
       " 'my',\n",
       " 'myself',\n",
       " 'we',\n",
       " 'our',\n",
       " 'ours',\n",
       " 'ourselves',\n",
       " 'you',\n",
       " \"you're\",\n",
       " \"you've\",\n",
       " \"you'll\",\n",
       " \"you'd\",\n",
       " 'your',\n",
       " 'yours',\n",
       " 'yourself',\n",
       " 'yourselves',\n",
       " 'he',\n",
       " 'him',\n",
       " 'his',\n",
       " 'himself',\n",
       " 'she',\n",
       " \"she's\",\n",
       " 'her',\n",
       " 'hers',\n",
       " 'herself',\n",
       " 'it',\n",
       " \"it's\",\n",
       " 'its',\n",
       " 'itself',\n",
       " 'they',\n",
       " 'them',\n",
       " 'their',\n",
       " 'theirs',\n",
       " 'themselves',\n",
       " 'what',\n",
       " 'which',\n",
       " 'who',\n",
       " 'whom',\n",
       " 'this',\n",
       " 'that',\n",
       " \"that'll\",\n",
       " 'these',\n",
       " 'those',\n",
       " 'am',\n",
       " 'is',\n",
       " 'are',\n",
       " 'was',\n",
       " 'were',\n",
       " 'be',\n",
       " 'been',\n",
       " 'being',\n",
       " 'have',\n",
       " 'has',\n",
       " 'had',\n",
       " 'having',\n",
       " 'do',\n",
       " 'does',\n",
       " 'did',\n",
       " 'doing',\n",
       " 'a',\n",
       " 'an',\n",
       " 'the',\n",
       " 'and',\n",
       " 'but',\n",
       " 'if',\n",
       " 'or',\n",
       " 'because',\n",
       " 'as',\n",
       " 'until',\n",
       " 'while',\n",
       " 'of',\n",
       " 'at',\n",
       " 'by',\n",
       " 'for',\n",
       " 'with',\n",
       " 'about',\n",
       " 'against',\n",
       " 'between',\n",
       " 'into',\n",
       " 'through',\n",
       " 'during',\n",
       " 'before',\n",
       " 'after',\n",
       " 'above',\n",
       " 'below',\n",
       " 'to',\n",
       " 'from',\n",
       " 'up',\n",
       " 'down',\n",
       " 'in',\n",
       " 'out',\n",
       " 'on',\n",
       " 'off',\n",
       " 'over',\n",
       " 'under',\n",
       " 'again',\n",
       " 'further',\n",
       " 'then',\n",
       " 'once',\n",
       " 'here',\n",
       " 'there',\n",
       " 'when',\n",
       " 'where',\n",
       " 'why',\n",
       " 'how',\n",
       " 'all',\n",
       " 'any',\n",
       " 'both',\n",
       " 'each',\n",
       " 'few',\n",
       " 'more',\n",
       " 'most',\n",
       " 'other',\n",
       " 'some',\n",
       " 'such',\n",
       " 'no',\n",
       " 'nor',\n",
       " 'not',\n",
       " 'only',\n",
       " 'own',\n",
       " 'same',\n",
       " 'so',\n",
       " 'than',\n",
       " 'too',\n",
       " 'very',\n",
       " 's',\n",
       " 't',\n",
       " 'can',\n",
       " 'will',\n",
       " 'just',\n",
       " 'don',\n",
       " \"don't\",\n",
       " 'should',\n",
       " \"should've\",\n",
       " 'now',\n",
       " 'd',\n",
       " 'll',\n",
       " 'm',\n",
       " 'o',\n",
       " 're',\n",
       " 've',\n",
       " 'y',\n",
       " 'ain',\n",
       " 'aren',\n",
       " \"aren't\",\n",
       " 'couldn',\n",
       " \"couldn't\",\n",
       " 'didn',\n",
       " \"didn't\",\n",
       " 'doesn',\n",
       " \"doesn't\",\n",
       " 'hadn',\n",
       " \"hadn't\",\n",
       " 'hasn',\n",
       " \"hasn't\",\n",
       " 'haven',\n",
       " \"haven't\",\n",
       " 'isn',\n",
       " \"isn't\",\n",
       " 'ma',\n",
       " 'mightn',\n",
       " \"mightn't\",\n",
       " 'mustn',\n",
       " \"mustn't\",\n",
       " 'needn',\n",
       " \"needn't\",\n",
       " 'shan',\n",
       " \"shan't\",\n",
       " 'shouldn',\n",
       " \"shouldn't\",\n",
       " 'wasn',\n",
       " \"wasn't\",\n",
       " 'weren',\n",
       " \"weren't\",\n",
       " 'won',\n",
       " \"won't\",\n",
       " 'wouldn',\n",
       " \"wouldn't\",\n",
       " 'vaccine',\n",
       " 'from',\n",
       " 'subject',\n",
       " 're',\n",
       " 'edu',\n",
       " 'use',\n",
       " 'covid19',\n",
       " 'covid-19',\n",
       " 'covid',\n",
       " 'corona',\n",
       " 'coronavirus',\n",
       " '2019ncov',\n",
       " 'ncov',\n",
       " 'pandemic',\n",
       " 'social distancing',\n",
       " 'lockdown',\n",
       " 'quarantine',\n",
       " 'sars-cov-2',\n",
       " 'n95']"
      ]
     },
     "execution_count": 81,
     "metadata": {},
     "output_type": "execute_result"
    }
   ],
   "source": [
    "stop_words"
   ]
  },
  {
   "cell_type": "code",
   "execution_count": 82,
   "metadata": {},
   "outputs": [],
   "source": [
    "def sent_to_words(sentences):\n",
    "    for sentence in sentences:\n",
    "        # deacc=True removes punctuations\n",
    "        yield(gensim.utils.simple_preprocess(str(sentence), deacc=True))"
   ]
  },
  {
   "cell_type": "code",
   "execution_count": 83,
   "metadata": {},
   "outputs": [],
   "source": [
    "# need to fix here\n",
    "def remove_stopwords(texts):\n",
    "    return [[word for word in simple_preprocess(str(doc)) \n",
    "             if word not in stop_words] for doc in texts]"
   ]
  },
  {
   "cell_type": "code",
   "execution_count": 84,
   "metadata": {},
   "outputs": [],
   "source": [
    "top10_bot10[\"clean_message\"] = top10_bot10[\"Message\"].apply(\n",
    "    lambda x: ' '.join([word for word in x.split() if word.lower() not in stop_words])\n",
    ")"
   ]
  },
  {
   "cell_type": "code",
   "execution_count": 85,
   "metadata": {},
   "outputs": [],
   "source": [
    "# top10.clean_message"
   ]
  },
  {
   "cell_type": "code",
   "execution_count": 86,
   "metadata": {},
   "outputs": [],
   "source": [
    "data = top10_bot10.clean_message.values.tolist()\n",
    "data_words = list(sent_to_words(data))"
   ]
  },
  {
   "cell_type": "code",
   "execution_count": 87,
   "metadata": {},
   "outputs": [],
   "source": [
    "data_lib = df_lib.Message.values.tolist()\n",
    "data_words_lib = list(sent_to_words(data_lib))"
   ]
  },
  {
   "cell_type": "code",
   "execution_count": 88,
   "metadata": {},
   "outputs": [],
   "source": [
    "data_con = df_con.Message.values.tolist()\n",
    "data_words_con = list(sent_to_words(data_con))"
   ]
  },
  {
   "cell_type": "code",
   "execution_count": 89,
   "metadata": {},
   "outputs": [
    {
     "name": "stdout",
     "output_type": "stream",
     "text": [
      "['texans', 'enough', 'worry', 'icy', 'storm', 'led', 'power', 'outages', 'water', 'problem', 'like', 'tania', 'delacruz', 'added', 'woe', 'cnn', 'miguel', 'marquez']\n"
     ]
    }
   ],
   "source": [
    "# remove stop words\n",
    "data_words = remove_stopwords(data_words)\n",
    "print(data_words[:1][0][:30])"
   ]
  },
  {
   "cell_type": "code",
   "execution_count": 90,
   "metadata": {},
   "outputs": [],
   "source": [
    "data_words_lib = remove_stopwords(data_words_lib)\n",
    "data_words_con = remove_stopwords(data_words_con)"
   ]
  },
  {
   "cell_type": "code",
   "execution_count": 91,
   "metadata": {},
   "outputs": [],
   "source": [
    "import gensim.corpora as corpora\n",
    "# Create Dictionary\n",
    "id2word = corpora.Dictionary(data_words)\n",
    "# Create Corpus\n",
    "texts = data_words\n",
    "\n",
    "# Term Document Frequency\n",
    "corpus = [id2word.doc2bow(text) for text in texts]\n",
    "\n",
    "# View\n",
    "# print(corpus[:1][0][:30])"
   ]
  },
  {
   "cell_type": "code",
   "execution_count": 92,
   "metadata": {},
   "outputs": [],
   "source": [
    "texts_lib = data_words_lib\n",
    "texts_con = data_words_con"
   ]
  },
  {
   "cell_type": "code",
   "execution_count": 93,
   "metadata": {},
   "outputs": [],
   "source": [
    "corpus_lib= [id2word.doc2bow(text_lib) for text_lib in texts_lib]\n",
    "corpus_con = [id2word.doc2bow(text_con) for text_con in texts_con]"
   ]
  },
  {
   "cell_type": "code",
   "execution_count": 94,
   "metadata": {},
   "outputs": [],
   "source": [
    "from gensim.models import CoherenceModel\n",
    "import operator"
   ]
  },
  {
   "cell_type": "code",
   "execution_count": 95,
   "metadata": {},
   "outputs": [
    {
     "name": "stdout",
     "output_type": "stream",
     "text": [
      "Processing the 3 topic\n",
      "Processing the 4 topic\n",
      "Processing the 5 topic\n",
      "Processing the 6 topic\n",
      "Processing the 7 topic\n",
      "Processing the 8 topic\n",
      "Processing the 9 topic\n",
      "Processing the 10 topic\n",
      "Processing the 11 topic\n",
      "Processing the 12 topic\n",
      "Processing the 13 topic\n",
      "Processing the 14 topic\n"
     ]
    }
   ],
   "source": [
    "## Finding the right number of topics\n",
    "list_of_n_topics = list(range(3,15))\n",
    "\n",
    "list_of_coherence = {}\n",
    "\n",
    "for i in list_of_n_topics:\n",
    "    print(f\"Processing the {i} topic\")\n",
    "    lda_model = gensim.models.ldamodel.LdaModel(corpus=corpus,\n",
    "                                           id2word=id2word,\n",
    "                                           num_topics=i,\n",
    "                                           random_state = 100,\n",
    "                                          chunksize = 100,\n",
    "                                          alpha='auto',\n",
    "                                          per_word_topics = True)\n",
    "    # calculate the coherency metric\n",
    "    cm = CoherenceModel(model= lda_model, corpus=corpus, coherence='u_mass')\n",
    "    \n",
    "    # save the coherency value to my dictionary\n",
    "    list_of_coherence[str(i)] = cm.get_coherence()"
   ]
  },
  {
   "cell_type": "code",
   "execution_count": 96,
   "metadata": {},
   "outputs": [],
   "source": [
    "sorted_coherence_LDA = sorted(list_of_coherence.items(), key=operator.itemgetter(1))"
   ]
  },
  {
   "cell_type": "code",
   "execution_count": 97,
   "metadata": {},
   "outputs": [
    {
     "data": {
      "text/plain": [
       "[('13', -12.50973152262455),\n",
       " ('14', -12.403862635418792),\n",
       " ('12', -12.255422054160588),\n",
       " ('11', -12.020685288424177),\n",
       " ('10', -11.613952941183058),\n",
       " ('9', -10.95762803235685),\n",
       " ('8', -10.763663448728956),\n",
       " ('7', -9.530222022239125),\n",
       " ('6', -7.890333613537281),\n",
       " ('5', -7.792973802189214),\n",
       " ('3', -6.0378162834163644),\n",
       " ('4', -5.904702592477744)]"
      ]
     },
     "execution_count": 97,
     "metadata": {},
     "output_type": "execute_result"
    }
   ],
   "source": [
    "sorted_coherence_LDA"
   ]
  },
  {
   "cell_type": "markdown",
   "metadata": {},
   "source": [
    "the more reasonbale value for the number of topics is 4, and by applying it from a new cell we we can check the new results again"
   ]
  },
  {
   "cell_type": "code",
   "execution_count": 98,
   "metadata": {
    "scrolled": true
   },
   "outputs": [],
   "source": [
    "from pprint import pprint\n",
    "# number of topics\n",
    "num_topics = 4\n",
    "# Build LDA model\n",
    "lda_model = gensim.models.LdaMulticore(corpus=corpus,\n",
    "                                       id2word=id2word,\n",
    "                                       num_topics=num_topics)"
   ]
  },
  {
   "cell_type": "code",
   "execution_count": 99,
   "metadata": {},
   "outputs": [
    {
     "name": "stdout",
     "output_type": "stream",
     "text": [
      "[(0,\n",
      "  '0.011*\"new\" + 0.009*\"state\" + 0.009*\"says\" + 0.007*\"election\" + '\n",
      "  '0.007*\"cases\" + 0.007*\"results\" + 0.006*\"americans\" + 0.006*\"could\" + '\n",
      "  '0.006*\"get\" + 0.006*\"amid\"'),\n",
      " (1,\n",
      "  '0.010*\"us\" + 0.009*\"says\" + 0.008*\"people\" + 0.008*\"cases\" + 0.008*\"dr\" + '\n",
      "  '0.007*\"trump\" + 0.006*\"new\" + 0.005*\"deaths\" + 0.005*\"president\" + '\n",
      "  '0.005*\"one\"'),\n",
      " (2,\n",
      "  '0.006*\"us\" + 0.006*\"says\" + 0.005*\"people\" + 0.005*\"new\" + '\n",
      "  '0.004*\"americans\" + 0.004*\"one\" + 0.004*\"trump\" + 0.004*\"cases\" + '\n",
      "  '0.003*\"year\" + 0.003*\"country\"'),\n",
      " (3,\n",
      "  '0.007*\"says\" + 0.006*\"people\" + 0.006*\"trump\" + 0.005*\"new\" + '\n",
      "  '0.004*\"president\" + 0.004*\"dr\" + 0.004*\"time\" + 0.004*\"health\" + 0.004*\"us\" '\n",
      "  '+ 0.003*\"amid\"')]\n"
     ]
    }
   ],
   "source": [
    "# Print the Keyword in the 10 topics in full sample\n",
    "pprint(lda_model.print_topics())\n",
    "doc_lda = lda_model[corpus]"
   ]
  },
  {
   "cell_type": "code",
   "execution_count": 100,
   "metadata": {},
   "outputs": [
    {
     "name": "stdout",
     "output_type": "stream",
     "text": [
      "[(0,\n",
      "  '0.010*\"new\" + 0.009*\"news\" + 0.008*\"said\" + 0.008*\"first\" + 0.007*\"trump\" + '\n",
      "  '0.006*\"president\" + 0.006*\"fox\" + 0.005*\"state\" + 0.005*\"tuesday\" + '\n",
      "  '0.004*\"house\"'),\n",
      " (1,\n",
      "  '0.020*\"president\" + 0.015*\"trump\" + 0.009*\"new\" + 0.009*\"said\" + '\n",
      "  '0.008*\"chinese\" + 0.007*\"donald\" + 0.007*\"biden\" + 0.006*\"gov\" + '\n",
      "  '0.006*\"health\" + 0.006*\"home\"'),\n",
      " (2,\n",
      "  '0.012*\"president\" + 0.010*\"trump\" + 0.009*\"state\" + 0.006*\"new\" + '\n",
      "  '0.006*\"americans\" + 0.006*\"said\" + 0.006*\"donald\" + 0.006*\"amid\" + '\n",
      "  '0.006*\"news\" + 0.005*\"people\"'),\n",
      " (3,\n",
      "  '0.011*\"new\" + 0.009*\"trump\" + 0.009*\"president\" + 0.009*\"house\" + '\n",
      "  '0.008*\"said\" + 0.008*\"fox\" + 0.006*\"news\" + 0.006*\"donald\" + 0.006*\"china\" '\n",
      "  '+ 0.006*\"people\"')]\n"
     ]
    }
   ],
   "source": [
    "# Print the Keyword in the topics in conservative media\n",
    "lda_model_con = gensim.models.LdaMulticore(corpus=corpus_con,\n",
    "                                           id2word=id2word,\n",
    "                                           num_topics=num_topics)\n",
    "\n",
    "pprint(lda_model_con.print_topics())\n",
    "doc_lda = lda_model_con[corpus_con]"
   ]
  },
  {
   "cell_type": "code",
   "execution_count": 101,
   "metadata": {},
   "outputs": [
    {
     "name": "stdout",
     "output_type": "stream",
     "text": [
      "[(0,\n",
      "  '0.014*\"people\" + 0.010*\"new\" + 0.007*\"one\" + 0.006*\"health\" + '\n",
      "  '0.005*\"million\" + 0.005*\"trump\" + 0.005*\"states\" + 0.005*\"cases\" + '\n",
      "  '0.005*\"said\" + 0.005*\"country\"'),\n",
      " (1,\n",
      "  '0.010*\"president\" + 0.010*\"new\" + 0.009*\"trump\" + 0.009*\"people\" + '\n",
      "  '0.007*\"health\" + 0.006*\"one\" + 0.006*\"says\" + 0.005*\"dr\" + 0.005*\"said\" + '\n",
      "  '0.005*\"cases\"'),\n",
      " (2,\n",
      "  '0.015*\"new\" + 0.010*\"president\" + 0.009*\"says\" + 0.008*\"trump\" + '\n",
      "  '0.007*\"cases\" + 0.007*\"said\" + 0.006*\"people\" + 0.006*\"health\" + '\n",
      "  '0.005*\"house\" + 0.005*\"first\"'),\n",
      " (3,\n",
      "  '0.011*\"new\" + 0.010*\"says\" + 0.009*\"us\" + 0.006*\"state\" + 0.006*\"cases\" + '\n",
      "  '0.006*\"people\" + 0.005*\"trump\" + 0.005*\"president\" + 0.005*\"first\" + '\n",
      "  '0.004*\"health\"')]\n"
     ]
    }
   ],
   "source": [
    "# Print the Keyword in the top topics in liberal media\n",
    "lda_model_lib = gensim.models.LdaMulticore(corpus=corpus_lib,\n",
    "                                           id2word=id2word,\n",
    "                                           num_topics=num_topics)\n",
    "\n",
    "pprint(lda_model_lib.print_topics())\n",
    "doc_lda = lda_model_lib[corpus_lib]"
   ]
  }
 ],
 "metadata": {
  "colab": {
   "collapsed_sections": [],
   "provenance": []
  },
  "kernelspec": {
   "display_name": "Python 3 (ipykernel)",
   "language": "python",
   "name": "python3"
  },
  "language_info": {
   "codemirror_mode": {
    "name": "ipython",
    "version": 3
   },
   "file_extension": ".py",
   "mimetype": "text/x-python",
   "name": "python",
   "nbconvert_exporter": "python",
   "pygments_lexer": "ipython3",
   "version": "3.9.12"
  }
 },
 "nbformat": 4,
 "nbformat_minor": 1
}
