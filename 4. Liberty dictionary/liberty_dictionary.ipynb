{
 "cells": [
  {
   "cell_type": "markdown",
   "id": "c4449822",
   "metadata": {},
   "source": [
    "# Liberty Dictionary and Scoring"
   ]
  },
  {
   "cell_type": "markdown",
   "id": "35850d0a",
   "metadata": {},
   "source": [
    "## Installing some required dependencies"
   ]
  },
  {
   "cell_type": "code",
   "execution_count": 1,
   "id": "33e1cd11",
   "metadata": {},
   "outputs": [],
   "source": [
    "!pip install --quiet xlrd==1.2.0"
   ]
  },
  {
   "cell_type": "code",
   "execution_count": 2,
   "id": "60a8f004",
   "metadata": {},
   "outputs": [
    {
     "name": "stdout",
     "output_type": "stream",
     "text": [
      "Requirement already satisfied: xlrd in /Users/brinxu/opt/anaconda3/lib/python3.9/site-packages (1.2.0)\n",
      "Collecting xlrd\n",
      "  Using cached xlrd-2.0.1-py2.py3-none-any.whl (96 kB)\n",
      "Installing collected packages: xlrd\n",
      "  Attempting uninstall: xlrd\n",
      "    Found existing installation: xlrd 1.2.0\n",
      "    Uninstalling xlrd-1.2.0:\n",
      "      Successfully uninstalled xlrd-1.2.0\n",
      "Successfully installed xlrd-2.0.1\n",
      "Note: you may need to restart the kernel to use updated packages.\n"
     ]
    }
   ],
   "source": [
    "pip install --upgrade xlrd"
   ]
  },
  {
   "cell_type": "code",
   "execution_count": 3,
   "id": "72d582e5",
   "metadata": {},
   "outputs": [],
   "source": [
    "# load libraries\n",
    "import pandas as pd\n",
    "from sklearn.preprocessing import MinMaxScaler\n",
    "import numpy as np\n",
    "import json\n",
    "from nltk.tokenize import word_tokenize\n",
    "import spacy\n",
    "from nltk import word_tokenize\n",
    "import string\n",
    "from nltk.corpus import stopwords\n",
    "import re"
   ]
  },
  {
   "cell_type": "code",
   "execution_count": 4,
   "id": "28474e1d",
   "metadata": {},
   "outputs": [],
   "source": [
    "try:\n",
    "    nlp = spacy.load(\"en_core_web_sm\")\n",
    "    nlp_reduced = spacy.load(\"en_core_web_sm\", disable=[\"tagger\", \"parser\", \"ner\"])\n",
    "except OSError as error:\n",
    "    if \"Can't find model 'en_core_web_sm'\" in error.args[0]:\n",
    "        print('Downloading files required by the Spacy language processing library (this is only required once)')\n",
    "        spacy.cli.download('en_core_web_sm')\n",
    "    nlp = spacy.load(\"en_core_web_sm\")\n",
    "    nlp_reduced = spacy.load(\"en_core_web_sm\", disable=[\"tagger\", \"parser\", \"ner\"])"
   ]
  },
  {
   "cell_type": "code",
   "execution_count": 5,
   "id": "5fa5cdfb",
   "metadata": {},
   "outputs": [
    {
     "name": "stderr",
     "output_type": "stream",
     "text": [
      "[nltk_data] Downloading package stopwords to\n",
      "[nltk_data]     /Users/brinxu/nltk_data...\n",
      "[nltk_data]   Package stopwords is already up-to-date!\n",
      "[nltk_data] Downloading package punkt to /Users/brinxu/nltk_data...\n",
      "[nltk_data]   Package punkt is already up-to-date!\n",
      "[nltk_data] Downloading package wordnet to /Users/brinxu/nltk_data...\n",
      "[nltk_data]   Package wordnet is already up-to-date!\n"
     ]
    },
    {
     "data": {
      "text/plain": [
       "True"
      ]
     },
     "execution_count": 5,
     "metadata": {},
     "output_type": "execute_result"
    }
   ],
   "source": [
    "import nltk\n",
    "nltk.download('stopwords')\n",
    "nltk.download('punkt')\n",
    "nltk.download('wordnet')"
   ]
  },
  {
   "cell_type": "code",
   "execution_count": 6,
   "id": "28bc408b",
   "metadata": {},
   "outputs": [],
   "source": [
    "# read questionnaire data\n",
    "data = pd.read_excel(\"questionnaire.xls\")"
   ]
  },
  {
   "cell_type": "code",
   "execution_count": 7,
   "id": "6289eb71",
   "metadata": {},
   "outputs": [
    {
     "name": "stdout",
     "output_type": "stream",
     "text": [
      "<class 'pandas.core.frame.DataFrame'>\n",
      "RangeIndex: 10538 entries, 0 to 10537\n",
      "Data columns (total 2 columns):\n",
      " #   Column               Non-Null Count  Dtype  \n",
      "---  ------               --------------  -----  \n",
      " 0   Candidate Words      10527 non-null  object \n",
      " 1    Liberty/oppression  10524 non-null  float64\n",
      "dtypes: float64(1), object(1)\n",
      "memory usage: 164.8+ KB\n"
     ]
    }
   ],
   "source": [
    "# let's have a look on the metadata\n",
    "data.info()"
   ]
  },
  {
   "cell_type": "code",
   "execution_count": 8,
   "id": "9149578f",
   "metadata": {},
   "outputs": [
    {
     "data": {
      "text/html": [
       "<div>\n",
       "<style scoped>\n",
       "    .dataframe tbody tr th:only-of-type {\n",
       "        vertical-align: middle;\n",
       "    }\n",
       "\n",
       "    .dataframe tbody tr th {\n",
       "        vertical-align: top;\n",
       "    }\n",
       "\n",
       "    .dataframe thead th {\n",
       "        text-align: right;\n",
       "    }\n",
       "</style>\n",
       "<table border=\"1\" class=\"dataframe\">\n",
       "  <thead>\n",
       "    <tr style=\"text-align: right;\">\n",
       "      <th></th>\n",
       "      <th>Candidate Words</th>\n",
       "      <th>Liberty/oppression</th>\n",
       "    </tr>\n",
       "  </thead>\n",
       "  <tbody>\n",
       "    <tr>\n",
       "      <th>9861</th>\n",
       "      <td>unused</td>\n",
       "      <td>5.0</td>\n",
       "    </tr>\n",
       "    <tr>\n",
       "      <th>2692</th>\n",
       "      <td>inhibit</td>\n",
       "      <td>7.0</td>\n",
       "    </tr>\n",
       "    <tr>\n",
       "      <th>10004</th>\n",
       "      <td>obtrude</td>\n",
       "      <td>4.0</td>\n",
       "    </tr>\n",
       "    <tr>\n",
       "      <th>7966</th>\n",
       "      <td>emancipation</td>\n",
       "      <td>7.0</td>\n",
       "    </tr>\n",
       "    <tr>\n",
       "      <th>9560</th>\n",
       "      <td>sufficient</td>\n",
       "      <td>5.0</td>\n",
       "    </tr>\n",
       "  </tbody>\n",
       "</table>\n",
       "</div>"
      ],
      "text/plain": [
       "      Candidate Words   Liberty/oppression\n",
       "9861           unused                  5.0\n",
       "2692          inhibit                  7.0\n",
       "10004         obtrude                  4.0\n",
       "7966     emancipation                  7.0\n",
       "9560       sufficient                  5.0"
      ]
     },
     "execution_count": 8,
     "metadata": {},
     "output_type": "execute_result"
    }
   ],
   "source": [
    "data.sample(5)"
   ]
  },
  {
   "cell_type": "markdown",
   "id": "028e7b45",
   "metadata": {},
   "source": [
    "## Build Dictionary\n",
    "### Data Preprocessing\n",
    "Beofore building teh dictionary of `Liberty/oppression `, we will prepare our dataset by first droping columns we don't need and then we will normalize annotated values for a scale between 0-1."
   ]
  },
  {
   "cell_type": "code",
   "execution_count": 9,
   "id": "3ae03ada",
   "metadata": {},
   "outputs": [],
   "source": [
    "data.rename(columns={' Liberty/oppression': 'Liberty/oppression'}, inplace=True)"
   ]
  },
  {
   "cell_type": "code",
   "execution_count": 10,
   "id": "21760ee0",
   "metadata": {},
   "outputs": [
    {
     "data": {
      "text/html": [
       "<div>\n",
       "<style scoped>\n",
       "    .dataframe tbody tr th:only-of-type {\n",
       "        vertical-align: middle;\n",
       "    }\n",
       "\n",
       "    .dataframe tbody tr th {\n",
       "        vertical-align: top;\n",
       "    }\n",
       "\n",
       "    .dataframe thead th {\n",
       "        text-align: right;\n",
       "    }\n",
       "</style>\n",
       "<table border=\"1\" class=\"dataframe\">\n",
       "  <thead>\n",
       "    <tr style=\"text-align: right;\">\n",
       "      <th></th>\n",
       "      <th>Candidate Words</th>\n",
       "      <th>Liberty/oppression</th>\n",
       "    </tr>\n",
       "  </thead>\n",
       "  <tbody>\n",
       "    <tr>\n",
       "      <th>9640</th>\n",
       "      <td>not</td>\n",
       "      <td>4.0</td>\n",
       "    </tr>\n",
       "    <tr>\n",
       "      <th>7693</th>\n",
       "      <td>could</td>\n",
       "      <td>1.0</td>\n",
       "    </tr>\n",
       "    <tr>\n",
       "      <th>7689</th>\n",
       "      <td>concede</td>\n",
       "      <td>3.0</td>\n",
       "    </tr>\n",
       "    <tr>\n",
       "      <th>8399</th>\n",
       "      <td>working</td>\n",
       "      <td>1.0</td>\n",
       "    </tr>\n",
       "    <tr>\n",
       "      <th>2988</th>\n",
       "      <td>excellent</td>\n",
       "      <td>5.0</td>\n",
       "    </tr>\n",
       "  </tbody>\n",
       "</table>\n",
       "</div>"
      ],
      "text/plain": [
       "     Candidate Words  Liberty/oppression\n",
       "9640             not                 4.0\n",
       "7693           could                 1.0\n",
       "7689         concede                 3.0\n",
       "8399         working                 1.0\n",
       "2988       excellent                 5.0"
      ]
     },
     "execution_count": 10,
     "metadata": {},
     "output_type": "execute_result"
    }
   ],
   "source": [
    "data.sample(5)"
   ]
  },
  {
   "cell_type": "markdown",
   "id": "5e1840b6",
   "metadata": {},
   "source": [
    "Now that our dataframe is ready to be transformed into a dictionary of keys and values, where keys are `Candidate Words` and values are `Liberty/oppression` scores, but before that we shall average the scores given by annotators to each candidate word and then we normalize our values."
   ]
  },
  {
   "cell_type": "code",
   "execution_count": 11,
   "id": "e2f6dfd5",
   "metadata": {},
   "outputs": [
    {
     "data": {
      "text/plain": [
       "able            11\n",
       "maltreatment    11\n",
       "hostility       11\n",
       "humiliation     11\n",
       "hypocrisy       11\n",
       "                ..\n",
       "make            10\n",
       "need            10\n",
       "1                1\n",
       "4                1\n",
       "5                1\n",
       "Name: Candidate Words, Length: 960, dtype: int64"
      ]
     },
     "execution_count": 11,
     "metadata": {},
     "output_type": "execute_result"
    }
   ],
   "source": [
    "data[\"Candidate Words\"].value_counts()"
   ]
  },
  {
   "cell_type": "markdown",
   "id": "23211d04",
   "metadata": {},
   "source": [
    "The block above show that each word is mostly annotated 11 times, some of them 10 times except the last three values of `1`, `4` and `5` who are annotated only once and they don't have any pertinence as candidate words, so they should be deleted.\n",
    "## Averaging scores by candidate words"
   ]
  },
  {
   "cell_type": "code",
   "execution_count": 12,
   "id": "0c6e1137",
   "metadata": {},
   "outputs": [],
   "source": [
    "# averaging Liberty/oppression scores by candidate words\n",
    "data_avg = data.groupby(\"Candidate Words\").mean().reset_index()"
   ]
  },
  {
   "cell_type": "code",
   "execution_count": 13,
   "id": "15dad4ba",
   "metadata": {},
   "outputs": [
    {
     "data": {
      "text/html": [
       "<div>\n",
       "<style scoped>\n",
       "    .dataframe tbody tr th:only-of-type {\n",
       "        vertical-align: middle;\n",
       "    }\n",
       "\n",
       "    .dataframe tbody tr th {\n",
       "        vertical-align: top;\n",
       "    }\n",
       "\n",
       "    .dataframe thead th {\n",
       "        text-align: right;\n",
       "    }\n",
       "</style>\n",
       "<table border=\"1\" class=\"dataframe\">\n",
       "  <thead>\n",
       "    <tr style=\"text-align: right;\">\n",
       "      <th></th>\n",
       "      <th>Candidate Words</th>\n",
       "      <th>Liberty/oppression</th>\n",
       "    </tr>\n",
       "  </thead>\n",
       "  <tbody>\n",
       "    <tr>\n",
       "      <th>469</th>\n",
       "      <td>individual</td>\n",
       "      <td>3.727273</td>\n",
       "    </tr>\n",
       "    <tr>\n",
       "      <th>715</th>\n",
       "      <td>reasonable</td>\n",
       "      <td>3.545455</td>\n",
       "    </tr>\n",
       "    <tr>\n",
       "      <th>333</th>\n",
       "      <td>excellent</td>\n",
       "      <td>2.909091</td>\n",
       "    </tr>\n",
       "    <tr>\n",
       "      <th>483</th>\n",
       "      <td>institution</td>\n",
       "      <td>3.909091</td>\n",
       "    </tr>\n",
       "    <tr>\n",
       "      <th>153</th>\n",
       "      <td>civic</td>\n",
       "      <td>3.545455</td>\n",
       "    </tr>\n",
       "  </tbody>\n",
       "</table>\n",
       "</div>"
      ],
      "text/plain": [
       "    Candidate Words  Liberty/oppression\n",
       "469      individual            3.727273\n",
       "715      reasonable            3.545455\n",
       "333       excellent            2.909091\n",
       "483     institution            3.909091\n",
       "153           civic            3.545455"
      ]
     },
     "execution_count": 13,
     "metadata": {},
     "output_type": "execute_result"
    }
   ],
   "source": [
    "data_avg.sample(5)"
   ]
  },
  {
   "cell_type": "markdown",
   "id": "e730e421",
   "metadata": {},
   "source": [
    "Let's explore how our `Liberty/oppression` is distributed now after averaging their values."
   ]
  },
  {
   "cell_type": "code",
   "execution_count": 14,
   "id": "dc8f598b",
   "metadata": {},
   "outputs": [
    {
     "data": {
      "text/html": [
       "<div>\n",
       "<style scoped>\n",
       "    .dataframe tbody tr th:only-of-type {\n",
       "        vertical-align: middle;\n",
       "    }\n",
       "\n",
       "    .dataframe tbody tr th {\n",
       "        vertical-align: top;\n",
       "    }\n",
       "\n",
       "    .dataframe thead th {\n",
       "        text-align: right;\n",
       "    }\n",
       "</style>\n",
       "<table border=\"1\" class=\"dataframe\">\n",
       "  <thead>\n",
       "    <tr style=\"text-align: right;\">\n",
       "      <th></th>\n",
       "      <th>Liberty/oppression</th>\n",
       "    </tr>\n",
       "  </thead>\n",
       "  <tbody>\n",
       "    <tr>\n",
       "      <th>count</th>\n",
       "      <td>960.000000</td>\n",
       "    </tr>\n",
       "    <tr>\n",
       "      <th>mean</th>\n",
       "      <td>3.333496</td>\n",
       "    </tr>\n",
       "    <tr>\n",
       "      <th>std</th>\n",
       "      <td>0.676836</td>\n",
       "    </tr>\n",
       "    <tr>\n",
       "      <th>min</th>\n",
       "      <td>1.000000</td>\n",
       "    </tr>\n",
       "    <tr>\n",
       "      <th>25%</th>\n",
       "      <td>2.900000</td>\n",
       "    </tr>\n",
       "    <tr>\n",
       "      <th>50%</th>\n",
       "      <td>3.272727</td>\n",
       "    </tr>\n",
       "    <tr>\n",
       "      <th>75%</th>\n",
       "      <td>3.818182</td>\n",
       "    </tr>\n",
       "    <tr>\n",
       "      <th>max</th>\n",
       "      <td>5.454545</td>\n",
       "    </tr>\n",
       "  </tbody>\n",
       "</table>\n",
       "</div>"
      ],
      "text/plain": [
       "       Liberty/oppression\n",
       "count          960.000000\n",
       "mean             3.333496\n",
       "std              0.676836\n",
       "min              1.000000\n",
       "25%              2.900000\n",
       "50%              3.272727\n",
       "75%              3.818182\n",
       "max              5.454545"
      ]
     },
     "execution_count": 14,
     "metadata": {},
     "output_type": "execute_result"
    }
   ],
   "source": [
    "data_avg.describe()"
   ]
  },
  {
   "cell_type": "markdown",
   "id": "27945bf3",
   "metadata": {},
   "source": [
    "As we can see, after averaging our `Liberty/oppression` the scale of score values is now between `1` and `5.454545`. This scale won't be helpful when we will do average scores at the document level, that's why normalzation is a mandatory step. Normalization is a technique often applied as part of data preparation for machine learning. The goal of normalization is to change the values of numeric columns in the dataset to a common scale, without distorting differences in the ranges of values."
   ]
  },
  {
   "cell_type": "code",
   "execution_count": 15,
   "id": "715343d9",
   "metadata": {},
   "outputs": [
    {
     "data": {
      "text/html": [
       "<div>\n",
       "<style scoped>\n",
       "    .dataframe tbody tr th:only-of-type {\n",
       "        vertical-align: middle;\n",
       "    }\n",
       "\n",
       "    .dataframe tbody tr th {\n",
       "        vertical-align: top;\n",
       "    }\n",
       "\n",
       "    .dataframe thead th {\n",
       "        text-align: right;\n",
       "    }\n",
       "</style>\n",
       "<table border=\"1\" class=\"dataframe\">\n",
       "  <thead>\n",
       "    <tr style=\"text-align: right;\">\n",
       "      <th></th>\n",
       "      <th>Candidate Words</th>\n",
       "      <th>Liberty/oppression</th>\n",
       "    </tr>\n",
       "  </thead>\n",
       "  <tbody>\n",
       "    <tr>\n",
       "      <th>881</th>\n",
       "      <td>truth</td>\n",
       "      <td>3.181818</td>\n",
       "    </tr>\n",
       "  </tbody>\n",
       "</table>\n",
       "</div>"
      ],
      "text/plain": [
       "    Candidate Words  Liberty/oppression\n",
       "881           truth            3.181818"
      ]
     },
     "execution_count": 15,
     "metadata": {},
     "output_type": "execute_result"
    }
   ],
   "source": [
    "# original value of the word \"truth\"\n",
    "data_avg[data_avg[\"Candidate Words\"] == \"truth\"] "
   ]
  },
  {
   "cell_type": "markdown",
   "id": "72a44c14",
   "metadata": {},
   "source": [
    "The way the value will be transformed is using the `MinMaxScaler` function which subtracts the minimum value in the feature and then divides by the range. The range is the difference between the original maximum and original minimum.\n",
    "\n",
    "Max = 5.454545\n",
    "Min = 1.000000\n",
    "\n",
    "So by applying the `MinMaxScaler` formula which is <img src=\"https://i.stack.imgur.com/EuitP.png\"><br/>\n",
    "we will get : "
   ]
  },
  {
   "cell_type": "code",
   "execution_count": 16,
   "id": "06a023a6",
   "metadata": {},
   "outputs": [
    {
     "name": "stdout",
     "output_type": "stream",
     "text": [
      "0.4897959275301966\n"
     ]
    }
   ],
   "source": [
    "x_truth = (3.181818 - 1)/(5.454545 - 1)\n",
    "print(x_truth)"
   ]
  },
  {
   "cell_type": "code",
   "execution_count": 17,
   "id": "d135605a",
   "metadata": {},
   "outputs": [
    {
     "data": {
      "text/html": [
       "<div>\n",
       "<style scoped>\n",
       "    .dataframe tbody tr th:only-of-type {\n",
       "        vertical-align: middle;\n",
       "    }\n",
       "\n",
       "    .dataframe tbody tr th {\n",
       "        vertical-align: top;\n",
       "    }\n",
       "\n",
       "    .dataframe thead th {\n",
       "        text-align: right;\n",
       "    }\n",
       "</style>\n",
       "<table border=\"1\" class=\"dataframe\">\n",
       "  <thead>\n",
       "    <tr style=\"text-align: right;\">\n",
       "      <th></th>\n",
       "      <th>Candidate Words</th>\n",
       "      <th>Liberty/oppression</th>\n",
       "    </tr>\n",
       "  </thead>\n",
       "  <tbody>\n",
       "    <tr>\n",
       "      <th>628</th>\n",
       "      <td>own</td>\n",
       "      <td>0.612245</td>\n",
       "    </tr>\n",
       "    <tr>\n",
       "      <th>457</th>\n",
       "      <td>imposed</td>\n",
       "      <td>0.551020</td>\n",
       "    </tr>\n",
       "    <tr>\n",
       "      <th>936</th>\n",
       "      <td>want</td>\n",
       "      <td>0.653061</td>\n",
       "    </tr>\n",
       "    <tr>\n",
       "      <th>439</th>\n",
       "      <td>humiliation</td>\n",
       "      <td>0.530612</td>\n",
       "    </tr>\n",
       "    <tr>\n",
       "      <th>217</th>\n",
       "      <td>damage</td>\n",
       "      <td>0.469388</td>\n",
       "    </tr>\n",
       "  </tbody>\n",
       "</table>\n",
       "</div>"
      ],
      "text/plain": [
       "    Candidate Words  Liberty/oppression\n",
       "628             own            0.612245\n",
       "457         imposed            0.551020\n",
       "936            want            0.653061\n",
       "439     humiliation            0.530612\n",
       "217          damage            0.469388"
      ]
     },
     "execution_count": 17,
     "metadata": {},
     "output_type": "execute_result"
    }
   ],
   "source": [
    "# apply normalization techniques \n",
    "column = 'Liberty/oppression'\n",
    "data_avg[column] = MinMaxScaler().fit_transform(np.array(data_avg[column]).reshape(-1,1))\n",
    "\n",
    "# view normalized data  \n",
    "data_avg.sample(5)"
   ]
  },
  {
   "cell_type": "code",
   "execution_count": 18,
   "id": "24f9e361",
   "metadata": {},
   "outputs": [
    {
     "data": {
      "text/html": [
       "<div>\n",
       "<style scoped>\n",
       "    .dataframe tbody tr th:only-of-type {\n",
       "        vertical-align: middle;\n",
       "    }\n",
       "\n",
       "    .dataframe tbody tr th {\n",
       "        vertical-align: top;\n",
       "    }\n",
       "\n",
       "    .dataframe thead th {\n",
       "        text-align: right;\n",
       "    }\n",
       "</style>\n",
       "<table border=\"1\" class=\"dataframe\">\n",
       "  <thead>\n",
       "    <tr style=\"text-align: right;\">\n",
       "      <th></th>\n",
       "      <th>Candidate Words</th>\n",
       "      <th>Liberty/oppression</th>\n",
       "    </tr>\n",
       "  </thead>\n",
       "  <tbody>\n",
       "    <tr>\n",
       "      <th>298</th>\n",
       "      <td>emancipation</td>\n",
       "      <td>1.000000</td>\n",
       "    </tr>\n",
       "    <tr>\n",
       "      <th>389</th>\n",
       "      <td>freedom</td>\n",
       "      <td>0.979592</td>\n",
       "    </tr>\n",
       "    <tr>\n",
       "      <th>541</th>\n",
       "      <td>liberated</td>\n",
       "      <td>0.959184</td>\n",
       "    </tr>\n",
       "    <tr>\n",
       "      <th>603</th>\n",
       "      <td>obstruction</td>\n",
       "      <td>0.938776</td>\n",
       "    </tr>\n",
       "    <tr>\n",
       "      <th>233</th>\n",
       "      <td>demobilize</td>\n",
       "      <td>0.918367</td>\n",
       "    </tr>\n",
       "    <tr>\n",
       "      <th>70</th>\n",
       "      <td>autonomic</td>\n",
       "      <td>0.918367</td>\n",
       "    </tr>\n",
       "    <tr>\n",
       "      <th>71</th>\n",
       "      <td>autonomous</td>\n",
       "      <td>0.918367</td>\n",
       "    </tr>\n",
       "    <tr>\n",
       "      <th>144</th>\n",
       "      <td>choose</td>\n",
       "      <td>0.918367</td>\n",
       "    </tr>\n",
       "    <tr>\n",
       "      <th>895</th>\n",
       "      <td>unenslaved</td>\n",
       "      <td>0.897959</td>\n",
       "    </tr>\n",
       "    <tr>\n",
       "      <th>543</th>\n",
       "      <td>liberties</td>\n",
       "      <td>0.897959</td>\n",
       "    </tr>\n",
       "    <tr>\n",
       "      <th>390</th>\n",
       "      <td>freedoms</td>\n",
       "      <td>0.897959</td>\n",
       "    </tr>\n",
       "    <tr>\n",
       "      <th>2</th>\n",
       "      <td>5</td>\n",
       "      <td>0.897959</td>\n",
       "    </tr>\n",
       "    <tr>\n",
       "      <th>145</th>\n",
       "      <td>choosing</td>\n",
       "      <td>0.877551</td>\n",
       "    </tr>\n",
       "    <tr>\n",
       "      <th>590</th>\n",
       "      <td>nationalism</td>\n",
       "      <td>0.877551</td>\n",
       "    </tr>\n",
       "    <tr>\n",
       "      <th>734</th>\n",
       "      <td>rejection</td>\n",
       "      <td>0.877551</td>\n",
       "    </tr>\n",
       "    <tr>\n",
       "      <th>234</th>\n",
       "      <td>democracy</td>\n",
       "      <td>0.877551</td>\n",
       "    </tr>\n",
       "    <tr>\n",
       "      <th>546</th>\n",
       "      <td>life</td>\n",
       "      <td>0.877551</td>\n",
       "    </tr>\n",
       "    <tr>\n",
       "      <th>916</th>\n",
       "      <td>upset</td>\n",
       "      <td>0.877551</td>\n",
       "    </tr>\n",
       "    <tr>\n",
       "      <th>542</th>\n",
       "      <td>liberation</td>\n",
       "      <td>0.857143</td>\n",
       "    </tr>\n",
       "    <tr>\n",
       "      <th>740</th>\n",
       "      <td>religion</td>\n",
       "      <td>0.857143</td>\n",
       "    </tr>\n",
       "  </tbody>\n",
       "</table>\n",
       "</div>"
      ],
      "text/plain": [
       "    Candidate Words  Liberty/oppression\n",
       "298    emancipation            1.000000\n",
       "389         freedom            0.979592\n",
       "541       liberated            0.959184\n",
       "603     obstruction            0.938776\n",
       "233      demobilize            0.918367\n",
       "70        autonomic            0.918367\n",
       "71       autonomous            0.918367\n",
       "144          choose            0.918367\n",
       "895      unenslaved            0.897959\n",
       "543       liberties            0.897959\n",
       "390        freedoms            0.897959\n",
       "2                 5            0.897959\n",
       "145        choosing            0.877551\n",
       "590     nationalism            0.877551\n",
       "734       rejection            0.877551\n",
       "234       democracy            0.877551\n",
       "546            life            0.877551\n",
       "916           upset            0.877551\n",
       "542      liberation            0.857143\n",
       "740        religion            0.857143"
      ]
     },
     "execution_count": 18,
     "metadata": {},
     "output_type": "execute_result"
    }
   ],
   "source": [
    "# View top 20 sample\n",
    "data_avg.sort_values(by=\"Liberty/oppression\", ascending=False).head(20)"
   ]
  },
  {
   "cell_type": "code",
   "execution_count": 19,
   "id": "77c8ab41",
   "metadata": {},
   "outputs": [
    {
     "data": {
      "text/html": [
       "<div>\n",
       "<style scoped>\n",
       "    .dataframe tbody tr th:only-of-type {\n",
       "        vertical-align: middle;\n",
       "    }\n",
       "\n",
       "    .dataframe tbody tr th {\n",
       "        vertical-align: top;\n",
       "    }\n",
       "\n",
       "    .dataframe thead th {\n",
       "        text-align: right;\n",
       "    }\n",
       "</style>\n",
       "<table border=\"1\" class=\"dataframe\">\n",
       "  <thead>\n",
       "    <tr style=\"text-align: right;\">\n",
       "      <th></th>\n",
       "      <th>Liberty/oppression</th>\n",
       "    </tr>\n",
       "  </thead>\n",
       "  <tbody>\n",
       "    <tr>\n",
       "      <th>count</th>\n",
       "      <td>960.000000</td>\n",
       "    </tr>\n",
       "    <tr>\n",
       "      <th>mean</th>\n",
       "      <td>0.523846</td>\n",
       "    </tr>\n",
       "    <tr>\n",
       "      <th>std</th>\n",
       "      <td>0.151943</td>\n",
       "    </tr>\n",
       "    <tr>\n",
       "      <th>min</th>\n",
       "      <td>0.000000</td>\n",
       "    </tr>\n",
       "    <tr>\n",
       "      <th>25%</th>\n",
       "      <td>0.426531</td>\n",
       "    </tr>\n",
       "    <tr>\n",
       "      <th>50%</th>\n",
       "      <td>0.510204</td>\n",
       "    </tr>\n",
       "    <tr>\n",
       "      <th>75%</th>\n",
       "      <td>0.632653</td>\n",
       "    </tr>\n",
       "    <tr>\n",
       "      <th>max</th>\n",
       "      <td>1.000000</td>\n",
       "    </tr>\n",
       "  </tbody>\n",
       "</table>\n",
       "</div>"
      ],
      "text/plain": [
       "       Liberty/oppression\n",
       "count          960.000000\n",
       "mean             0.523846\n",
       "std              0.151943\n",
       "min              0.000000\n",
       "25%              0.426531\n",
       "50%              0.510204\n",
       "75%              0.632653\n",
       "max              1.000000"
      ]
     },
     "execution_count": 19,
     "metadata": {},
     "output_type": "execute_result"
    }
   ],
   "source": [
    "# let's get a bit more insights about our normalization output \n",
    "data_avg.describe()"
   ]
  },
  {
   "cell_type": "markdown",
   "id": "8d20ec40",
   "metadata": {},
   "source": [
    "As we can see from the table above our column has been transformed into a range of values where the min is 0 and the max is 1.\n",
    "Now that our dataset is well normalized, we can start building our dictionary."
   ]
  },
  {
   "cell_type": "markdown",
   "id": "f8de1a8d",
   "metadata": {},
   "source": [
    "We then created a loop to read the data from the dataframe where we averaged scores given by coders to each candidate word and create a new dictionary that we will be using later on when we want to get the Liberty Score for a given word, since dictionary format in python is the most switable format for such task, all you need to provide is the key which iw the candidate word and it retruns the Liberty score, without needing to loop over the dataframe."
   ]
  },
  {
   "cell_type": "code",
   "execution_count": 20,
   "id": "63bf8d54",
   "metadata": {},
   "outputs": [
    {
     "name": "stdout",
     "output_type": "stream",
     "text": [
      "there is 960 elements in our dictionary for Liberty/oppression scores\n"
     ]
    }
   ],
   "source": [
    "# initialize an empty dict\n",
    "liberty_lexicon = {}\n",
    "\n",
    "# loop over our dataframe\n",
    "for index, row in data_avg.iterrows():\n",
    "  liberty_lexicon[row[\"Candidate Words\"]] = row[\"Liberty/oppression\"]\n",
    "\n",
    "print(f\"there is {len(liberty_lexicon)} elements in our dictionary for Liberty/oppression scores\")"
   ]
  },
  {
   "cell_type": "code",
   "execution_count": 21,
   "id": "1d958524",
   "metadata": {},
   "outputs": [
    {
     "data": {
      "text/plain": [
       "0.6326530612244899"
      ]
     },
     "execution_count": 21,
     "metadata": {},
     "output_type": "execute_result"
    }
   ],
   "source": [
    "# test our dictionary \n",
    "liberty_lexicon[\"power\"]"
   ]
  },
  {
   "cell_type": "code",
   "execution_count": 22,
   "id": "f7455b99",
   "metadata": {},
   "outputs": [],
   "source": [
    "# save the dictionary as a json file\n",
    "with open(\"liberty_lexicon.json\", \"w\") as f:\n",
    "  json.dump(liberty_lexicon, f, indent=4)"
   ]
  }
 ],
 "metadata": {
  "kernelspec": {
   "display_name": "Python 3 (ipykernel)",
   "language": "python",
   "name": "python3"
  },
  "language_info": {
   "codemirror_mode": {
    "name": "ipython",
    "version": 3
   },
   "file_extension": ".py",
   "mimetype": "text/x-python",
   "name": "python",
   "nbconvert_exporter": "python",
   "pygments_lexer": "ipython3",
   "version": "3.9.12"
  }
 },
 "nbformat": 4,
 "nbformat_minor": 5
}
