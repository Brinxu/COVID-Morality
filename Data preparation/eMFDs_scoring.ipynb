{
 "cells": [
  {
   "cell_type": "markdown",
   "metadata": {},
   "source": [
    "# Generate eMFDs Moral Scores"
   ]
  },
  {
   "cell_type": "code",
   "execution_count": 10,
   "metadata": {
    "id": "aUuiZl1ysoyd"
   },
   "outputs": [],
   "source": [
    "import pandas as pd \n",
    "import numpy as np\n",
    "import seaborn as sns\n",
    "from matplotlib import pyplot as plt"
   ]
  },
  {
   "cell_type": "code",
   "execution_count": 11,
   "metadata": {
    "id": "pFaZi6TkucZB",
    "outputId": "cc47127e-5bed-403f-e730-d7773b0da315"
   },
   "outputs": [
    {
     "data": {
      "text/html": [
       "<div>\n",
       "<style scoped>\n",
       "    .dataframe tbody tr th:only-of-type {\n",
       "        vertical-align: middle;\n",
       "    }\n",
       "\n",
       "    .dataframe tbody tr th {\n",
       "        vertical-align: top;\n",
       "    }\n",
       "\n",
       "    .dataframe thead th {\n",
       "        text-align: right;\n",
       "    }\n",
       "</style>\n",
       "<table border=\"1\" class=\"dataframe\">\n",
       "  <thead>\n",
       "    <tr style=\"text-align: right;\">\n",
       "      <th></th>\n",
       "      <th>0</th>\n",
       "    </tr>\n",
       "  </thead>\n",
       "  <tbody>\n",
       "    <tr>\n",
       "      <th>0</th>\n",
       "      <td>A pair of US senators are asking the Biden adm...</td>\n",
       "    </tr>\n",
       "    <tr>\n",
       "      <th>1</th>\n",
       "      <td>The stark disparity between low and high vacci...</td>\n",
       "    </tr>\n",
       "    <tr>\n",
       "      <th>2</th>\n",
       "      <td>US Surgeon General Dr. Vivek Murthy says he is...</td>\n",
       "    </tr>\n",
       "    <tr>\n",
       "      <th>3</th>\n",
       "      <td>Kim Jong Un fired several senior officials who...</td>\n",
       "    </tr>\n",
       "    <tr>\n",
       "      <th>4</th>\n",
       "      <td>In many ways, the pandemic was a perfect storm...</td>\n",
       "    </tr>\n",
       "  </tbody>\n",
       "</table>\n",
       "</div>"
      ],
      "text/plain": [
       "                                                   0\n",
       "0  A pair of US senators are asking the Biden adm...\n",
       "1  The stark disparity between low and high vacci...\n",
       "2  US Surgeon General Dr. Vivek Murthy says he is...\n",
       "3  Kim Jong Un fired several senior officials who...\n",
       "4  In many ways, the pandemic was a perfect storm..."
      ]
     },
     "execution_count": 11,
     "metadata": {},
     "output_type": "execute_result"
    }
   ],
   "source": [
    "# make a dataframe from the \"message\" column\n",
    "template_input = pd.DataFrame(data=covid_data.Message.values)\n",
    "template_input.head()"
   ]
  },
  {
   "cell_type": "code",
   "execution_count": 12,
   "metadata": {
    "id": "UQ2yBl1bqHAH",
    "outputId": "d5369029-fe6a-4b8e-ada5-1a31d4b24cef"
   },
   "outputs": [
    {
     "name": "stdout",
     "output_type": "stream",
     "text": [
      "Collecting https://github.com/medianeuroscience/emfdscore/archive/master.zip\n",
      "  Using cached https://github.com/medianeuroscience/emfdscore/archive/master.zip\n",
      "  Preparing metadata (setup.py) ... \u001b[?25ldone\n",
      "\u001b[?25hRequirement already satisfied: pandas in /Users/brinxu/opt/anaconda3/lib/python3.8/site-packages (from emfdscore==0.0.1) (1.2.4)\n",
      "Requirement already satisfied: progressbar2 in /Users/brinxu/opt/anaconda3/lib/python3.8/site-packages (from emfdscore==0.0.1) (3.55.0)\n",
      "Requirement already satisfied: sklearn in /Users/brinxu/opt/anaconda3/lib/python3.8/site-packages (from emfdscore==0.0.1) (0.0)\n",
      "Requirement already satisfied: nltk in /Users/brinxu/opt/anaconda3/lib/python3.8/site-packages (from emfdscore==0.0.1) (3.6.1)\n",
      "Requirement already satisfied: numpy in /Users/brinxu/opt/anaconda3/lib/python3.8/site-packages (from emfdscore==0.0.1) (1.20.1)\n",
      "Requirement already satisfied: joblib in /Users/brinxu/opt/anaconda3/lib/python3.8/site-packages (from nltk->emfdscore==0.0.1) (1.0.1)\n",
      "Requirement already satisfied: tqdm in /Users/brinxu/opt/anaconda3/lib/python3.8/site-packages (from nltk->emfdscore==0.0.1) (4.59.0)\n",
      "Requirement already satisfied: regex in /Users/brinxu/opt/anaconda3/lib/python3.8/site-packages (from nltk->emfdscore==0.0.1) (2021.4.4)\n",
      "Requirement already satisfied: click in /Users/brinxu/opt/anaconda3/lib/python3.8/site-packages (from nltk->emfdscore==0.0.1) (7.1.2)\n",
      "Requirement already satisfied: python-dateutil>=2.7.3 in /Users/brinxu/opt/anaconda3/lib/python3.8/site-packages (from pandas->emfdscore==0.0.1) (2.8.1)\n",
      "Requirement already satisfied: pytz>=2017.3 in /Users/brinxu/opt/anaconda3/lib/python3.8/site-packages (from pandas->emfdscore==0.0.1) (2021.1)\n",
      "Requirement already satisfied: python-utils>=2.3.0 in /Users/brinxu/opt/anaconda3/lib/python3.8/site-packages (from progressbar2->emfdscore==0.0.1) (2.5.6)\n",
      "Requirement already satisfied: six in /Users/brinxu/opt/anaconda3/lib/python3.8/site-packages (from progressbar2->emfdscore==0.0.1) (1.15.0)\n",
      "Requirement already satisfied: scikit-learn in /Users/brinxu/opt/anaconda3/lib/python3.8/site-packages (from sklearn->emfdscore==0.0.1) (0.24.1)\n",
      "Requirement already satisfied: threadpoolctl>=2.0.0 in /Users/brinxu/opt/anaconda3/lib/python3.8/site-packages (from scikit-learn->sklearn->emfdscore==0.0.1) (2.1.0)\n",
      "Requirement already satisfied: scipy>=0.19.1 in /Users/brinxu/opt/anaconda3/lib/python3.8/site-packages (from scikit-learn->sklearn->emfdscore==0.0.1) (1.6.2)\n",
      "\u001b[33mWARNING: You are using pip version 21.3.1; however, version 22.0.4 is available.\n",
      "You should consider upgrading via the '/Users/brinxu/opt/anaconda3/bin/python -m pip install --upgrade pip' command.\u001b[0m\n"
     ]
    }
   ],
   "source": [
    "!pip install https://github.com/medianeuroscience/emfdscore/archive/master.zip"
   ]
  },
  {
   "cell_type": "code",
   "execution_count": 13,
   "metadata": {
    "id": "_UMd2IiWso0r",
    "outputId": "dee58077-d120-4dfc-9305-387bea7b41a8"
   },
   "outputs": [
    {
     "name": "stderr",
     "output_type": "stream",
     "text": [
      "Processed: 84385 100% |❤❤❤❤❤❤❤❤❤❤❤❤❤❤❤❤❤❤| Elapsed Time: 0:04:22 Time:  0:04:22\n"
     ]
    }
   ],
   "source": [
    "from emfdscore.scoring import score_docs \n",
    "\n",
    "num_docs = len(template_input)\n",
    "\n",
    "# use the pre-defined value of the dictionary \n",
    "DICT_TYPE = 'emfd'\n",
    "PROB_MAP = 'all'\n",
    "SCORE_METHOD = 'bow'\n",
    "OUT_METRICS = 'sentiment'\n",
    "OUT_CSV_PATH = 'all-sent.csv'\n",
    "\n",
    "# provide input to the pretrained eMFDs model\n",
    "df = score_docs(template_input,DICT_TYPE,PROB_MAP,SCORE_METHOD,OUT_METRICS,num_docs)\n",
    "df.to_csv(OUT_CSV_PATH, index=False)"
   ]
  },
  {
   "cell_type": "code",
   "execution_count": 14,
   "metadata": {
    "id": "6Eo-cyn7HSRx",
    "outputId": "763b5527-c23c-4cf9-ee06-d347ee8076b4"
   },
   "outputs": [
    {
     "data": {
      "text/plain": [
       "(84385, 45)"
      ]
     },
     "execution_count": 14,
     "metadata": {},
     "output_type": "execute_result"
    }
   ],
   "source": [
    "covid_data.shape"
   ]
  },
  {
   "cell_type": "code",
   "execution_count": 15,
   "metadata": {
    "id": "qieIDfcyso5D",
    "outputId": "b9f5a9c5-0a1c-4e3e-90b5-52ef25c91934"
   },
   "outputs": [
    {
     "data": {
      "text/html": [
       "<div>\n",
       "<style scoped>\n",
       "    .dataframe tbody tr th:only-of-type {\n",
       "        vertical-align: middle;\n",
       "    }\n",
       "\n",
       "    .dataframe tbody tr th {\n",
       "        vertical-align: top;\n",
       "    }\n",
       "\n",
       "    .dataframe thead th {\n",
       "        text-align: right;\n",
       "    }\n",
       "</style>\n",
       "<table border=\"1\" class=\"dataframe\">\n",
       "  <thead>\n",
       "    <tr style=\"text-align: right;\">\n",
       "      <th></th>\n",
       "      <th>Page Name</th>\n",
       "      <th>User Name</th>\n",
       "      <th>Facebook Id</th>\n",
       "      <th>Page Category</th>\n",
       "      <th>Page Admin Top Country</th>\n",
       "      <th>Page Description</th>\n",
       "      <th>Page Created</th>\n",
       "      <th>Likes at Posting</th>\n",
       "      <th>Followers at Posting</th>\n",
       "      <th>Post Created</th>\n",
       "      <th>...</th>\n",
       "      <th>authority_p</th>\n",
       "      <th>sanctity_p</th>\n",
       "      <th>care_sent</th>\n",
       "      <th>fairness_sent</th>\n",
       "      <th>loyalty_sent</th>\n",
       "      <th>authority_sent</th>\n",
       "      <th>sanctity_sent</th>\n",
       "      <th>moral_nonmoral_ratio</th>\n",
       "      <th>f_var</th>\n",
       "      <th>sent_var</th>\n",
       "    </tr>\n",
       "  </thead>\n",
       "  <tbody>\n",
       "    <tr>\n",
       "      <th>0</th>\n",
       "      <td>CNN</td>\n",
       "      <td>cnn</td>\n",
       "      <td>5550296508</td>\n",
       "      <td>MEDIA_NEWS_COMPANY</td>\n",
       "      <td>US</td>\n",
       "      <td>Instant breaking news alerts and the most talk...</td>\n",
       "      <td>2007-11-07 22:14:27</td>\n",
       "      <td>34563652.0</td>\n",
       "      <td>38358192.0</td>\n",
       "      <td>2021-06-30 13:00:28 EDT</td>\n",
       "      <td>...</td>\n",
       "      <td>0.139355</td>\n",
       "      <td>0.085406</td>\n",
       "      <td>-0.121268</td>\n",
       "      <td>-0.095777</td>\n",
       "      <td>0.006735</td>\n",
       "      <td>-0.070749</td>\n",
       "      <td>-0.175241</td>\n",
       "      <td>0.777778</td>\n",
       "      <td>0.000574</td>\n",
       "      <td>0.004499</td>\n",
       "    </tr>\n",
       "    <tr>\n",
       "      <th>1</th>\n",
       "      <td>CNN</td>\n",
       "      <td>cnn</td>\n",
       "      <td>5550296508</td>\n",
       "      <td>MEDIA_NEWS_COMPANY</td>\n",
       "      <td>US</td>\n",
       "      <td>Instant breaking news alerts and the most talk...</td>\n",
       "      <td>2007-11-07 22:14:27</td>\n",
       "      <td>34563652.0</td>\n",
       "      <td>38358192.0</td>\n",
       "      <td>2021-06-30 09:27:09 EDT</td>\n",
       "      <td>...</td>\n",
       "      <td>0.083956</td>\n",
       "      <td>0.093256</td>\n",
       "      <td>-0.120624</td>\n",
       "      <td>-0.086392</td>\n",
       "      <td>-0.081137</td>\n",
       "      <td>-0.065666</td>\n",
       "      <td>-0.057119</td>\n",
       "      <td>0.777778</td>\n",
       "      <td>0.000388</td>\n",
       "      <td>0.000599</td>\n",
       "    </tr>\n",
       "  </tbody>\n",
       "</table>\n",
       "<p>2 rows × 58 columns</p>\n",
       "</div>"
      ],
      "text/plain": [
       "  Page Name User Name  Facebook Id       Page Category Page Admin Top Country  \\\n",
       "0       CNN       cnn   5550296508  MEDIA_NEWS_COMPANY                     US   \n",
       "1       CNN       cnn   5550296508  MEDIA_NEWS_COMPANY                     US   \n",
       "\n",
       "                                    Page Description         Page Created  \\\n",
       "0  Instant breaking news alerts and the most talk...  2007-11-07 22:14:27   \n",
       "1  Instant breaking news alerts and the most talk...  2007-11-07 22:14:27   \n",
       "\n",
       "   Likes at Posting  Followers at Posting             Post Created  ...  \\\n",
       "0        34563652.0            38358192.0  2021-06-30 13:00:28 EDT  ...   \n",
       "1        34563652.0            38358192.0  2021-06-30 09:27:09 EDT  ...   \n",
       "\n",
       "  authority_p sanctity_p care_sent fairness_sent  loyalty_sent  \\\n",
       "0    0.139355   0.085406 -0.121268     -0.095777      0.006735   \n",
       "1    0.083956   0.093256 -0.120624     -0.086392     -0.081137   \n",
       "\n",
       "   authority_sent  sanctity_sent  moral_nonmoral_ratio     f_var  sent_var  \n",
       "0       -0.070749      -0.175241              0.777778  0.000574  0.004499  \n",
       "1       -0.065666      -0.057119              0.777778  0.000388  0.000599  \n",
       "\n",
       "[2 rows x 58 columns]"
      ]
     },
     "execution_count": 15,
     "metadata": {},
     "output_type": "execute_result"
    }
   ],
   "source": [
    "# combine all data together\n",
    "DF_FINAL = pd.concat([covid_data.reset_index(drop=True),df.reset_index(drop=True)], axis=1)\n",
    "DF_FINAL.head(2)"
   ]
  },
  {
   "cell_type": "code",
   "execution_count": 16,
   "metadata": {
    "id": "bv8viDLDXdoH"
   },
   "outputs": [],
   "source": [
    "DF_FINAL.to_csv('covid_data_final.csv', index=False)"
   ]
  }
 ],
 "metadata": {
  "colab": {
   "collapsed_sections": [],
   "name": "Sentiment-Analysis-on-COVID19-Postings (1).ipynb",
   "provenance": []
  },
  "kernelspec": {
   "display_name": "Python 3 (ipykernel)",
   "language": "python",
   "name": "python3"
  },
  "language_info": {
   "codemirror_mode": {
    "name": "ipython",
    "version": 3
   },
   "file_extension": ".py",
   "mimetype": "text/x-python",
   "name": "python",
   "nbconvert_exporter": "python",
   "pygments_lexer": "ipython3",
   "version": "3.9.12"
  }
 },
 "nbformat": 4,
 "nbformat_minor": 1
}
